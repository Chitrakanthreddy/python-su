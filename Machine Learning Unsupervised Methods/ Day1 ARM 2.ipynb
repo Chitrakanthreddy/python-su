{
 "cells": [
  {
   "cell_type": "markdown",
   "id": "9348a9d0",
   "metadata": {},
   "source": [
    "Association Rule Mining (ARM) is a popular unsupervised learning technique used to discover interesting relationships between variables in large datasets. The most common application of ARM is in market basket analysis, where the goal is to find associations between items that frequently co-occur in transactions."
   ]
  },
  {
   "cell_type": "markdown",
   "id": "6f3788ad",
   "metadata": {},
   "source": [
    "pip install wordcloud --trusted-host pypi.org --trusted-host files.pythonhosted.org mlxtend\n"
   ]
  },
  {
   "cell_type": "code",
   "execution_count": 1,
   "id": "61b710f8",
   "metadata": {},
   "outputs": [],
   "source": [
    "import pandas as pd\n",
    "from mlxtend.frequent_patterns import apriori, association_rules\n",
    "from mlxtend.preprocessing import TransactionEncoder\n",
    "\n",
    "# Sample dataset: transactions represented as a list of lists\n",
    "dataset = [['milk', 'bread', 'butter'],\n",
    "           ['beer', 'bread'],\n",
    "           ['milk', 'diapers', 'beer', 'bread'],\n",
    "           ['butter', 'diapers', 'milk', 'beer', 'bread'],\n",
    "           ['butter', 'diapers', 'milk', 'beer']]"
   ]
  },
  {
   "cell_type": "code",
   "execution_count": 3,
   "id": "fd5a3ecb",
   "metadata": {},
   "outputs": [
    {
     "data": {
      "text/html": [
       "<div>\n",
       "<style scoped>\n",
       "    .dataframe tbody tr th:only-of-type {\n",
       "        vertical-align: middle;\n",
       "    }\n",
       "\n",
       "    .dataframe tbody tr th {\n",
       "        vertical-align: top;\n",
       "    }\n",
       "\n",
       "    .dataframe thead th {\n",
       "        text-align: right;\n",
       "    }\n",
       "</style>\n",
       "<table border=\"1\" class=\"dataframe\">\n",
       "  <thead>\n",
       "    <tr style=\"text-align: right;\">\n",
       "      <th></th>\n",
       "      <th>beer</th>\n",
       "      <th>bread</th>\n",
       "      <th>butter</th>\n",
       "      <th>diapers</th>\n",
       "      <th>milk</th>\n",
       "    </tr>\n",
       "  </thead>\n",
       "  <tbody>\n",
       "    <tr>\n",
       "      <th>0</th>\n",
       "      <td>False</td>\n",
       "      <td>True</td>\n",
       "      <td>True</td>\n",
       "      <td>False</td>\n",
       "      <td>True</td>\n",
       "    </tr>\n",
       "    <tr>\n",
       "      <th>1</th>\n",
       "      <td>True</td>\n",
       "      <td>True</td>\n",
       "      <td>False</td>\n",
       "      <td>False</td>\n",
       "      <td>False</td>\n",
       "    </tr>\n",
       "    <tr>\n",
       "      <th>2</th>\n",
       "      <td>True</td>\n",
       "      <td>True</td>\n",
       "      <td>False</td>\n",
       "      <td>True</td>\n",
       "      <td>True</td>\n",
       "    </tr>\n",
       "    <tr>\n",
       "      <th>3</th>\n",
       "      <td>True</td>\n",
       "      <td>True</td>\n",
       "      <td>True</td>\n",
       "      <td>True</td>\n",
       "      <td>True</td>\n",
       "    </tr>\n",
       "    <tr>\n",
       "      <th>4</th>\n",
       "      <td>True</td>\n",
       "      <td>False</td>\n",
       "      <td>True</td>\n",
       "      <td>True</td>\n",
       "      <td>True</td>\n",
       "    </tr>\n",
       "  </tbody>\n",
       "</table>\n",
       "</div>"
      ],
      "text/plain": [
       "    beer  bread  butter  diapers   milk\n",
       "0  False   True    True    False   True\n",
       "1   True   True   False    False  False\n",
       "2   True   True   False     True   True\n",
       "3   True   True    True     True   True\n",
       "4   True  False    True     True   True"
      ]
     },
     "execution_count": 3,
     "metadata": {},
     "output_type": "execute_result"
    }
   ],
   "source": [
    "\n",
    "# Convert dataset into a one-hot encoded DataFrame\n",
    "te = TransactionEncoder()\n",
    "te_ary = te.fit(dataset).transform(dataset)\n",
    "df = pd.DataFrame(te_ary, columns=te.columns_)\n",
    "df"
   ]
  },
  {
   "cell_type": "code",
   "execution_count": 4,
   "id": "3cbfd46b",
   "metadata": {},
   "outputs": [
    {
     "name": "stdout",
     "output_type": "stream",
     "text": [
      "Frequent Itemsets:\n",
      "     support               itemsets\n",
      "0       0.8                 (beer)\n",
      "1       0.8                (bread)\n",
      "2       0.6               (butter)\n",
      "3       0.6              (diapers)\n",
      "4       0.8                 (milk)\n",
      "5       0.6          (beer, bread)\n",
      "6       0.6        (beer, diapers)\n",
      "7       0.6           (beer, milk)\n",
      "8       0.6          (bread, milk)\n",
      "9       0.6         (butter, milk)\n",
      "10      0.6        (milk, diapers)\n",
      "11      0.6  (beer, milk, diapers)\n"
     ]
    }
   ],
   "source": [
    "# Generate frequent itemsets with a minimum support of 0.6\n",
    "frequent_itemsets = apriori(df, min_support=0.6, use_colnames=True)\n",
    "print(\"Frequent Itemsets:\\n\", frequent_itemsets)"
   ]
  },
  {
   "cell_type": "code",
   "execution_count": 9,
   "id": "43f1da46",
   "metadata": {},
   "outputs": [],
   "source": [
    "frequent_itemsets = apriori(df, min_support=0.6, use_colnames=True)"
   ]
  },
  {
   "cell_type": "code",
   "execution_count": 16,
   "id": "fa9632a6",
   "metadata": {},
   "outputs": [
    {
     "name": "stdout",
     "output_type": "stream",
     "text": [
      "support for book 0.6\n",
      "support for pen 0.7\n",
      "How much prob that if one buys book will also purcahse pen?\n",
      "0.5\n",
      "0.5714285714285714\n"
     ]
    }
   ],
   "source": [
    "pen_book = 3\n",
    "pen=4\n",
    "book=3\n",
    "\n",
    "s_b = 6/10\n",
    "s_p = 7/10\n",
    "print(\"support for book\",s_b)\n",
    "print(\"support for pen\",s_p)\n",
    "print(\"How much prob that if one buys book will also purcahse pen?\")\n",
    "C_p_b = 3/6\n",
    "C_b_p = 4/7\n",
    "print(C_p_b)\n",
    "print(C_b_p)\n",
    "Lift= C_p_b/s_p "
   ]
  },
  {
   "cell_type": "code",
   "execution_count": 10,
   "id": "fceb56b2",
   "metadata": {},
   "outputs": [
    {
     "name": "stdout",
     "output_type": "stream",
     "text": [
      "\n",
      "Association Rules:\n",
      "         antecedents      consequents  antecedent support  consequent support  \\\n",
      "0            (beer)          (bread)                 0.8                 0.8   \n",
      "1           (bread)           (beer)                 0.8                 0.8   \n",
      "2            (beer)        (diapers)                 0.8                 0.6   \n",
      "3         (diapers)           (beer)                 0.6                 0.8   \n",
      "4            (beer)           (milk)                 0.8                 0.8   \n",
      "5            (milk)           (beer)                 0.8                 0.8   \n",
      "6           (bread)           (milk)                 0.8                 0.8   \n",
      "7            (milk)          (bread)                 0.8                 0.8   \n",
      "8          (butter)           (milk)                 0.6                 0.8   \n",
      "9            (milk)         (butter)                 0.8                 0.6   \n",
      "10           (milk)        (diapers)                 0.8                 0.6   \n",
      "11        (diapers)           (milk)                 0.6                 0.8   \n",
      "12     (beer, milk)        (diapers)                 0.6                 0.6   \n",
      "13  (beer, diapers)           (milk)                 0.6                 0.8   \n",
      "14  (milk, diapers)           (beer)                 0.6                 0.8   \n",
      "15           (beer)  (milk, diapers)                 0.8                 0.6   \n",
      "16           (milk)  (beer, diapers)                 0.8                 0.6   \n",
      "17        (diapers)     (beer, milk)                 0.6                 0.6   \n",
      "\n",
      "    support  confidence      lift  leverage  conviction  zhangs_metric  \n",
      "0       0.6        0.75  0.937500     -0.04         0.8          -0.25  \n",
      "1       0.6        0.75  0.937500     -0.04         0.8          -0.25  \n",
      "2       0.6        0.75  1.250000      0.12         1.6           1.00  \n",
      "3       0.6        1.00  1.250000      0.12         inf           0.50  \n",
      "4       0.6        0.75  0.937500     -0.04         0.8          -0.25  \n",
      "5       0.6        0.75  0.937500     -0.04         0.8          -0.25  \n",
      "6       0.6        0.75  0.937500     -0.04         0.8          -0.25  \n",
      "7       0.6        0.75  0.937500     -0.04         0.8          -0.25  \n",
      "8       0.6        1.00  1.250000      0.12         inf           0.50  \n",
      "9       0.6        0.75  1.250000      0.12         1.6           1.00  \n",
      "10      0.6        0.75  1.250000      0.12         1.6           1.00  \n",
      "11      0.6        1.00  1.250000      0.12         inf           0.50  \n",
      "12      0.6        1.00  1.666667      0.24         inf           1.00  \n",
      "13      0.6        1.00  1.250000      0.12         inf           0.50  \n",
      "14      0.6        1.00  1.250000      0.12         inf           0.50  \n",
      "15      0.6        0.75  1.250000      0.12         1.6           1.00  \n",
      "16      0.6        0.75  1.250000      0.12         1.6           1.00  \n",
      "17      0.6        1.00  1.666667      0.24         inf           1.00  \n"
     ]
    }
   ],
   "source": [
    "# Generate association rules with a minimum confidence of 0.7\n",
    "rules = association_rules(frequent_itemsets, metric=\"confidence\", min_threshold=0.7)\n",
    "print(\"\\nAssociation Rules:\\n\", rules)\n"
   ]
  },
  {
   "cell_type": "code",
   "execution_count": null,
   "id": "89009ad2",
   "metadata": {},
   "outputs": [],
   "source": []
  }
 ],
 "metadata": {
  "kernelspec": {
   "display_name": "Python 3 (ipykernel)",
   "language": "python",
   "name": "python3"
  },
  "language_info": {
   "codemirror_mode": {
    "name": "ipython",
    "version": 3
   },
   "file_extension": ".py",
   "mimetype": "text/x-python",
   "name": "python",
   "nbconvert_exporter": "python",
   "pygments_lexer": "ipython3",
   "version": "3.9.12"
  }
 },
 "nbformat": 4,
 "nbformat_minor": 5
}
