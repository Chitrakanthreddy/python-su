{
 "cells": [
  {
   "cell_type": "markdown",
   "id": "68ec483f",
   "metadata": {},
   "source": [
    "\n",
    "## 1. Determine the moving average\n",
    "- Determine the moving average with a window size of 2 for the list [30, 29, 35, 33, 31, 37, 39, 40, 41, 45].\n",
    "\n",
    "\n",
    "- Using the list [100, 95, 90, 85, 80, 75, 70, 65, 60, 55], calculate the moving average with a window size of 6.\n",
    "\n",
    "\n",
    "- Find the moving average for the list of integers [4, 8, 12, 16, 20, 24, 28, 32, 36, 40] with a window size of 3.\n",
    "\n",
    "\n",
    "- Calculate the moving average using a window size of 4 for the list [5, 10, 15, 20, 25, 30, 35, 40, 45, 50].\n",
    "\n",
    "\n",
    "- For the list [11, 22, 33, 44, 55, 66, 77, 88, 99, 110], find the moving average with a window size of 2.\n",
    "\n",
    "\n",
    "- Determine the moving average with a window size of 3 for the list [9, 18, 27, 36, 45, 54, 63, 72, 81, 90]."
   ]
  },
  {
   "cell_type": "code",
   "execution_count": 2,
   "id": "1cef01e3",
   "metadata": {},
   "outputs": [
    {
     "name": "stdout",
     "output_type": "stream",
     "text": [
      "Moving Average (Window Size 4) for Question 7: [12.5 17.5 22.5 27.5 32.5 37.5 42.5]\n"
     ]
    }
   ],
   "source": [
    "import numpy as np\n",
    "\n",
    "# List of integers\n",
    "data_q7 = np.array([5, 10, 15, 20, 25, 30, 35, 40, 45, 50])\n",
    "\n",
    "# Window size\n",
    "window_size_q7 = 4\n",
    "\n",
    "# Calculate the moving average\n",
    "moving_avg_q7 = np.convolve(data_q7, np.ones(window_size_q7)/window_size_q7, mode='valid')\n",
    "\n",
    "print(\"Moving Average (Window Size 4) for Question 7:\", moving_avg_q7)\n"
   ]
  },
  {
   "cell_type": "markdown",
   "id": "b4d978fe",
   "metadata": {},
   "source": [
    "\n",
    "Objective:\n",
    "### 2. Perform an Augmented Dickey-Fuller (ADF) test on a dataset containing attrition data to determine whether the attrition rate is stationary.\n",
    "\n",
    "- Dataset:\n",
    "You are provided with a dataset named attrition_data.csv that contains the following columns:\n",
    "\n",
    "- Date: The date of the recorded attrition rate (format: YYYY-MM-DD).\n",
    "- Attr_rate: The attrition rate for the corresponding date.\n",
    "Instructions:\n",
    "\n",
    "- Load the Data:\n",
    "\n",
    "- Import necessary libraries such as pandas, statsmodels, and matplotlib.\n",
    "- Load the dataset into a pandas DataFrame.\n",
    "- Ensure the Date column is parsed as datetime objects and set it as the index of the DataFrame.\n",
    "- Visualize the Data:\n",
    "\n",
    "- Plot the Attr_rate over time to visually inspect if the series appears to be stationary or non-stationary.\n",
    "- Perform the ADF Test:\n",
    "\n",
    "- Use the adfuller function from the statsmodels library to perform the ADF test on the Attr_rate series.\n",
    "- Extract and print the following from the test results:\n",
    "- ADF Statistic\n",
    "- p-value\n",
    "- Number of lags used\n",
    "- Number of observations used\n",
    "- Critical values for 1%, 5%, and 10% levels\n",
    "## Interpret the Results:\n",
    "\n",
    "Based on the p-value and the critical values, determine whether to reject the null hypothesis of the ADF test.\n",
    "Discuss whether the attrition rate series is stationary or not."
   ]
  },
  {
   "cell_type": "code",
   "execution_count": 5,
   "id": "0eef0248",
   "metadata": {},
   "outputs": [
    {
     "data": {
      "text/html": [
       "<div>\n",
       "<style scoped>\n",
       "    .dataframe tbody tr th:only-of-type {\n",
       "        vertical-align: middle;\n",
       "    }\n",
       "\n",
       "    .dataframe tbody tr th {\n",
       "        vertical-align: top;\n",
       "    }\n",
       "\n",
       "    .dataframe thead th {\n",
       "        text-align: right;\n",
       "    }\n",
       "</style>\n",
       "<table border=\"1\" class=\"dataframe\">\n",
       "  <thead>\n",
       "    <tr style=\"text-align: right;\">\n",
       "      <th></th>\n",
       "      <th>Year</th>\n",
       "      <th>Attrition Rate</th>\n",
       "    </tr>\n",
       "  </thead>\n",
       "  <tbody>\n",
       "    <tr>\n",
       "      <th>0</th>\n",
       "      <td>2011</td>\n",
       "      <td>10</td>\n",
       "    </tr>\n",
       "    <tr>\n",
       "      <th>1</th>\n",
       "      <td>2012</td>\n",
       "      <td>11</td>\n",
       "    </tr>\n",
       "    <tr>\n",
       "      <th>2</th>\n",
       "      <td>2013</td>\n",
       "      <td>12</td>\n",
       "    </tr>\n",
       "    <tr>\n",
       "      <th>3</th>\n",
       "      <td>2014</td>\n",
       "      <td>13</td>\n",
       "    </tr>\n",
       "    <tr>\n",
       "      <th>4</th>\n",
       "      <td>2015</td>\n",
       "      <td>15</td>\n",
       "    </tr>\n",
       "  </tbody>\n",
       "</table>\n",
       "</div>"
      ],
      "text/plain": [
       "   Year  Attrition Rate\n",
       "0  2011              10\n",
       "1  2012              11\n",
       "2  2013              12\n",
       "3  2014              13\n",
       "4  2015              15"
      ]
     },
     "execution_count": 5,
     "metadata": {},
     "output_type": "execute_result"
    }
   ],
   "source": [
    "# Step 1: Load the Data\n",
    "import pandas as pd\n",
    "import matplotlib.pyplot as plt\n",
    "from statsmodels.tsa.stattools import adfuller\n",
    "\n",
    "# Load the dataset\n",
    "data = pd.read_csv('attrition_data.csv')\n",
    "data.head()"
   ]
  },
  {
   "cell_type": "code",
   "execution_count": 7,
   "id": "31a1abc1",
   "metadata": {},
   "outputs": [
    {
     "data": {
      "image/png": "[encoded data removed]",
      "text/plain": [
       "<Figure size 720x432 with 1 Axes>"
      ]
     },
     "metadata": {
      "needs_background": "light"
     },
     "output_type": "display_data"
    },
    {
     "name": "stdout",
     "output_type": "stream",
     "text": [
      "ADF Statistic: -0.10321535298059625\n",
      "p-value: 0.9491173286548007\n",
      "Number of lags used: 4\n",
      "Number of observations used: 8\n",
      "Critical Values:\n",
      "   1%: -4.6651863281249994\n",
      "   5%: -3.3671868750000002\n",
      "   10%: -2.802960625\n",
      "Fail to reject the null hypothesis: The series is non-stationary.\n"
     ]
    }
   ],
   "source": [
    "# Step 1: Load the Data\n",
    "import pandas as pd\n",
    "import matplotlib.pyplot as plt\n",
    "from statsmodels.tsa.stattools import adfuller\n",
    "\n",
    "# Load the dataset\n",
    "data = pd.read_csv('attrition_data.csv')\n",
    "\n",
    "# Step 2: Visualize the Data\n",
    "plt.figure(figsize=(10, 6))\n",
    "plt.plot(data['Attrition Rate'], label='Attrition Rate')\n",
    "plt.title('Attrition Rate Over Time')\n",
    "plt.xlabel('Date')\n",
    "plt.ylabel('Attrition Rate')\n",
    "plt.legend()\n",
    "plt.show()\n",
    "\n",
    "# Step 3: Perform the ADF Test\n",
    "adf_test = adfuller(data['Attrition Rate'])\n",
    "adf_statistic = adf_test[0]\n",
    "p_value = adf_test[1]\n",
    "used_lag = adf_test[2]\n",
    "n_obs = adf_test[3]\n",
    "critical_values = adf_test[4]\n",
    "\n",
    "print(f'ADF Statistic: {adf_statistic}')\n",
    "print(f'p-value: {p_value}')\n",
    "print(f'Number of lags used: {used_lag}')\n",
    "print(f'Number of observations used: {n_obs}')\n",
    "print('Critical Values:')\n",
    "for key, value in critical_values.items():\n",
    "    print(f'   {key}: {value}')\n",
    "\n",
    "# Step 4: Interpret the Results\n",
    "if p_value < 0.05:\n",
    "    print('Reject the null hypothesis: The series is stationary.')\n",
    "else:\n",
    "    print('Fail to reject the null hypothesis: The series is non-stationary.')\n"
   ]
  }
 ],
 "metadata": {
  "kernelspec": {
   "display_name": "Python 3 (ipykernel)",
   "language": "python",
   "name": "python3"
  },
  "language_info": {
   "codemirror_mode": {
    "name": "ipython",
    "version": 3
   },
   "file_extension": ".py",
   "mimetype": "text/x-python",
   "name": "python",
   "nbconvert_exporter": "python",
   "pygments_lexer": "ipython3",
   "version": "3.9.12"
  }
 },
 "nbformat": 4,
 "nbformat_minor": 5
}
