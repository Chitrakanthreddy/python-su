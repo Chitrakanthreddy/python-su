{
 "cells": [
  {
   "cell_type": "markdown",
   "id": "36b38018",
   "metadata": {},
   "source": [
    "# Introduction to Generative AI & NLP\n",
    "\n",
    "## Summary\n",
    "\n",
    "**Generative AI** refers to artificial intelligence systems capable of generating text, images, code, audio, or other content using machine learning models. It leverages **deep learning**, particularly **transformer architectures**, to produce outputs that mimic human-like understanding and creativity.\n",
    "\n",
    "**Natural Language Processing (NLP)** is a subfield of AI focused on enabling machines to understand, interpret, and generate human language. Generative AI models in NLP can perform a wide range of language tasks such as translation, summarization, Q&A, and content creation.\n",
    "\n",
    "---\n",
    "\n",
    "## Applications of Generative AI in NLP\n",
    "\n",
    "- **Text Generation**: Writing blogs, poems, or essays (e.g., ChatGPT, Jasper)\n",
    "- **Summarization**: Condensing long documents into concise summaries\n",
    "- **Translation**: Real-time language translation (e.g., Google Translate)\n",
    "- **Chatbots & Virtual Assistants**: Intelligent human-like conversations\n",
    "- **Code Generation**: Generating functional code from natural language prompts\n",
    "- **Sentiment Analysis**: Detecting tone/mood in customer feedback\n",
    "- **Named Entity Recognition (NER)**: Extracting key entities from text\n",
    "- **Question Answering**: Automatically answering questions from a text corpus\n",
    "\n",
    "### Popular Pretrained Models\n",
    "- GPT-2 / GPT-3 / GPT-4 (OpenAI)\n",
    "\n",
    "- BERT / RoBERTa (Google / Facebook)\n",
    "\n",
    "- T5 / BART (Text-to-Text Transformers)\n",
    "\n",
    "- LLaMA (Meta AI)\n",
    "\n",
    "- BLOOM (BigScience)\n",
    "\n",
    "###  Key Concepts\n",
    "- Tokenization: Splitting text into words/subwords\n",
    "\n",
    "- Embedding: Converting text into numerical vectors\n",
    "\n",
    "- Transformer: Neural architecture for handling sequential data\n",
    "\n",
    "- Attention Mechanism: Weighing the importance of different words\n",
    "\n",
    "- Fine-tuning: Customizing pretrained models for specific tasks\n",
    "\n"
   ]
  },
  {
   "cell_type": "code",
   "execution_count": 3,
   "id": "0af6af9c",
   "metadata": {},
   "outputs": [
    {
     "name": "stderr",
     "output_type": "stream",
     "text": [
      "Setting `pad_token_id` to `eos_token_id`:50256 for open-end generation.\n"
     ]
    },
    {
     "name": "stdout",
     "output_type": "stream",
     "text": [
      "Note: you may need to restart the kernel to use updated packages.\n"
     ]
    },
    {
     "name": "stderr",
     "output_type": "stream",
     "text": [
      "ERROR: pip's dependency resolver does not currently take into account all the packages that are installed. This behaviour is the source of the following dependency conflicts.\n",
      "gradio 5.29.1 requires pydantic<2.12,>=2.0, but you have pydantic 1.10.13 which is incompatible.\n"
     ]
    },
    {
     "name": "stdout",
     "output_type": "stream",
     "text": [
      "Collecting pydantic==1.10.13\n",
      "  Obtaining dependency information for pydantic==1.10.13 from https://files.pythonhosted.org/packages/9c/2b/20029a5c58943c0dd19bbf1fda77e820101b63a26237b060217821a3daa3/pydantic-1.10.13-cp311-cp311-win_amd64.whl.metadata\n",
      "  Downloading pydantic-1.10.13-cp311-cp311-win_amd64.whl.metadata (150 kB)\n",
      "     ---------------------------------------- 0.0/150.9 kB ? eta -:--:--\n",
      "     -------------------------------------- 150.9/150.9 kB 4.5 MB/s eta 0:00:00\n",
      "Collecting anyio==3.7.1\n",
      "  Obtaining dependency information for anyio==3.7.1 from https://files.pythonhosted.org/packages/19/24/44299477fe7dcc9cb58d0a57d5a7588d6af2ff403fdd2d47a246c91a3246/anyio-3.7.1-py3-none-any.whl.metadata\n",
      "  Downloading anyio-3.7.1-py3-none-any.whl.metadata (4.7 kB)\n",
      "Requirement already satisfied: typing-extensions>=4.2.0 in c:\\users\\suyashi144893\\appdata\\local\\anaconda3\\lib\\site-packages (from pydantic==1.10.13) (4.12.2)\n",
      "Requirement already satisfied: idna>=2.8 in c:\\users\\suyashi144893\\appdata\\local\\anaconda3\\lib\\site-packages (from anyio==3.7.1) (3.4)\n",
      "Requirement already satisfied: sniffio>=1.1 in c:\\users\\suyashi144893\\appdata\\local\\anaconda3\\lib\\site-packages (from anyio==3.7.1) (1.2.0)\n",
      "Downloading pydantic-1.10.13-cp311-cp311-win_amd64.whl (2.1 MB)\n",
      "   ---------------------------------------- 0.0/2.1 MB ? eta -:--:--\n",
      "   ----- ---------------------------------- 0.3/2.1 MB 8.9 MB/s eta 0:00:01\n",
      "   ------- -------------------------------- 0.4/2.1 MB 6.3 MB/s eta 0:00:01\n",
      "   ------------- -------------------------- 0.7/2.1 MB 5.5 MB/s eta 0:00:01\n",
      "   -------------------- ------------------- 1.1/2.1 MB 6.1 MB/s eta 0:00:01\n",
      "   ------------------------- -------------- 1.4/2.1 MB 6.1 MB/s eta 0:00:01\n",
      "   ----------------------------------- ---- 1.8/2.1 MB 6.9 MB/s eta 0:00:01\n",
      "   ---------------------------------------- 2.1/2.1 MB 6.7 MB/s eta 0:00:00\n",
      "Downloading anyio-3.7.1-py3-none-any.whl (80 kB)\n",
      "   ---------------------------------------- 0.0/80.9 kB ? eta -:--:--\n",
      "   ---------------------------------------- 80.9/80.9 kB 4.4 MB/s eta 0:00:00\n",
      "Installing collected packages: pydantic, anyio\n",
      "  Attempting uninstall: pydantic\n",
      "    Found existing installation: pydantic 2.11.4\n",
      "    Uninstalling pydantic-2.11.4:\n",
      "      Successfully uninstalled pydantic-2.11.4\n",
      "  Attempting uninstall: anyio\n",
      "    Found existing installation: anyio 4.9.0\n",
      "    Uninstalling anyio-4.9.0:\n",
      "      Successfully uninstalled anyio-4.9.0\n",
      "Successfully installed anyio-3.7.1 pydantic-1.10.13\n"
     ]
    }
   ],
   "source": [
    "pip install pydantic==1.10.13 anyio==3.7.1"
   ]
  },
  {
   "cell_type": "code",
   "execution_count": 1,
   "id": "29d9e005",
   "metadata": {},
   "outputs": [
    {
     "name": "stderr",
     "output_type": "stream",
     "text": [
      "C:\\Users\\Suyashi144893\\AppData\\Local\\anaconda3\\Lib\\site-packages\\transformers\\utils\\generic.py:260: FutureWarning: `torch.utils._pytree._register_pytree_node` is deprecated. Please use `torch.utils._pytree.register_pytree_node` instead.\n",
      "  torch.utils._pytree._register_pytree_node(\n",
      "C:\\Users\\Suyashi144893\\AppData\\Local\\anaconda3\\Lib\\site-packages\\huggingface_hub\\file_download.py:943: FutureWarning: `resume_download` is deprecated and will be removed in version 1.0.0. Downloads always resume when possible. If you want to force a new download, use `force_download=True`.\n",
      "  warnings.warn(\n"
     ]
    },
    {
     "name": "stdout",
     "output_type": "stream",
     "text": [
      "* Running on local URL:  http://127.0.0.1:7860\n",
      "* To create a public link, set `share=True` in `launch()`.\n"
     ]
    },
    {
     "data": {
      "text/html": [
       "<div><iframe src=\"http://127.0.0.1:7860/\" width=\"100%\" height=\"500\" allow=\"autoplay; camera; microphone; clipboard-read; clipboard-write;\" frameborder=\"0\" allowfullscreen></iframe></div>"
      ],
      "text/plain": [
       "<IPython.core.display.HTML object>"
      ]
     },
     "metadata": {},
     "output_type": "display_data"
    },
    {
     "data": {
      "text/plain": []
     },
     "execution_count": 1,
     "metadata": {},
     "output_type": "execute_result"
    }
   ],
   "source": [
    "!pip install gradio transformers --quiet\n",
    "\n",
    "import gradio as gr\n",
    "from transformers import pipeline\n",
    "\n",
    "# Load the text generation pipeline\n",
    "generator = pipeline(\"text-generation\", model=\"gpt2\")\n",
    "\n",
    "# Define the Gradio interface\n",
    "def generate_text(prompt):\n",
    "    result = generator(prompt, max_length=50, num_return_sequences=1)\n",
    "    return result[0]['generated_text']\n",
    "\n",
    "gr.Interface(fn=generate_text, inputs=\"text\", outputs=\"text\", title=\"Generative AI Text Generator\").launch()\n"
   ]
  },
  {
   "cell_type": "code",
   "execution_count": null,
   "id": "763f0b91",
   "metadata": {},
   "outputs": [],
   "source": []
  }
 ],
 "metadata": {
  "kernelspec": {
   "display_name": "Python 3 (ipykernel)",
   "language": "python",
   "name": "python3"
  },
  "language_info": {
   "codemirror_mode": {
    "name": "ipython",
    "version": 3
   },
   "file_extension": ".py",
   "mimetype": "text/x-python",
   "name": "python",
   "nbconvert_exporter": "python",
   "pygments_lexer": "ipython3",
   "version": "3.11.5"
  }
 },
 "nbformat": 4,
 "nbformat_minor": 5
}
