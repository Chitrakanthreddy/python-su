{
 "cells": [
  {
   "cell_type": "markdown",
   "id": "ca2aa701",
   "metadata": {},
   "source": [
    "## What is Chunking?\n",
    "Chunking is the process of grouping words into meaningful \"chunks\" — typically noun phrases (NPs) like:\n",
    "\n",
    "“The quick brown fox jumps over the lazy dog.”\n",
    "\n",
    "Chunking uses POS tags and pattern rules (called regular expressions) to form these groups.\n",
    "\n"
   ]
  },
  {
   "cell_type": "code",
   "execution_count": 3,
   "id": "488fc17d",
   "metadata": {},
   "outputs": [],
   "source": [
    "import nltk\n",
    "from nltk import word_tokenize, pos_tag, RegexpParser\n",
    "\n",
    "# Download required NLTK data\n",
    "#nltk.download('punkt')\n",
    "#nltk.download('averaged_perceptron_tagger')\n"
   ]
  },
  {
   "cell_type": "code",
   "execution_count": 2,
   "id": "bbbe2263",
   "metadata": {},
   "outputs": [],
   "source": [
    "sentence = \"Shivi plays football in New York during summer.\"\n"
   ]
  },
  {
   "cell_type": "code",
   "execution_count": 4,
   "id": "2b901e52",
   "metadata": {},
   "outputs": [],
   "source": [
    "sentence = \"Shivi plays football in New York during summer.\"\n"
   ]
  },
  {
   "cell_type": "code",
   "execution_count": 5,
   "id": "c1d2608b",
   "metadata": {},
   "outputs": [
    {
     "name": "stdout",
     "output_type": "stream",
     "text": [
      "POS Tags: [('Shivi', 'NNP'), ('plays', 'VBZ'), ('football', 'NN'), ('in', 'IN'), ('New', 'NNP'), ('York', 'NNP'), ('during', 'IN'), ('summer', 'NN'), ('.', '.')]\n"
     ]
    }
   ],
   "source": [
    "tokens = word_tokenize(sentence)\n",
    "pos_tags = pos_tag(tokens)\n",
    "print(\"POS Tags:\", pos_tags)\n"
   ]
  },
  {
   "cell_type": "code",
   "execution_count": 6,
   "id": "b1c17ba2",
   "metadata": {},
   "outputs": [],
   "source": [
    "# Define a simple noun phrase chunk grammar\n",
    "grammar = r\"\"\"\n",
    "  NP: {<DT>?<JJ>*<NN.*>}   # NP = optional determiner, adjectives, and noun\n",
    "      {<NNP>+}             # or one or more proper nouns\n",
    "\"\"\"\n",
    "\n",
    "chunk_parser = RegexpParser(grammar)\n",
    "chunk_tree = chunk_parser.parse(pos_tags)\n"
   ]
  },
  {
   "cell_type": "code",
   "execution_count": 7,
   "id": "fbfa889f",
   "metadata": {},
   "outputs": [
    {
     "name": "stdout",
     "output_type": "stream",
     "text": [
      "\n",
      "Chunk Tree:\n",
      "(S\n",
      "  (NP Shivi/NNP)\n",
      "  plays/VBZ\n",
      "  (NP football/NN)\n",
      "  in/IN\n",
      "  (NP New/NNP)\n",
      "  (NP York/NNP)\n",
      "  during/IN\n",
      "  (NP summer/NN)\n",
      "  ./.)\n"
     ]
    }
   ],
   "source": [
    "print(\"\\nChunk Tree:\")\n",
    "print(chunk_tree)\n",
    "\n",
    "# Visualize tree\n",
    "chunk_tree.draw()\n"
   ]
  },
  {
   "cell_type": "markdown",
   "id": "774ecb9c",
   "metadata": {},
   "source": [
    "| Word     | POS Tag | Chunk            |\n",
    "| -------- | ------- | ---------------- |\n",
    "| Shivi    | NNP     | NP (Proper noun) |\n",
    "| plays    | VBZ     | –                |\n",
    "| football | NN      | NP               |\n",
    "| in       | IN      | –                |\n",
    "| New York | NNP NNP | NP               |\n",
    "| summer   | NN      | NP               |\n"
   ]
  },
  {
   "cell_type": "markdown",
   "id": "28056c09",
   "metadata": {},
   "source": [
    "## Sample Sentences for Practice "
   ]
  },
  {
   "cell_type": "markdown",
   "id": "f4d028c4",
   "metadata": {},
   "source": [
    "sentences = [\n",
    "    \"The tall man played football.\",\n",
    "    \"Kron visited beautiful Delhi in July.\",\n",
    "    \"A shiny red car passed quickly.\",\n",
    "    \"Shivi and Kron are good friends.\"\n",
    "]\n",
    "\n",
    "### Chunking example to include Verb Phrases (VP)"
   ]
  },
  {
   "cell_type": "code",
   "execution_count": 12,
   "id": "3d325155",
   "metadata": {},
   "outputs": [
    {
     "name": "stdout",
     "output_type": "stream",
     "text": [
      "\\Sentence: The tall man played football.\n",
      "POS Tags: [('The', 'DT'), ('tall', 'JJ'), ('man', 'NN'), ('played', 'VBD'), ('football', 'NN'), ('.', '.')]\n",
      "🌳 Chunk Tree:\n",
      "(S (NP The/DT tall/JJ man/NN) (VP played/VBD) (NP football/NN) ./.)\n",
      "\\Sentence: Kron visited beautiful Delhi in July.\n",
      "POS Tags: [('Kron', 'NNP'), ('visited', 'VBD'), ('beautiful', 'JJ'), ('Delhi', 'NNP'), ('in', 'IN'), ('July', 'NNP'), ('.', '.')]\n",
      "🌳 Chunk Tree:\n",
      "(S\n",
      "  (NP Kron/NNP)\n",
      "  (VP visited/VBD)\n",
      "  (NP beautiful/JJ Delhi/NNP)\n",
      "  in/IN\n",
      "  (NP July/NNP)\n",
      "  ./.)\n",
      "\\Sentence: A shiny red car passed quickly.\n",
      "POS Tags: [('A', 'DT'), ('shiny', 'JJ'), ('red', 'JJ'), ('car', 'NN'), ('passed', 'VBD'), ('quickly', 'RB'), ('.', '.')]\n",
      "🌳 Chunk Tree:\n",
      "(S (NP A/DT shiny/JJ red/JJ car/NN) (VP passed/VBD quickly/RB) ./.)\n",
      "\\Sentence: Shivi and Kron are good friends.\n",
      "POS Tags: [('Shivi', 'NNP'), ('and', 'CC'), ('Kron', 'NNP'), ('are', 'VBP'), ('good', 'JJ'), ('friends', 'NNS'), ('.', '.')]\n",
      "🌳 Chunk Tree:\n",
      "(S\n",
      "  (NP Shivi/NNP)\n",
      "  and/CC\n",
      "  (NP Kron/NNP)\n",
      "  (VP are/VBP)\n",
      "  (NP good/JJ friends/NNS)\n",
      "  ./.)\n",
      "\\Sentence: Shivi plays football in New York during summer.\n",
      "POS Tags: [('Shivi', 'NNP'), ('plays', 'VBZ'), ('football', 'NN'), ('in', 'IN'), ('New', 'NNP'), ('York', 'NNP'), ('during', 'IN'), ('summer', 'NN'), ('.', '.')]\n",
      "🌳 Chunk Tree:\n",
      "(S\n",
      "  (NP Shivi/NNP)\n",
      "  (VP plays/VBZ)\n",
      "  (NP football/NN)\n",
      "  in/IN\n",
      "  (NP New/NNP)\n",
      "  (NP York/NNP)\n",
      "  during/IN\n",
      "  (NP summer/NN)\n",
      "  ./.)\n"
     ]
    }
   ],
   "source": [
    "import nltk\n",
    "from nltk import word_tokenize, pos_tag, RegexpParser\n",
    "\n",
    "# Download NLTK resources\n",
    "#nltk.download('punkt')\n",
    "#nltk.download('averaged_perceptron_tagger')\n",
    "\n",
    "# Sample sentences\n",
    "sentences = [\n",
    "    \"The tall man played football.\",\n",
    "    \"Kron visited beautiful Delhi in July.\",\n",
    "    \"A shiny red car passed quickly.\",\n",
    "    \"Shivi and Kron are good friends.\",\n",
    "    \"Shivi plays football in New York during summer.\"\n",
    "]\n",
    "\n",
    "# Fixed grammar with NP and VP rules\n",
    "grammar = r\"\"\"\n",
    "  NP: {<DT>?<JJ>*<NN.*>}          # Noun Phrase\n",
    "      {<NNP><NNP>*}               # Proper noun phrase (e.g., New York)\n",
    "  VP: {<VB.*><NP|PP|CLAUSE>+$}    # Verb Phrase with noun or prep phrase\n",
    "      {<VB.*><RB.*>?}             # Verb + optional adverb\n",
    "\"\"\"\n",
    "\n",
    "chunk_parser = RegexpParser(grammar)\n",
    "\n",
    "# Process each sentence\n",
    "def process_sentence(sentence):\n",
    "    print(f\"\\Sentence: {sentence}\")\n",
    "    tokens = word_tokenize(sentence)\n",
    "    pos_tags = pos_tag(tokens)\n",
    "    print(\"POS Tags:\", pos_tags)\n",
    "    \n",
    "    chunk_tree = chunk_parser.parse(pos_tags)\n",
    "    print(\"🌳 Chunk Tree:\")\n",
    "    print(chunk_tree)\n",
    "    chunk_tree.draw()  # Visual tree\n",
    "\n",
    "# Apply to all sample sentences\n",
    "for sent in sentences:\n",
    "    process_sentence(sent)\n",
    "\n",
    "    "
   ]
  },
  {
   "cell_type": "code",
   "execution_count": null,
   "id": "9e576698",
   "metadata": {},
   "outputs": [],
   "source": []
  }
 ],
 "metadata": {
  "kernelspec": {
   "display_name": "Python 3 (ipykernel)",
   "language": "python",
   "name": "python3"
  },
  "language_info": {
   "codemirror_mode": {
    "name": "ipython",
    "version": 3
   },
   "file_extension": ".py",
   "mimetype": "text/x-python",
   "name": "python",
   "nbconvert_exporter": "python",
   "pygments_lexer": "ipython3",
   "version": "3.11.5"
  }
 },
 "nbformat": 4,
 "nbformat_minor": 5
}
