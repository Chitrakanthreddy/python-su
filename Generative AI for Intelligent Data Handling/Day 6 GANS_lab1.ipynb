{
 "cells": [
  {
   "cell_type": "markdown",
   "id": "1fce41e1-e530-4ca9-924f-9005fa57f425",
   "metadata": {},
   "source": [
    "\n",
    "\n",
    "# Understanding  Generative Adversarial Networks GANs\n",
    "\n",
    "\n",
    "\n"
   ]
  },
  {
   "cell_type": "markdown",
   "id": "b8702727-629d-4778-b3f9-1233c0e760a0",
   "metadata": {},
   "source": [
    "## **Table of Contents**\n",
    "\n",
    "<ol>\n",
    "    <li><a href=\"https://#Objectives\">Objectives</a></li>\n",
    "    <li>\n",
    "        <a href=\"https://#Setup\">Setup</a>\n",
    "    </li>\n",
    "    <li>\n",
    "        <a href=\"https://#Background\">Background</a>\n",
    "    </li>\n",
    "    <li>\n",
    "        <a href=\"https://#Toy Data\">Toy Data</a>\n",
    "    </li>\n",
    "    <li>\n",
    "        <a href=\"https://#The Generator\">The Generator</a>\n",
    "    </li>\n",
    "    <li>\n",
    "        <a href=\"https://#The Discriminator\">The Discriminator</a>\n",
    "    </li>\n",
    "        <li>\n",
    "        <a href=\"https://#The Loss Function GANs (Optional)\">The Loss Function GANs (Optional)</a>\n",
    "            <ol>\n",
    "            <li><a href=\"https://#Discriminator\">Discriminator</a></li>\n",
    "            <li><a href=\"https://#Generator\">Generator</a></li>\n",
    "        </ol>\n",
    "        </li>\n",
    "    <li>\n",
    "        <a href=\"https://#Training GANs\">Training GANs</a>\n",
    "         <ol>\n",
    "            <li><a href=\"https://#Training Generator\">Training Generator</a></li>\n",
    "             <li><a href=\"https://#Training Discriminator\">Training Discriminator</a></li>\n",
    "        </ol>\n",
    "    </li>\n"
   ]
  },
  {
   "cell_type": "markdown",
   "id": "94db4928-9195-43c1-9f5b-6eed8fa4b600",
   "metadata": {},
   "source": [
    "## Objectives\n",
    "\n",
    "*   **Understand** the original formulation of GANs, and their two separately trained networks: Generator and Discriminator\n",
    "*   **Implement** GANs on simulated and real datasets\n"
   ]
  },
  {
   "cell_type": "markdown",
   "id": "8c295e43-9134-452d-ad0c-6789c007290f",
   "metadata": {},
   "source": [
    "For this lab, we will be using the following libraries:\n",
    "\n",
    "*   [`pandas`](https://pandas.pydata.org/?utm_medium=Exinfluencer&utm_source=Exinfluencer&utm_content=000026UJ&utm_term=10006555&utm_id=NA-SkillsNetwork-Channel-SkillsNetworkCoursesIBMML0187ENSkillsNetwork31430127-2021-01-01) for managing the data.\n",
    "*   [`numpy`](https://numpy.org/?utm_medium=Exinfluencer&utm_source=Exinfluencer&utm_content=000026UJ&utm_term=10006555&utm_id=NA-SkillsNetwork-Channel-SkillsNetworkCoursesIBMML0187ENSkillsNetwork31430127-2021-01-01) for mathematical operations.\n",
    "*   [`sklearn`](https://scikit-learn.org/stable/?utm_medium=Exinfluencer&utm_source=Exinfluencer&utm_content=000026UJ&utm_term=10006555&utm_id=NA-SkillsNetwork-Channel-SkillsNetworkCoursesIBMML0187ENSkillsNetwork31430127-2021-01-01) for machine learning and machine-learning-pipeline related functions.\n",
    "*   [`seaborn`](https://seaborn.pydata.org/?utm_medium=Exinfluencer&utm_source=Exinfluencer&utm_content=000026UJ&utm_term=10006555&utm_id=NA-SkillsNetwork-Channel-SkillsNetworkCoursesIBMML0187ENSkillsNetwork31430127-2021-01-01) for visualizing the data.\n",
    "*   [`matplotlib`](https://matplotlib.org/?utm_medium=Exinfluencer&utm_source=Exinfluencer&utm_content=000026UJ&utm_term=10006555&utm_id=NA-SkillsNetwork-Channel-SkillsNetworkCoursesIBMML0187ENSkillsNetwork31430127-2021-01-01) for additional plotting tools.\n",
    "*   [`keras`](https://keras.io/?utm_medium=Exinfluencer&utm_source=Exinfluencer&utm_content=000026UJ&utm_term=10006555&utm_id=NA-SkillsNetwork-Channel-SkillsNetworkCoursesIBMML0187ENSkillsNetwork31430127-2021-01-01) for loading datasets.\n"
   ]
  },
  {
   "cell_type": "markdown",
   "id": "e2231915-eb45-4727-8741-8e90f506d70a",
   "metadata": {},
   "source": [
    "### Installing Required Libraries\n",
    "\n",
    "The following required libraries are pre-installed in the Skills Network Labs environment. However, if you run these notebook commands in a different Jupyter environment (like Watson Studio or Ananconda), you will need to install these libraries by removing the `#` sign before `!pip3 install --upgrade tensorflow` in the cell below.\n"
   ]
  },
  {
   "cell_type": "code",
   "execution_count": null,
   "id": "2093fa6c-2445-4c20-a48d-c627de6f6603",
   "metadata": {},
   "outputs": [],
   "source": [
    "# All Libraries required for this lab are listed below. The libraries pre-installed on Skills Network Labs are commented.\n",
    "# !mamba install -qy pandas==1.3.4 numpy==1.21.4 seaborn==0.9.0 matplotlib==3.5.0 scikit-learn==0.20.1\n",
    "# Note: If your environment doesn't support \"!mamba install\", use \"!pip install\""
   ]
  },
  {
   "cell_type": "code",
   "execution_count": null,
   "id": "97c1eec9-86d0-4b38-9678-6e9a87d45ae7",
   "metadata": {},
   "outputs": [],
   "source": [
    "#!pip3 install --upgrade tensorflow"
   ]
  },
  {
   "cell_type": "markdown",
   "id": "aa72c003-7fec-46af-8f87-97ab2506277d",
   "metadata": {},
   "source": [
    "### Importing Required Libraries\n"
   ]
  },
  {
   "cell_type": "code",
   "execution_count": null,
   "id": "05ef9317-04d7-4ca8-b565-56033d4e5509",
   "metadata": {},
   "outputs": [],
   "source": [
    "import warnings\n",
    "warnings.simplefilter('ignore')\n",
    "\n",
    "import os\n",
    "os.environ['TF_CPP_MIN_LOG_LEVEL'] = '2' \n",
    "\n",
    "import numpy as np\n",
    "import os\n",
    "import matplotlib.pyplot as plt\n",
    "import tensorflow as tf\n",
    "print(tf.__version__)\n",
    "from tensorflow.keras import layers\n",
    "import time\n",
    "from tensorflow.keras import models\n",
    "from tqdm import tqdm"
   ]
  },
  {
   "cell_type": "markdown",
   "id": "ff9d4695-6c12-45ad-b1ce-ba713b753f6d",
   "metadata": {},
   "source": [
    "### Helper function\n"
   ]
  },
  {
   "cell_type": "code",
   "execution_count": null,
   "id": "1cf250ff-1c75-45cb-be74-c69f9458a3d2",
   "metadata": {},
   "outputs": [],
   "source": [
    "def plot_distribution(real_data,generated_data,discriminator=None,density=True):\n",
    "    \n",
    "    plt.hist(real_data.numpy(), 100, density=density, facecolor='g', alpha=0.75, label='real data')\n",
    "    plt.hist(generated_data.numpy(), 100, density=density, facecolor='r', alpha=0.75,label='generated data q(z) ')\n",
    "    \n",
    "    if discriminator:\n",
    "        max_=np.max([int(real_data.numpy().max()),int(generated_data.numpy().max())])\n",
    "        min_=np.min([int(real_data.numpy().min()),int(generated_data.numpy().min())])\n",
    "        x=np.linspace(min_, max_, 1000).reshape(-1,1)\n",
    "        plt.plot(x,tf.math.sigmoid(discriminator(x,training=False).numpy()),label='discriminator',color='k')\n",
    "        plt.plot(x,0.5*np.ones(x.shape),label='0.5',color='b')\n",
    "        plt.xlabel('x')\n",
    "        \n",
    "    plt.legend()\n",
    "    plt.show()"
   ]
  },
  {
   "cell_type": "markdown",
   "id": "378cec4c-8e06-4d2e-87bd-208a8bf4b6c3",
   "metadata": {},
   "source": [
    "## Background\n"
   ]
  },
  {
   "cell_type": "markdown",
   "id": "f70a8dcf-1888-433c-880c-7c0e31b2c45a",
   "metadata": {},
   "source": [
    "Generative Adversarial Networks (GANs) are generative models that convert random samples of one distribution into another distribution. They have several applications, like the following:\n",
    "\n",
    "*   Generate Examples for Image Datasets\n",
    "*   Generate Photographs of Human Faces\n",
    "*   Generate Realistic Photographs\n",
    "*   Generate Cartoon Characters\n",
    "*   Image-to-Image Translation\n",
    "*   Text-to-Image Translation\n",
    "*   Face Frontal View Generation\n",
    "*   Generate New Human Poses\n",
    "*   Face Aging\n",
    "*   Photo Blending\n",
    "*   Super Resolution\n",
    "*   Photo Inpainting\n",
    "*   Clothing Translation\n",
    "*   Video Prediction\n",
    "\n",
    "In this lab, we will use a toy example to help understand the basic theoretical principles behind GANs. The original form of GANs consisted of a discriminator and a generator; let's use the analogy of a currency forger and the police.\n",
    "\n",
    "The Generator is the currency forger, and the output is the counterfeit, for example, a 100-dollar bill. The discriminator is analogous to the police taking the counterfeit and trying to determine if it's real by comparing it to a real $100 bill. In real life, if the counterfeit is easy to detect, the forger will adapt; conversely, the police will also improve; GANs emulate this game of cat and mouse.\n",
    "\n",
    "What makes GANs interesting is that the discriminator and generator continuously improve each other by a well-formulated cost function that backpropagates the errors. GANs are a family of algorithms that use *learning by comparison*. In the lab, we will review the original formulation and use a simulated dataset. We will also point you to some more advanced methods and issues you will encounter with the real datasets for the next lab.\n"
   ]
  },
  {
   "cell_type": "markdown",
   "id": "c8875559-acda-4c86-a032-0400b06a0fdc",
   "metadata": {},
   "source": [
    "<h2 id=\"about_dataset\">Toy Data</h2>\n",
    "\n",
    "Consider the following data, $\\mathbf{x}$, that is normally distributed $\\mathbf{x} \\sim \\mathcal{N}(\\mathbf{x}|10,1) $ with a mean of 10 and a standard deviation of 1. Now we would like to randomly sample data from this distribution.\n"
   ]
  },
  {
   "cell_type": "code",
   "execution_count": null,
   "id": "a6c8a127-1914-4255-89d4-3a445fa43356",
   "metadata": {},
   "outputs": [],
   "source": [
    "mean = [10]\n",
    "cov = [[1]]\n",
    "X = tf.random.normal((5000,1),mean=10,stddev=1.0)\n",
    "\n",
    "print(\"mean:\",np.mean(X))\n",
    "print(\"standard deviation:\",np.std(X))"
   ]
  },
  {
   "cell_type": "markdown",
   "id": "561d8b0e-8527-4cd5-afab-61ef6db4c56c",
   "metadata": {},
   "source": [
    "We also have the data sample, z, which is also normally distributed $\\mathbf{z} \\sim \\mathcal{N}(\\mathbf{z}|0,2) $, with mean of 0 and a standard deviation of 2:\n"
   ]
  },
  {
   "cell_type": "code",
   "execution_count": null,
   "id": "47528b9c-963f-441e-9543-12ed543e4d93",
   "metadata": {},
   "outputs": [],
   "source": [
    "Z = tf.random.normal((5000,1),mean=0,stddev=2)"
   ]
  },
  {
   "cell_type": "code",
   "execution_count": null,
   "id": "661499eb-c8ce-4fa2-9357-f81c753f0369",
   "metadata": {},
   "outputs": [],
   "source": [
    "print(\"mean:\",np.mean(Z))\n",
    "print(\"standard deviation:\",np.std(Z))"
   ]
  },
  {
   "cell_type": "markdown",
   "id": "4202d932-3cc4-44ad-ba4b-47a4e5be4833",
   "metadata": {},
   "source": [
    "Let's compare the two distributions:\n"
   ]
  },
  {
   "cell_type": "code",
   "execution_count": null,
   "id": "08f968e3-9e2a-49db-8a24-a07773e0eac3",
   "metadata": {},
   "outputs": [],
   "source": [
    "plot_distribution(X,Z,discriminator=None,density=True)"
   ]
  },
  {
   "cell_type": "markdown",
   "id": "72c3a8ad-2f33-4260-8a04-d1d70f8b7ce7",
   "metadata": {},
   "source": [
    "Let's create our first generative model by adding 10 to every sample of $z$. We will call the result $\\hat{\\mathbf{x}}$  as it's an approximation of $\\mathbf{x}$. It is not too difficult to show that $\\hat{\\mathbf{x}} \\sim \\mathcal{N}(\\mathbf{x}|10,1)$.\n"
   ]
  },
  {
   "cell_type": "code",
   "execution_count": null,
   "id": "fe723977-9807-4611-afbd-1ca6a9042e27",
   "metadata": {},
   "outputs": [],
   "source": [
    "Xhat=Z+10"
   ]
  },
  {
   "cell_type": "markdown",
   "id": "c2146f4b-2169-4767-97e1-df569dcc5218",
   "metadata": {},
   "source": [
    "We see that the mean and standard deviation are almost identical\n"
   ]
  },
  {
   "cell_type": "code",
   "execution_count": null,
   "id": "8e4557ca-b4bd-46b7-ad0a-f9942ca65908",
   "metadata": {},
   "outputs": [],
   "source": [
    "print(\"mean:\",np.mean(Xhat))\n",
    "print(\"standard deviation:\",np.std(Xhat))"
   ]
  },
  {
   "cell_type": "markdown",
   "id": "55696f33-df34-48cd-8899-5af8af538ee2",
   "metadata": {},
   "source": [
    "Similarly for the histograms\n"
   ]
  },
  {
   "cell_type": "code",
   "execution_count": null,
   "id": "223237f1-5084-43ec-add7-c88ef9490fee",
   "metadata": {},
   "outputs": [],
   "source": [
    "plot_distribution(X,Xhat,discriminator=None,density=True)"
   ]
  },
  {
   "cell_type": "markdown",
   "id": "286d649e-2d76-4983-ba8d-f359c51c0bb6",
   "metadata": {},
   "source": [
    "In the case above, since we just add 10 to the latent variable $z$, we transform $z$ using a deterministic function. We can call this an implicit generative model.\n"
   ]
  },
  {
   "cell_type": "markdown",
   "id": "87a24045-5fa9-4fb9-88e5-06cad2eb736a",
   "metadata": {},
   "source": [
    "## The Generator\n"
   ]
  },
  {
   "cell_type": "markdown",
   "id": "102b9b74-6ab0-4f54-b9d3-4b53d56a13ba",
   "metadata": {},
   "source": [
    "There are two networks involved in a GAN, the Generator and the Discriminator. Let's understand the Generator network first.\n",
    "\n",
    "The Generator is a neural network denoted by $G$; the idea is that a neural network can approximate any function (by the [Universal Approximation Theorem](https://en.wikipedia.org/wiki/Universal_approximation_theorem?utm_medium=Exinfluencer&utm_source=Exinfluencer&utm_content=000026UJ&utm_term=10006555&utm_id=NA-SkillsNetwork-Channel-SkillsNetworkCoursesIBMDeveloperSkillsNetworkML311Coursera35714171-2022-01-01)), so you should be able to generate data samples from any type of distribution.\n",
    "\n",
    "Our goal is to convert the samples, $\\mathbf{z}$, to one that approximates $\\hat{\\mathbf{x}}$,  i.e $\\hat{\\mathbf{x}}=G(\\mathbf{z})$. Let's build a simple Generator $G(\\mathbf{z})=\\mathbf{W}^{T}\\mathbf{z}+\\mathbf{b} $ using Keras.\n",
    "\n",
    "The following is a function that outputs a generator using Kera's Sequential model object.\n"
   ]
  },
  {
   "cell_type": "code",
   "execution_count": null,
   "id": "fd1b960d-cd38-4e53-93c9-205ff80047d0",
   "metadata": {},
   "outputs": [],
   "source": [
    "def make_generator_model():\n",
    "    generator = tf.keras.Sequential()\n",
    "    generator.add(layers.Dense(1))\n",
    "    return generator"
   ]
  },
  {
   "cell_type": "markdown",
   "id": "42749f95-a577-4b8d-9127-eb44dc4d9f95",
   "metadata": {},
   "source": [
    "We can use the Generator to convert $\\mathbf{z}$ and make a prediction $\\hat{\\mathbf{x}}$, and display the histogram of the distributions of $\\hat{\\mathbf{x}}$ and $\\mathbf{x}$. As the model is not trained, the trained distributions are quite different:\n"
   ]
  },
  {
   "cell_type": "code",
   "execution_count": null,
   "id": "185e7819-ee65-422d-b55a-03ff60dbbf45",
   "metadata": {},
   "outputs": [],
   "source": [
    "generator=make_generator_model()\n",
    "\n",
    "Xhat = generator(Z, training=False)\n",
    "plot_distribution(real_data=X,generated_data=Xhat)"
   ]
  },
  {
   "cell_type": "markdown",
   "id": "6ff886df-7381-4ef7-854e-a84d07a44222",
   "metadata": {},
   "source": [
    "We will discuss the use of the parameter `training=False` later on.\n"
   ]
  },
  {
   "cell_type": "markdown",
   "id": "0fa02ca6-0673-4527-830b-675eaaf9c13b",
   "metadata": {},
   "source": [
    "## The Discriminator\n"
   ]
  },
  {
   "cell_type": "markdown",
   "id": "19137e01-a41c-48b8-9801-9c9c5d57f4ad",
   "metadata": {},
   "source": [
    "The discriminator $D(\\mathbf{x})$ is a neural network that learns to distinguish between actual and generated samples. The simplest Discriminator is a simple logistic regression function. Let's create a discriminator in Keras with one Dense layer; we leave the logistic function out as it will be incorporated in the cost function, which is the convention in Keras.\n"
   ]
  },
  {
   "cell_type": "code",
   "execution_count": null,
   "id": "d16cdd07-d27a-4ff1-976e-7a4074418039",
   "metadata": {},
   "outputs": [],
   "source": [
    "def make_discriminator_model():\n",
    "    discriminator=tf.keras.Sequential()\n",
    "    discriminator.add(layers.Dense(1))\n",
    "    return discriminator\n",
    "\n",
    "discriminator=make_discriminator_model()"
   ]
  },
  {
   "cell_type": "markdown",
   "id": "915236c2-add1-41b5-acc1-e03b742d7cd0",
   "metadata": {},
   "source": [
    "The discriminator and generator are randomly initialized, but we can plot the output of each and compare it to the true data distribution, with the generated data in red and the real data in green, and the logistic function as a function of the x axis. We also include the threshold. If the output of the logistic function is less than 0.5, the sample is classified as generated data; conversely, if the output is greater than 0.5, the sample will be classified as data that came from the real distribution.\n"
   ]
  },
  {
   "cell_type": "code",
   "execution_count": null,
   "id": "dcc8ea4e-ca7c-43b4-9457-0d6f38813684",
   "metadata": {},
   "outputs": [],
   "source": [
    "plot_distribution(real_data=X,generated_data=Xhat,discriminator=discriminator)"
   ]
  },
  {
   "cell_type": "markdown",
   "id": "c02613c9-71f8-4802-a9c0-45ac76c3bdd4",
   "metadata": {},
   "source": [
    "Applying the sigmoid function to the discriminator output, we get the probabilites that the samples belong to the real distribution. We can count the number of true samples that the discriminator correctly classifies.\n",
    "\n",
    "For the real data, the discriminator successfully assigns a probability greater than 0.5 for all 5000 samples:\n"
   ]
  },
  {
   "cell_type": "code",
   "execution_count": null,
   "id": "fb323842-3291-4886-b292-2f834623d7e3",
   "metadata": {},
   "outputs": [],
   "source": [
    "py_x=tf.math.sigmoid(discriminator(X,training=False))\n",
    "np.sum(py_x>0.5)"
   ]
  },
  {
   "cell_type": "markdown",
   "id": "d82118fc-734b-450f-b97f-15db38970cc9",
   "metadata": {},
   "source": [
    "For the generated data, only 1425 out of the 5000 samples are classified as having more than 50% chance of coming from the real distribution.\n"
   ]
  },
  {
   "cell_type": "code",
   "execution_count": null,
   "id": "32e62431-cc53-49f0-8247-2965a58108ad",
   "metadata": {},
   "outputs": [],
   "source": [
    "py_x=discriminator(Xhat)\n",
    "np.sum(py_x>0.5)"
   ]
  },
  {
   "cell_type": "markdown",
   "id": "6dca5bdb-f9dc-4a71-a54d-8f6a16ece792",
   "metadata": {},
   "source": [
    "We can also use the follwoing to find the average value of the sigmoid function for all the samples.\n"
   ]
  },
  {
   "cell_type": "code",
   "execution_count": null,
   "id": "5c783454-bb26-42ec-be5c-9f699737057f",
   "metadata": {},
   "outputs": [],
   "source": [
    "def get_accuracy(X,Xhat):\n",
    "    total=0\n",
    "    py_x=tf.math.sigmoid(discriminator(X,training=False))\n",
    "    total=np.mean(py_x)\n",
    "    py_x=tf.math.sigmoid(discriminator(Xhat,training=False))\n",
    "    total+=np.mean(py_x)\n",
    "    return total/2"
   ]
  },
  {
   "cell_type": "code",
   "execution_count": null,
   "id": "598826b6-dbbc-4e7f-adde-bc4d399bbadd",
   "metadata": {},
   "outputs": [],
   "source": [
    "get_accuracy(X,Xhat)"
   ]
  },
  {
   "cell_type": "markdown",
   "id": "cc663427-38ae-4ca9-bed6-a736c6ea4626",
   "metadata": {},
   "source": [
    "In many cases, we can instead study the difference in the distribution; in this case, the discriminator is called a <a href='https://arxiv.org/pdf/2107.06700.pdf?utm_medium=Exinfluencer&utm_source=Exinfluencer&utm_content=000026UJ&utm_term=10006555&utm_id=NA-SkillsNetwork-Channel-SkillsNetworkCoursesIBMDeveloperSkillsNetworkML311Coursera35714171-2022-01-01'>Critic</a>, a real-valued function.\n"
   ]
  },
  {
   "cell_type": "markdown",
   "id": "7cfb07ca-0408-47ca-920e-7e0c4795e811",
   "metadata": {},
   "source": [
    "## The Loss Fuction  GANs (optional)\n",
    "\n",
    "GANs convert an unsupervised learning problem to a supervised one. Instead of formulating the problem like a two-player minimax game with a value function like in <a href=https://arxiv.org/pdf/1406.2661.pdf?utm_medium=Exinfluencer&utm_source=Exinfluencer&utm_content=000026UJ&utm_term=10006555&utm_id=NA-SkillsNetwork-Channel-SkillsNetworkCoursesIBMDeveloperSkillsNetworkML311Coursera35714171-2022-01-01 >\\[1]</a>, we can treat the problem of maximizing the familiar log-likelihood of the logistic function analogous to minimizing the cross-entropy loss, then incorporate the generator and discriminator.\n",
    "\n",
    "### Discriminator\n",
    "\n",
    "In order to train the GANS, we start off with standard maximization of the likelihood for the discriminator for the standard dataset $\\mathcal{D}={{(x\\_1, y\\_1), ..., (x_N, y_N)}}$:\n",
    "\n",
    "$$V(D)=\\sum\\_{n=1}^N \\left( y_n \\ln(D(\\mathbf{x}\\_n))+(1-y_n) \\ln(1-D(\\mathbf{x}\\_n))\\right)$$\n",
    "\n",
    "Where $y=1$ for samples from the true distribution and $y=0$ for samples from the generator. The goal is to maximize this term with respect to $D$:\n",
    "\n",
    "$$max\\_{D}(V(D))$$\n"
   ]
  },
  {
   "cell_type": "markdown",
   "id": "48a5dd97-5f5a-47d5-87f3-263392c35960",
   "metadata": {},
   "source": [
    "To also incorporate the generated samples, we augment the right side of the equation with the generated $k$th sample $\\hat{\\mathbf{x}}\\_k$. As they are not part of the dataset $k \\notin \\mathcal{D} $, we have to include a second summation where $y=0$. Finally, combining the cases of $y=1$ and $y=0$, we get:\n",
    "\n",
    "$$V(D)=\\sum\\_{ n\t\\in \\mathcal{D}}  \\ln(D(\\mathbf{x}*n))+\\sum*{k \t\\notin \\mathcal{D}} \\ln(1-D(\\hat{\\mathbf{x}}\\_k) ) $$\n"
   ]
  },
  {
   "cell_type": "markdown",
   "id": "dc70b347-d231-4fcc-8045-2004ed4c123f",
   "metadata": {},
   "source": [
    "### Generator\n",
    "\n",
    "For the generator we simply replace $\\hat{\\mathbf{x}}\\_k$ with the $G(\\mathbf{z}\\_k)$ .\n",
    "\n",
    "$$V(G,D)=\\sum\\_{n\t\\in \\mathcal{D}} \\ln(D(\\mathbf{x}*n))+\\sum*{k \t\\notin \\mathcal{D}} \\ln(1-D(G(\\mathbf{z}\\_k))) $$\n",
    "\n",
    "As this is a density estimation problem, it is common to replace the summation with the expected value like in <a href=https://arxiv.org/pdf/1406.2661.pdf?utm_medium=Exinfluencer&utm_source=Exinfluencer&utm_content=000026UJ&utm_term=10006555&utm_id=NA-SkillsNetwork-Channel-SkillsNetworkCoursesIBMDeveloperSkillsNetworkML311Coursera35714171-2022-01-01 >\\[1]</a>. We replace the summations with an expectation where $p(\\mathbf{x})$ is the true distribution and $p(\\mathbf{z})$ is the distribution of $\\mathbf{z}$.\n",
    "\n",
    "$$V(D,G)=\\mathbb{E}*{x\\sim p(\\mathbf{x})} \\ln(D(\\mathbf{x})) + \\mathbb{E}*{\\mathbf{z} \\sim p(\\mathbf{z})} \\ln(1-D(G(\\mathbf{z}) )) $$\n",
    "\n",
    "As we are trying to trick the discriminator, we would like to find a $G$ that minimize the above expression, such as:\n",
    "\n",
    "$$min\\_{G} max\\_{D} V(D,G)$$\n"
   ]
  },
  {
   "cell_type": "markdown",
   "id": "bd331c90-5840-41c4-a4df-97066838ae07",
   "metadata": {},
   "source": [
    "## Training GANS\n",
    "\n",
    "### Training Generator\n",
    "\n",
    "GANs are quite difficult to train, even for a simple example. Let's start off with training the generator in practice.\n",
    "\n",
    "$log(1 − D(G(\\mathbf{z})))$ is difficult to work with as $D(G(\\mathbf{z}))$ is near one or zero for the first few iterations. This is because the generator is not yet properly trained, and the discriminator can easily distinguish between the generated and actual samples. Therefore we maximize $log(D(G(\\mathbf{z}\\_k)) )$.\n",
    "\n",
    "Although the output of the generator passes through the discriminator, we do not update the generator in the optimization step, hence we set the parameter `training=False` in the actual training steps.\n",
    "\n",
    "Instead of maximizing the term, we can take the negative and minimize it. The resultant expression can be calculated in Keras using the cross-entropy loss where all the target values are set to one:\n",
    "\n",
    "$$\\sum\\_{k \t\\notin \\mathcal{D}} log(1 - D(G(\\mathbf{z}\\_k)) )$$\n"
   ]
  },
  {
   "cell_type": "code",
   "execution_count": null,
   "id": "ac005367-8086-428d-ba66-4f3b3e31bba7",
   "metadata": {},
   "outputs": [],
   "source": [
    "# This method returns a helper function to compute crossentropy loss\n",
    "cross_entropy = tf.keras.losses.BinaryCrossentropy(from_logits=True)\n",
    "def generator_loss(Xhat):\n",
    "    return cross_entropy(tf.ones_like(Xhat), Xhat)"
   ]
  },
  {
   "cell_type": "markdown",
   "id": "8f52da2f-727b-48f3-8562-5cf4ac2b6eb3",
   "metadata": {},
   "source": [
    "### Training Discriminator\n",
    "\n",
    "We can also use the cross-entropy to train the discriminator; we simply multiply $V(G,D)$ by a negative number, set $y=0$ for the generated values and $y=1$ for the real values. We do not update the generator parameters.\n",
    "\n",
    "$$V(G)=\\sum\\_{n\t\\in \\mathcal{D}} (\\ln(D(\\mathbf{x}*n)))+\\sum*{k \t\\notin \\mathcal{D}} \\ln(1-D(G(\\mathbf{z}\\_k) )) $$\n"
   ]
  },
  {
   "cell_type": "markdown",
   "id": "7228b4c9-be0c-49e2-aedd-b31d47948bc7",
   "metadata": {},
   "source": [
    "The first term is the real loss and the second is the fake loss in Keras.\n"
   ]
  },
  {
   "cell_type": "code",
   "execution_count": null,
   "id": "632aa966-9489-4ad5-a9e0-a7ae4067664b",
   "metadata": {},
   "outputs": [],
   "source": [
    "def discriminator_loss(X, Xhat):\n",
    "    real_loss = cross_entropy(tf.ones_like(X), X)\n",
    "    fake_loss = cross_entropy(tf.zeros_like(Xhat), Xhat)\n",
    "    total_loss = 0.5*(real_loss + fake_loss)\n",
    "    return total_loss"
   ]
  },
  {
   "cell_type": "markdown",
   "id": "ab4b61e3-789b-4e62-b84d-1414c16530bc",
   "metadata": {},
   "source": [
    "We create the optimizer for the discriminator and generator:\n"
   ]
  },
  {
   "cell_type": "code",
   "execution_count": null,
   "id": "dbca87f3-7377-490c-afd3-8bfe36268c79",
   "metadata": {},
   "outputs": [],
   "source": [
    "generator_optimizer = tf.keras.optimizers.Adam(5e-1,beta_1=0.5,beta_2=0.8)\n",
    "\n",
    "discriminator_optimizer = tf.keras.optimizers.Adam(5e-1,beta_1=0.5, beta_2=0.8)\n"
   ]
  },
  {
   "cell_type": "markdown",
   "id": "f1d52e9e-a55c-4d37-a14d-678537d3bc20",
   "metadata": {},
   "source": [
    "We now train the model; as the dataset is small, we will use batch gradient descent.\n",
    "\n",
    "For each iteration we will generate $M$ real examples ${\\mathbf{x}*{1}, ...,\\mathbf{x}*{M}}$, these are from the generating distribution $p(\\mathbf{x})$. This would be our actual dataset if we used real data.\n",
    "\n",
    "We will then generate a sample batch of $M$ noise samples ${\\mathbf{z}*{1}, ...,\\mathbf{z}*{M}}$ from noise prior $p(\\mathbf{z})$ and convert the result to a generated image using the generator ${\\hat{\\mathbf{x}}*{1}, ...,\\hat{\\mathbf{x}}*{M}}$.\n",
    "\n",
    "We determine the output of the discriminator for both the real and generated samples. We calculate the loss and then update the discriminator and generator through their respective stochastic gradients.\n"
   ]
  },
  {
   "cell_type": "markdown",
   "id": "40b206b5-76ce-49f8-af0b-a9c1af63df70",
   "metadata": {},
   "source": [
    "The convergence of GAN training is a subject in itself. But let's explore a method that works for this simple dataset. Intuitively, we know that if our generated data is identical to our actual data, the probability of correctly classifying is random. Therefore if the generated and actual data are of equal proportion, $D(\\mathbf{x}\\_n)=0.5$ and $D(\\hat{\\mathbf{x}}\\_n)=0.5$.\n",
    "\n",
    "We only display iterations where the average discriminator output gets closer to 50% for both the generated data and actual data.\n"
   ]
  },
  {
   "cell_type": "code",
   "execution_count": null,
   "id": "49fe0bf5-966c-4370-aa37-cbb0d9dc03f9",
   "metadata": {},
   "outputs": [],
   "source": [
    "#paramters for trainng \n",
    "epochs=20\n",
    "BATCH_SIZE=5000\n",
    "noise_dim=1\n",
    "epsilon=100 \n",
    "\n",
    "\n",
    "#discrimator and gernerator \n",
    "tf.random.set_seed(0)\n",
    "discriminator=make_discriminator_model()\n",
    "generator=make_generator_model()\n",
    "\n",
    "tf.config.run_functions_eagerly(True)\n",
    "\n",
    "\n",
    "\n",
    "gen_loss_epoch=[]\n",
    "disc_loss_epoch=[]\n",
    "plot_distribution(real_data=X,generated_data=Xhat,discriminator=discriminator )\n",
    "print(\"epoch\",0)\n",
    "\n",
    "for epoch in tqdm(range(epochs)):\n",
    "    #data for the true distribution of your real data samples training ste\n",
    "    x = tf.random.normal((BATCH_SIZE,1),mean=10,stddev=1.0)\n",
    "    #random samples it was found if you increase the  stander deviation, you get better results \n",
    "    z= tf.random.normal([BATCH_SIZE, noise_dim],mean=0,stddev=10)\n",
    "    # needed to compute the gradients for a list of variables.\n",
    "    with tf.GradientTape() as gen_tape, tf.GradientTape() as disc_tape:\n",
    "        #generated sample \n",
    "        xhat = generator(z, training=True)\n",
    "        #the output of the discriminator for real data \n",
    "        real_output = discriminator(x, training=True)\n",
    "        #the output of the discriminator  data\n",
    "        fake_output = discriminator(xhat, training=True)\n",
    "        #loss for each \n",
    "        gen_loss= generator_loss(fake_output)\n",
    "        disc_loss = discriminator_loss(real_output, fake_output)\n",
    "    # Compute the gradients for gen_loss and generator\n",
    "    gradients_of_generator = gen_tape.gradient(gen_loss, generator.trainable_variables)\n",
    "    # Compute the gradients for gen_loss and discriminator\n",
    "    gradients_of_discriminator = disc_tape.gradient(disc_loss, discriminator.trainable_variables)\n",
    "    # Ask the optimizer to apply the processed gradients\n",
    "    generator_optimizer.apply_gradients(zip(gradients_of_generator, generator.trainable_variables))\n",
    "    discriminator_optimizer.apply_gradients(zip(gradients_of_discriminator, discriminator.trainable_variables))\n",
    "  \n",
    "  # Save and display the generator and discriminator if the performance increases \n",
    "    if abs(0.5-get_accuracy(x,xhat))<epsilon:\n",
    "        epsilon=abs(0.5-get_accuracy(x,xhat))\n",
    "        generator.save('generator')\n",
    "        discriminator.save('discriminator')\n",
    "        print(get_accuracy(x,xhat))\n",
    "        plot_distribution(real_data=X,generated_data=xhat,discriminator=discriminator )\n",
    "        print(\"epoch\",epoch)"
   ]
  },
  {
   "cell_type": "markdown",
   "id": "4865ac9e-3155-4d72-9c08-a2c370b54e96",
   "metadata": {},
   "source": [
    "For more on training GANs check out the following <a href=\"https://jonathan-hui.medium.com/gan-why-it-is-so-hard-to-train-generative-advisory-networks-819a86b3750b?utm_medium=Exinfluencer&utm_source=Exinfluencer&utm_content=000026UJ&utm_term=10006555&utm_id=NA-SkillsNetwork-Channel-SkillsNetworkCoursesIBMDeveloperSkillsNetworkML311Coursera35714171-2022-01-01\">blog</a>. We can display the best performing model\n"
   ]
  },
  {
   "cell_type": "code",
   "execution_count": null,
   "id": "367b9f0e-748a-401c-86f6-4abbefeb200f",
   "metadata": {},
   "outputs": [],
   "source": [
    "generator=make_generator_model()\n",
    "generator= models.load_model('generator')\n",
    "xhat=generator(z)\n",
    "discriminator=models.load_model('discriminator')\n",
    "plot_distribution(real_data=X,generated_data=xhat,discriminator=discriminator )"
   ]
  },
  {
   "cell_type": "markdown",
   "id": "e9f67706-8a95-49bf-8da3-47f87ff29bf4",
   "metadata": {},
   "source": [
    "We usually use this version of TensorFlow for the rest of the course, so don't forget to downgrade\n"
   ]
  },
  {
   "cell_type": "code",
   "execution_count": null,
   "id": "a7f1d4cc-41cc-41e6-9f7e-f5a92423df76",
   "metadata": {},
   "outputs": [],
   "source": [
    "%%capture\n",
    "!pip install --upgrade tensorflow==1.14.0"
   ]
  },
  {
   "cell_type": "markdown",
   "metadata": {},
   "source": [
    "#### This code defines a simple GAN architecture to generate responses to mathematical expressions. The generator takes a random noise vector as input and produces a mathematical expression, while the discriminator takes a mathematical expression as input and outputs a probability that the expression is real or generated.\n",
    "\n",
    "- *Please note:*\n",
    "\n",
    "- This code is a simplified example and may not produce accurate results.\n",
    "- GANs require significant training data and fine-tuning to generate high-quality outputs.\n",
    "- This code uses a simple architecture and may not be suitable for complex mathematical expressions.\n",
    "\n",
    "### To improve the accuracy of the GAN, you can:\n",
    "\n",
    "- Increase the training data size and diversity.\n",
    "- Use a more complex architecture, such as a convolutional neural network (CNN) or recurrent neural network (RNN).\n",
    "- Fine-tune the hyperparameters, such as the learning rate and batch size.\n",
    "- Use a different loss function or training strategy."
   ]
  },
  {
   "cell_type": "code",
   "execution_count": null,
   "metadata": {},
   "outputs": [],
   "source": [
    "import numpy as np\n",
    "import tensorflow as tf\n",
    "\n",
    "# Define the mathematical expression generator (GAN)\n",
    "def math_expression_generator(latent_dim=100):\n",
    "  inputs = tf.random.normal([latent_dim])\n",
    "  x = tf.layers.dense(inputs, 128, activation='relu')\n",
    "  x = tf.layers.dense(x, 128, activation='relu')\n",
    "  output = tf.layers.dense(x, 1)\n",
    "  return output\n",
    "\n",
    "# Define the discriminator (critic)\n",
    "def discriminator(math_expression):\n",
    "  x = tf.layers.dense(math_expression, 128, activation='relu')\n",
    "  x = tf.layers.dense(x, 128, activation='relu')\n",
    "  output = tf.layers.dense(x, 1)\n",
    "  return output\n",
    "\n",
    "# Train the GAN\n",
    "latent_dim = 100\n",
    "gan = math_expression_generator(latent_dim)\n",
    "critic = discriminator\n",
    "\n",
    "for i in range(1000):  # Training iterations\n",
    "  # Sample a random mathematical expression\n",
    "  math_expression = np.random.randint(0, 10, size=(1, 10))\n",
    "  \n",
    "  # Generate a response using the GAN\n",
    "  response = gan(math_expression)\n",
    "  \n",
    "  # Train the critic (discriminator)\n",
    "  critic_loss = tf.reduce_mean(tf.square(critic(math_expression) - response))\n",
    "  critic_opt = tf.optimizers.Adam(0.001)\n",
    "  critic_opt.minimize(critic_loss, var_list=critic.trainable_variables)\n",
    "  \n",
    "  # Train the GAN (generator)\n",
    "  gan_loss = tf.reduce_mean(tf.square(response - math_expression))\n",
    "  gan_opt = tf.optimizers.Adam(0.001)\n",
    "  gan_opt.minimize(gan_loss, var_list=gan.trainable_variables)\n",
    "\n",
    "# Generate a response to a mathematical expression\n",
    "math_expression = np.array([2, 3, 4, 5, 6, 7, 8, 9, 10])\n",
    "response = gan(math_expression)\n",
    "print(response)\n",
    "\n"
   ]
  },
  {
   "cell_type": "code",
   "execution_count": null,
   "metadata": {},
   "outputs": [],
   "source": []
  }
 ],
 "metadata": {
  "kernelspec": {
   "display_name": "Python 3 (ipykernel)",
   "language": "python",
   "name": "python3"
  },
  "language_info": {
   "codemirror_mode": {
    "name": "ipython",
    "version": 3
   },
   "file_extension": ".py",
   "mimetype": "text/x-python",
   "name": "python",
   "nbconvert_exporter": "python",
   "pygments_lexer": "ipython3",
   "version": "3.9.12"
  }
 },
 "nbformat": 4,
 "nbformat_minor": 4
}
