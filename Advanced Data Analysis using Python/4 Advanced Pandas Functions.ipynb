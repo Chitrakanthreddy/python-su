{
 "cells": [
  {
   "cell_type": "markdown",
   "id": "8e713f6b",
   "metadata": {},
   "source": [
    "## Pandas Functions\n",
    "\n",
    "- groupby()\n",
    "Used to group data by specific columns and apply functions on them."
   ]
  },
  {
   "cell_type": "code",
   "execution_count": 5,
   "id": "66798a7c",
   "metadata": {},
   "outputs": [
    {
     "name": "stdout",
     "output_type": "stream",
     "text": [
      "          Value\n",
      "Category       \n",
      "A             3\n",
      "B             2\n",
      "C             2\n"
     ]
    }
   ],
   "source": [
    "import pandas as pd\n",
    "df = pd.DataFrame({'Category': ['A', 'B', 'A', 'B', 'A','C','C'], 'Value': [10, 20, 30, 40, 50,60,100]})\n",
    "grouped = df.groupby('Category').count()\n",
    "print(grouped)\n"
   ]
  },
  {
   "cell_type": "code",
   "execution_count": 8,
   "id": "d397381d",
   "metadata": {},
   "outputs": [
    {
     "name": "stdout",
     "output_type": "stream",
     "text": [
      "         Value              \n",
      "          mean  max  sum min\n",
      "Category                    \n",
      "A         30.0   50   90  10\n",
      "B         30.0   40   60  20\n",
      "C         80.0  100  160  60\n"
     ]
    }
   ],
   "source": [
    "grouped = df.groupby('Category').agg({'Value': ['mean', 'max','sum','min']})\n",
    "print(grouped)"
   ]
  },
  {
   "cell_type": "markdown",
   "id": "d83c423b",
   "metadata": {},
   "source": [
    "\n",
    "## Lambda funtion:\n",
    "\n",
    "- Lambda functions are best suited for short, throwaway functions.\n",
    "- For complex operations, regular functions are preferred.\n",
    "\n",
    "\n",
    " - Lambda functions are anonymous functions defined using the 'lambda' keyword.\n",
    " - Syntax: lambda arguments: expression\n"
   ]
  },
  {
   "cell_type": "code",
   "execution_count": 15,
   "id": "d7f6b50f",
   "metadata": {},
   "outputs": [
    {
     "name": "stdout",
     "output_type": "stream",
     "text": [
      "Squared List: [1, 4, 9, 16, 25]\n"
     ]
    }
   ],
   "source": [
    "# Example 4: Using with map() to square a list of numbers\n",
    "nums = [1, 2, 3, 4, 5]\n",
    "squared = list(map(lambda x: x**2, nums))\n",
    "print(\"Squared List:\", squared)"
   ]
  },
  {
   "cell_type": "code",
   "execution_count": null,
   "id": "672a57e2",
   "metadata": {},
   "outputs": [],
   "source": [
    "# Example 1: Basic usage\n",
    "square = lambda x: x**2\n",
    "print(\"Square of 5:\", square(5))  \n",
    "\n",
    "# Example 2: Adding two numbers\n",
    "add = lambda a, b,c: a + b+c\n",
    "print(\"Sum of 4 and 7:\", add(4, 7,3))  \n",
    "\n",
    "# Example 3: Sorting a list of tuples by the second item\n",
    "pairs = [(1, 'one'), (3, 'three'), (2, 'two'), (4, 'four')]\n",
    "sorted_pairs = sorted(pairs, key=lambda x: x[1])\n",
    "print(\"Sorted by value:\", sorted_pairs)\n",
    "\n",
    "# Example 4: Using with map() to square a list of numbers\n",
    "nums = [1, 2, 3, 4, 5]\n",
    "squared = list(map(lambda x: x**2, nums))\n",
    "print(\"Squared List:\", squared)\n",
    "\n",
    "# Example 5: Using with filter() to filter even numbers\n",
    "even_nums = list(filter(lambda x: x % 2 == 0, nums))\n",
    "print(\"Even Numbers:\", even_nums)\n",
    "\n",
    "# Example 6: Using with reduce() to compute the product of elements\n",
    "from functools import reduce\n",
    "product = reduce(lambda x, y: x * y, nums)\n",
    "print(\"Product of List:\", product)\n",
    "\n",
    "# Example 7: Conditional logic inside lambda\n",
    "check_even = lambda x: 'Even' if x % 2 == 0 else 'Odd'\n",
    "print(\"Check 7:\", check_even(7))\n",
    "\n",
    "# Example 8: Lambda inside a function\n",
    "def make_incrementor(n):\n",
    "    return lambda x: x + n\n",
    "\n",
    "increment_by_3 = make_incrementor(3)\n",
    "print(\"Increment 10 by 3:\", increment_by_3(10))\n",
    "\n"
   ]
  },
  {
   "cell_type": "code",
   "execution_count": 16,
   "id": "947044f7",
   "metadata": {},
   "outputs": [
    {
     "data": {
      "text/html": [
       "<div>\n",
       "<style scoped>\n",
       "    .dataframe tbody tr th:only-of-type {\n",
       "        vertical-align: middle;\n",
       "    }\n",
       "\n",
       "    .dataframe tbody tr th {\n",
       "        vertical-align: top;\n",
       "    }\n",
       "\n",
       "    .dataframe thead th {\n",
       "        text-align: right;\n",
       "    }\n",
       "</style>\n",
       "<table border=\"1\" class=\"dataframe\">\n",
       "  <thead>\n",
       "    <tr style=\"text-align: right;\">\n",
       "      <th></th>\n",
       "      <th>A</th>\n",
       "      <th>B</th>\n",
       "    </tr>\n",
       "  </thead>\n",
       "  <tbody>\n",
       "    <tr>\n",
       "      <th>0</th>\n",
       "      <td>1</td>\n",
       "      <td>4</td>\n",
       "    </tr>\n",
       "    <tr>\n",
       "      <th>1</th>\n",
       "      <td>4</td>\n",
       "      <td>5</td>\n",
       "    </tr>\n",
       "    <tr>\n",
       "      <th>2</th>\n",
       "      <td>9</td>\n",
       "      <td>6</td>\n",
       "    </tr>\n",
       "  </tbody>\n",
       "</table>\n",
       "</div>"
      ],
      "text/plain": [
       "   A  B\n",
       "0  1  4\n",
       "1  4  5\n",
       "2  9  6"
      ]
     },
     "execution_count": 16,
     "metadata": {},
     "output_type": "execute_result"
    }
   ],
   "source": [
    "## - apply():Applies a function along an axis of the DataFrame.\n",
    "df = pd.DataFrame({'A': [1, 2, 3], 'B': [4, 5, 6]})\n",
    "df['A'] = df['A'].apply(lambda x: x**2)\n",
    "df\n"
   ]
  },
  {
   "cell_type": "code",
   "execution_count": 17,
   "id": "89491ec6",
   "metadata": {},
   "outputs": [
    {
     "data": {
      "text/html": [
       "<div>\n",
       "<style scoped>\n",
       "    .dataframe tbody tr th:only-of-type {\n",
       "        vertical-align: middle;\n",
       "    }\n",
       "\n",
       "    .dataframe tbody tr th {\n",
       "        vertical-align: top;\n",
       "    }\n",
       "\n",
       "    .dataframe thead th {\n",
       "        text-align: right;\n",
       "    }\n",
       "</style>\n",
       "<table border=\"1\" class=\"dataframe\">\n",
       "  <thead>\n",
       "    <tr style=\"text-align: right;\">\n",
       "      <th></th>\n",
       "      <th>A</th>\n",
       "      <th>B</th>\n",
       "      <th>Sum</th>\n",
       "    </tr>\n",
       "  </thead>\n",
       "  <tbody>\n",
       "    <tr>\n",
       "      <th>0</th>\n",
       "      <td>1</td>\n",
       "      <td>4</td>\n",
       "      <td>5</td>\n",
       "    </tr>\n",
       "    <tr>\n",
       "      <th>1</th>\n",
       "      <td>2</td>\n",
       "      <td>5</td>\n",
       "      <td>7</td>\n",
       "    </tr>\n",
       "    <tr>\n",
       "      <th>2</th>\n",
       "      <td>3</td>\n",
       "      <td>6</td>\n",
       "      <td>9</td>\n",
       "    </tr>\n",
       "  </tbody>\n",
       "</table>\n",
       "</div>"
      ],
      "text/plain": [
       "   A  B  Sum\n",
       "0  1  4    5\n",
       "1  2  5    7\n",
       "2  3  6    9"
      ]
     },
     "execution_count": 17,
     "metadata": {},
     "output_type": "execute_result"
    }
   ],
   "source": [
    "df = pd.DataFrame({'A': [1, 2, 3], 'B': [4, 5, 6]})\n",
    "df['Sum'] = df.apply(lambda row: row['A'] + row['B'], axis=1)\n",
    "df"
   ]
  },
  {
   "cell_type": "markdown",
   "id": "72d386a3",
   "metadata": {},
   "source": [
    "- rolling(): Provides rolling window calculations."
   ]
  },
  {
   "cell_type": "code",
   "execution_count": 18,
   "id": "686f63a4",
   "metadata": {},
   "outputs": [
    {
     "name": "stdout",
     "output_type": "stream",
     "text": [
      "0    NaN\n",
      "1    NaN\n",
      "2    2.0\n",
      "3    3.0\n",
      "4    4.0\n",
      "Name: Value, dtype: float64\n"
     ]
    }
   ],
   "source": [
    "df = pd.DataFrame({'Value': [1, 2, 3, 4, 5]})\n",
    "rolling_mean = df['Value'].rolling(window=3).mean()\n",
    "print(rolling_mean)\n"
   ]
  },
  {
   "cell_type": "code",
   "execution_count": 19,
   "id": "d3a73822",
   "metadata": {},
   "outputs": [
    {
     "name": "stdout",
     "output_type": "stream",
     "text": [
      "0    NaN\n",
      "1    3.0\n",
      "2    5.0\n",
      "3    7.0\n",
      "4    9.0\n",
      "Name: Value, dtype: float64\n"
     ]
    }
   ],
   "source": [
    "df = pd.DataFrame({'Value': [1, 2, 3, 4, 5]})\n",
    "rolling_sum = df['Value'].rolling(window=2).sum()\n",
    "print(rolling_sum)"
   ]
  },
  {
   "cell_type": "code",
   "execution_count": 21,
   "id": "30b2e349",
   "metadata": {},
   "outputs": [
    {
     "data": {
      "text/plain": [
       "0    NaN\n",
       "1    1.0\n",
       "2    2.0\n",
       "3    3.0\n",
       "Name: A, dtype: float64"
      ]
     },
     "execution_count": 21,
     "metadata": {},
     "output_type": "execute_result"
    }
   ],
   "source": [
    " ## shift(): Shifts the values of a column by a given number of periods.\n",
    "df = pd.DataFrame({'A': [1, 2, 3, 4]})\n",
    "shifted_df = df['A'].shift(1)\n",
    "shifted_df"
   ]
  },
  {
   "cell_type": "code",
   "execution_count": 23,
   "id": "3238cd9c",
   "metadata": {},
   "outputs": [
    {
     "data": {
      "text/html": [
       "<div>\n",
       "<style scoped>\n",
       "    .dataframe tbody tr th:only-of-type {\n",
       "        vertical-align: middle;\n",
       "    }\n",
       "\n",
       "    .dataframe tbody tr th {\n",
       "        vertical-align: top;\n",
       "    }\n",
       "\n",
       "    .dataframe thead th {\n",
       "        text-align: right;\n",
       "    }\n",
       "</style>\n",
       "<table border=\"1\" class=\"dataframe\">\n",
       "  <thead>\n",
       "    <tr style=\"text-align: right;\">\n",
       "      <th></th>\n",
       "      <th>A</th>\n",
       "    </tr>\n",
       "  </thead>\n",
       "  <tbody>\n",
       "    <tr>\n",
       "      <th>0</th>\n",
       "      <td>10</td>\n",
       "    </tr>\n",
       "    <tr>\n",
       "      <th>1</th>\n",
       "      <td>20</td>\n",
       "    </tr>\n",
       "    <tr>\n",
       "      <th>2</th>\n",
       "      <td>30</td>\n",
       "    </tr>\n",
       "    <tr>\n",
       "      <th>3</th>\n",
       "      <td>40</td>\n",
       "    </tr>\n",
       "  </tbody>\n",
       "</table>\n",
       "</div>"
      ],
      "text/plain": [
       "    A\n",
       "0  10\n",
       "1  20\n",
       "2  30\n",
       "3  40"
      ]
     },
     "execution_count": 23,
     "metadata": {},
     "output_type": "execute_result"
    }
   ],
   "source": [
    "df = pd.DataFrame({'A': [10, 20, 30, 40]})\n",
    "shifted_df = df['A'].shift(-1)\n",
    "shifted_df\n",
    "df"
   ]
  },
  {
   "cell_type": "code",
   "execution_count": 24,
   "id": "13f16908",
   "metadata": {},
   "outputs": [
    {
     "data": {
      "text/html": [
       "<div>\n",
       "<style scoped>\n",
       "    .dataframe tbody tr th:only-of-type {\n",
       "        vertical-align: middle;\n",
       "    }\n",
       "\n",
       "    .dataframe tbody tr th {\n",
       "        vertical-align: top;\n",
       "    }\n",
       "\n",
       "    .dataframe thead th {\n",
       "        text-align: right;\n",
       "    }\n",
       "</style>\n",
       "<table border=\"1\" class=\"dataframe\">\n",
       "  <thead>\n",
       "    <tr style=\"text-align: right;\">\n",
       "      <th></th>\n",
       "      <th>Category</th>\n",
       "      <th>Value</th>\n",
       "      <th>Transformed</th>\n",
       "    </tr>\n",
       "  </thead>\n",
       "  <tbody>\n",
       "    <tr>\n",
       "      <th>0</th>\n",
       "      <td>A</td>\n",
       "      <td>1</td>\n",
       "      <td>0.333333</td>\n",
       "    </tr>\n",
       "    <tr>\n",
       "      <th>1</th>\n",
       "      <td>A</td>\n",
       "      <td>2</td>\n",
       "      <td>0.666667</td>\n",
       "    </tr>\n",
       "    <tr>\n",
       "      <th>2</th>\n",
       "      <td>B</td>\n",
       "      <td>3</td>\n",
       "      <td>0.428571</td>\n",
       "    </tr>\n",
       "    <tr>\n",
       "      <th>3</th>\n",
       "      <td>B</td>\n",
       "      <td>4</td>\n",
       "      <td>0.571429</td>\n",
       "    </tr>\n",
       "  </tbody>\n",
       "</table>\n",
       "</div>"
      ],
      "text/plain": [
       "  Category  Value  Transformed\n",
       "0        A      1     0.333333\n",
       "1        A      2     0.666667\n",
       "2        B      3     0.428571\n",
       "3        B      4     0.571429"
      ]
     },
     "execution_count": 24,
     "metadata": {},
     "output_type": "execute_result"
    }
   ],
   "source": [
    "## transform(): Applies a function to each group in the DataFrame and returns the transformed data.\n",
    "df = pd.DataFrame({'Category': ['A', 'A', 'B', 'B'], 'Value': [1, 2, 3, 4]})\n",
    "df['Transformed'] = df.groupby('Category')['Value'].transform(lambda x: x / x.sum())\n",
    "df\n"
   ]
  },
  {
   "cell_type": "code",
   "execution_count": 27,
   "id": "a5228fd0",
   "metadata": {},
   "outputs": [
    {
     "data": {
      "text/html": [
       "<div>\n",
       "<style scoped>\n",
       "    .dataframe tbody tr th:only-of-type {\n",
       "        vertical-align: middle;\n",
       "    }\n",
       "\n",
       "    .dataframe tbody tr th {\n",
       "        vertical-align: top;\n",
       "    }\n",
       "\n",
       "    .dataframe thead th {\n",
       "        text-align: right;\n",
       "    }\n",
       "</style>\n",
       "<table border=\"1\" class=\"dataframe\">\n",
       "  <thead>\n",
       "    <tr style=\"text-align: right;\">\n",
       "      <th></th>\n",
       "      <th>A</th>\n",
       "      <th>Transformed</th>\n",
       "    </tr>\n",
       "  </thead>\n",
       "  <tbody>\n",
       "    <tr>\n",
       "      <th>0</th>\n",
       "      <td>1</td>\n",
       "      <td>2</td>\n",
       "    </tr>\n",
       "    <tr>\n",
       "      <th>1</th>\n",
       "      <td>2</td>\n",
       "      <td>4</td>\n",
       "    </tr>\n",
       "    <tr>\n",
       "      <th>2</th>\n",
       "      <td>3</td>\n",
       "      <td>6</td>\n",
       "    </tr>\n",
       "    <tr>\n",
       "      <th>3</th>\n",
       "      <td>4</td>\n",
       "      <td>8</td>\n",
       "    </tr>\n",
       "  </tbody>\n",
       "</table>\n",
       "</div>"
      ],
      "text/plain": [
       "   A  Transformed\n",
       "0  1            2\n",
       "1  2            4\n",
       "2  3            6\n",
       "3  4            8"
      ]
     },
     "execution_count": 27,
     "metadata": {},
     "output_type": "execute_result"
    }
   ],
   "source": [
    "df = pd.DataFrame({'A': [1, 2, 3, 4]})\n",
    "df['Transformed'] = df['A'].transform(lambda x: 2*x)\n",
    "df\n"
   ]
  },
  {
   "cell_type": "code",
   "execution_count": 29,
   "id": "e7acc2bc",
   "metadata": {},
   "outputs": [
    {
     "name": "stdout",
     "output_type": "stream",
     "text": [
      "3    40\n",
      "Name: A, dtype: int64\n"
     ]
    }
   ],
   "source": [
    "## nlargest(): Returns the first n largest values in a DataFrame.\n",
    "##nsmallest():Returns the first n smallest values in a DataFrame\n",
    "df = pd.DataFrame({'A': [10, 20, 30, 40]})\n",
    "largest = df['A'].nlargest(1)\n",
    "print(largest)\n"
   ]
  },
  {
   "cell_type": "code",
   "execution_count": 30,
   "id": "5e5bc3d5",
   "metadata": {},
   "outputs": [
    {
     "name": "stdout",
     "output_type": "stream",
     "text": [
      "0    10\n",
      "1    20\n",
      "Name: A, dtype: int64\n"
     ]
    }
   ],
   "source": [
    "df = pd.DataFrame({'A': [10, 20, 30, 40]})\n",
    "smallest = df['A'].nsmallest(2)\n",
    "print(smallest)\n"
   ]
  },
  {
   "cell_type": "code",
   "execution_count": 32,
   "id": "043191fc",
   "metadata": {},
   "outputs": [
    {
     "data": {
      "text/html": [
       "<div>\n",
       "<style scoped>\n",
       "    .dataframe tbody tr th:only-of-type {\n",
       "        vertical-align: middle;\n",
       "    }\n",
       "\n",
       "    .dataframe tbody tr th {\n",
       "        vertical-align: top;\n",
       "    }\n",
       "\n",
       "    .dataframe thead th {\n",
       "        text-align: right;\n",
       "    }\n",
       "</style>\n",
       "<table border=\"1\" class=\"dataframe\">\n",
       "  <thead>\n",
       "    <tr style=\"text-align: right;\">\n",
       "      <th></th>\n",
       "      <th>A</th>\n",
       "      <th>B</th>\n",
       "    </tr>\n",
       "  </thead>\n",
       "  <tbody>\n",
       "    <tr>\n",
       "      <th>2</th>\n",
       "      <td>3</td>\n",
       "      <td>7</td>\n",
       "    </tr>\n",
       "    <tr>\n",
       "      <th>3</th>\n",
       "      <td>4</td>\n",
       "      <td>8</td>\n",
       "    </tr>\n",
       "    <tr>\n",
       "      <th>5</th>\n",
       "      <td>8</td>\n",
       "      <td>3</td>\n",
       "    </tr>\n",
       "    <tr>\n",
       "      <th>6</th>\n",
       "      <td>9</td>\n",
       "      <td>3</td>\n",
       "    </tr>\n",
       "  </tbody>\n",
       "</table>\n",
       "</div>"
      ],
      "text/plain": [
       "   A  B\n",
       "2  3  7\n",
       "3  4  8\n",
       "5  8  3\n",
       "6  9  3"
      ]
     },
     "execution_count": 32,
     "metadata": {},
     "output_type": "execute_result"
    }
   ],
   "source": [
    "##query(): Filters data based on a query string.\n",
    "df = pd.DataFrame({'A': [1, 2, 3, 4,-1,8,9], 'B': [5, 6, 7, 8,7,3,3]})\n",
    "filtered_df = df.query('A > 2')\n",
    "filtered_df\n"
   ]
  },
  {
   "cell_type": "code",
   "execution_count": 33,
   "id": "0d527187",
   "metadata": {},
   "outputs": [
    {
     "data": {
      "text/html": [
       "<div>\n",
       "<style scoped>\n",
       "    .dataframe tbody tr th:only-of-type {\n",
       "        vertical-align: middle;\n",
       "    }\n",
       "\n",
       "    .dataframe tbody tr th {\n",
       "        vertical-align: top;\n",
       "    }\n",
       "\n",
       "    .dataframe thead th {\n",
       "        text-align: right;\n",
       "    }\n",
       "</style>\n",
       "<table border=\"1\" class=\"dataframe\">\n",
       "  <thead>\n",
       "    <tr style=\"text-align: right;\">\n",
       "      <th></th>\n",
       "      <th>A</th>\n",
       "      <th>B</th>\n",
       "    </tr>\n",
       "  </thead>\n",
       "  <tbody>\n",
       "    <tr>\n",
       "      <th>1</th>\n",
       "      <td>2</td>\n",
       "      <td>5</td>\n",
       "    </tr>\n",
       "  </tbody>\n",
       "</table>\n",
       "</div>"
      ],
      "text/plain": [
       "   A  B\n",
       "1  2  5"
      ]
     },
     "execution_count": 33,
     "metadata": {},
     "output_type": "execute_result"
    }
   ],
   "source": [
    "df = pd.DataFrame({'A': [1, 2, 3], 'B': [4, 5, 6]})\n",
    "filtered_df = df.query('A == 2 and B == 5')\n",
    "filtered_df"
   ]
  },
  {
   "cell_type": "code",
   "execution_count": 37,
   "id": "78fdb65b",
   "metadata": {},
   "outputs": [
    {
     "data": {
      "text/html": [
       "<div>\n",
       "<style scoped>\n",
       "    .dataframe tbody tr th:only-of-type {\n",
       "        vertical-align: middle;\n",
       "    }\n",
       "\n",
       "    .dataframe tbody tr th {\n",
       "        vertical-align: top;\n",
       "    }\n",
       "\n",
       "    .dataframe thead th {\n",
       "        text-align: right;\n",
       "    }\n",
       "</style>\n",
       "<table border=\"1\" class=\"dataframe\">\n",
       "  <thead>\n",
       "    <tr style=\"text-align: right;\">\n",
       "      <th></th>\n",
       "      <th>A</th>\n",
       "    </tr>\n",
       "  </thead>\n",
       "  <tbody>\n",
       "    <tr>\n",
       "      <th>0</th>\n",
       "      <td>[1, 2, 4]</td>\n",
       "    </tr>\n",
       "    <tr>\n",
       "      <th>1</th>\n",
       "      <td>[3, 4]</td>\n",
       "    </tr>\n",
       "    <tr>\n",
       "      <th>2</th>\n",
       "      <td>[5, 6]</td>\n",
       "    </tr>\n",
       "  </tbody>\n",
       "</table>\n",
       "</div>"
      ],
      "text/plain": [
       "           A\n",
       "0  [1, 2, 4]\n",
       "1     [3, 4]\n",
       "2     [5, 6]"
      ]
     },
     "execution_count": 37,
     "metadata": {},
     "output_type": "execute_result"
    }
   ],
   "source": [
    "## explode() : Explodes a list-like column into separate rows.\n",
    "df = pd.DataFrame({'A': [[1, 2,4], [3, 4], [5, 6]]})\n",
    "df"
   ]
  },
  {
   "cell_type": "code",
   "execution_count": 41,
   "id": "e3cc968b",
   "metadata": {},
   "outputs": [
    {
     "data": {
      "text/html": [
       "<div>\n",
       "<style scoped>\n",
       "    .dataframe tbody tr th:only-of-type {\n",
       "        vertical-align: middle;\n",
       "    }\n",
       "\n",
       "    .dataframe tbody tr th {\n",
       "        vertical-align: top;\n",
       "    }\n",
       "\n",
       "    .dataframe thead th {\n",
       "        text-align: right;\n",
       "    }\n",
       "</style>\n",
       "<table border=\"1\" class=\"dataframe\">\n",
       "  <thead>\n",
       "    <tr style=\"text-align: right;\">\n",
       "      <th></th>\n",
       "      <th>A</th>\n",
       "    </tr>\n",
       "  </thead>\n",
       "  <tbody>\n",
       "    <tr>\n",
       "      <th>0</th>\n",
       "      <td>[1]</td>\n",
       "    </tr>\n",
       "    <tr>\n",
       "      <th>1</th>\n",
       "      <td>[3, 4]</td>\n",
       "    </tr>\n",
       "    <tr>\n",
       "      <th>2</th>\n",
       "      <td>[5, 6, 7]</td>\n",
       "    </tr>\n",
       "  </tbody>\n",
       "</table>\n",
       "</div>"
      ],
      "text/plain": [
       "           A\n",
       "0        [1]\n",
       "1     [3, 4]\n",
       "2  [5, 6, 7]"
      ]
     },
     "execution_count": 41,
     "metadata": {},
     "output_type": "execute_result"
    }
   ],
   "source": [
    "df"
   ]
  },
  {
   "cell_type": "code",
   "execution_count": 40,
   "id": "a4a31641",
   "metadata": {},
   "outputs": [
    {
     "data": {
      "text/html": [
       "<div>\n",
       "<style scoped>\n",
       "    .dataframe tbody tr th:only-of-type {\n",
       "        vertical-align: middle;\n",
       "    }\n",
       "\n",
       "    .dataframe tbody tr th {\n",
       "        vertical-align: top;\n",
       "    }\n",
       "\n",
       "    .dataframe thead th {\n",
       "        text-align: right;\n",
       "    }\n",
       "</style>\n",
       "<table border=\"1\" class=\"dataframe\">\n",
       "  <thead>\n",
       "    <tr style=\"text-align: right;\">\n",
       "      <th></th>\n",
       "      <th>A</th>\n",
       "    </tr>\n",
       "  </thead>\n",
       "  <tbody>\n",
       "    <tr>\n",
       "      <th>0</th>\n",
       "      <td>1</td>\n",
       "    </tr>\n",
       "    <tr>\n",
       "      <th>1</th>\n",
       "      <td>3</td>\n",
       "    </tr>\n",
       "    <tr>\n",
       "      <th>1</th>\n",
       "      <td>4</td>\n",
       "    </tr>\n",
       "    <tr>\n",
       "      <th>2</th>\n",
       "      <td>5</td>\n",
       "    </tr>\n",
       "    <tr>\n",
       "      <th>2</th>\n",
       "      <td>6</td>\n",
       "    </tr>\n",
       "    <tr>\n",
       "      <th>2</th>\n",
       "      <td>7</td>\n",
       "    </tr>\n",
       "  </tbody>\n",
       "</table>\n",
       "</div>"
      ],
      "text/plain": [
       "   A\n",
       "0  1\n",
       "1  3\n",
       "1  4\n",
       "2  5\n",
       "2  6\n",
       "2  7"
      ]
     },
     "execution_count": 40,
     "metadata": {},
     "output_type": "execute_result"
    }
   ],
   "source": [
    "## explode() : Explodes a list-like column into separate rows.\n",
    "df = pd.DataFrame({'A': [[1], [3,4], [5, 6,7]]})\n",
    "\n",
    "exploded_df = df.explode('A')\n",
    "exploded_df"
   ]
  },
  {
   "cell_type": "markdown",
   "id": "dbf3caf6",
   "metadata": {},
   "source": [
    "## Case Study A: Sales Performance and Data Transformation in E-Commerce\n",
    "#### Key Plots:\n",
    "- Sales and Revenue by Category: Bar plot representing total sales and average revenue by each category.\n",
    "\n",
    "- Average Revenue by Region and Product: Bar plot for average revenue based on region and product.\n",
    "\n",
    "- Original vs Doubled Revenue: A comparison of the original and doubled revenue.\n",
    "\n",
    "- Transformed Sales, Revenue, and Discount: A line plot showing the numeric transformations.\n",
    "\n",
    "- Sales and Rolling Mean Sales: A line plot showing sales alongside a rolling mean.\n",
    "\n",
    "- Sales and Shifted Sales: Line plot comparing original and shifted sales.\n",
    "\n",
    "- Sales by Category After Merge: Bar plot showing the merged sales data grouped by category.\n",
    "\n",
    "- Exploded Product Distribution: Bar plot showing the distribution of exploded product lists.\n",
    "\n",
    "- Original vs Updated Age: Bar plot comparing the original and updated age columns.\n",
    "\n",
    "- Product Count by Region: A stacked bar plot showing counts of each product per region.\n",
    "\n",
    "- Daily Sales and Revenue: Line plot showing daily aggregated sales and revenue.\n",
    "\n",
    "- Discount after FillNA: Line plot showing how missing discount values were filled.\n",
    "\n",
    "- Sales by Category with Reset Index: Bar plot showing sales by category after resetting the index."
   ]
  },
  {
   "cell_type": "code",
   "execution_count": 42,
   "id": "7e5aec0e",
   "metadata": {},
   "outputs": [],
   "source": [
    "import pandas as pd\n",
    "import numpy as np\n",
    "import matplotlib.pyplot as plt\n",
    "import seaborn as sns\n",
    "\n",
    "\n",
    "df = pd.read_csv(\"sales_data.csv\")\n"
   ]
  },
  {
   "cell_type": "code",
   "execution_count": 46,
   "id": "aba99bd2",
   "metadata": {},
   "outputs": [
    {
     "name": "stdout",
     "output_type": "stream",
     "text": [
      "<class 'pandas.core.frame.DataFrame'>\n",
      "RangeIndex: 3000 entries, 0 to 2999\n",
      "Data columns (total 8 columns):\n",
      " #   Column    Non-Null Count  Dtype  \n",
      "---  ------    --------------  -----  \n",
      " 0   Category  3000 non-null   object \n",
      " 1   Sales     3000 non-null   int64  \n",
      " 2   Revenue   3000 non-null   float64\n",
      " 3   Discount  3000 non-null   float64\n",
      " 4   Age       3000 non-null   int64  \n",
      " 5   Region    3000 non-null   object \n",
      " 6   Product   3000 non-null   object \n",
      " 7   Date      3000 non-null   object \n",
      "dtypes: float64(2), int64(2), object(4)\n",
      "memory usage: 187.6+ KB\n"
     ]
    },
    {
     "data": {
      "text/plain": [
       "Category    0\n",
       "Sales       0\n",
       "Revenue     0\n",
       "Discount    0\n",
       "Age         0\n",
       "Region      0\n",
       "Product     0\n",
       "Date        0\n",
       "dtype: int64"
      ]
     },
     "execution_count": 46,
     "metadata": {},
     "output_type": "execute_result"
    }
   ],
   "source": [
    "df.head(3)\n",
    "df.shape\n",
    "df.info()\n",
    "df.isnull().sum()"
   ]
  },
  {
   "cell_type": "code",
   "execution_count": 47,
   "id": "af9c2201",
   "metadata": {},
   "outputs": [
    {
     "data": {
      "text/html": [
       "<div>\n",
       "<style scoped>\n",
       "    .dataframe tbody tr th:only-of-type {\n",
       "        vertical-align: middle;\n",
       "    }\n",
       "\n",
       "    .dataframe tbody tr th {\n",
       "        vertical-align: top;\n",
       "    }\n",
       "\n",
       "    .dataframe thead th {\n",
       "        text-align: right;\n",
       "    }\n",
       "</style>\n",
       "<table border=\"1\" class=\"dataframe\">\n",
       "  <thead>\n",
       "    <tr style=\"text-align: right;\">\n",
       "      <th></th>\n",
       "      <th>Category</th>\n",
       "      <th>Sales</th>\n",
       "      <th>Revenue</th>\n",
       "      <th>Discount</th>\n",
       "      <th>Age</th>\n",
       "      <th>Region</th>\n",
       "      <th>Product</th>\n",
       "      <th>Date</th>\n",
       "    </tr>\n",
       "  </thead>\n",
       "  <tbody>\n",
       "    <tr>\n",
       "      <th>0</th>\n",
       "      <td>D</td>\n",
       "      <td>3658</td>\n",
       "      <td>1998.012319</td>\n",
       "      <td>0.406108</td>\n",
       "      <td>49</td>\n",
       "      <td>East</td>\n",
       "      <td>P1</td>\n",
       "      <td>2023-09-18 15:00:00</td>\n",
       "    </tr>\n",
       "    <tr>\n",
       "      <th>1</th>\n",
       "      <td>E</td>\n",
       "      <td>4500</td>\n",
       "      <td>3189.885959</td>\n",
       "      <td>0.242505</td>\n",
       "      <td>55</td>\n",
       "      <td>East</td>\n",
       "      <td>P2</td>\n",
       "      <td>2023-01-10 22:00:00</td>\n",
       "    </tr>\n",
       "    <tr>\n",
       "      <th>2</th>\n",
       "      <td>C</td>\n",
       "      <td>1374</td>\n",
       "      <td>2097.538421</td>\n",
       "      <td>0.209633</td>\n",
       "      <td>20</td>\n",
       "      <td>North</td>\n",
       "      <td>P2</td>\n",
       "      <td>2023-05-14 23:00:00</td>\n",
       "    </tr>\n",
       "    <tr>\n",
       "      <th>3</th>\n",
       "      <td>E</td>\n",
       "      <td>3120</td>\n",
       "      <td>4606.332021</td>\n",
       "      <td>0.420466</td>\n",
       "      <td>33</td>\n",
       "      <td>West</td>\n",
       "      <td>P4</td>\n",
       "      <td>2023-11-11 05:00:00</td>\n",
       "    </tr>\n",
       "    <tr>\n",
       "      <th>4</th>\n",
       "      <td>E</td>\n",
       "      <td>3021</td>\n",
       "      <td>1860.817919</td>\n",
       "      <td>0.250872</td>\n",
       "      <td>37</td>\n",
       "      <td>West</td>\n",
       "      <td>P4</td>\n",
       "      <td>2023-06-01 23:00:00</td>\n",
       "    </tr>\n",
       "    <tr>\n",
       "      <th>...</th>\n",
       "      <td>...</td>\n",
       "      <td>...</td>\n",
       "      <td>...</td>\n",
       "      <td>...</td>\n",
       "      <td>...</td>\n",
       "      <td>...</td>\n",
       "      <td>...</td>\n",
       "      <td>...</td>\n",
       "    </tr>\n",
       "    <tr>\n",
       "      <th>2995</th>\n",
       "      <td>D</td>\n",
       "      <td>3966</td>\n",
       "      <td>2926.356561</td>\n",
       "      <td>0.397092</td>\n",
       "      <td>39</td>\n",
       "      <td>South</td>\n",
       "      <td>P3</td>\n",
       "      <td>2023-01-17 01:00:00</td>\n",
       "    </tr>\n",
       "    <tr>\n",
       "      <th>2996</th>\n",
       "      <td>E</td>\n",
       "      <td>3053</td>\n",
       "      <td>3722.267365</td>\n",
       "      <td>0.265723</td>\n",
       "      <td>29</td>\n",
       "      <td>North</td>\n",
       "      <td>P3</td>\n",
       "      <td>2023-04-28 09:00:00</td>\n",
       "    </tr>\n",
       "    <tr>\n",
       "      <th>2997</th>\n",
       "      <td>C</td>\n",
       "      <td>1287</td>\n",
       "      <td>4435.366334</td>\n",
       "      <td>0.289428</td>\n",
       "      <td>49</td>\n",
       "      <td>North</td>\n",
       "      <td>P3</td>\n",
       "      <td>2023-11-06 10:00:00</td>\n",
       "    </tr>\n",
       "    <tr>\n",
       "      <th>2998</th>\n",
       "      <td>B</td>\n",
       "      <td>2641</td>\n",
       "      <td>3515.492578</td>\n",
       "      <td>0.264501</td>\n",
       "      <td>44</td>\n",
       "      <td>East</td>\n",
       "      <td>P4</td>\n",
       "      <td>2023-10-24 11:00:00</td>\n",
       "    </tr>\n",
       "    <tr>\n",
       "      <th>2999</th>\n",
       "      <td>D</td>\n",
       "      <td>4217</td>\n",
       "      <td>4051.391609</td>\n",
       "      <td>0.471977</td>\n",
       "      <td>50</td>\n",
       "      <td>South</td>\n",
       "      <td>P1</td>\n",
       "      <td>2023-01-11 19:00:00</td>\n",
       "    </tr>\n",
       "  </tbody>\n",
       "</table>\n",
       "<p>3000 rows × 8 columns</p>\n",
       "</div>"
      ],
      "text/plain": [
       "     Category  Sales      Revenue  Discount  Age Region Product  \\\n",
       "0           D   3658  1998.012319  0.406108   49   East      P1   \n",
       "1           E   4500  3189.885959  0.242505   55   East      P2   \n",
       "2           C   1374  2097.538421  0.209633   20  North      P2   \n",
       "3           E   3120  4606.332021  0.420466   33   West      P4   \n",
       "4           E   3021  1860.817919  0.250872   37   West      P4   \n",
       "...       ...    ...          ...       ...  ...    ...     ...   \n",
       "2995        D   3966  2926.356561  0.397092   39  South      P3   \n",
       "2996        E   3053  3722.267365  0.265723   29  North      P3   \n",
       "2997        C   1287  4435.366334  0.289428   49  North      P3   \n",
       "2998        B   2641  3515.492578  0.264501   44   East      P4   \n",
       "2999        D   4217  4051.391609  0.471977   50  South      P1   \n",
       "\n",
       "                     Date  \n",
       "0     2023-09-18 15:00:00  \n",
       "1     2023-01-10 22:00:00  \n",
       "2     2023-05-14 23:00:00  \n",
       "3     2023-11-11 05:00:00  \n",
       "4     2023-06-01 23:00:00  \n",
       "...                   ...  \n",
       "2995  2023-01-17 01:00:00  \n",
       "2996  2023-04-28 09:00:00  \n",
       "2997  2023-11-06 10:00:00  \n",
       "2998  2023-10-24 11:00:00  \n",
       "2999  2023-01-11 19:00:00  \n",
       "\n",
       "[3000 rows x 8 columns]"
      ]
     },
     "execution_count": 47,
     "metadata": {},
     "output_type": "execute_result"
    }
   ],
   "source": [
    "df"
   ]
  },
  {
   "cell_type": "code",
   "execution_count": 51,
   "id": "d3b17f2a",
   "metadata": {},
   "outputs": [
    {
     "data": {
      "text/html": [
       "<div>\n",
       "<style scoped>\n",
       "    .dataframe tbody tr th:only-of-type {\n",
       "        vertical-align: middle;\n",
       "    }\n",
       "\n",
       "    .dataframe tbody tr th {\n",
       "        vertical-align: top;\n",
       "    }\n",
       "\n",
       "    .dataframe thead th {\n",
       "        text-align: right;\n",
       "    }\n",
       "</style>\n",
       "<table border=\"1\" class=\"dataframe\">\n",
       "  <thead>\n",
       "    <tr style=\"text-align: right;\">\n",
       "      <th></th>\n",
       "      <th>Sales</th>\n",
       "      <th>Revenue</th>\n",
       "    </tr>\n",
       "    <tr>\n",
       "      <th>Category</th>\n",
       "      <th></th>\n",
       "      <th></th>\n",
       "    </tr>\n",
       "  </thead>\n",
       "  <tbody>\n",
       "    <tr>\n",
       "      <th>A</th>\n",
       "      <td>3086.291262</td>\n",
       "      <td>2903.066159</td>\n",
       "    </tr>\n",
       "    <tr>\n",
       "      <th>B</th>\n",
       "      <td>3058.609589</td>\n",
       "      <td>2929.429061</td>\n",
       "    </tr>\n",
       "    <tr>\n",
       "      <th>C</th>\n",
       "      <td>3045.134513</td>\n",
       "      <td>3036.845298</td>\n",
       "    </tr>\n",
       "    <tr>\n",
       "      <th>D</th>\n",
       "      <td>2996.943548</td>\n",
       "      <td>2981.734454</td>\n",
       "    </tr>\n",
       "    <tr>\n",
       "      <th>E</th>\n",
       "      <td>3034.130506</td>\n",
       "      <td>2978.068658</td>\n",
       "    </tr>\n",
       "  </tbody>\n",
       "</table>\n",
       "</div>"
      ],
      "text/plain": [
       "                Sales      Revenue\n",
       "Category                          \n",
       "A         3086.291262  2903.066159\n",
       "B         3058.609589  2929.429061\n",
       "C         3045.134513  3036.845298\n",
       "D         2996.943548  2981.734454\n",
       "E         3034.130506  2978.068658"
      ]
     },
     "execution_count": 51,
     "metadata": {},
     "output_type": "execute_result"
    }
   ],
   "source": [
    "## Mean of Sales and mean of Revenue category wise\n",
    "grouped = df.groupby('Category').agg({'Sales': 'mean', 'Revenue': 'mean'})\n",
    "grouped"
   ]
  },
  {
   "cell_type": "code",
   "execution_count": 52,
   "id": "e04a5bbf",
   "metadata": {},
   "outputs": [
    {
     "data": {
      "image/png": "[encoded data removed]",
      "text/plain": [
       "<Figure size 1500x800 with 1 Axes>"
      ]
     },
     "metadata": {},
     "output_type": "display_data"
    }
   ],
   "source": [
    "# Plotting the grouped data\n",
    "grouped.plot(kind='bar', figsize=(15, 8), title='Sales and Revenue by Category')\n",
    "plt.ylabel('Value')\n",
    "plt.show()"
   ]
  },
  {
   "cell_type": "code",
   "execution_count": 53,
   "id": "a5ca1126",
   "metadata": {},
   "outputs": [
    {
     "data": {
      "text/html": [
       "<div>\n",
       "<style scoped>\n",
       "    .dataframe tbody tr th:only-of-type {\n",
       "        vertical-align: middle;\n",
       "    }\n",
       "\n",
       "    .dataframe tbody tr th {\n",
       "        vertical-align: top;\n",
       "    }\n",
       "\n",
       "    .dataframe thead th {\n",
       "        text-align: right;\n",
       "    }\n",
       "</style>\n",
       "<table border=\"1\" class=\"dataframe\">\n",
       "  <thead>\n",
       "    <tr style=\"text-align: right;\">\n",
       "      <th>Product</th>\n",
       "      <th>P1</th>\n",
       "      <th>P2</th>\n",
       "      <th>P3</th>\n",
       "      <th>P4</th>\n",
       "    </tr>\n",
       "    <tr>\n",
       "      <th>Region</th>\n",
       "      <th></th>\n",
       "      <th></th>\n",
       "      <th></th>\n",
       "      <th></th>\n",
       "    </tr>\n",
       "  </thead>\n",
       "  <tbody>\n",
       "    <tr>\n",
       "      <th>East</th>\n",
       "      <td>2929.277840</td>\n",
       "      <td>2929.695605</td>\n",
       "      <td>2960.399246</td>\n",
       "      <td>2930.142573</td>\n",
       "    </tr>\n",
       "    <tr>\n",
       "      <th>North</th>\n",
       "      <td>2971.332736</td>\n",
       "      <td>2940.567089</td>\n",
       "      <td>3001.492477</td>\n",
       "      <td>2835.852935</td>\n",
       "    </tr>\n",
       "    <tr>\n",
       "      <th>South</th>\n",
       "      <td>3056.555030</td>\n",
       "      <td>3053.040578</td>\n",
       "      <td>2885.479102</td>\n",
       "      <td>3015.306485</td>\n",
       "    </tr>\n",
       "    <tr>\n",
       "      <th>West</th>\n",
       "      <td>3022.896078</td>\n",
       "      <td>2942.338102</td>\n",
       "      <td>3026.742073</td>\n",
       "      <td>2971.757089</td>\n",
       "    </tr>\n",
       "  </tbody>\n",
       "</table>\n",
       "</div>"
      ],
      "text/plain": [
       "Product           P1           P2           P3           P4\n",
       "Region                                                     \n",
       "East     2929.277840  2929.695605  2960.399246  2930.142573\n",
       "North    2971.332736  2940.567089  3001.492477  2835.852935\n",
       "South    3056.555030  3053.040578  2885.479102  3015.306485\n",
       "West     3022.896078  2942.338102  3026.742073  2971.757089"
      ]
     },
     "execution_count": 53,
     "metadata": {},
     "output_type": "execute_result"
    }
   ],
   "source": [
    "# 2. **`pivot_table()`** - Pivot by Region and Product\n",
    "pivot_table = df.pivot_table(values='Revenue', index='Region', columns='Product', aggfunc='mean')\n",
    "pivot_table\n"
   ]
  },
  {
   "cell_type": "code",
   "execution_count": 55,
   "id": "7c9dec48",
   "metadata": {},
   "outputs": [
    {
     "data": {
      "image/png": "[encoded data removed]",
      "text/plain": [
       "<Figure size 1100x600 with 1 Axes>"
      ]
     },
     "metadata": {},
     "output_type": "display_data"
    }
   ],
   "source": [
    "# Plotting the pivot table\n",
    "pivot_table.plot(kind='bar', figsize=(11, 6), title='Average Revenue by Region and Product')\n",
    "plt.ylabel('Average Revenue')\n",
    "plt.show()\n"
   ]
  },
  {
   "cell_type": "code",
   "execution_count": 56,
   "id": "81373751",
   "metadata": {},
   "outputs": [
    {
     "name": "stdout",
     "output_type": "stream",
     "text": [
      "       Revenue  Revenue_Doubled\n",
      "0  1998.012319      3996.024637\n",
      "1  3189.885959      6379.771919\n",
      "2  2097.538421      4195.076842\n",
      "3  4606.332021      9212.664042\n",
      "4  1860.817919      3721.635838\n"
     ]
    }
   ],
   "source": [
    "# 3. **`apply()`** - Apply function to double Revenue\n",
    "df['Revenue_Doubled'] = df['Revenue'].apply(lambda x: x * 2)\n",
    "print(df[['Revenue', 'Revenue_Doubled']].head())"
   ]
  },
  {
   "cell_type": "code",
   "execution_count": 57,
   "id": "5742e553",
   "metadata": {},
   "outputs": [
    {
     "data": {
      "image/png": "[encoded data removed]",
      "text/plain": [
       "<Figure size 1000x600 with 1 Axes>"
      ]
     },
     "metadata": {},
     "output_type": "display_data"
    }
   ],
   "source": [
    "# Plotting the doubled revenue\n",
    "df[['Revenue', 'Revenue_Doubled']].head(10).plot(kind='bar', figsize=(10, 6), title='Original and Doubled Revenue')\n",
    "plt.ylabel('Revenue')\n",
    "plt.show()\n"
   ]
  },
  {
   "cell_type": "code",
   "execution_count": 58,
   "id": "4b0cf3e3",
   "metadata": {},
   "outputs": [
    {
     "name": "stdout",
     "output_type": "stream",
     "text": [
      "   Sales      Revenue  Discount\n",
      "0   7316  3996.024637  0.812216\n",
      "1   9000  6379.771919  0.485009\n",
      "2   2748  4195.076842  0.419267\n",
      "3   6240  9212.664042  0.840931\n",
      "4   6042  3721.635838  0.501743\n"
     ]
    }
   ],
   "source": [
    "# 4. **`applymap()`** - Apply function to all numeric columns\n",
    "df_numeric = df[['Sales', 'Revenue', 'Discount']].applymap(lambda x: x * 2)\n",
    "print(df_numeric.head())"
   ]
  },
  {
   "cell_type": "code",
   "execution_count": 59,
   "id": "d6376fc8",
   "metadata": {},
   "outputs": [
    {
     "data": {
      "image/png": "[encoded data removed]",
      "text/plain": [
       "<Figure size 1000x600 with 1 Axes>"
      ]
     },
     "metadata": {},
     "output_type": "display_data"
    }
   ],
   "source": [
    "# Plotting the transformed numeric data\n",
    "df_numeric.head(10).plot(kind='line', figsize=(10, 6), title='Transformed Sales, Revenue, and Discount')\n",
    "plt.ylabel('Transformed Value')\n",
    "plt.show()"
   ]
  },
  {
   "cell_type": "code",
   "execution_count": null,
   "id": "3a114312",
   "metadata": {},
   "outputs": [],
   "source": [
    "\n",
    "\n",
    "# 5. **`rolling()`** - Calculate rolling mean of Sales\n",
    "df['Rolling_Mean_Sales'] = df['Sales'].rolling(window=10).mean()\n",
    "print(df[['Sales', 'Rolling_Mean_Sales']].head())\n",
    "\n",
    "# Plotting the rolling mean of sales\n",
    "df[['Sales', 'Rolling_Mean_Sales']].head(100).plot(figsize=(10, 6), title='Sales and Rolling Mean Sales')\n",
    "plt.ylabel('Sales')\n",
    "plt.show()\n",
    "\n",
    "# 6. **`shift()`** - Shift the Sales column\n",
    "df['Sales_Shifted'] = df['Sales'].shift(1)\n",
    "print(df[['Sales', 'Sales_Shifted']].head())\n",
    "\n",
    "# Plotting the sales and shifted sales\n",
    "df[['Sales', 'Sales_Shifted']].head(100).plot(figsize=(10, 6), title='Sales and Shifted Sales')\n",
    "plt.ylabel('Sales')\n",
    "plt.show()\n",
    "\n",
    "# 7. **`merge()`** - Merge with a small dataframe\n",
    "small_df = pd.DataFrame({\n",
    "    'Category': ['A', 'B', 'C'],\n",
    "    'Region': ['East', 'North', 'South'],\n",
    "    'Product': ['P1', 'P2', 'P3']\n",
    "})\n",
    "merged_df = pd.merge(df, small_df, on='Category', how='left')\n",
    "print(merged_df.head())\n",
    "\n",
    "# Plotting the merged data\n",
    "merged_df[['Category', 'Sales']].groupby('Category').sum().plot(kind='bar', figsize=(10, 6), title='Merged Data Sales by Category')\n",
    "plt.ylabel('Sales')\n",
    "plt.show()\n",
    "\n",
    "# 8. **`explode()`** - Explode the list of products into separate rows\n",
    "df['Product_List'] = df['Product'].apply(lambda x: [x, f\"{x}2\", f\"{x}3\"])\n",
    "exploded_df = df.explode('Product_List')\n",
    "print(exploded_df[['Product', 'Product_List']].head())\n",
    "\n",
    "# Plotting exploded product distribution\n",
    "exploded_df['Product_List'].value_counts().plot(kind='bar', figsize=(10, 6), title='Product List Exploded Distribution')\n",
    "plt.ylabel('Count')\n",
    "plt.show()\n",
    "\n",
    "# 9. **`pipe()`** - Apply a transformation function to age\n",
    "def add_years(df, years=5):\n",
    "    df['Age_Updated'] = df['Age'] + years\n",
    "    return df\n",
    "\n",
    "df = df.pipe(add_years, years=5)\n",
    "print(df[['Age', 'Age_Updated']].head())\n",
    "\n",
    "# Plotting updated ages\n",
    "df[['Age', 'Age_Updated']].head(10).plot(kind='bar', figsize=(10, 6), title='Original and Updated Age')\n",
    "plt.ylabel('Age')\n",
    "plt.show()\n",
    "\n",
    "# 10. **`crosstab()`** - Cross-tabulation of Region and Product\n",
    "crosstab = pd.crosstab(df['Region'], df['Product'])\n",
    "print(crosstab)\n",
    "\n",
    "# Plotting crosstab data\n",
    "crosstab.plot(kind='bar', stacked=True, figsize=(10, 6), title='Product Count by Region')\n",
    "plt.ylabel('Count')\n",
    "plt.show()\n",
    "\n",
    "# 11. **`resample()`** - Resample data by day and sum sales and revenue\n",
    "df['Date'] = pd.to_datetime(df['Date'])\n",
    "df.set_index('Date', inplace=True)\n",
    "resampled_df = df.resample('D').sum()\n",
    "print(resampled_df[['Sales', 'Revenue']].head())\n",
    "\n",
    "# Plotting resampled data (daily sales and revenue)\n",
    "resampled_df[['Sales', 'Revenue']].head(30).plot(figsize=(10, 6), title='Daily Sales and Revenue')\n",
    "plt.ylabel('Value')\n",
    "plt.show()\n",
    "\n",
    "# 12. **`fillna()`** - Fill missing values in Discount column\n",
    "df['Discount'].iloc[::10] = np.nan  # Introducing NaNs for demonstration\n",
    "df['Discount'] = df['Discount'].fillna(df['Discount'].mean())\n",
    "print(df[['Discount']].head())\n",
    "\n",
    "# Plotting filled discount values\n",
    "df['Discount'].head(50).plot(kind='line', figsize=(10, 6), title='Discount after FillNA')\n",
    "plt.ylabel('Discount')\n",
    "plt.show()\n",
    "\n",
    "# 13. **`reset_index()`** - Resetting the index of the DataFrame\n",
    "df_reset = df.reset_index()\n",
    "print(df_reset.head())\n",
    "\n",
    "# Plotting data with reset index\n",
    "df_reset[['Category', 'Sales']].groupby('Category').sum().plot(kind='bar', figsize=(10, 6), title='Sales by Category with Reset Index')\n",
    "plt.ylabel('Sales')\n",
    "plt.show()\n"
   ]
  },
  {
   "cell_type": "markdown",
   "id": "9a986287",
   "metadata": {},
   "source": [
    "### Insights:\n",
    "GroupBy gives aggregate metrics.\n",
    "\n",
    "Pivot tables help in aggregating data based on multiple variables.\n",
    "\n",
    "Apply and ApplyMap allow for custom transformations of entire columns or the whole DataFrame.\n",
    "\n",
    "Rolling and Shift are great for calculating trends and previous values.\n",
    "\n",
    "Merge, Explode, and Pipe allow for complex data transformations.\n",
    "\n",
    "Cross-tab helps in comparing two categorical features.\n",
    "\n",
    "Resampling and FillNA ensure handling time series data and missing values."
   ]
  },
  {
   "cell_type": "code",
   "execution_count": null,
   "id": "0974df77",
   "metadata": {},
   "outputs": [],
   "source": []
  }
 ],
 "metadata": {
  "kernelspec": {
   "display_name": "Python 3 (ipykernel)",
   "language": "python",
   "name": "python3"
  },
  "language_info": {
   "codemirror_mode": {
    "name": "ipython",
    "version": 3
   },
   "file_extension": ".py",
   "mimetype": "text/x-python",
   "name": "python",
   "nbconvert_exporter": "python",
   "pygments_lexer": "ipython3",
   "version": "3.11.5"
  }
 },
 "nbformat": 4,
 "nbformat_minor": 5
}
