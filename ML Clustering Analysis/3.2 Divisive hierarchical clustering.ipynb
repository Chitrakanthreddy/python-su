{
 "cells": [
  {
   "cell_type": "markdown",
   "id": "93c62eb9",
   "metadata": {},
   "source": [
    "### Divisive hierarchical clustering is less commonly used compared to agglomerative clustering, and it’s not directly supported by many popular libraries. However, you can implement it manually. Here’s a simple example using Python:\n",
    "\n",
    "#### Steps for Divisive Clustering\n",
    "- Start with all data points in a single cluster.\n",
    "- At each step, split the largest cluster into two smaller clusters.\n",
    "- Continue splitting until the desired number of clusters is reached"
   ]
  },
  {
   "cell_type": "code",
   "execution_count": 2,
   "id": "a588b736",
   "metadata": {},
   "outputs": [
    {
     "data": {
      "image/png": "[encoded data removed]",
      "text/plain": [
       "<Figure size 720x504 with 1 Axes>"
      ]
     },
     "metadata": {
      "needs_background": "light"
     },
     "output_type": "display_data"
    },
    {
     "name": "stdout",
     "output_type": "stream",
     "text": [
      "Cluster labels: [0 0 0 0 0 0 0 0 0 0 0 1 1 1 1 1 1 2 2 2 2 2 2 3 3 3 3 3 3 3]\n"
     ]
    }
   ],
   "source": [
    "## For simplicity, we'll use a basic approach where we split clusters using k-means clustering at each step.\n",
    "import numpy as np\n",
    "import matplotlib.pyplot as plt\n",
    "from sklearn.cluster import KMeans\n",
    "from sklearn.metrics import pairwise_distances_argmin_min\n",
    "from scipy.spatial.distance import cdist\n",
    "\n",
    "def divisive_clustering(X, n_clusters):\n",
    "    # Start with all points in one cluster\n",
    "    clusters = [X]\n",
    "    \n",
    "    # Continue splitting until we have the desired number of clusters\n",
    "    while len(clusters) < n_clusters:\n",
    "        # Find the cluster with the largest number of points\n",
    "        largest_cluster = max(clusters, key=len)\n",
    "        clusters.remove(largest_cluster)\n",
    "        \n",
    "        # Perform k-means clustering on the largest cluster\n",
    "        kmeans = KMeans(n_clusters=2, random_state=42)\n",
    "        labels = kmeans.fit_predict(largest_cluster)\n",
    "        \n",
    "        # Split the largest cluster into two clusters\n",
    "        cluster_1 = largest_cluster[labels == 0]\n",
    "        cluster_2 = largest_cluster[labels == 1]\n",
    "        \n",
    "        # Add the new clusters back to the list\n",
    "        clusters.append(cluster_1)\n",
    "        clusters.append(cluster_2)\n",
    "    \n",
    "    # Combine all points into a single array with cluster labels\n",
    "    all_points = np.vstack(clusters)\n",
    "    labels = np.concatenate([np.full(len(cluster), i) for i, cluster in enumerate(clusters)])\n",
    "    \n",
    "    return all_points, labels\n",
    "\n",
    "# Example dataset\n",
    "np.random.seed(42)\n",
    "X = np.random.rand(30, 2)  # 30 points in 2D space\n",
    "\n",
    "# Perform divisive clustering\n",
    "n_clusters = 4  # Number of desired clusters\n",
    "X_clustered, labels = divisive_clustering(X, n_clusters)\n",
    "\n",
    "# Plot the results\n",
    "plt.figure(figsize=(10, 7))\n",
    "plt.scatter(X[:, 0], X[:, 1], c=labels, cmap='viridis')\n",
    "plt.title(f\"Divisive Clustering with {n_clusters} Clusters\")\n",
    "plt.xlabel(\"Feature 1\")\n",
    "plt.ylabel(\"Feature 2\")\n",
    "plt.show()\n",
    "\n",
    "print(\"Cluster labels:\", labels)\n"
   ]
  },
  {
   "cell_type": "markdown",
   "id": "6be8c45b",
   "metadata": {},
   "source": [
    "### Explanation\n",
    "- divisive_clustering function: This function performs divisive clustering by repeatedly splitting the largest cluster into two smaller clusters until the desired number of clusters is reached.\n",
    "- KMeans: Used to split the largest cluster into two clusters at each step.\n",
    "- Combining results: All clusters are combined into one array, and labels are assigned to each data point.\n",
    "\n",
    "##### This approach is a basic implementation of divisive clustering and may not be the most efficient for large datasets. For more complex needs, you might need a more sophisticated algorithm or library"
   ]
  }
 ],
 "metadata": {
  "kernelspec": {
   "display_name": "Python 3 (ipykernel)",
   "language": "python",
   "name": "python3"
  },
  "language_info": {
   "codemirror_mode": {
    "name": "ipython",
    "version": 3
   },
   "file_extension": ".py",
   "mimetype": "text/x-python",
   "name": "python",
   "nbconvert_exporter": "python",
   "pygments_lexer": "ipython3",
   "version": "3.9.12"
  }
 },
 "nbformat": 4,
 "nbformat_minor": 5
}
