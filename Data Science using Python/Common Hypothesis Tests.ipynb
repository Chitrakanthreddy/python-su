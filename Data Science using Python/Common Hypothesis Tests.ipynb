{
 "cells": [
  {
   "cell_type": "markdown",
   "id": "1e6af216",
   "metadata": {},
   "source": [
    "## Common Hypothesis Tests:\n",
    "\n",
    "## Hypothesis Testing:\n",
    "- Definition: Hypothesis testing is a statistical method used to make inferences about a population based on sample data.\n",
    "- Purpose: It helps determine whether there is enough evidence to reject a null hypothesis in favor of an alternative hypothesis.\n",
    "## Steps:\n",
    "- Formulate hypotheses: Null hypothesis (H0) assumes no effect or no difference, while the alternative hypothesis (H1) assumes an effect or difference.\n",
    "- Select a significance level (α): This represents the probability of rejecting the null hypothesis when it's actually true.\n",
    "- Collect and analyze data: Use sample data to compute a test statistic.\n",
    "- Make a decision: Compare the test statistic to a critical value or p-value to determine whether to reject the null hypothesis.\n",
    "- Draw conclusions: Based on the decision, either reject or fail to reject the null hypothesis and interpret the results accordingly.\n",
    "\n",
    "\n",
    "### In hypothesis testing, the p-value represents the probability of observing a test statistic as extreme as, or more extreme than, the one actually observed under the assumption that the null hypothesis is true. In other words, it indicates the probability of obtaining the observed data if the null hypothesis is correct.\n",
    "#### The significance of the p-value lies in its role in decision-making during hypothesis testing:\n",
    "\n",
    "Comparing with significance level (α): Typically, a significance level (α) is chosen before conducting the test. Common values for α are 0.05 or 0.01. If the p-value is less than or equal to the significance level (p ≤ α), then we reject the null hypothesis. This implies that the observed data is considered statistically significant, suggesting that the null hypothesis is unlikely to be true.\n",
    "\n",
    "- Interpretation:\n",
    "If the p-value is very small (e.g., p < 0.05), it suggests strong evidence against the null hypothesis, indicating that the observed effect is unlikely to be due to random chance alone.\n",
    "If the p-value is larger than the chosen significance level (e.g., p > 0.05), it suggests that the observed effect could plausibly occur due to random variability, and we fail to reject the null hypothesis.\n",
    "\n",
    "- Decision-making:\n",
    "When the p-value is less than the significance level, we typically reject the null hypothesis in favor of the alternative hypothesis, concluding that there is sufficient evidence to support the claim or hypothesis being tested.\n",
    "When the p-value is greater than the significance level, we fail to reject the null hypothesis, indicating that there is not enough evidence to support the alternative hypothesis.\n",
    "### T-Test:\n",
    "- Purpose: Used to determine if there is a significant difference between the means of two groups. Types: Independent t-test (for comparing means of two independent groups) and paired t-test (for comparing means of two related groups).\n"
   ]
  },
  {
   "cell_type": "code",
   "execution_count": null,
   "id": "895ecaf3",
   "metadata": {},
   "outputs": [],
   "source": [
    "import statistics\n",
    "\n",
    "data = [1, 2, 3, 4, 5, 6, 7, 8, 9, 10]\n",
    "\n",
    "# Example of a t-test\n",
    "sample_mean = 5.5  # Mean of the sample\n",
    "pop_mean = 5      # Population mean\n",
    "sample_std_dev = statistics.stdev(data)  # Standard deviation of the sample\n",
    "sample_size = len(data)  # Sample size\n",
    "\n",
    "t_statistic = (sample_mean - pop_mean) / (sample_std_dev / (sample_size ** 0.5))\n",
    "\n",
    "print(\"t-statistic:\", t_statistic)"
   ]
  },
  {
   "cell_type": "markdown",
   "id": "663738ea",
   "metadata": {},
   "source": [
    "### T-Test Implementation\n",
    "- We'll have two groups, 'control' and 'treatment', with their respective data.\n",
    "- The data represents the scores of participants in a control group and a treatment group"
   ]
  },
  {
   "cell_type": "code",
   "execution_count": 1,
   "id": "a0420389",
   "metadata": {},
   "outputs": [],
   "source": [
    "control_group = [85, 88, 82, 90, 89, 87, 92, 86, 88, 84]\n",
    "treatment_group = [91, 92, 93, 95, 88, 90, 94, 92, 89, 93]\n"
   ]
  },
  {
   "cell_type": "code",
   "execution_count": 3,
   "id": "143e237b",
   "metadata": {},
   "outputs": [
    {
     "name": "stdout",
     "output_type": "stream",
     "text": [
      "T-Test Results:\n",
      "T-Statistic: -3.934835044734194\n",
      "P-Value: 0.0009710394539475604\n",
      "Reject the null hypothesis: There is a significant difference between the means of the two groups.\n"
     ]
    }
   ],
   "source": [
    "from scipy.stats import ttest_ind\n",
    "\n",
    "# Perform independent t-test\n",
    "t_statistic, p_value = ttest_ind(control_group, treatment_group)\n",
    "\n",
    "# Print results\n",
    "print(\"T-Test Results:\")\n",
    "print(\"T-Statistic:\", t_statistic)\n",
    "print(\"P-Value:\", p_value)\n",
    "\n",
    "# Interpret results\n",
    "alpha = 0.05\n",
    "if p_value < alpha:\n",
    "    print(\"Reject the null hypothesis: There is a significant difference between the means of the two groups.\")\n",
    "else:\n",
    "    print(\"Fail to reject the null hypothesis: There is no significant difference between the means of the two groups.\")\n"
   ]
  },
  {
   "cell_type": "markdown",
   "id": "e305953e",
   "metadata": {},
   "source": [
    "### Chi-Square Test:\n",
    "\n",
    "The Chi-Square Test determines if there's a significant association between categorical variables by comparing observed and expected frequencies. It assesses whether the observed distribution differs from what would be expected by chance alone. Calculating a test statistic, typically Chi-Square (χ²), and comparing it to critical values or obtaining a p-value helps make the decision. If the statistic exceeds critical values or has a p-value below a chosen significance level (e.g., α = 0.05), the null hypothesis is rejected, suggesting a significant association. Otherwise, the null hypothesis is not rejected, indicating no significant association.\n",
    "## Example: \n",
    "- We'll have two categorical variables, 'gender' and 'smoking status', with their respective counts.\n",
    "- The data represents the counts of individuals categorized by gender and smoking status."
   ]
  },
  {
   "cell_type": "code",
   "execution_count": null,
   "id": "e0b710a0",
   "metadata": {},
   "outputs": [],
   "source": [
    "import numpy as np\n",
    "\n",
    "gender = ['Male', 'Female']\n",
    "smoking_status = ['Smoker', 'Non-Smoker']\n",
    "observed_counts = np.array([[30, 70], [40, 60]])  # Counts for gender and smoking status\n"
   ]
  },
  {
   "cell_type": "code",
   "execution_count": 4,
   "id": "0ac69971",
   "metadata": {},
   "outputs": [
    {
     "name": "stdout",
     "output_type": "stream",
     "text": [
      "\n",
      "Chi-Square Test Results:\n",
      "Chi-Square Statistic: 1.7802197802197803\n",
      "P-Value: 0.18212234100949093\n",
      "Fail to reject the null hypothesis: There is no significant association between gender and smoking status.\n"
     ]
    }
   ],
   "source": [
    "from scipy.stats import chi2_contingency\n",
    "\n",
    "# Perform chi-square test\n",
    "chi2_statistic, p_value, dof, expected = chi2_contingency(observed_counts)\n",
    "\n",
    "# Print results\n",
    "print(\"\\nChi-Square Test Results:\")\n",
    "print(\"Chi-Square Statistic:\", chi2_statistic)\n",
    "print(\"P-Value:\", p_value)\n",
    "\n",
    "# Interpret results\n",
    "if p_value < alpha:\n",
    "    print(\"Reject the null hypothesis: There is a significant association between gender and smoking status.\")\n",
    "else:\n",
    "    print(\"Fail to reject the null hypothesis: There is no significant association between gender and smoking status.\")\n"
   ]
  },
  {
   "cell_type": "markdown",
   "id": "f7d1eaf7",
   "metadata": {},
   "source": [
    "### ANOVA (Analysis of Variance)  Test\n",
    "It is a statistical method used to compare the means of three or more samples to determine if they are significantly different from each other. It partitions the total variance observed in a data set into different components attributed to different sources of variation. ANOVA is typically used when you have one categorical independent variable (with three or more groups) and one continuous dependent variable."
   ]
  },
  {
   "cell_type": "code",
   "execution_count": 6,
   "id": "ffc11256",
   "metadata": {},
   "outputs": [
    {
     "name": "stdout",
     "output_type": "stream",
     "text": [
      "Statistic: 12.586826347305376\n",
      "p-value: 0.0011315560049115865\n",
      "Reject null hypothesis: There is a significant difference between the means.\n"
     ]
    }
   ],
   "source": [
    "import scipy.stats as stats\n",
    "\n",
    "# Sample data\n",
    "group1 = [18, 20, 16, 22, 19]\n",
    "group2 = [23, 25, 27, 29, 26]\n",
    "group3 = [17, 21, 24, 19, 20]\n",
    "\n",
    "# Perform one-way ANOVA\n",
    "statistic, p_value = stats.f_oneway(group1, group2, group3)\n",
    "\n",
    "# Interpret the result\n",
    "alpha = 0.05\n",
    "print(\"Statistic:\", statistic)\n",
    "print(\"p-value:\", p_value)\n",
    "if p_value < alpha:\n",
    "    print(\"Reject null hypothesis: There is a significant difference between the means.\")\n",
    "else:\n",
    "    print(\"Fail to reject null hypothesis: There is no significant difference between the means.\")\n"
   ]
  },
  {
   "cell_type": "markdown",
   "id": "22408014",
   "metadata": {},
   "source": [
    "### Comparision of  different Hypothesis tests \n",
    "\n",
    "| Hypothesis Test   | Type of Data     | Research Question                                        | Example                                                   |\n",
    "|-------------------|------------------|----------------------------------------------------------|-----------------------------------------------------------|\n",
    "| T-Test (Independent/Separate Samples) | Continuous (Numerical) | Comparing means of two independent groups               | Comparing the average test scores of two different classes |\n",
    "| T-Test (Paired Samples)               | Continuous (Numerical) | Comparing means of two related groups                   | Comparing pre-test and post-test scores of the same group |\n",
    "| One-Way ANOVA                        | Continuous (Numerical) | Comparing means of three or more independent groups      | Comparing the average weight loss across different diets |\n",
    "| Chi-Square Test                      | Categorical (Nominal/Ordinal) | Assessing association between two categorical variables | Investigating if there's a relationship between smoking status and lung cancer incidence |\n",
    "| Pearson's Correlation                | Continuous (Numerical) | Assessing the strength and direction of linear relationship | Examining the correlation between hours spent studying and exam scores |\n",
    "| Mann-Whitney U Test                  | Continuous (Numerical) | Comparing distributions of two independent groups when assumptions of t-test are violated | Comparing the median income of two neighborhoods when data is not normally distributed |\n",
    "| Kruskal-Wallis Test                  | Continuous (Numerical) | Comparing distributions of three or more independent groups when assumptions of ANOVA are violated | Comparing the median reaction times across different age groups when data is not normally distributed |\n",
    "| Z-Test                              | Continuous (Numerical) | Comparing a sample mean to a known population mean      | Testing if the average height of students in a class is significantly different from the national average height |"
   ]
  },
  {
   "cell_type": "code",
   "execution_count": null,
   "id": "3b20b159",
   "metadata": {},
   "outputs": [],
   "source": []
  }
 ],
 "metadata": {
  "kernelspec": {
   "display_name": "Python 3 (ipykernel)",
   "language": "python",
   "name": "python3"
  },
  "language_info": {
   "codemirror_mode": {
    "name": "ipython",
    "version": 3
   },
   "file_extension": ".py",
   "mimetype": "text/x-python",
   "name": "python",
   "nbconvert_exporter": "python",
   "pygments_lexer": "ipython3",
   "version": "3.9.12"
  }
 },
 "nbformat": 4,
 "nbformat_minor": 5
}
