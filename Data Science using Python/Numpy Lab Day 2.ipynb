{
 "cells": [
  {
   "cell_type": "markdown",
   "id": "f936a2c0",
   "metadata": {},
   "source": [
    "\n",
    "\n",
    "- Create a NumPy array with elements ranging from 0 to 9. Then, reshape it into a 3x3 matrix.\n",
    "\n",
    "\n",
    "- \n",
    "- Create a 2D array of Shape 2*4 with defined elements in row1 - M1\n",
    "- Create a 2D identify matrix of shape 3*3- M2\n",
    "- Create a 2D ones matrix with Shape 2*4-M3\n",
    "\n",
    "Compute:\n",
    "    1. M1+M3\n",
    "    2. M3*M1\n",
    "    3. 4*M2\n",
    "    \n",
    "\n",
    "\n",
    "- Given two NumPy arrays A and B, perform element-wise addition, subtraction, multiplication, and division.\n",
    "\n",
    "\n",
    "- Extract the middle row of a given 2D NumPy array. Then, extract the elements at odd indices from the last column.\n",
    "\n",
    "\n",
    "- Compute the mean, median, and standard deviation of a given NumPy array across rows and columns.\n",
    "\n",
    "\n",
    "- Concatenate two 1D NumPy arrays vertically and horizontally, respectively.\n",
    "\n",
    "\n",
    "- Given a 1D NumPy array of ages, find all ages greater than 30.\n",
    "\n",
    "\n",
    "- Given a 2D NumPy array representing student scores and a 1D array representing score weights, compute weighted averages for each student.\n",
    "\n",
    "\n",
    "- Generate a random 3x3 NumPy array of integers between 0 and 100."
   ]
  },
  {
   "cell_type": "code",
   "execution_count": null,
   "id": "2c5431ec",
   "metadata": {},
   "outputs": [],
   "source": []
  }
 ],
 "metadata": {
  "kernelspec": {
   "display_name": "Python 3 (ipykernel)",
   "language": "python",
   "name": "python3"
  },
  "language_info": {
   "codemirror_mode": {
    "name": "ipython",
    "version": 3
   },
   "file_extension": ".py",
   "mimetype": "text/x-python",
   "name": "python",
   "nbconvert_exporter": "python",
   "pygments_lexer": "ipython3",
   "version": "3.9.12"
  }
 },
 "nbformat": 4,
 "nbformat_minor": 5
}
