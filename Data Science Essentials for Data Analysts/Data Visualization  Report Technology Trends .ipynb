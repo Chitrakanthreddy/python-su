{
 "cells": [
  {
   "cell_type": "code",
   "execution_count": 1,
   "id": "ee41f362",
   "metadata": {},
   "outputs": [],
   "source": [
    "import pandas as pd\n",
    "import numpy as np\n",
    "\n",
    "# Generate data\n",
    "np.random.seed(0)\n",
    "years = np.random.randint(2010, 2023, 3000)\n",
    "technologies = ['Python', 'JavaScript', 'Java', 'C#', 'C++', 'Ruby', 'Swift', 'Go', 'Rust', 'Kotlin']\n",
    "categories = ['Programming Language', 'Framework', 'Tool', 'Library', 'Platform', 'Database', 'Language', 'IDE', 'Framework', 'Tool']\n",
    "popularity_index = np.random.uniform(0, 100, 3000)\n",
    "growth_rate = np.random.uniform(-10, 10, 3000)\n",
    "usage = np.random.randint(1000, 1000000, 3000)\n",
    "market_share = np.random.uniform(0, 50, 3000)\n",
    "regions = ['North America', 'Europe', 'Asia', 'South America', 'Africa']\n",
    "industries = ['IT', 'Finance', 'Healthcare', 'Manufacturing', 'Education']\n",
    "comments = ['None'] * 3000\n",
    "\n",
    "# Create DataFrame\n",
    "df = pd.DataFrame({\n",
    "    'Year': years,\n",
    "    'Technology': np.random.choice(technologies, 3000),\n",
    "    'Category': np.random.choice(categories, 3000),\n",
    "    'Popularity_Index': popularity_index,\n",
    "    'Growth_Rate': growth_rate,\n",
    "    'Usage': usage,\n",
    "    'Market_Share': market_share,\n",
    "    'Region': np.random.choice(regions, 3000),\n",
    "    'Industry': np.random.choice(industries, 3000),\n",
    "    'Comments': comments\n",
    "})\n",
    "\n",
    "# Save DataFrame to CSV\n",
    "df.to_csv('technology_trends.csv', index=False)\n"
   ]
  },
  {
   "cell_type": "code",
   "execution_count": null,
   "id": "4d242e1e",
   "metadata": {},
   "outputs": [],
   "source": []
  }
 ],
 "metadata": {
  "kernelspec": {
   "display_name": "Python 3 (ipykernel)",
   "language": "python",
   "name": "python3"
  },
  "language_info": {
   "codemirror_mode": {
    "name": "ipython",
    "version": 3
   },
   "file_extension": ".py",
   "mimetype": "text/x-python",
   "name": "python",
   "nbconvert_exporter": "python",
   "pygments_lexer": "ipython3",
   "version": "3.9.12"
  }
 },
 "nbformat": 4,
 "nbformat_minor": 5
}
