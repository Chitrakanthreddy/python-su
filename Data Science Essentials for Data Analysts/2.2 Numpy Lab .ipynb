{
 "cells": [
  {
   "cell_type": "markdown",
   "id": "e4cff752",
   "metadata": {},
   "source": [
    "\n",
    "\n",
    "- Create a NumPy array with elements ranging from 0 to 9. Then, reshape it into a 3x3 matrix.\n",
    "\n",
    "\n",
    "- \n",
    "- Create a 2D array of Shape 2*4 with defined elements in row1 - M1\n",
    "- Create a 2D identify matrix of shape 3*3- M2\n",
    "- Create a 2D ones matrix with Shape 2*4-M3\n",
    "\n",
    "Compute:\n",
    "    1. M1+M3\n",
    "    2. M3*M1\n",
    "    3. 4*M2\n",
    "    \n",
    "\n",
    "\n",
    "- Given two NumPy arrays A and B, perform element-wise addition, subtraction, multiplication, and division.\n",
    "\n",
    "\n",
    "- Extract the middle row of a given 2D NumPy array. Then, extract the elements at odd indices from the last column.\n",
    "\n",
    "\n",
    "- Compute the mean, median, and standard deviation of a given NumPy array across rows and columns.\n",
    "\n",
    "\n",
    "- Concatenate two 1D NumPy arrays vertically and horizontally, respectively.\n",
    "\n",
    "\n",
    "- Given a 1D NumPy array of ages, find all ages greater than 30.\n",
    "\n",
    "\n",
    "- Given a 2D NumPy array representing student scores and a 1D array representing score weights, compute weighted averages for each student.\n",
    "\n",
    "\n",
    "- Generate a random 3x3 NumPy array of integers between 0 and 100."
   ]
  },
  {
   "cell_type": "code",
   "execution_count": 1,
   "id": "4bab61db",
   "metadata": {},
   "outputs": [
    {
     "name": "stdout",
     "output_type": "stream",
     "text": [
      "[[0 1 2]\n",
      " [3 4 5]\n",
      " [6 7 8]]\n"
     ]
    }
   ],
   "source": [
    "import numpy as np\n",
    "\n",
    "arr = np.arange(9).reshape(3, 3)\n",
    "print(arr)\n",
    "\n"
   ]
  },
  {
   "cell_type": "code",
   "execution_count": 2,
   "id": "11329c21",
   "metadata": {},
   "outputs": [
    {
     "name": "stdout",
     "output_type": "stream",
     "text": [
      "Addition: [5 7 9]\n",
      "Subtraction: [-3 -3 -3]\n",
      "Multiplication: [ 4 10 18]\n",
      "Division: [0.25 0.4  0.5 ]\n"
     ]
    }
   ],
   "source": [
    "A = np.array([1, 2, 3])\n",
    "B = np.array([4, 5, 6])\n",
    "\n",
    "addition = A + B\n",
    "subtraction = A - B\n",
    "multiplication = A * B\n",
    "division = A / B\n",
    "\n",
    "print(\"Addition:\", addition)\n",
    "print(\"Subtraction:\", subtraction)\n",
    "print(\"Multiplication:\", multiplication)\n",
    "print(\"Division:\", division)\n"
   ]
  },
  {
   "cell_type": "code",
   "execution_count": 3,
   "id": "7845514f",
   "metadata": {},
   "outputs": [
    {
     "name": "stdout",
     "output_type": "stream",
     "text": [
      "Middle row: [4 5 6]\n",
      "Odd indices of last column: [3 9]\n"
     ]
    }
   ],
   "source": [
    "arr = np.array([[1, 2, 3], [4, 5, 6], [7, 8, 9]])\n",
    "\n",
    "middle_row = arr[1]\n",
    "odd_indices_last_column = arr[::2, -1]\n",
    "\n",
    "print(\"Middle row:\", middle_row)\n",
    "print(\"Odd indices of last column:\", odd_indices_last_column)\n"
   ]
  },
  {
   "cell_type": "code",
   "execution_count": 4,
   "id": "39d56a8e",
   "metadata": {},
   "outputs": [
    {
     "name": "stdout",
     "output_type": "stream",
     "text": [
      "Mean: 3.0\n",
      "Median: 3.0\n",
      "Standard Deviation: 1.4142135623730951\n"
     ]
    }
   ],
   "source": [
    "arr = np.array([1, 2, 3, 4, 5])\n",
    "\n",
    "mean = np.mean(arr)\n",
    "median = np.median(arr)\n",
    "std_dev = np.std(arr)\n",
    "\n",
    "print(\"Mean:\", mean)\n",
    "print(\"Median:\", median)\n",
    "print(\"Standard Deviation:\", std_dev)\n"
   ]
  },
  {
   "cell_type": "code",
   "execution_count": 5,
   "id": "8729b334",
   "metadata": {},
   "outputs": [
    {
     "name": "stdout",
     "output_type": "stream",
     "text": [
      "Vertical Concatenation:\n",
      "[[1 2 3]\n",
      " [4 5 6]]\n",
      "\n",
      "Horizontal Concatenation: [1 2 3 4 5 6]\n"
     ]
    }
   ],
   "source": [
    "arr1 = np.array([1, 2, 3])\n",
    "arr2 = np.array([4, 5, 6])\n",
    "\n",
    "vertical_concat = np.vstack((arr1, arr2))\n",
    "horizontal_concat = np.hstack((arr1, arr2))\n",
    "\n",
    "print(\"Vertical Concatenation:\")\n",
    "print(vertical_concat)\n",
    "print(\"\\nHorizontal Concatenation:\", horizontal_concat)\n"
   ]
  },
  {
   "cell_type": "code",
   "execution_count": 6,
   "id": "b133b976",
   "metadata": {},
   "outputs": [
    {
     "name": "stdout",
     "output_type": "stream",
     "text": [
      "Ages over 30: [35 40 45]\n"
     ]
    }
   ],
   "source": [
    "ages = np.array([25, 35, 40, 20, 45])\n",
    "\n",
    "over_30 = ages[ages > 30]\n",
    "\n",
    "print(\"Ages over 30:\", over_30)\n"
   ]
  },
  {
   "cell_type": "code",
   "execution_count": 7,
   "id": "a66f071e",
   "metadata": {},
   "outputs": [
    {
     "name": "stdout",
     "output_type": "stream",
     "text": [
      "Weighted Averages for each student: [81.  88.3]\n"
     ]
    }
   ],
   "source": [
    "scores = np.array([[80, 90, 70], [85, 88, 92]])\n",
    "weights = np.array([0.3, 0.4, 0.3])\n",
    "\n",
    "weighted_avg = np.dot(scores, weights)\n",
    "\n",
    "print(\"Weighted Averages for each student:\", weighted_avg)\n",
    "\n"
   ]
  },
  {
   "cell_type": "code",
   "execution_count": 8,
   "id": "195392d6",
   "metadata": {},
   "outputs": [
    {
     "name": "stdout",
     "output_type": "stream",
     "text": [
      "Random Array:\n",
      "[[95 10 19]\n",
      " [35 91 48]\n",
      " [62 42  5]]\n"
     ]
    }
   ],
   "source": [
    "random_array = np.random.randint(0, 100, size=(3, 3))\n",
    "\n",
    "print(\"Random Array:\")\n",
    "print(random_array)\n"
   ]
  },
  {
   "cell_type": "code",
   "execution_count": null,
   "id": "7083799f",
   "metadata": {},
   "outputs": [],
   "source": []
  }
 ],
 "metadata": {
  "kernelspec": {
   "display_name": "Python 3 (ipykernel)",
   "language": "python",
   "name": "python3"
  },
  "language_info": {
   "codemirror_mode": {
    "name": "ipython",
    "version": 3
   },
   "file_extension": ".py",
   "mimetype": "text/x-python",
   "name": "python",
   "nbconvert_exporter": "python",
   "pygments_lexer": "ipython3",
   "version": "3.9.12"
  }
 },
 "nbformat": 4,
 "nbformat_minor": 5
}
