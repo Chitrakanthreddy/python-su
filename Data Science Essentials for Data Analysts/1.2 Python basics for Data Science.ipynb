{
 "cells": [
  {
   "attachments": {},
   "cell_type": "markdown",
   "id": "20493689",
   "metadata": {},
   "source": [
    "\n",
    "## Python For Data Science \n",
    "\n",
    "- Python is one of the most popular languages used by Data Scientists. Python has in-built mathematical libraries and functions, making it easier to calculate mathematical functions.\n",
    "\n",
    "\n",
    "## Data Containers in Python\n",
    "1. Strings 2. Lists 3. Tuples 4. Dictionary "
   ]
  },
  {
   "cell_type": "markdown",
   "id": "08479267",
   "metadata": {},
   "source": [
    "## Variable in Python "
   ]
  },
  {
   "cell_type": "code",
   "execution_count": 10,
   "id": "83dc9064",
   "metadata": {},
   "outputs": [],
   "source": [
    "A=8\n",
    "b=10"
   ]
  },
  {
   "cell_type": "code",
   "execution_count": 13,
   "id": "cb0fa123",
   "metadata": {},
   "outputs": [
    {
     "data": {
      "text/plain": [
       "complex"
      ]
     },
     "execution_count": 13,
     "metadata": {},
     "output_type": "execute_result"
    }
   ],
   "source": [
    "type(-2.0900000)\n",
    "type(2+6j)"
   ]
  },
  {
   "cell_type": "markdown",
   "id": "3399c706",
   "metadata": {},
   "source": [
    "## Operations on Numbers"
   ]
  },
  {
   "cell_type": "code",
   "execution_count": 14,
   "id": "7186e2c0",
   "metadata": {},
   "outputs": [
    {
     "data": {
      "text/plain": [
       "(4, 4, 1.0, 1, 27)"
      ]
     },
     "execution_count": 14,
     "metadata": {},
     "output_type": "execute_result"
    }
   ],
   "source": [
    "2+2,2*2,2/2,3//2,3**3"
   ]
  },
  {
   "cell_type": "code",
   "execution_count": 15,
   "id": "a49a7b5f",
   "metadata": {},
   "outputs": [
    {
     "data": {
      "text/plain": [
       "7"
      ]
     },
     "execution_count": 15,
     "metadata": {},
     "output_type": "execute_result"
    }
   ],
   "source": [
    "x=2\n",
    "\n",
    "#2x2+4x-9\n",
    "\n",
    "2*(x*x)+4*x-9\n"
   ]
  },
  {
   "cell_type": "code",
   "execution_count": 18,
   "id": "c25856f8",
   "metadata": {},
   "outputs": [
    {
     "data": {
      "text/plain": [
       "81"
      ]
     },
     "execution_count": 18,
     "metadata": {},
     "output_type": "execute_result"
    }
   ],
   "source": [
    "##Variable Declaration\n",
    "a=9\n",
    "A=5\n",
    "A_1=9\n",
    "\n",
    "a**2"
   ]
  },
  {
   "cell_type": "code",
   "execution_count": null,
   "id": "3404dd2b",
   "metadata": {},
   "outputs": [],
   "source": [
    "#Quick Practice\n",
    "\n",
    "## What is the output for (4x3+3x2+5x+5)?"
   ]
  },
  {
   "cell_type": "markdown",
   "id": "455c1c7b",
   "metadata": {},
   "source": [
    "## Type Coversions\n"
   ]
  },
  {
   "cell_type": "code",
   "execution_count": 20,
   "id": "e02af73c",
   "metadata": {},
   "outputs": [
    {
     "name": "stdout",
     "output_type": "stream",
     "text": [
      "12\n",
      "3.0\n",
      "Hi how are you\n"
     ]
    }
   ],
   "source": [
    "## Varibles declaration\n",
    "print(int(12.6))\n",
    "print(float(3))\n",
    "print(\"Hi how are you\")\n",
    "print(2+3,4-6,2**3)"
   ]
  },
  {
   "cell_type": "code",
   "execution_count": 23,
   "id": "81af9396",
   "metadata": {},
   "outputs": [
    {
     "name": "stdout",
     "output_type": "stream",
     "text": [
      "5,-2,8\n"
     ]
    }
   ],
   "source": [
    "print(2+3,4-6,2**3,sep=\",\")"
   ]
  },
  {
   "cell_type": "code",
   "execution_count": 24,
   "id": "9659cd62",
   "metadata": {},
   "outputs": [
    {
     "name": "stdout",
     "output_type": "stream",
     "text": [
      "Total number of partcipants: 6\n"
     ]
    }
   ],
   "source": [
    "x=6\n",
    "print(\"Total number of partcipants:\",x)"
   ]
  },
  {
   "cell_type": "code",
   "execution_count": 28,
   "id": "70d06363",
   "metadata": {},
   "outputs": [
    {
     "name": "stdout",
     "output_type": "stream",
     "text": [
      "Name:12\n",
      "Age23\n"
     ]
    },
    {
     "data": {
      "text/plain": [
       "str"
      ]
     },
     "execution_count": 28,
     "metadata": {},
     "output_type": "execute_result"
    }
   ],
   "source": [
    "Name = input(\"Name:\")\n",
    "Age=input(\"Age\")\n",
    "Name+Age\n",
    "type(Name)"
   ]
  },
  {
   "cell_type": "code",
   "execution_count": 30,
   "id": "b8777cfb",
   "metadata": {},
   "outputs": [
    {
     "name": "stdout",
     "output_type": "stream",
     "text": [
      "Name: Ashi\n",
      "Age: 23\n",
      "Height: 12.4\n"
     ]
    }
   ],
   "source": [
    "##Input \n",
    "Name=input(\"Name: \")\n",
    "Age=int(input(\"Age: \"))\n",
    "Weight=float(input(\"Height: \"))"
   ]
  },
  {
   "cell_type": "raw",
   "id": "a9045713",
   "metadata": {},
   "source": [
    "## Link : https://jupyter.org/try-jupyter/lab/"
   ]
  },
  {
   "cell_type": "markdown",
   "id": "997c90cf",
   "metadata": {},
   "source": [
    "## Quick Pratice: \n",
    "1.    Create python Script to input following details about your products:\n",
    "\n",
    "- Number of Products (30)\n",
    "- Name of Products Category (3*10)\n",
    "- Cost per Unit \n",
    "- Total Cost Price"
   ]
  },
  {
   "cell_type": "raw",
   "id": "0bcc8cf8",
   "metadata": {},
   "source": [
    "solun\n",
    "a=int(input(\"no of product \"))\n",
    "b=input(\"Name of Products Category \")\n",
    "c=float(input(\"Cost per Unit \"))\n",
    "\n",
    "Total_CP=a*c\n",
    "\n",
    "print(\"Total Cost Price = \",Total_CP )"
   ]
  },
  {
   "cell_type": "markdown",
   "id": "c460b5c7",
   "metadata": {},
   "source": [
    "## Strings "
   ]
  },
  {
   "cell_type": "code",
   "execution_count": 33,
   "id": "7b64fe42",
   "metadata": {},
   "outputs": [],
   "source": [
    "x=\"a\"\n",
    "Y=\"ABCD\"\n",
    "C=\"Data Science\"\n"
   ]
  },
  {
   "cell_type": "code",
   "execution_count": 47,
   "id": "c3ebabe7",
   "metadata": {},
   "outputs": [],
   "source": [
    "##Functions and methods in strings\n",
    "len(Y)\n",
    "len(C)\n",
    "\n",
    "Y[1] #Index\n",
    "Y[-3]\n",
    "\n",
    "Y[2:4] #Slicing\n",
    "\n",
    "##Y[4]=\"E\" #Immutable \n",
    "##del Y[0]\n",
    "del Y"
   ]
  },
  {
   "cell_type": "code",
   "execution_count": 53,
   "id": "ffb7def0",
   "metadata": {},
   "outputs": [
    {
     "name": "stdout",
     "output_type": "stream",
     "text": [
      "2 s\n"
     ]
    }
   ],
   "source": [
    "x=\"ashi29\"\n",
    "a=\"82154\"\n",
    "\n",
    "print(min(a),max(a))\n",
    "print(min(x),max(x))"
   ]
  },
  {
   "cell_type": "code",
   "execution_count": 54,
   "id": "3089e453",
   "metadata": {},
   "outputs": [
    {
     "data": {
      "text/plain": [
       "['Data', 'is', 'important.']"
      ]
     },
     "execution_count": 54,
     "metadata": {},
     "output_type": "execute_result"
    }
   ],
   "source": [
    "C=\"Data is important.\"\n",
    "C.split(\" \")"
   ]
  },
  {
   "cell_type": "code",
   "execution_count": 55,
   "id": "2e24bbd5",
   "metadata": {},
   "outputs": [
    {
     "name": "stdout",
     "output_type": "stream",
     "text": [
      "Enter your Name :Data\n"
     ]
    }
   ],
   "source": [
    "name=input(\"Enter your Name :\")"
   ]
  },
  {
   "cell_type": "code",
   "execution_count": 57,
   "id": "2e542cc3",
   "metadata": {},
   "outputs": [
    {
     "data": {
      "text/plain": [
       "'Data is important.Data is important.Data is important.'"
      ]
     },
     "execution_count": 57,
     "metadata": {},
     "output_type": "execute_result"
    }
   ],
   "source": [
    "C+C #3- Concadination\n",
    "3*C #- Repeat"
   ]
  },
  {
   "cell_type": "markdown",
   "id": "36900111",
   "metadata": {},
   "source": [
    "## Quick Practice:\n",
    "\n",
    "Write a python script to open a railway ticket booking portal and enter following details from users :\n",
    "- 1-Name\n",
    "- 2-last Name\n",
    "- 3-Age\n",
    "- 4-Gender\n",
    "- 5-Boarding Point \n",
    "- 6-destination"
   ]
  },
  {
   "cell_type": "code",
   "execution_count": null,
   "id": "2bdb672f",
   "metadata": {},
   "outputs": [],
   "source": [
    "## Solution \n",
    "\n"
   ]
  },
  {
   "cell_type": "markdown",
   "id": "5ff74625",
   "metadata": {},
   "source": [
    "## String Functions and Methods"
   ]
  },
  {
   "cell_type": "code",
   "execution_count": 66,
   "id": "9915aa82",
   "metadata": {},
   "outputs": [
    {
     "data": {
      "text/plain": [
       "True"
      ]
     },
     "execution_count": 66,
     "metadata": {},
     "output_type": "execute_result"
    }
   ],
   "source": [
    "x=\" \"\n",
    "x.isalpha()\n",
    "x.isspace()"
   ]
  },
  {
   "cell_type": "raw",
   "id": "4f922ae4",
   "metadata": {},
   "source": [
    "z=x.encode()\n",
    "x.isalnum()\n",
    "x.isalpha()\n",
    "x.isascii()\n",
    "x.isdecimal()\n",
    "x.isspace()\n",
    "x.join(\"a\")\n"
   ]
  },
  {
   "cell_type": "code",
   "execution_count": null,
   "id": "527139db",
   "metadata": {},
   "outputs": [],
   "source": [
    "x.isspace()"
   ]
  },
  {
   "cell_type": "code",
   "execution_count": null,
   "id": "1781cfff",
   "metadata": {},
   "outputs": [],
   "source": [
    "x.isalpha()"
   ]
  },
  {
   "cell_type": "raw",
   "id": "559135bf",
   "metadata": {},
   "source": [
    "if (con):\n",
    "    if(con):\n",
    "        if(con):\n",
    "            ----\n",
    "        else(*)\n",
    "    else\n",
    "else\n"
   ]
  },
  {
   "cell_type": "markdown",
   "id": "06e4cf32",
   "metadata": {},
   "source": [
    "## If else condition"
   ]
  },
  {
   "cell_type": "code",
   "execution_count": 69,
   "id": "80e96bc3",
   "metadata": {},
   "outputs": [
    {
     "name": "stdout",
     "output_type": "stream",
     "text": [
      "Enter your Age:21\n",
      "Welcome and sign in to this portal\n",
      "UserName:Ashirai\n",
      "Create Password:ashi1234\n"
     ]
    }
   ],
   "source": [
    "a=int(input(\"Enter your Age:\"))\n",
    "if a>=18:\n",
    "    print(\"Welcome and sign in to this portal\")\n",
    "    name=input(\"UserName:\")\n",
    "    if len(name)>=5:\n",
    "        pwd=input(\"Create Password:\")\n",
    "    else:\n",
    "        print(\"User Name does not met the criteria\")\n",
    "else:\n",
    "    print(\"Opps! your age is not valid to use this portal\")"
   ]
  },
  {
   "cell_type": "markdown",
   "id": "f0c0324b",
   "metadata": {},
   "source": [
    "Quick Parctice:\n",
    "1. Write a python script to open a railway ticket booking portal and enter following details from users :\n",
    "2. Ask for Sign in with UserName, Password (Greater than 5), Age > 16\n",
    "\n",
    "3. Login for booking \n",
    "UserName and Pwd \n",
    "\n",
    "\n",
    "1-Name \n",
    "2-last Name  \n",
    "3-Age\n",
    "4-Gender\n",
    "5-Boarding Point\n",
    "6-destination"
   ]
  },
  {
   "cell_type": "code",
   "execution_count": null,
   "id": "63b422ee",
   "metadata": {},
   "outputs": [],
   "source": [
    "## If else:\n",
    "\n",
    "Name= input(\"Enter UserName\")\n",
    "Age=int(input(\"Age Please\"))\n",
    "\n",
    "if len(Name) >=5:\n",
    "    print(\"Valid UserName\\t:\")\n",
    "    if Age>15:\n",
    "        print(\"You can Proceed with booking\")\n",
    "    else:\n",
    "        print(\"Your Booking Not allowed\")\n",
    "else:\n",
    "    print(\"Please check userName Criteria\")"
   ]
  },
  {
   "cell_type": "code",
   "execution_count": 70,
   "id": "01960a64",
   "metadata": {},
   "outputs": [
    {
     "data": {
      "text/plain": [
       "range(1, 10)"
      ]
     },
     "execution_count": 70,
     "metadata": {},
     "output_type": "execute_result"
    }
   ],
   "source": [
    "x=range(1,10)\n",
    "x\n"
   ]
  },
  {
   "cell_type": "code",
   "execution_count": 73,
   "id": "d879a5b5",
   "metadata": {},
   "outputs": [
    {
     "data": {
      "text/plain": [
       "[1, 4, 7]"
      ]
     },
     "execution_count": 73,
     "metadata": {},
     "output_type": "execute_result"
    }
   ],
   "source": [
    "x=list(range(1,10,3) )#start,stop-1,interval\n",
    "x"
   ]
  },
  {
   "cell_type": "markdown",
   "id": "ac942271",
   "metadata": {},
   "source": [
    "## Quick Practice: \n",
    "- Please create a user name of length 6 if user name is valid then  create a password of length 7, if pwd is valid then print(\"Welcome to homepage\")\n",
    "\n",
    "- Write a program that performs addition, subtraction, multiplication, or division based on user input. Prompt the user to enter two numbers and an operation (+, -, *, /). Perform the calculation and print the result."
   ]
  },
  {
   "cell_type": "code",
   "execution_count": null,
   "id": "8948b52e",
   "metadata": {},
   "outputs": [],
   "source": [
    "## Please create a user name of length 6, create a password of lenghth 7 \n",
    "\n",
    "user=input(\"Create user name for minimum 6 lenghth:\")\n",
    "\n",
    "if len(user) >= 6:\n",
    "    print(\"Valid user name\")\n",
    "else:\n",
    "    print(\"Ops! User name not created invalid format\")"
   ]
  },
  {
   "cell_type": "code",
   "execution_count": 75,
   "id": "7b26ed2b",
   "metadata": {},
   "outputs": [
    {
     "name": "stdout",
     "output_type": "stream",
     "text": [
      "Enter your name:1\n",
      "Enter your name:2\n",
      "Enter your name:3\n"
     ]
    }
   ],
   "source": [
    "## Loops\n",
    "for i in range(0,3):\n",
    "    user=input(\"Enter your name:\")\n",
    "  "
   ]
  },
  {
   "cell_type": "code",
   "execution_count": null,
   "id": "34a1036a",
   "metadata": {},
   "outputs": [],
   "source": [
    "for i in \"ash\":\n",
    "     user=input(\"Enter your name:\\t\")"
   ]
  },
  {
   "cell_type": "markdown",
   "id": "90989383",
   "metadata": {},
   "source": [
    "## Ques 2: \n",
    "Input create a password  with following critera:\n",
    "1. Min len 3 and 10\n",
    "2. Should contain one number \n",
    "3. Should contain upper case member\n",
    "4. Should not have a space\n",
    "5. Shoukd have one special charactor sp=[\"@\",\"?\",\"*\",\"$\",\"&\",\"^\",#.!]"
   ]
  },
  {
   "cell_type": "code",
   "execution_count": 77,
   "id": "c36dd721",
   "metadata": {},
   "outputs": [
    {
     "name": "stdout",
     "output_type": "stream",
     "text": [
      "Create user name for minimum 6 lenghth:ashi1234\n",
      "Opps !! you have not added a uppercase \n"
     ]
    }
   ],
   "source": [
    "## Atleast one number \n",
    "d=0\n",
    "s=0\n",
    "u=0\n",
    "sp=[\"@\",\"?\",\"*\",\"$\"]\n",
    "\n",
    "user=input(\"Create user name for minimum 6 lenghth:\")\n",
    "\n",
    "for i in user:\n",
    "    if i.isdigit():\n",
    "        d=d+1\n",
    "    if i.isspace():\n",
    "        s=s+1\n",
    "    if i.isupper():\n",
    "        u=u+1\n",
    "    else:\n",
    "        pass\n",
    "if d>0 and s==0:\n",
    "    pass\n",
    "else:\n",
    "    print(\"Opps !! you have not added a digit to username or included a space\")\n",
    "if u>0:\n",
    "    print(\"Valid User name\")\n",
    "else:\n",
    "    print(\"Opps !! you have not added a uppercase \")\n",
    "    "
   ]
  },
  {
   "cell_type": "code",
   "execution_count": null,
   "id": "be729b06",
   "metadata": {},
   "outputs": [],
   "source": [
    "s=\"poor\"\n",
    "#3s[4]=s\n",
    "#del s[1]\n",
    "del s\n",
    "\n",
    "s= \"this is first session for data Science\"\n",
    "\n",
    "#s.split(\" \")\n",
    "s.index(\"f\")"
   ]
  },
  {
   "cell_type": "markdown",
   "id": "60ca62eb",
   "metadata": {},
   "source": [
    "#### List "
   ]
  },
  {
   "cell_type": "code",
   "execution_count": 81,
   "id": "fb81037e",
   "metadata": {},
   "outputs": [],
   "source": [
    "##a=[],[[]],[[[]]]\n",
    "\n",
    "a=[1,1,2]\n",
    "b=[1,2.1,\"a\"]\n",
    "c=[[1,12],[21,3]]"
   ]
  },
  {
   "cell_type": "code",
   "execution_count": 85,
   "id": "9614269a",
   "metadata": {},
   "outputs": [],
   "source": [
    "a.append(5)\n",
    "a\n",
    "del a[0]"
   ]
  },
  {
   "cell_type": "code",
   "execution_count": 89,
   "id": "21f3aa64",
   "metadata": {},
   "outputs": [],
   "source": [
    "a.insert(2,3)\n"
   ]
  },
  {
   "cell_type": "code",
   "execution_count": 90,
   "id": "bbd4e990",
   "metadata": {},
   "outputs": [
    {
     "data": {
      "text/plain": [
       "[1, 2, 3, 9, 2, 4, 5, 5]"
      ]
     },
     "execution_count": 90,
     "metadata": {},
     "output_type": "execute_result"
    }
   ],
   "source": [
    "a"
   ]
  },
  {
   "cell_type": "code",
   "execution_count": 93,
   "id": "193f7bbd",
   "metadata": {},
   "outputs": [
    {
     "data": {
      "text/plain": [
       "1"
      ]
     },
     "execution_count": 93,
     "metadata": {},
     "output_type": "execute_result"
    }
   ],
   "source": [
    "len(a)\n",
    "max(a)\n",
    "min(a)"
   ]
  },
  {
   "cell_type": "code",
   "execution_count": 97,
   "id": "d867e115",
   "metadata": {},
   "outputs": [
    {
     "ename": "TypeError",
     "evalue": "'tuple' object doesn't support item deletion",
     "output_type": "error",
     "traceback": [
      "\u001b[1;31m---------------------------------------------------------------------------\u001b[0m",
      "\u001b[1;31mTypeError\u001b[0m                                 Traceback (most recent call last)",
      "Input \u001b[1;32mIn [97]\u001b[0m, in \u001b[0;36m<cell line: 5>\u001b[1;34m()\u001b[0m\n\u001b[0;32m      2\u001b[0m b\u001b[38;5;241m=\u001b[39m(\u001b[38;5;241m1\u001b[39m,\u001b[38;5;241m2\u001b[39m,\u001b[38;5;241m3\u001b[39m)\n\u001b[0;32m      3\u001b[0m \u001b[38;5;66;03m#b.append(4)\u001b[39;00m\n\u001b[1;32m----> 5\u001b[0m \u001b[38;5;28;01mdel\u001b[39;00m b[\u001b[38;5;241m2\u001b[39m]\n",
      "\u001b[1;31mTypeError\u001b[0m: 'tuple' object doesn't support item deletion"
     ]
    }
   ],
   "source": [
    "## Tuples \n",
    "b=(1,2,3)\n",
    "#b.append(4)\n",
    "\n",
    "##del b[2]\n",
    "## tuples also does nit support item addition or deletion. "
   ]
  },
  {
   "cell_type": "code",
   "execution_count": 98,
   "id": "3c213653",
   "metadata": {},
   "outputs": [],
   "source": [
    "del b"
   ]
  },
  {
   "cell_type": "markdown",
   "id": "e83342c5",
   "metadata": {},
   "source": [
    "## Dictionary \n",
    "- Mapping data types \n",
    "- Key value pairs \n",
    "- key are index to members for dictionary\n",
    "- Keys are unique with one value for one key\n",
    "- Duplicate Key creation is not possible"
   ]
  },
  {
   "cell_type": "code",
   "execution_count": 99,
   "id": "43015b23",
   "metadata": {},
   "outputs": [],
   "source": [
    "d={}\n",
    "d={\"A\":\"red\",\"B\":\"Blue\"}"
   ]
  },
  {
   "cell_type": "code",
   "execution_count": 100,
   "id": "ddcad84b",
   "metadata": {},
   "outputs": [
    {
     "data": {
      "text/plain": [
       "dict_keys(['A', 'B'])"
      ]
     },
     "execution_count": 100,
     "metadata": {},
     "output_type": "execute_result"
    }
   ],
   "source": [
    "d.keys()"
   ]
  },
  {
   "cell_type": "code",
   "execution_count": 101,
   "id": "35f46d77",
   "metadata": {},
   "outputs": [
    {
     "data": {
      "text/plain": [
       "dict_values(['red', 'Blue'])"
      ]
     },
     "execution_count": 101,
     "metadata": {},
     "output_type": "execute_result"
    }
   ],
   "source": [
    "d.values()"
   ]
  },
  {
   "cell_type": "code",
   "execution_count": 106,
   "id": "3ff3e257",
   "metadata": {},
   "outputs": [],
   "source": [
    "d[\"C\"] =\"green\""
   ]
  },
  {
   "cell_type": "code",
   "execution_count": 111,
   "id": "0880d1dc",
   "metadata": {},
   "outputs": [],
   "source": [
    "del d[C]"
   ]
  },
  {
   "cell_type": "code",
   "execution_count": 112,
   "id": "f8d55714",
   "metadata": {},
   "outputs": [
    {
     "data": {
      "text/plain": [
       "{'A': 'red', 'B': 'Blue', 'C': 'green'}"
      ]
     },
     "execution_count": 112,
     "metadata": {},
     "output_type": "execute_result"
    }
   ],
   "source": [
    "d"
   ]
  },
  {
   "cell_type": "code",
   "execution_count": 113,
   "id": "fde823d8",
   "metadata": {},
   "outputs": [],
   "source": [
    "del d['C']"
   ]
  },
  {
   "cell_type": "code",
   "execution_count": 114,
   "id": "b37d0cc0",
   "metadata": {},
   "outputs": [
    {
     "data": {
      "text/plain": [
       "{'A': 'red', 'B': 'Blue'}"
      ]
     },
     "execution_count": 114,
     "metadata": {},
     "output_type": "execute_result"
    }
   ],
   "source": [
    "d"
   ]
  },
  {
   "cell_type": "code",
   "execution_count": 116,
   "id": "b434081e",
   "metadata": {},
   "outputs": [
    {
     "data": {
      "text/plain": [
       "{1: 'a', 2: 'b'}"
      ]
     },
     "execution_count": 116,
     "metadata": {},
     "output_type": "execute_result"
    }
   ],
   "source": [
    "d={1:\"a\",2:\"b\"}\n",
    "d"
   ]
  },
  {
   "cell_type": "code",
   "execution_count": 119,
   "id": "f14b31d3",
   "metadata": {},
   "outputs": [
    {
     "data": {
      "text/plain": [
       "{1: 'a', 2: 'b'}"
      ]
     },
     "execution_count": 119,
     "metadata": {},
     "output_type": "execute_result"
    }
   ],
   "source": [
    "d[1]=\"a\"\n",
    "d"
   ]
  },
  {
   "cell_type": "code",
   "execution_count": 1,
   "id": "33358043",
   "metadata": {},
   "outputs": [
    {
     "name": "stdout",
     "output_type": "stream",
     "text": [
      "Enter number of members2\n",
      "Add list member\t:1\n",
      "Add list member\t:2\n",
      "[1, 2]\n"
     ]
    }
   ],
   "source": [
    "## User Input List\n",
    "x=[]\n",
    "n=int(input(\"Enter number of members\" ))\n",
    "for i in range (0,n):\n",
    "    m=int(input(\"Add list member\\t:\"))\n",
    "    x.append(m)\n",
    "print(x)   "
   ]
  },
  {
   "cell_type": "code",
   "execution_count": 4,
   "id": "ed609b94",
   "metadata": {},
   "outputs": [
    {
     "name": "stdout",
     "output_type": "stream",
     "text": [
      "Enter number of members3\n",
      "Enter Key NameA\n",
      "Enter VALUE NameB\n",
      "Enter Key NameC\n",
      "Enter VALUE Name1\n",
      "Enter Key Name2\n",
      "Enter VALUE Name3\n",
      "{'A': 'c', 'C': 'B', '2': '1'}\n"
     ]
    }
   ],
   "source": [
    "#### user input Diction\n",
    "d={}\n",
    "n=int(input(\"Enter number of members\"))\n",
    "for i in range (0,n):\n",
    "    a=input(\"Enter Key Name\")\n",
    "    d[a]=b\n",
    "    b=input(\"Enter VALUE Name\")\n",
    "print(d)"
   ]
  },
  {
   "cell_type": "markdown",
   "id": "e4008acf",
   "metadata": {},
   "source": [
    "## Quick Practice 3 : \n",
    "- Create a list with all float values\n",
    "- Create a dictionary with Emp ID as Key and Names as Values"
   ]
  },
  {
   "cell_type": "raw",
   "id": "851d37b1",
   "metadata": {},
   "source": [
    "#Create a dict emp ID as key and names as values\n",
    "emp_data={}\n",
    "n=int(input(\"Enter number of employees\"))\n",
    "for i in range (0,n):\n",
    "    Emp_id=input(\"Enter Emp ID\")\n",
    "    Name = input(\"Enter Name\")\n",
    "    d[Emp_id]=Name\n",
    "print(d)"
   ]
  },
  {
   "cell_type": "code",
   "execution_count": null,
   "id": "715a8060",
   "metadata": {},
   "outputs": [],
   "source": [
    "## Create a dic named Emp_details with Emp ID as Keys and job roels as values.\n",
    "\"A101, B101\""
   ]
  },
  {
   "cell_type": "markdown",
   "id": "04817076",
   "metadata": {},
   "source": [
    "## Loops"
   ]
  },
  {
   "cell_type": "code",
   "execution_count": null,
   "id": "c7bbe6c9",
   "metadata": {},
   "outputs": [],
   "source": [
    "for i in range (0,5):\n",
    "    input(\"Enter Emp name\\t: \")"
   ]
  }
 ],
 "metadata": {
  "kernelspec": {
   "display_name": "Python 3 (ipykernel)",
   "language": "python",
   "name": "python3"
  },
  "language_info": {
   "codemirror_mode": {
    "name": "ipython",
    "version": 3
   },
   "file_extension": ".py",
   "mimetype": "text/x-python",
   "name": "python",
   "nbconvert_exporter": "python",
   "pygments_lexer": "ipython3",
   "version": "3.11.5"
  }
 },
 "nbformat": 4,
 "nbformat_minor": 5
}
