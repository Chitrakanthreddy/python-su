{
 "cells": [
  {
   "cell_type": "markdown",
   "id": "20493689",
   "metadata": {},
   "source": [
    "\n",
    "## Python For Data Science \n",
    "\n",
    "- Python is one of the most popular languages used by Data Scientists. Python has in-built mathematical libraries and functions, making it easier to calculate mathematical functions.\n",
    "\n",
    "\n",
    "## Data Containers in Python\n",
    "1. Strings 2. Lists 3. Tuples 4. Dictionary "
   ]
  },
  {
   "cell_type": "markdown",
   "id": "08479267",
   "metadata": {},
   "source": [
    "## Variable in Python "
   ]
  },
  {
   "cell_type": "code",
   "execution_count": 11,
   "id": "83dc9064",
   "metadata": {},
   "outputs": [
    {
     "data": {
      "text/plain": [
       "complex"
      ]
     },
     "execution_count": 11,
     "metadata": {},
     "output_type": "execute_result"
    }
   ],
   "source": [
    "type(2-4j)\n"
   ]
  },
  {
   "cell_type": "code",
   "execution_count": 25,
   "id": "cb0fa123",
   "metadata": {},
   "outputs": [
    {
     "data": {
      "text/plain": [
       "3"
      ]
     },
     "execution_count": 25,
     "metadata": {},
     "output_type": "execute_result"
    }
   ],
   "source": [
    "#Varible Declaratipon\n",
    "# Enter Emp ID and Name\n",
    "\n",
    "Emp_ID= 1234\n",
    "a_1=123\n",
    "NAME= \"ASHI\"\n",
    "A=23.4\n",
    "_s=9"
   ]
  },
  {
   "cell_type": "markdown",
   "id": "3399c706",
   "metadata": {},
   "source": [
    "## Operations on Numbers"
   ]
  },
  {
   "cell_type": "code",
   "execution_count": 23,
   "id": "7186e2c0",
   "metadata": {},
   "outputs": [
    {
     "data": {
      "text/plain": [
       "17"
      ]
     },
     "execution_count": 23,
     "metadata": {},
     "output_type": "execute_result"
    }
   ],
   "source": [
    "2+3*5\n",
    "\n"
   ]
  },
  {
   "cell_type": "code",
   "execution_count": 24,
   "id": "a49a7b5f",
   "metadata": {},
   "outputs": [
    {
     "data": {
      "text/plain": [
       "7"
      ]
     },
     "execution_count": 24,
     "metadata": {},
     "output_type": "execute_result"
    }
   ],
   "source": [
    "x=2\n",
    "\n",
    "#2x2+4x-9\n",
    "\n",
    "2*(x*x)+4*x-9\n"
   ]
  },
  {
   "cell_type": "code",
   "execution_count": null,
   "id": "c25856f8",
   "metadata": {},
   "outputs": [],
   "source": [
    "##Variable Declaration\n",
    "a=9\n",
    "A=5\n",
    "A_1=9\n",
    "\n",
    "a**2"
   ]
  },
  {
   "cell_type": "code",
   "execution_count": null,
   "id": "3404dd2b",
   "metadata": {},
   "outputs": [],
   "source": [
    "#Quick Practice\n",
    "\n",
    "Declare a varible x =7 and solve following equation using Python: \n",
    "\n",
    "## What is the output for (4x3+3x2+5x+5)?"
   ]
  },
  {
   "cell_type": "markdown",
   "id": "455c1c7b",
   "metadata": {},
   "source": [
    "## Print Function\n"
   ]
  },
  {
   "cell_type": "code",
   "execution_count": 27,
   "id": "e02af73c",
   "metadata": {},
   "outputs": [
    {
     "name": "stdout",
     "output_type": "stream",
     "text": [
      "5\n",
      "9\n",
      "12\n"
     ]
    }
   ],
   "source": [
    "print(2+3)\n",
    "print(4+5)\n",
    "print(3*4)"
   ]
  },
  {
   "cell_type": "code",
   "execution_count": 28,
   "id": "c06de102",
   "metadata": {},
   "outputs": [
    {
     "data": {
      "text/plain": [
       "'i AM SUAYSHI'"
      ]
     },
     "execution_count": 28,
     "metadata": {},
     "output_type": "execute_result"
    }
   ],
   "source": [
    "\"hello\"\n",
    "\"i AM SUAYSHI\""
   ]
  },
  {
   "cell_type": "code",
   "execution_count": 34,
   "id": "81af9396",
   "metadata": {},
   "outputs": [
    {
     "name": "stdout",
     "output_type": "stream",
     "text": [
      "5,9,12\n"
     ]
    }
   ],
   "source": [
    "print(2+3,4+5,3*4,sep=\",\")"
   ]
  },
  {
   "cell_type": "code",
   "execution_count": 35,
   "id": "9659cd62",
   "metadata": {},
   "outputs": [
    {
     "name": "stdout",
     "output_type": "stream",
     "text": [
      "Total number of partcipants = 6\n"
     ]
    }
   ],
   "source": [
    "x=6\n",
    "print(\"Total number of partcipants =\",x)"
   ]
  },
  {
   "cell_type": "markdown",
   "id": "ff4a33cf",
   "metadata": {},
   "source": [
    "## Type Conversion: Convert  variable into another type e.g int to float"
   ]
  },
  {
   "cell_type": "code",
   "execution_count": 37,
   "id": "b8777cfb",
   "metadata": {},
   "outputs": [
    {
     "data": {
      "text/plain": [
       "2.0"
      ]
     },
     "execution_count": 37,
     "metadata": {},
     "output_type": "execute_result"
    }
   ],
   "source": [
    "float(2)"
   ]
  },
  {
   "cell_type": "code",
   "execution_count": 38,
   "id": "d2d9efb4",
   "metadata": {},
   "outputs": [
    {
     "data": {
      "text/plain": [
       "9"
      ]
     },
     "execution_count": 38,
     "metadata": {},
     "output_type": "execute_result"
    }
   ],
   "source": [
    "int(9.8)"
   ]
  },
  {
   "cell_type": "code",
   "execution_count": 44,
   "id": "b3fa7624",
   "metadata": {},
   "outputs": [
    {
     "data": {
      "text/plain": [
       "32.0"
      ]
     },
     "execution_count": 44,
     "metadata": {},
     "output_type": "execute_result"
    }
   ],
   "source": [
    "type(\"32\")\n",
    "type(\"1a\")\n",
    "type(\"aa\")\n",
    "\n",
    "int(\"32\")\n",
    "#int(\"1a\")\n",
    "float(\"32\")"
   ]
  },
  {
   "cell_type": "markdown",
   "id": "1837181e",
   "metadata": {},
   "source": [
    "## Input"
   ]
  },
  {
   "cell_type": "code",
   "execution_count": 50,
   "id": "43c2e0b1",
   "metadata": {},
   "outputs": [
    {
     "name": "stdout",
     "output_type": "stream",
     "text": [
      "Enter your Name: A\n",
      "Enter Age:32\n",
      "Enter Height:23\n"
     ]
    }
   ],
   "source": [
    "Name = input(\"Enter your Name: \") ##Strings\n",
    "Age = int(input(\"Enter Age:\")) ## \n",
    "Height = float(input(\"Enter Height:\"))"
   ]
  },
  {
   "cell_type": "raw",
   "id": "a9045713",
   "metadata": {},
   "source": [
    "## Link : https://jupyter.org/try-jupyter/lab/"
   ]
  },
  {
   "cell_type": "markdown",
   "id": "997c90cf",
   "metadata": {},
   "source": [
    "## Quick Pratice: \n",
    "1.    Create python Script to input following details about your products:\n",
    "\n",
    "- Number of Products (30)\n",
    "- Name of Products Category (3*10)\n",
    "- Cost per Unit \n",
    "- Total Cost Price"
   ]
  },
  {
   "cell_type": "raw",
   "id": "0bcc8cf8",
   "metadata": {},
   "source": [
    "solun\n",
    "a=int(input(\"no of product \"))\n",
    "b=input(\"Name of Products Category \")\n",
    "c=float(input(\"Cost per Unit \"))\n",
    "\n",
    "Total_CP=a*c\n",
    "\n",
    "print(\"Total Cost Price = \",Total_CP )"
   ]
  },
  {
   "cell_type": "markdown",
   "id": "c460b5c7",
   "metadata": {},
   "source": [
    "## Strings "
   ]
  },
  {
   "cell_type": "code",
   "execution_count": 52,
   "id": "7b64fe42",
   "metadata": {},
   "outputs": [
    {
     "data": {
      "text/plain": [
       "12"
      ]
     },
     "execution_count": 52,
     "metadata": {},
     "output_type": "execute_result"
    }
   ],
   "source": [
    "x=\"a\"\n",
    "Y=\"ABCD\"\n",
    "C=\"Data Science\"\n",
    "len(Y)\n",
    "len(C)"
   ]
  },
  {
   "cell_type": "code",
   "execution_count": 68,
   "id": "2538f64c",
   "metadata": {},
   "outputs": [
    {
     "data": {
      "text/plain": [
       "6"
      ]
     },
     "execution_count": 68,
     "metadata": {},
     "output_type": "execute_result"
    }
   ],
   "source": [
    "x=1234\n",
    "Y=\"1234  \"\n",
    "\n",
    "len(Y)"
   ]
  },
  {
   "cell_type": "code",
   "execution_count": null,
   "id": "c3ebabe7",
   "metadata": {},
   "outputs": [],
   "source": [
    "##Functions and methods in strings\n",
    "len(Y)\n",
    "len(C)\n",
    "\n",
    "Y[1] #Index\n",
    "Y[-3]\n",
    "\n",
    "Y[2:4] #Slicing\n",
    "\n",
    "##Y[4]=\"E\" #Immutable \n",
    "##del Y[0]\n",
    "del Y"
   ]
  },
  {
   "cell_type": "code",
   "execution_count": 72,
   "id": "ffb7def0",
   "metadata": {},
   "outputs": [
    {
     "name": "stdout",
     "output_type": "stream",
     "text": [
      "a c\n"
     ]
    }
   ],
   "source": [
    "x=\"abc\"\n",
    "a=\"82154\"\n",
    "\n",
    "#print(min(a),max(a))\n",
    "print(min(x),max(x))"
   ]
  },
  {
   "cell_type": "code",
   "execution_count": 86,
   "id": "3089e453",
   "metadata": {},
   "outputs": [
    {
     "data": {
      "text/plain": [
       "['Ms', 'Suyashi', 'Raiwani']"
      ]
     },
     "execution_count": 86,
     "metadata": {},
     "output_type": "execute_result"
    }
   ],
   "source": [
    "C=\"Ms Suyashi Raiwani\"\n",
    "d=C.split(\" \")\n",
    "d"
   ]
  },
  {
   "cell_type": "code",
   "execution_count": 82,
   "id": "2e542cc3",
   "metadata": {},
   "outputs": [
    {
     "name": "stdout",
     "output_type": "stream",
     "text": [
      "Ms Suyashi RaiwaniMs Suyashi Raiwani\n",
      "Ms Suyashi RaiwaniMs Suyashi RaiwaniMs Suyashi Raiwani\n"
     ]
    }
   ],
   "source": [
    "print(C+C)#3- Concadination\n",
    "\n",
    "print(3*C) #- Repeat\n"
   ]
  },
  {
   "cell_type": "markdown",
   "id": "36900111",
   "metadata": {},
   "source": [
    "## Quick Practice:\n",
    "\n",
    "Write a python script to open a railway ticket booking portal and enter following details from users :\n",
    "- 1-Name\n",
    "- 2-last Name\n",
    "- 3-Age\n",
    "- 4-Gender\n",
    "- 5-Boarding Point \n",
    "- 6-destination"
   ]
  },
  {
   "cell_type": "code",
   "execution_count": null,
   "id": "2bdb672f",
   "metadata": {},
   "outputs": [],
   "source": [
    "## Solution \n",
    "\n"
   ]
  },
  {
   "cell_type": "markdown",
   "id": "5ff74625",
   "metadata": {},
   "source": [
    "## String Functions and Methods"
   ]
  },
  {
   "cell_type": "code",
   "execution_count": 90,
   "id": "9915aa82",
   "metadata": {},
   "outputs": [
    {
     "data": {
      "text/plain": [
       "False"
      ]
     },
     "execution_count": 90,
     "metadata": {},
     "output_type": "execute_result"
    }
   ],
   "source": [
    "x=\"abc123\"\n",
    "x.isspace()"
   ]
  },
  {
   "cell_type": "raw",
   "id": "4f922ae4",
   "metadata": {},
   "source": [
    "x.isalnum()\n",
    "x.isalpha()\n",
    "x.isascii()\n",
    "x.isdecimal()\n",
    "x.isspace()\n",
    "x.join(\"a\")\n"
   ]
  },
  {
   "cell_type": "code",
   "execution_count": null,
   "id": "527139db",
   "metadata": {},
   "outputs": [],
   "source": [
    "x.isspace()"
   ]
  },
  {
   "cell_type": "code",
   "execution_count": null,
   "id": "1781cfff",
   "metadata": {},
   "outputs": [],
   "source": [
    "x.isalpha()"
   ]
  },
  {
   "cell_type": "raw",
   "id": "559135bf",
   "metadata": {},
   "source": [
    "if (con):\n",
    "   \n",
    "\n",
    "    if(con):\n",
    "        if(con):\n",
    "            ----\n",
    "        else(*)\n",
    "    else\n",
    "    \n",
    "elseif \n",
    "\n",
    "else:\n",
    "\n"
   ]
  },
  {
   "cell_type": "markdown",
   "id": "06e4cf32",
   "metadata": {},
   "source": [
    "## If else condition"
   ]
  },
  {
   "cell_type": "code",
   "execution_count": 96,
   "id": "401a58eb",
   "metadata": {},
   "outputs": [
    {
     "name": "stdout",
     "output_type": "stream",
     "text": [
      "I am Neutral\n"
     ]
    }
   ],
   "source": [
    "a=0\n",
    "b=\"ab\"\n",
    "\n",
    "if a>80:\n",
    "    print(\"I am happy\")\n",
    "    if b==\"ab\"\n",
    "       print(\"correct username\")\n",
    "    else:\n",
    "        print(\"Inavlid username\")\n",
    "    \n",
    "if a==0:\n",
    "    print(\"I am Neutral\")\n",
    "    \n",
    "else:\n",
    "    print(\"Not Happy\")\n"
   ]
  },
  {
   "cell_type": "code",
   "execution_count": 110,
   "id": "80e96bc3",
   "metadata": {},
   "outputs": [
    {
     "name": "stdout",
     "output_type": "stream",
     "text": [
      "Your name pleaseAshi\n",
      "Enter your Age:12\n",
      "Ashi your age i.e 12 is not valid to use this portal\n"
     ]
    }
   ],
   "source": [
    "b=input(\"Your name please\")\n",
    "## %s-string, %d - int, %f-float\n",
    "a=int(input(\"Enter your Age:\"))\n",
    "if a>=18:\n",
    "    print(\"Welcome and sign in to this portal\")\n",
    "    name=input(\"Create UserName:\")\n",
    "    if len(name)>=5:\n",
    "        pwd=input(\"Create Password:\")\n",
    "    else:\n",
    "        print(\"User Name does not met the criteria\")\n",
    "else:\n",
    "    print(\"%s your age i.e %d is not valid to use this portal\"%(b,a))"
   ]
  },
  {
   "cell_type": "markdown",
   "id": "f0c0324b",
   "metadata": {},
   "source": [
    "Quick Parctice:\n",
    "1. Write a python script to open a railway ticket booking portal and enter following details from users :\n",
    "2. Ask for Sign in with UserName, Password (Greater than 5), Age > 16\n",
    "\n",
    "3. Login for booking \n",
    "UserName and Pwd \n",
    "\n",
    "\n",
    "1-Name \n",
    "2-last Name  \n",
    "3-Age\n",
    "4-Gender\n",
    "5-Boarding Point\n",
    "6-destination\n",
    "\n",
    "\n",
    "\n"
   ]
  },
  {
   "cell_type": "markdown",
   "id": "406a30a7",
   "metadata": {},
   "source": [
    "### Quick Pratice:\n",
    "- Create python Script to input following details about your products:\n",
    "- Number of Products (30)\n",
    "- Name of Products Category (3*10)\n",
    "- Cost per Unit\n",
    "- Total Cost Price"
   ]
  },
  {
   "cell_type": "code",
   "execution_count": null,
   "id": "5079d07c",
   "metadata": {},
   "outputs": [],
   "source": [
    "\n",
    "\n",
    "# Input details for 30 products\n",
    "num_products = 30\n",
    "\n",
    "# Define details for each product\n",
    "product_details = {\n",
    "    f\"Product_{i+1}\": {\n",
    "        \"Name\": input(f\"Enter name for Product {i+1}: \"),\n",
    "        \"Category\": input(f\"Enter category for Product {i+1}: \"),\n",
    "        \"Cost per Unit\": float(input(f\"Enter cost per unit for Product {i+1}: \")),\n",
    "        \"Total Cost Price\": lambda cost_per_unit, quantity=1: cost_per_unit * quantity\n",
    "    }\n",
    "    for i in range(num_products)\n",
    "}\n",
    "\n",
    "# Display entered product details\n",
    "for key, details in product_details.items():\n",
    "    cost_per_unit = details[\"Cost per Unit\"]\n",
    "    details[\"Total Cost Price\"] = details[\"Total Cost Price\"](cost_per_unit)  # Calculate total cost\n",
    "    print(f\"\\nDetails for {key}:\")\n",
    "    print(f\"Name: {details['Name']}\")\n",
    "    print(f\"Category: {details['Category']}\")\n",
    "    print(f\"Cost per Unit: {cost_per_unit}\")\n",
    "    print(f\"Total Cost Price: {details['Total Cost Price']}\")\n"
   ]
  },
  {
   "cell_type": "code",
   "execution_count": null,
   "id": "63b422ee",
   "metadata": {},
   "outputs": [],
   "source": [
    "## If else:\n",
    "\n",
    "Name= input(\"Enter UserName\")\n",
    "Age=int(input(\"Age Please\"))\n",
    "\n",
    "if len(Name) >=5:\n",
    "    print(\"Valid UserName\\t:\")\n",
    "    if Age>15:\n",
    "        print(\"You can Proceed with booking\")\n",
    "    else:\n",
    "        print(\"Your Booking Not allowed\")\n",
    "else:\n",
    "    print(\"Please check userName Criteria\")"
   ]
  },
  {
   "cell_type": "code",
   "execution_count": null,
   "id": "01960a64",
   "metadata": {},
   "outputs": [],
   "source": [
    "x=range(1,10)\n",
    "x\n"
   ]
  },
  {
   "cell_type": "code",
   "execution_count": null,
   "id": "d879a5b5",
   "metadata": {},
   "outputs": [],
   "source": [
    "x=list(range(1,10,3) )#start,stop-1,interval\n",
    "x"
   ]
  },
  {
   "cell_type": "markdown",
   "id": "ac942271",
   "metadata": {},
   "source": [
    "## Quick Practice: \n",
    "- Please create a user name of length 6 if user name is valid then  create a password of length 7, if pwd is valid then print(\"Welcome to homepage\")\n",
    "\n",
    "- Write a program that performs addition, subtraction, multiplication, or division based on user input. Prompt the user to enter two numbers and an operation (+, -, *, /). Perform the calculation and print the result."
   ]
  },
  {
   "cell_type": "code",
   "execution_count": null,
   "id": "8948b52e",
   "metadata": {},
   "outputs": [],
   "source": [
    "## Please create a user name of length 6, create a password of lenghth 7 \n",
    "\n",
    "user=input(\"Create user name for minimum 6 lenghth:\")\n",
    "\n",
    "if len(user) >= 6:\n",
    "    print(\"Valid user name\")\n",
    "else:\n",
    "    print(\"Ops! User name not created invalid format\")"
   ]
  },
  {
   "cell_type": "code",
   "execution_count": null,
   "id": "7b26ed2b",
   "metadata": {},
   "outputs": [],
   "source": [
    "## Loops\n",
    "for i in range(0,3):\n",
    "    user=input(\"Enter your name:\")\n",
    "  "
   ]
  },
  {
   "cell_type": "code",
   "execution_count": null,
   "id": "34a1036a",
   "metadata": {},
   "outputs": [],
   "source": [
    "for i in \"ash\":\n",
    "     user=input(\"Enter your name:\\t\")"
   ]
  },
  {
   "cell_type": "markdown",
   "id": "90989383",
   "metadata": {},
   "source": [
    "## Ques 2: \n",
    "Input create a password  with following critera:\n",
    "1. Min len 3 and 10\n",
    "2. Should contain one number \n",
    "3. Should contain upper case member\n",
    "4. Should not have a space\n",
    "5. Shoukd have one special charactor sp=[\"@\",\"?\",\"*\",\"$\",\"&\",\"^\",#.!]"
   ]
  },
  {
   "cell_type": "code",
   "execution_count": null,
   "id": "c36dd721",
   "metadata": {},
   "outputs": [],
   "source": [
    "## Atleast one number \n",
    "d=0\n",
    "s=0\n",
    "u=0\n",
    "sp=[\"@\",\"?\",\"*\",\"$\"]\n",
    "\n",
    "user=input(\"Create user name for minimum 6 lenghth:\")\n",
    "\n",
    "for i in user:\n",
    "    if i.isdigit():\n",
    "        d=d+1\n",
    "    if i.isspace():\n",
    "        s=s+1\n",
    "    if i.isupper():\n",
    "        u=u+1\n",
    "    else:\n",
    "        pass\n",
    "if d>0 and s==0:\n",
    "    pass\n",
    "else:\n",
    "    print(\"Opps !! you have not added a digit to username or included a space\")\n",
    "if u>0:\n",
    "    print(\"Valid User name\")\n",
    "else:\n",
    "    print(\"Opps !! you have not added a uppercase \")\n",
    "    "
   ]
  },
  {
   "cell_type": "code",
   "execution_count": null,
   "id": "be729b06",
   "metadata": {},
   "outputs": [],
   "source": [
    "s=\"poor\"\n",
    "#3s[4]=s\n",
    "#del s[1]\n",
    "del s\n",
    "\n",
    "s= \"this is first session for data Science\"\n",
    "\n",
    "#s.split(\" \")\n",
    "s.index(\"f\")"
   ]
  },
  {
   "cell_type": "markdown",
   "id": "60ca62eb",
   "metadata": {},
   "source": [
    "#### List "
   ]
  },
  {
   "cell_type": "code",
   "execution_count": null,
   "id": "fb81037e",
   "metadata": {},
   "outputs": [],
   "source": [
    "##a=[],[[]],[[[]]]\n",
    "\n",
    "a=[1,1,2]\n",
    "b=[1,2.1,\"a\"]\n",
    "c=[[1,12],[21,3]]"
   ]
  },
  {
   "cell_type": "code",
   "execution_count": null,
   "id": "9614269a",
   "metadata": {},
   "outputs": [],
   "source": [
    "a.append(5)\n",
    "a\n",
    "del a[0]"
   ]
  },
  {
   "cell_type": "code",
   "execution_count": null,
   "id": "21f3aa64",
   "metadata": {},
   "outputs": [],
   "source": [
    "a.insert(2,3)\n"
   ]
  },
  {
   "cell_type": "code",
   "execution_count": null,
   "id": "bbd4e990",
   "metadata": {},
   "outputs": [],
   "source": [
    "a"
   ]
  },
  {
   "cell_type": "code",
   "execution_count": null,
   "id": "193f7bbd",
   "metadata": {},
   "outputs": [],
   "source": [
    "len(a)\n",
    "max(a)\n",
    "min(a)"
   ]
  },
  {
   "cell_type": "code",
   "execution_count": null,
   "id": "d867e115",
   "metadata": {},
   "outputs": [],
   "source": [
    "## Tuples \n",
    "b=(1,2,3)\n",
    "#b.append(4)\n",
    "\n",
    "##del b[2]\n",
    "## tuples also does nit support item addition or deletion. "
   ]
  },
  {
   "cell_type": "code",
   "execution_count": null,
   "id": "3c213653",
   "metadata": {},
   "outputs": [],
   "source": [
    "del b"
   ]
  },
  {
   "cell_type": "markdown",
   "id": "e83342c5",
   "metadata": {},
   "source": [
    "## Dictionary \n",
    "- Mapping data types \n",
    "- Key value pairs \n",
    "- key are index to members for dictionary\n",
    "- Keys are unique with one value for one key\n",
    "- Duplicate Key creation is not possible"
   ]
  },
  {
   "cell_type": "code",
   "execution_count": null,
   "id": "43015b23",
   "metadata": {},
   "outputs": [],
   "source": [
    "d={}\n",
    "d={\"A\":\"red\",\"B\":\"Blue\"}"
   ]
  },
  {
   "cell_type": "code",
   "execution_count": null,
   "id": "ddcad84b",
   "metadata": {},
   "outputs": [],
   "source": [
    "d.keys()"
   ]
  },
  {
   "cell_type": "code",
   "execution_count": null,
   "id": "35f46d77",
   "metadata": {},
   "outputs": [],
   "source": [
    "d.values()"
   ]
  },
  {
   "cell_type": "code",
   "execution_count": null,
   "id": "3ff3e257",
   "metadata": {},
   "outputs": [],
   "source": [
    "d[\"C\"] =\"green\""
   ]
  },
  {
   "cell_type": "code",
   "execution_count": null,
   "id": "0880d1dc",
   "metadata": {},
   "outputs": [],
   "source": [
    "del d[C]"
   ]
  },
  {
   "cell_type": "code",
   "execution_count": null,
   "id": "f8d55714",
   "metadata": {},
   "outputs": [],
   "source": [
    "d"
   ]
  },
  {
   "cell_type": "code",
   "execution_count": null,
   "id": "fde823d8",
   "metadata": {},
   "outputs": [],
   "source": [
    "del d['C']"
   ]
  },
  {
   "cell_type": "code",
   "execution_count": null,
   "id": "b37d0cc0",
   "metadata": {},
   "outputs": [],
   "source": [
    "d"
   ]
  },
  {
   "cell_type": "code",
   "execution_count": null,
   "id": "b434081e",
   "metadata": {},
   "outputs": [],
   "source": [
    "d={1:\"a\",2:\"b\"}\n",
    "d"
   ]
  },
  {
   "cell_type": "code",
   "execution_count": null,
   "id": "f14b31d3",
   "metadata": {},
   "outputs": [],
   "source": [
    "d[1]=\"a\"\n",
    "d"
   ]
  },
  {
   "cell_type": "code",
   "execution_count": null,
   "id": "33358043",
   "metadata": {},
   "outputs": [],
   "source": [
    "## User Input List\n",
    "x=[]\n",
    "n=int(input(\"Enter number of members\" ))\n",
    "for i in range (0,n):\n",
    "    m=int(input(\"Add list member\\t:\"))\n",
    "    x.append(m)\n",
    "print(x)   "
   ]
  },
  {
   "cell_type": "code",
   "execution_count": null,
   "id": "ed609b94",
   "metadata": {},
   "outputs": [],
   "source": [
    "#### user input Diction\n",
    "d={}\n",
    "n=int(input(\"Enter number of members\"))\n",
    "for i in range (0,n):\n",
    "    a=input(\"Enter Key Name\")\n",
    "    d[a]=b\n",
    "    b=input(\"Enter VALUE Name\")\n",
    "print(d)"
   ]
  },
  {
   "cell_type": "markdown",
   "id": "e4008acf",
   "metadata": {},
   "source": [
    "## Quick Practice 3 : \n",
    "- Create a list with all float values\n",
    "- Create a dictionary with Emp ID as Key and Names as Values"
   ]
  },
  {
   "cell_type": "raw",
   "id": "851d37b1",
   "metadata": {},
   "source": [
    "#Create a dict emp ID as key and names as values\n",
    "emp_data={}\n",
    "n=int(input(\"Enter number of employees\"))\n",
    "for i in range (0,n):\n",
    "    Emp_id=input(\"Enter Emp ID\")\n",
    "    Name = input(\"Enter Name\")\n",
    "    d[Emp_id]=Name\n",
    "print(d)"
   ]
  },
  {
   "cell_type": "code",
   "execution_count": null,
   "id": "715a8060",
   "metadata": {},
   "outputs": [],
   "source": [
    "## Create a dic named Emp_details with Emp ID as Keys and job roels as values.\n",
    "\"A101, B101\""
   ]
  },
  {
   "cell_type": "markdown",
   "id": "04817076",
   "metadata": {},
   "source": [
    "## Loops"
   ]
  },
  {
   "cell_type": "code",
   "execution_count": null,
   "id": "c7bbe6c9",
   "metadata": {},
   "outputs": [],
   "source": [
    "for i in range (0,5):\n",
    "    input(\"Enter Emp name\\t: \")"
   ]
  }
 ],
 "metadata": {
  "kernelspec": {
   "display_name": "Python 3 (ipykernel)",
   "language": "python",
   "name": "python3"
  },
  "language_info": {
   "codemirror_mode": {
    "name": "ipython",
    "version": 3
   },
   "file_extension": ".py",
   "mimetype": "text/x-python",
   "name": "python",
   "nbconvert_exporter": "python",
   "pygments_lexer": "ipython3",
   "version": "3.11.5"
  }
 },
 "nbformat": 4,
 "nbformat_minor": 5
}
