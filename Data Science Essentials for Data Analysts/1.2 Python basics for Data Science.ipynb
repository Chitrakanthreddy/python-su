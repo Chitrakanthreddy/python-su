{
 "cells": [
  {
   "cell_type": "markdown",
   "id": "20493689",
   "metadata": {},
   "source": [
    "\n",
    "## Python For Data Science \n",
    "\n",
    "- Python is one of the most popular languages used by Data Scientists. Python has in-built mathematical libraries and functions, making it easier to calculate mathematical functions.\n",
    "\n",
    "\n",
    "## Data Containers in Python\n",
    "1. Strings 2. Lists 3. Tuples 4. Dictionary "
   ]
  },
  {
   "cell_type": "markdown",
   "id": "08479267",
   "metadata": {},
   "source": [
    "## Variable in Python "
   ]
  },
  {
   "cell_type": "code",
   "execution_count": 15,
   "id": "83dc9064",
   "metadata": {},
   "outputs": [
    {
     "data": {
      "text/plain": [
       "str"
      ]
     },
     "execution_count": 15,
     "metadata": {},
     "output_type": "execute_result"
    }
   ],
   "source": [
    "\"as\"\n",
    "\n",
    "type(\"This is my Class\")"
   ]
  },
  {
   "cell_type": "code",
   "execution_count": 22,
   "id": "cb0fa123",
   "metadata": {},
   "outputs": [],
   "source": [
    "#Varible Declaratipon\n",
    "# Enter Emp_ID and Name and Age2024 in Python Interface\n",
    "\n",
    "a =\"ashi\"\n",
    "a_1=\"Rai\"\n",
    "a1=9\n",
    "_a=0\n",
    "ash=\"ashi\""
   ]
  },
  {
   "cell_type": "code",
   "execution_count": null,
   "id": "f6ec607e",
   "metadata": {},
   "outputs": [],
   "source": []
  },
  {
   "cell_type": "markdown",
   "id": "09ae0060",
   "metadata": {},
   "source": [
    "## Operations on Numbers"
   ]
  },
  {
   "cell_type": "code",
   "execution_count": 28,
   "id": "7186e2c0",
   "metadata": {},
   "outputs": [
    {
     "data": {
      "text/plain": [
       "387420489"
      ]
     },
     "execution_count": 28,
     "metadata": {},
     "output_type": "execute_result"
    }
   ],
   "source": [
    "(12+8*2)//3\n",
    "\n",
    "9**9"
   ]
  },
  {
   "cell_type": "code",
   "execution_count": 30,
   "id": "a49a7b5f",
   "metadata": {},
   "outputs": [
    {
     "data": {
      "text/plain": [
       "7"
      ]
     },
     "execution_count": 30,
     "metadata": {},
     "output_type": "execute_result"
    }
   ],
   "source": [
    "x=2\n",
    "\n",
    "#2x2+4x-9\n",
    "\n",
    "2*(x**2)+4*x-9\n"
   ]
  },
  {
   "cell_type": "code",
   "execution_count": null,
   "id": "3404dd2b",
   "metadata": {},
   "outputs": [],
   "source": [
    "#Quick Practice\n",
    "\n",
    "Declare a varible x =7 and solve following equation using Python: \n",
    "\n",
    "## What is the output for (4x3+3x2+5x+5)?"
   ]
  },
  {
   "cell_type": "markdown",
   "id": "455c1c7b",
   "metadata": {},
   "source": [
    "## Print Function\n"
   ]
  },
  {
   "cell_type": "code",
   "execution_count": 35,
   "id": "e02af73c",
   "metadata": {},
   "outputs": [
    {
     "name": "stdout",
     "output_type": "stream",
     "text": [
      "sum 9\n",
      "Diff -3\n",
      "Div 0.5\n"
     ]
    }
   ],
   "source": [
    "x=3\n",
    "y=6\n",
    "print(\"sum\",x+y)\n",
    "print(\"Diff\",x-y)\n",
    "print(\"Div\", x/y)"
   ]
  },
  {
   "cell_type": "code",
   "execution_count": 40,
   "id": "81af9396",
   "metadata": {},
   "outputs": [
    {
     "name": "stdout",
     "output_type": "stream",
     "text": [
      "5\t9\t12\n"
     ]
    }
   ],
   "source": [
    "print(2+3,4+5,3*4,sep=\"\\t\")"
   ]
  },
  {
   "cell_type": "code",
   "execution_count": null,
   "id": "9659cd62",
   "metadata": {},
   "outputs": [],
   "source": [
    "x=6\n",
    "print(\"Total number of partcipants =\",x)"
   ]
  },
  {
   "cell_type": "markdown",
   "id": "ff4a33cf",
   "metadata": {},
   "source": [
    "## Type Conversion: Convert  variable into another type e.g int to float"
   ]
  },
  {
   "cell_type": "code",
   "execution_count": 41,
   "id": "b8777cfb",
   "metadata": {},
   "outputs": [
    {
     "data": {
      "text/plain": [
       "2.0"
      ]
     },
     "execution_count": 41,
     "metadata": {},
     "output_type": "execute_result"
    }
   ],
   "source": [
    "float(2)"
   ]
  },
  {
   "cell_type": "code",
   "execution_count": 45,
   "id": "d2d9efb4",
   "metadata": {},
   "outputs": [
    {
     "ename": "ValueError",
     "evalue": "invalid literal for int() with base 10: '98a'",
     "output_type": "error",
     "traceback": [
      "\u001b[1;31m---------------------------------------------------------------------------\u001b[0m",
      "\u001b[1;31mValueError\u001b[0m                                Traceback (most recent call last)",
      "Cell \u001b[1;32mIn[45], line 2\u001b[0m\n\u001b[0;32m      1\u001b[0m \u001b[38;5;28mint\u001b[39m(\u001b[38;5;241m9.8\u001b[39m)\n\u001b[1;32m----> 2\u001b[0m \u001b[38;5;28mint\u001b[39m(\u001b[38;5;124m\"\u001b[39m\u001b[38;5;124m98a\u001b[39m\u001b[38;5;124m\"\u001b[39m)\n",
      "\u001b[1;31mValueError\u001b[0m: invalid literal for int() with base 10: '98a'"
     ]
    }
   ],
   "source": [
    "int(9.8)\n",
    "int(\"98a\")"
   ]
  },
  {
   "cell_type": "markdown",
   "id": "1837181e",
   "metadata": {},
   "source": [
    "## Input"
   ]
  },
  {
   "cell_type": "code",
   "execution_count": 50,
   "id": "43c2e0b1",
   "metadata": {},
   "outputs": [
    {
     "name": "stdout",
     "output_type": "stream",
     "text": [
      "Enter your Name: a\n",
      "Enter Age:12\n",
      "Enter Height:23.4\n"
     ]
    }
   ],
   "source": [
    "Name = input(\"Enter your Name: \") ##Strings\n",
    "Age = int(input(\"Enter Age:\")) ## Integers\n",
    "Height = float(input(\"Enter Height:\")) ## Floats"
   ]
  },
  {
   "cell_type": "raw",
   "id": "a9045713",
   "metadata": {},
   "source": [
    "## Link : https://jupyter.org/try-jupyter/lab/"
   ]
  },
  {
   "cell_type": "markdown",
   "id": "997c90cf",
   "metadata": {},
   "source": [
    "## Quick Pratice: \n",
    "1.    Create python Script to input following details about your products:\n",
    "\n",
    "- Number of Products (30)\n",
    "- Name of Products Category (3*10)\n",
    "- Cost per Unit \n",
    "- Total Cost Price"
   ]
  },
  {
   "cell_type": "raw",
   "id": "0bcc8cf8",
   "metadata": {},
   "source": [
    "solun\n",
    "a=int(input(\"no of product \"))\n",
    "b=input(\"Name of Products Category \")\n",
    "c=float(input(\"Cost per Unit \"))\n",
    "\n",
    "Total_CP=a*c\n",
    "\n",
    "print(\"Total Cost Price = \",Total_CP )"
   ]
  },
  {
   "cell_type": "markdown",
   "id": "c460b5c7",
   "metadata": {},
   "source": [
    "## Strings "
   ]
  },
  {
   "cell_type": "code",
   "execution_count": 51,
   "id": "7b64fe42",
   "metadata": {},
   "outputs": [
    {
     "data": {
      "text/plain": [
       "12"
      ]
     },
     "execution_count": 51,
     "metadata": {},
     "output_type": "execute_result"
    }
   ],
   "source": [
    "x=\"a\"\n",
    "Y=\"ABCD\"\n",
    "C=\"Data Science\"\n",
    "len(Y)\n",
    "len(C) "
   ]
  },
  {
   "cell_type": "code",
   "execution_count": 53,
   "id": "2538f64c",
   "metadata": {},
   "outputs": [
    {
     "data": {
      "text/plain": [
       "'a Sci'"
      ]
     },
     "execution_count": 53,
     "metadata": {},
     "output_type": "execute_result"
    }
   ],
   "source": [
    "Y[0],Y[-1],Y[1]\n",
    "\n",
    "C[3:8]"
   ]
  },
  {
   "cell_type": "code",
   "execution_count": 57,
   "id": "c3ebabe7",
   "metadata": {},
   "outputs": [
    {
     "ename": "NameError",
     "evalue": "name 'Y' is not defined",
     "output_type": "error",
     "traceback": [
      "\u001b[1;31m---------------------------------------------------------------------------\u001b[0m",
      "\u001b[1;31mNameError\u001b[0m                                 Traceback (most recent call last)",
      "Cell \u001b[1;32mIn[57], line 3\u001b[0m\n\u001b[0;32m      1\u001b[0m \u001b[38;5;66;03m#Y[4]=\"E\"\u001b[39;00m\n\u001b[0;32m      2\u001b[0m \u001b[38;5;66;03m#del Y[0]\u001b[39;00m\n\u001b[1;32m----> 3\u001b[0m \u001b[38;5;28;01mdel\u001b[39;00m Y\n\u001b[0;32m      4\u001b[0m Y\n",
      "\u001b[1;31mNameError\u001b[0m: name 'Y' is not defined"
     ]
    }
   ],
   "source": [
    "#Y[4]=\"E\"\n",
    "#del Y[0]\n",
    "del Y\n",
    "#Y"
   ]
  },
  {
   "cell_type": "code",
   "execution_count": 60,
   "id": "ffb7def0",
   "metadata": {},
   "outputs": [
    {
     "name": "stdout",
     "output_type": "stream",
     "text": [
      "1 8\n",
      "1 c\n"
     ]
    }
   ],
   "source": [
    "x=\"caderg\"\n",
    "a=\"82154\"\n",
    "y=\"12abc\"\n",
    "\n",
    "print(min(a),max(a))\n",
    "print(min(y),max(y))"
   ]
  },
  {
   "cell_type": "code",
   "execution_count": 62,
   "id": "3089e453",
   "metadata": {},
   "outputs": [
    {
     "data": {
      "text/plain": [
       "['Ms Suyash', ' Ra', 'wan', '']"
      ]
     },
     "execution_count": 62,
     "metadata": {},
     "output_type": "execute_result"
    }
   ],
   "source": [
    "C=\"Ms Suyashi Raiwani\"\n",
    "d=C.split(\"i\")\n",
    "d"
   ]
  },
  {
   "cell_type": "code",
   "execution_count": 64,
   "id": "2e542cc3",
   "metadata": {},
   "outputs": [
    {
     "name": "stdout",
     "output_type": "stream",
     "text": [
      "Ms Suyashi RaiwaniMs Suyashi Raiwani\n",
      "Ms Suyashi RaiwaniMs Suyashi RaiwaniMs Suyashi RaiwaniMs Suyashi Raiwani\n"
     ]
    }
   ],
   "source": [
    "print(C+C)#3- Concadination\n",
    "\n",
    "print(4*C) #- Repeat"
   ]
  },
  {
   "cell_type": "markdown",
   "id": "36900111",
   "metadata": {},
   "source": [
    "## Quick Practice:\n",
    "\n",
    "Write a python script to open a railway ticket booking portal and enter following details from users :\n",
    "- 1-Name\n",
    "- 2-last Name\n",
    "- 3-Age\n",
    "- 4-Gender\n",
    "- 5-Boarding Point \n",
    "- 6-destination"
   ]
  },
  {
   "cell_type": "code",
   "execution_count": null,
   "id": "2bdb672f",
   "metadata": {},
   "outputs": [],
   "source": [
    "## Solution \n",
    "\n"
   ]
  },
  {
   "cell_type": "markdown",
   "id": "5ff74625",
   "metadata": {},
   "source": [
    "## String Functions and Methods"
   ]
  },
  {
   "cell_type": "code",
   "execution_count": 65,
   "id": "9915aa82",
   "metadata": {},
   "outputs": [
    {
     "data": {
      "text/plain": [
       "False"
      ]
     },
     "execution_count": 65,
     "metadata": {},
     "output_type": "execute_result"
    }
   ],
   "source": [
    "x=\"abc123\"\n",
    "x.isspace()"
   ]
  },
  {
   "cell_type": "code",
   "execution_count": 68,
   "id": "f17e0e6e",
   "metadata": {},
   "outputs": [
    {
     "name": "stdout",
     "output_type": "stream",
     "text": [
      "True\n",
      "False\n",
      "False\n"
     ]
    }
   ],
   "source": [
    "print(x.isalnum())\n",
    "print(x.isalpha())\n",
    "\n",
    "print(x.isupper())\n"
   ]
  },
  {
   "cell_type": "code",
   "execution_count": null,
   "id": "527139db",
   "metadata": {},
   "outputs": [],
   "source": [
    "x.isspace()"
   ]
  },
  {
   "cell_type": "code",
   "execution_count": null,
   "id": "1781cfff",
   "metadata": {},
   "outputs": [],
   "source": [
    "x.isalpha()"
   ]
  },
  {
   "cell_type": "raw",
   "id": "559135bf",
   "metadata": {},
   "source": [
    "if (con):\n",
    "   \n",
    "\n",
    "    if(con):\n",
    "        if(con):\n",
    "            ----\n",
    "        else(*)\n",
    "    else\n",
    "    \n",
    "elseif \n",
    "\n",
    "else:\n",
    "\n"
   ]
  },
  {
   "cell_type": "markdown",
   "id": "06e4cf32",
   "metadata": {},
   "source": [
    "## If else condition"
   ]
  },
  {
   "cell_type": "code",
   "execution_count": null,
   "id": "401a58eb",
   "metadata": {},
   "outputs": [],
   "source": [
    "a=0\n",
    "b=\"ab\"\n",
    "\n",
    "if a>80:\n",
    "    print(\"I am happy\")\n",
    "    if b==\"ab\"\n",
    "       print(\"correct username\")\n",
    "    else:\n",
    "        print(\"Inavlid username\")\n",
    "    \n",
    "if a==0:\n",
    "    print(\"I am Neutral\")\n",
    "    \n",
    "else:\n",
    "    print(\"Not Happy\")\n"
   ]
  },
  {
   "cell_type": "code",
   "execution_count": null,
   "id": "80e96bc3",
   "metadata": {},
   "outputs": [],
   "source": [
    "b=input(\"Your name please\")\n",
    "## %s-string, %d - int, %f-float\n",
    "a=int(input(\"Enter your Age:\"))\n",
    "if a>=18:\n",
    "    print(\"Welcome and sign in to this portal\")\n",
    "    name=input(\"Create UserName:\")\n",
    "    if len(name)>=5:\n",
    "        pwd=input(\"Create Password:\")\n",
    "    else:\n",
    "        print(\"User Name does not met the criteria\")\n",
    "else:\n",
    "    print(\"%s your age i.e %d is not valid to use this portal\"%(b,a))"
   ]
  },
  {
   "cell_type": "markdown",
   "id": "f0c0324b",
   "metadata": {},
   "source": [
    "Quick Parctice:\n",
    "1. Write a python script to open a railway ticket booking portal and enter following details from users :\n",
    "2. Ask for Sign in with UserName, Password (Greater than 5), Age > 16\n",
    "\n",
    "3. Login for booking \n",
    "UserName and Pwd \n",
    "\n",
    "\n",
    "1-Name \n",
    "2-last Name  \n",
    "3-Age\n",
    "4-Gender\n",
    "5-Boarding Point\n",
    "6-destination\n",
    "\n",
    "\n",
    "\n"
   ]
  },
  {
   "cell_type": "markdown",
   "id": "406a30a7",
   "metadata": {},
   "source": [
    "### Quick Pratice:\n",
    "- Create python Script to input following details about your products:\n",
    "- Number of Products (30)\n",
    "- Name of Products Category (3*10)\n",
    "- Cost per Unit\n",
    "- Total Cost Price"
   ]
  },
  {
   "cell_type": "code",
   "execution_count": null,
   "id": "5079d07c",
   "metadata": {},
   "outputs": [],
   "source": [
    "\n",
    "\n",
    "# Input details for 30 products\n",
    "num_products = 30\n",
    "\n",
    "# Define details for each product\n",
    "product_details = {\n",
    "    f\"Product_{i+1}\": {\n",
    "        \"Name\": input(f\"Enter name for Product {i+1}: \"),\n",
    "        \"Category\": input(f\"Enter category for Product {i+1}: \"),\n",
    "        \"Cost per Unit\": float(input(f\"Enter cost per unit for Product {i+1}: \")),\n",
    "        \"Total Cost Price\": lambda cost_per_unit, quantity=1: cost_per_unit * quantity\n",
    "    }\n",
    "    for i in range(num_products)\n",
    "}\n",
    "\n",
    "# Display entered product details\n",
    "for key, details in product_details.items():\n",
    "    cost_per_unit = details[\"Cost per Unit\"]\n",
    "    details[\"Total Cost Price\"] = details[\"Total Cost Price\"](cost_per_unit)  # Calculate total cost\n",
    "    print(f\"\\nDetails for {key}:\")\n",
    "    print(f\"Name: {details['Name']}\")\n",
    "    print(f\"Category: {details['Category']}\")\n",
    "    print(f\"Cost per Unit: {cost_per_unit}\")\n",
    "    print(f\"Total Cost Price: {details['Total Cost Price']}\")\n"
   ]
  },
  {
   "cell_type": "code",
   "execution_count": null,
   "id": "63b422ee",
   "metadata": {},
   "outputs": [],
   "source": [
    "## If else:\n",
    "\n",
    "Name= input(\"Enter UserName\")\n",
    "Age=int(input(\"Age Please\"))\n",
    "\n",
    "if len(Name) >=5:\n",
    "    print(\"Valid UserName\\t:\")\n",
    "    if Age>15:\n",
    "        print(\"You can Proceed with booking\")\n",
    "    else:\n",
    "        print(\"Your Booking Not allowed\")\n",
    "else:\n",
    "    print(\"Please check userName Criteria\")"
   ]
  },
  {
   "cell_type": "code",
   "execution_count": null,
   "id": "01960a64",
   "metadata": {},
   "outputs": [],
   "source": [
    "x=range(1,10)\n",
    "x\n"
   ]
  },
  {
   "cell_type": "code",
   "execution_count": null,
   "id": "d879a5b5",
   "metadata": {},
   "outputs": [],
   "source": [
    "x=list(range(1,10,3) )#start,stop-1,interval\n",
    "x"
   ]
  },
  {
   "cell_type": "markdown",
   "id": "ac942271",
   "metadata": {},
   "source": [
    "## Quick Practice: \n",
    "- Please create a user name of length 6 if user name is valid then  create a password of length 7, if pwd is valid then print(\"Welcome to homepage\")\n",
    "\n",
    "- Write a program that performs addition, subtraction, multiplication, or division based on user input. Prompt the user to enter two numbers and an operation (+, -, *, /). Perform the calculation and print the result."
   ]
  },
  {
   "cell_type": "code",
   "execution_count": null,
   "id": "8948b52e",
   "metadata": {},
   "outputs": [],
   "source": [
    "## Please create a user name of length 6, create a password of lenghth 7 \n",
    "\n",
    "user=input(\"Create user name for minimum 6 lenghth:\")\n",
    "\n",
    "if len(user) >= 6:\n",
    "    print(\"Valid user name\")\n",
    "else:\n",
    "    print(\"Ops! User name not created invalid format\")"
   ]
  },
  {
   "attachments": {},
   "cell_type": "markdown",
   "id": "17a4dae3",
   "metadata": {},
   "source": [
    "### Bitwise operator \n",
    "\n",
    "\n",
    "\n",
    "- Work on binary representations of numbers.\n",
    "- Are useful for low-level programming, flags, or optimization tasks\n",
    "\n",
    "\n",
    "# Bitwise Operators in Python\n",
    "\n",
    "| Operator | Name                | Description                                                                                   | Example (x=5, y=3) | Result |\n",
    "|----------|---------------------|-----------------------------------------------------------------------------------------------|---------------------|--------|\n",
    "| `&`      | Bitwise AND         | Performs AND operation on each bit. If both bits are 1, the result is 1, otherwise 0.         | `x & y`             | `1`    |\n",
    "| `|`      | Bitwise OR          | Performs OR operation on each bit. If either bit is 1, the result is 1.                       | `x | y`             | `7`    |\n",
    "| `^`      | Bitwise XOR         | Performs XOR operation on each bit. If the bits are different, the result is 1.              | `x ^ y`             | `6`    |\n",
    "| `~`      | Bitwise NOT         | Inverts all the bits of the number (1 becomes 0 and 0 becomes 1).                             | `~x`                | `-6`   |\n",
    "| `<<`     | Left Shift          | Shifts bits to the left by the specified number of positions.                                 | `x << 2`            | `20`   |\n",
    "| `>>`     | Right Shift         | Shifts bits to the right by the specified number of positions.                                | `x >> 2`            | `1`    |\n",
    "\n",
    "### Notes:\n",
    "- **Bitwise AND (`&`)**: Only 1 if both bits are 1.\n",
    "- **Bitwise OR (`|`)**: At least one bit must be 1.\n",
    "- **Bitwise XOR (`^`)**: True when bits differ.\n",
    "- **Bitwise NOT (`~`)**: Flips all bits; equivalent to `-(x+1)`.\n",
    "- **Left Shift (`<<`)**: Shifts bits left, filling with zeros on the right.\n",
    "- **Right Shift (`>>`)**: Shifts bits right, discarding bits on the right.\n",
    "\n"
   ]
  },
  {
   "cell_type": "code",
   "execution_count": 2,
   "id": "a90fb5de",
   "metadata": {},
   "outputs": [
    {
     "name": "stdout",
     "output_type": "stream",
     "text": [
      "x & y = 1\n",
      "x | y = 7\n",
      "x ^ y = 6\n",
      "~x = -6\n",
      "x << 2 = 20\n",
      "x >> 2 = 1\n"
     ]
    }
   ],
   "source": [
    "# Bitwise Operators in Python\n",
    "x = 5  # Binary: 0101\n",
    "y = 3  # Binary: 0011\n",
    "\n",
    "# Bitwise AND\n",
    "and_result = x & y  # 0101 & 0011 = 0001\n",
    "print(f\"x & y = {and_result}\")\n",
    "\n",
    "# Bitwise OR\n",
    "or_result = x | y  # 0101 | 0011 = 0111\n",
    "print(f\"x | y = {or_result}\")\n",
    "\n",
    "# Bitwise XOR\n",
    "xor_result = x ^ y  # 0101 ^ 0011 = 0110\n",
    "print(f\"x ^ y = {xor_result}\")\n",
    "\n",
    "# Bitwise NOT\n",
    "not_result = ~x  # ~0101 = -(0101 + 1) = -6\n",
    "print(f\"~x = {not_result}\")\n",
    "\n",
    "# Left Shift\n",
    "left_shift_result = x << 2  # 0101 << 2 = 10100 (equivalent to multiplying by 2^2)\n",
    "print(f\"x << 2 = {left_shift_result}\")\n",
    "\n",
    "# Right Shift\n",
    "right_shift_result = x >> 2  # 0101 >> 2 = 0001 (equivalent to dividing by 2^2)\n",
    "print(f\"x >> 2 = {right_shift_result}\")\n"
   ]
  },
  {
   "cell_type": "code",
   "execution_count": 1,
   "id": "36b4f8e3",
   "metadata": {},
   "outputs": [
    {
     "name": "stdout",
     "output_type": "stream",
     "text": [
      "After x &= 4: 4\n",
      "After x |= 10: 14\n",
      "After x ^= 6: 8\n",
      "After x >>= 8: 0\n",
      "After x <<= 8: 0\n",
      "3\n"
     ]
    }
   ],
   "source": [
    "x = 5\n",
    "x &= 4\n",
    "print(\"After x &= 4:\", x)  # Bitwise AND\n",
    "\n",
    "x |= 10\n",
    "print(\"After x |= 10:\", x)  # Bitwise OR\n",
    "\n",
    "x ^= 6\n",
    "print(\"After x ^= 6:\", x)  # Bitwise XOR\n",
    "\n",
    "x >>= 8\n",
    "print(\"After x >>= 8:\", x)  # Right Shift\n",
    "\n",
    "x <<= 8\n",
    "print(\"After x <<= 8:\", x)  # Left Shift\n",
    "\n",
    "print(x := 3)  # Walrus operator\n"
   ]
  },
  {
   "cell_type": "code",
   "execution_count": null,
   "id": "7b26ed2b",
   "metadata": {},
   "outputs": [],
   "source": [
    "## Loops\n",
    "for i in range(0,3):\n",
    "    user=input(\"Enter your name:\")\n",
    "  "
   ]
  },
  {
   "cell_type": "code",
   "execution_count": null,
   "id": "34a1036a",
   "metadata": {},
   "outputs": [],
   "source": [
    "for i in \"ash\":\n",
    "     user=input(\"Enter your name:\\t\")"
   ]
  },
  {
   "cell_type": "markdown",
   "id": "90989383",
   "metadata": {},
   "source": [
    "## Ques 2: \n",
    "Input create a password  with following critera:\n",
    "1. Min len 3 and 10\n",
    "2. Should contain one number \n",
    "3. Should contain upper case member\n",
    "4. Should not have a space\n",
    "5. Shoukd have one special charactor sp=[\"@\",\"?\",\"*\",\"$\",\"&\",\"^\",#.!]"
   ]
  },
  {
   "cell_type": "code",
   "execution_count": null,
   "id": "c36dd721",
   "metadata": {},
   "outputs": [],
   "source": [
    "## Atleast one number \n",
    "d=0\n",
    "s=0\n",
    "u=0\n",
    "sp=[\"@\",\"?\",\"*\",\"$\"]\n",
    "\n",
    "user=input(\"Create user name for minimum 6 lenghth:\")\n",
    "\n",
    "for i in user:\n",
    "    if i.isdigit():\n",
    "        d=d+1\n",
    "    if i.isspace():\n",
    "        s=s+1\n",
    "    if i.isupper():\n",
    "        u=u+1\n",
    "    else:\n",
    "        pass\n",
    "if d>0 and s==0:\n",
    "    pass\n",
    "else:\n",
    "    print(\"Opps !! you have not added a digit to username or included a space\")\n",
    "if u>0:\n",
    "    print(\"Valid User name\")\n",
    "else:\n",
    "    print(\"Opps !! you have not added a uppercase \")\n",
    "    "
   ]
  },
  {
   "cell_type": "code",
   "execution_count": null,
   "id": "be729b06",
   "metadata": {},
   "outputs": [],
   "source": [
    "s=\"poor\"\n",
    "#3s[4]=s\n",
    "#del s[1]\n",
    "del s\n",
    "\n",
    "s= \"this is first session for data Science\"\n",
    "\n",
    "#s.split(\" \")\n",
    "s.index(\"f\")"
   ]
  },
  {
   "cell_type": "markdown",
   "id": "60ca62eb",
   "metadata": {},
   "source": [
    "#### List "
   ]
  },
  {
   "cell_type": "code",
   "execution_count": null,
   "id": "fb81037e",
   "metadata": {},
   "outputs": [],
   "source": [
    "a=[]\n",
    "\n",
    "a=[1,1,2]\n",
    "b=[1,2.1,\"a\"]\n",
    "c=[[1,12],\n",
    "   [\"b\",1]]"
   ]
  },
  {
   "cell_type": "code",
   "execution_count": null,
   "id": "5c7151af",
   "metadata": {},
   "outputs": [],
   "source": [
    "type(b)"
   ]
  },
  {
   "cell_type": "code",
   "execution_count": null,
   "id": "76ce7504",
   "metadata": {},
   "outputs": [],
   "source": [
    "c[0] [0]"
   ]
  },
  {
   "cell_type": "code",
   "execution_count": null,
   "id": "9614269a",
   "metadata": {},
   "outputs": [],
   "source": [
    "x=[\"a\",\"b\",\"c\"]"
   ]
  },
  {
   "cell_type": "code",
   "execution_count": null,
   "id": "598c1f42",
   "metadata": {},
   "outputs": [],
   "source": [
    "x.append(\"d\")"
   ]
  },
  {
   "cell_type": "code",
   "execution_count": null,
   "id": "c019ecff",
   "metadata": {},
   "outputs": [],
   "source": [
    "x"
   ]
  },
  {
   "cell_type": "code",
   "execution_count": null,
   "id": "21f3aa64",
   "metadata": {},
   "outputs": [],
   "source": [
    "x.insert(2,3)\n"
   ]
  },
  {
   "cell_type": "code",
   "execution_count": null,
   "id": "bbd4e990",
   "metadata": {},
   "outputs": [],
   "source": [
    "x"
   ]
  },
  {
   "cell_type": "code",
   "execution_count": null,
   "id": "193f7bbd",
   "metadata": {},
   "outputs": [],
   "source": [
    "len(x)\n",
    "del x[2]"
   ]
  },
  {
   "cell_type": "code",
   "execution_count": null,
   "id": "f20e342e",
   "metadata": {},
   "outputs": [],
   "source": [
    "x\n",
    "max(x)"
   ]
  },
  {
   "cell_type": "code",
   "execution_count": null,
   "id": "d867e115",
   "metadata": {},
   "outputs": [],
   "source": [
    "## Tuples \n",
    "b=(1,2,3)\n",
    "len(b)\n",
    "#b.append(4)\n",
    "del b[2]\n",
    "## tuples also does not support item addition or deletion. "
   ]
  },
  {
   "cell_type": "markdown",
   "id": "e83342c5",
   "metadata": {},
   "source": [
    "## Dictionary \n",
    "- Mapping data types \n",
    "- Key value pairs \n",
    "- key are index to members for dictionary\n",
    "- Keys are unique with one value for one key\n",
    "- Duplicate Key creation is not possible"
   ]
  },
  {
   "cell_type": "code",
   "execution_count": null,
   "id": "43015b23",
   "metadata": {},
   "outputs": [],
   "source": [
    "d={}\n",
    "d={\"A\":\"red\",\"B\":\"Blue\"}"
   ]
  },
  {
   "cell_type": "code",
   "execution_count": null,
   "id": "ddcad84b",
   "metadata": {},
   "outputs": [],
   "source": [
    "d.keys()"
   ]
  },
  {
   "cell_type": "code",
   "execution_count": null,
   "id": "35f46d77",
   "metadata": {},
   "outputs": [],
   "source": [
    "d.values()"
   ]
  },
  {
   "cell_type": "code",
   "execution_count": null,
   "id": "3ff3e257",
   "metadata": {},
   "outputs": [],
   "source": [
    "d[\"C\"] =\"green\""
   ]
  },
  {
   "cell_type": "code",
   "execution_count": null,
   "id": "0880d1dc",
   "metadata": {},
   "outputs": [],
   "source": [
    "d[\"D\"] = \"Yellow\"\n",
    "d "
   ]
  },
  {
   "cell_type": "code",
   "execution_count": null,
   "id": "f8d55714",
   "metadata": {},
   "outputs": [],
   "source": [
    "d "
   ]
  },
  {
   "cell_type": "code",
   "execution_count": null,
   "id": "fde823d8",
   "metadata": {},
   "outputs": [],
   "source": [
    " d['C'] "
   ]
  },
  {
   "cell_type": "code",
   "execution_count": null,
   "id": "b37d0cc0",
   "metadata": {},
   "outputs": [],
   "source": [
    "d['A']"
   ]
  },
  {
   "cell_type": "code",
   "execution_count": null,
   "id": "b434081e",
   "metadata": {},
   "outputs": [],
   "source": [
    "d={1:\"a\",2:\"b\"}\n",
    "d"
   ]
  },
  {
   "cell_type": "code",
   "execution_count": null,
   "id": "f14b31d3",
   "metadata": {},
   "outputs": [],
   "source": [
    "d[1]=\"a\"\n",
    "d"
   ]
  },
  {
   "cell_type": "markdown",
   "id": "05b1485f",
   "metadata": {},
   "source": [
    "## Loops \n",
    "\n",
    "- for i in range(1,6):\n",
    "         range(6,2,-1)\n",
    "         range(1,6): \n",
    "         \n"
   ]
  },
  {
   "cell_type": "code",
   "execution_count": null,
   "id": "9f07c8fe",
   "metadata": {},
   "outputs": [],
   "source": [
    "a=list(range(10,2,-2))\n",
    "a"
   ]
  },
  {
   "cell_type": "code",
   "execution_count": null,
   "id": "33358043",
   "metadata": {},
   "outputs": [],
   "source": [
    "## User Input List\n",
    "x=[]\n",
    "n=int(input(\"Enter number of members\" ))\n",
    "for i in range (0,n):\n",
    "    m=int(input(\"Add list member\\t:\"))\n",
    "    x.append(m)\n",
    "print(x)  "
   ]
  },
  {
   "cell_type": "code",
   "execution_count": null,
   "id": "b7d1bc69",
   "metadata": {},
   "outputs": [],
   "source": [
    "d[\"f\"]=(\"2\",\"3\")\n",
    "d"
   ]
  },
  {
   "cell_type": "code",
   "execution_count": null,
   "id": "ed609b94",
   "metadata": {},
   "outputs": [],
   "source": [
    "#### user input Diction\n",
    "d={}\n",
    "n=int(input(\"Enter number of members\"))\n",
    "for i in range (0,n):\n",
    "    a=input(\"Enter Key Name:\\t\")\n",
    "    d[a]=b\n",
    "    b=input(\"Enter VALUE Name:\\t\")\n",
    "print(d)"
   ]
  },
  {
   "cell_type": "markdown",
   "id": "e4008acf",
   "metadata": {},
   "source": [
    "# Quick Practice 3 : \n",
    "- Create a list with all float values\n",
    "- Create a dictionary with Emp ID as Key and Names as Values"
   ]
  },
  {
   "cell_type": "raw",
   "id": "851d37b1",
   "metadata": {},
   "source": [
    "#Create a dict emp ID as key and names as values\n",
    "emp_data={}\n",
    "n=int(input(\"Enter number of employees\"))\n",
    "for i in range (0,n):\n",
    "    Emp_id=input(\"Enter Emp ID\")\n",
    "    Name = input(\"Enter Name\")\n",
    "    d[Emp_id]=Name\n",
    "print(d)"
   ]
  },
  {
   "cell_type": "code",
   "execution_count": null,
   "id": "715a8060",
   "metadata": {},
   "outputs": [],
   "source": [
    "## Create a dic named Emp_details with Emp ID as Keys and job roels as values.\n",
    "\"A101, B101\""
   ]
  },
  {
   "cell_type": "markdown",
   "id": "04817076",
   "metadata": {},
   "source": [
    "## Loops"
   ]
  },
  {
   "cell_type": "code",
   "execution_count": null,
   "id": "c7bbe6c9",
   "metadata": {},
   "outputs": [],
   "source": [
    "for i in range (0,5):\n",
    "    input(\"Enter Emp name\\t: \")"
   ]
  }
 ],
 "metadata": {
  "kernelspec": {
   "display_name": "Python 3 (ipykernel)",
   "language": "python",
   "name": "python3"
  },
  "language_info": {
   "codemirror_mode": {
    "name": "ipython",
    "version": 3
   },
   "file_extension": ".py",
   "mimetype": "text/x-python",
   "name": "python",
   "nbconvert_exporter": "python",
   "pygments_lexer": "ipython3",
   "version": "3.11.5"
  }
 },
 "nbformat": 4,
 "nbformat_minor": 5
}
