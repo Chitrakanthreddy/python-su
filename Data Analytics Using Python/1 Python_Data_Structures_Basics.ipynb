{
 "cells": [
  {
   "cell_type": "markdown",
   "id": "c6ef57b6",
   "metadata": {},
   "source": [
    "# Python Basics: Lists, Strings, Tuples, and Dictionaries\n",
    "This notebook provides a simple explanation and quick practice for Python's core data structures."
   ]
  },
  {
   "cell_type": "markdown",
   "id": "0835ba43",
   "metadata": {},
   "source": [
    "## 1. Lists\n",
    "Lists are mutable collections used to store multiple items in a single variable.\n",
    "[]\n",
    "- it can have multiple datatypes\n"
   ]
  },
  {
   "cell_type": "code",
   "execution_count": null,
   "id": "e87bf6cb",
   "metadata": {},
   "outputs": [],
   "source": [
    "a=[\"abc\",12.4,-2,\"b\"]\n",
    "a\n",
    "len(a)\n",
    "## access the member\n",
    "a[1]\n",
    "a[-1]"
   ]
  },
  {
   "cell_type": "code",
   "execution_count": null,
   "id": "e43d35f1",
   "metadata": {},
   "outputs": [],
   "source": [
    "# Creating a list\n",
    "fruits = [\"apple\", \"banana\", \"cherry\"]\n",
    "fruits"
   ]
  },
  {
   "cell_type": "code",
   "execution_count": null,
   "id": "c05c2f73",
   "metadata": {},
   "outputs": [],
   "source": [
    "# Adding an item\n",
    "fruits.append(\"orange\")\n",
    "print(\"After append:\", fruits)"
   ]
  },
  {
   "cell_type": "code",
   "execution_count": null,
   "id": "a738a13c",
   "metadata": {},
   "outputs": [],
   "source": [
    "fruits.insert(2,\"grapes\")"
   ]
  },
  {
   "cell_type": "code",
   "execution_count": null,
   "id": "c6fbb1df",
   "metadata": {},
   "outputs": [],
   "source": [
    "fruits"
   ]
  },
  {
   "cell_type": "code",
   "execution_count": null,
   "id": "5e9c9dfe",
   "metadata": {},
   "outputs": [],
   "source": [
    "# Removing an item\n",
    "fruits.remove(\"banana\")\n",
    "print(\"After removal:\", fruits)"
   ]
  },
  {
   "cell_type": "code",
   "execution_count": null,
   "id": "ca06d2f9",
   "metadata": {},
   "outputs": [],
   "source": [
    "del fruits[2]"
   ]
  },
  {
   "cell_type": "markdown",
   "id": "7b9fd814",
   "metadata": {},
   "source": [
    "### Common List Methods\n",
    "- `append(item)` – Add item to end\n",
    "- `insert(index, item)` – Insert at a position\n",
    "- `remove(item)` – Remove first occurrence\n",
    "- `pop(index)` – Remove item at index\n",
    "- `sort()` – Sort list\n",
    "- `reverse()` – Reverse list"
   ]
  },
  {
   "cell_type": "markdown",
   "id": "885af823",
   "metadata": {},
   "source": [
    "**Quick Practice:**\n",
    "- Create a list of your 3 favorite movies.\n",
    "- Add one more movie.\n",
    "- Remove the second movie.\n",
    "- Print the final list."
   ]
  },
  {
   "cell_type": "markdown",
   "id": "ccb56292",
   "metadata": {},
   "source": [
    "## 2. Strings\n",
    "Strings are sequences of characters enclosed in quotes. They are immutable."
   ]
  },
  {
   "cell_type": "code",
   "execution_count": null,
   "id": "dad5799f",
   "metadata": {},
   "outputs": [],
   "source": [
    "# Working with strings\n",
    "text = \"Hello, Python!\"\n",
    "print(text)\n",
    "print(\"Uppercase:\", text.upper())\n",
    "print(\"Lowercase:\", text.lower())\n",
    "print(\"First 5 chars:\", text[:5])"
   ]
  },
  {
   "cell_type": "code",
   "execution_count": null,
   "id": "d49ea8da",
   "metadata": {},
   "outputs": [],
   "source": [
    "del text[4]"
   ]
  },
  {
   "cell_type": "code",
   "execution_count": null,
   "id": "da0220e2",
   "metadata": {},
   "outputs": [],
   "source": [
    "len(text)"
   ]
  },
  {
   "cell_type": "code",
   "execution_count": null,
   "id": "961ed5b9",
   "metadata": {},
   "outputs": [],
   "source": [
    "text.append(\"folks\")"
   ]
  },
  {
   "cell_type": "markdown",
   "id": "4e9f0bf8",
   "metadata": {},
   "source": [
    "**Quick Practice:**\n",
    "- Create a string with your name.\n",
    "- Print it in uppercase and lowercase.\n",
    "- Slice and print the first 4 characters."
   ]
  },
  {
   "cell_type": "markdown",
   "id": "b669051f",
   "metadata": {},
   "source": [
    "### Common String Methods\n",
    "- `upper()` – Convert to uppercase\n",
    "- `lower()` – Convert to lowercase\n",
    "- `strip()` – Remove surrounding whitespace\n",
    "- `replace(old, new)` – Replace substrings\n",
    "- `find(sub)` – Return index of substring"
   ]
  },
  {
   "cell_type": "markdown",
   "id": "b8b07d0a",
   "metadata": {},
   "source": [
    "## 3. Tuples\n",
    "Tuples are immutable sequences, often used to store related items."
   ]
  },
  {
   "cell_type": "code",
   "execution_count": null,
   "id": "d489cc2c",
   "metadata": {},
   "outputs": [],
   "source": [
    "d=()\n",
    "d=(\"a\",2,3,)\n",
    "#del d[0]\n",
    "d\n",
    "d[0]"
   ]
  },
  {
   "cell_type": "code",
   "execution_count": null,
   "id": "bebbe758",
   "metadata": {},
   "outputs": [],
   "source": [
    "# Creating a tuple\n",
    "person = (\"Alice\", 30, \"Engineer\")\n",
    "print(person)\n",
    "print(\"Name:\", person[0])"
   ]
  },
  {
   "cell_type": "markdown",
   "id": "5054bfa3",
   "metadata": {},
   "source": [
    "**Quick Practice:**\n",
    "- Create a tuple with your name, age, and city.\n",
    "- Print each element using indexing."
   ]
  },
  {
   "cell_type": "markdown",
   "id": "930e431d",
   "metadata": {},
   "source": [
    "## 4. Dictionaries\n",
    "Dictionaries are collections of key-value pairs."
   ]
  },
  {
   "cell_type": "markdown",
   "id": "c27e02fa",
   "metadata": {},
   "source": [
    "### Tuple Characteristics and Functions\n",
    "- Immutable: Cannot be changed after creation\n",
    "- Can contain mixed data types\n",
    "- Supports indexing and slicing\n",
    "- Functions: `len()`, `count()`, `index()`"
   ]
  },
  {
   "cell_type": "code",
   "execution_count": null,
   "id": "c31f1ae0",
   "metadata": {},
   "outputs": [],
   "source": [
    "d={}\n",
    "d[\"A\"]=12\n",
    "d[\"B\"]=14\n",
    "d\n",
    "d[\"A\"]\n",
    "del d[\"A\"]\n",
    "d"
   ]
  },
  {
   "cell_type": "code",
   "execution_count": null,
   "id": "9eae6f4a",
   "metadata": {},
   "outputs": [],
   "source": [
    "# Creating and accessing a dictionary\n",
    "student = {\"name\": \"Bob\", \"age\": 21, \"course\": \"Data Science\"}\n",
    "print(student)\n",
    "print(\"Name:\", student[\"name\"])\n",
    "\n",
    "# Adding a new key-value pair\n",
    "student[\"grade\"] = \"A\"\n",
    "print(\"Updated student:\", student)\n"
   ]
  },
  {
   "cell_type": "code",
   "execution_count": null,
   "id": "3b121bff",
   "metadata": {},
   "outputs": [],
   "source": [
    "d[\"B\"]=19\n",
    "d[\"c\"] = (6,7)\n",
    "d.keys()\n",
    "d.values()\n",
    "d.items()\n",
    "d.pop(\"c\")"
   ]
  },
  {
   "cell_type": "markdown",
   "id": "0dd9be1c",
   "metadata": {},
   "source": [
    "**Quick Practice:**\n",
    "- Create a dictionary for a car with keys: brand, model, year.\n",
    "- Print the model.\n",
    "- Add a new key: color and assign a value."
   ]
  },
  {
   "cell_type": "markdown",
   "id": "4a137233",
   "metadata": {},
   "source": [
    "### Common Dictionary Methods\n",
    "- `get(key)` – Return value for key\n",
    "- `keys()` – Return all keys\n",
    "- `values()` – Return all values\n",
    "- `items()` – Return key-value pairs\n",
    "- `update(dict)` – Update with another dict\n",
    "- `pop(key)` – Remove key and return value"
   ]
  },
  {
   "cell_type": "markdown",
   "id": "b6076f17",
   "metadata": {},
   "source": [
    "## 5. Loops in Python\n",
    "Python supports two main types of loops: `for` and `while`. They are used to execute a block of code repeatedly.\n",
    "\n",
    "### For Loop Example\n",
    "Loop through a list and print each item:\n"
   ]
  },
  {
   "cell_type": "code",
   "execution_count": null,
   "id": "2e69e3c8",
   "metadata": {},
   "outputs": [],
   "source": [
    "n=\"piyush\"\n",
    "d=[1,2,3]"
   ]
  },
  {
   "cell_type": "code",
   "execution_count": null,
   "id": "ac67bc85",
   "metadata": {},
   "outputs": [],
   "source": [
    "for i in range(1,6):\n",
    "    print(i)"
   ]
  },
  {
   "cell_type": "code",
   "execution_count": null,
   "id": "45294c5c",
   "metadata": {},
   "outputs": [],
   "source": [
    "for i in range (0,12,2):\n",
    "    print(i)"
   ]
  },
  {
   "cell_type": "code",
   "execution_count": null,
   "id": "a646f72f",
   "metadata": {},
   "outputs": [],
   "source": [
    "for i in range (8,2,-1):\n",
    "    print(i)\n"
   ]
  },
  {
   "cell_type": "code",
   "execution_count": null,
   "id": "6801ce5c",
   "metadata": {},
   "outputs": [],
   "source": [
    "for i in (n):\n",
    "    int(input()) "
   ]
  },
  {
   "cell_type": "code",
   "execution_count": null,
   "id": "8d8c73b8",
   "metadata": {},
   "outputs": [],
   "source": [
    "colors = [\"red\", \"green\", \"blue\"]\n",
    "for color in colors:\n",
    "    print(f\"Color: {color}\")\n"
   ]
  },
  {
   "cell_type": "code",
   "execution_count": null,
   "id": "391c1af2",
   "metadata": {},
   "outputs": [],
   "source": [
    "### Input number of elements\n",
    "n = int(input(\"Enter number of elements in the list: \"))\n",
    "\n",
    "# Initialize empty list\n",
    "my_list = []\n",
    "\n",
    "# Loop to input elements\n",
    "for i in range(0,n):\n",
    "    element = input(f\"Enter element {i+1}: \")\n",
    "    my_list.append(element)\n",
    "\n",
    "print(\"List:\", my_list)\n"
   ]
  },
  {
   "cell_type": "markdown",
   "id": "c3861080",
   "metadata": {},
   "source": [
    "#### While Loop Example"
   ]
  },
  {
   "cell_type": "code",
   "execution_count": 3,
   "id": "531d5ee9",
   "metadata": {},
   "outputs": [
    {
     "name": "stdout",
     "output_type": "stream",
     "text": [
      "Number: 0\n",
      "Number: 1\n",
      "Number: 2\n",
      "Number: 3\n",
      "Number: 4\n",
      "Number: 5\n"
     ]
    }
   ],
   "source": [
    "num = 0\n",
    "while num <= 5:\n",
    "    print(\"Number:\", num)\n",
    "    num = num+1"
   ]
  },
  {
   "cell_type": "markdown",
   "id": "fd3d237e",
   "metadata": {},
   "source": [
    "## Questions:\n",
    "\n",
    "- Create a user input list to dipaly even number between givem range\n",
    "- Create a user input dictionary for Name as key and Age as Value\n",
    "\n"
   ]
  },
  {
   "cell_type": "code",
   "execution_count": 13,
   "id": "769cdc21",
   "metadata": {},
   "outputs": [
    {
     "data": {
      "text/plain": [
       "{1: 'A', 2: 'B'}"
      ]
     },
     "execution_count": 13,
     "metadata": {},
     "output_type": "execute_result"
    }
   ],
   "source": [
    "d={}\n",
    "d[1]=\"A\"\n",
    "d[2]=\"B\"\n",
    "d"
   ]
  },
  {
   "cell_type": "code",
   "execution_count": 5,
   "id": "4b3d133d",
   "metadata": {},
   "outputs": [
    {
     "name": "stdout",
     "output_type": "stream",
     "text": [
      "Enter number of key-value pairs in the dictionary: 3\n",
      "Enter ID 1: 1\n",
      "Enter value for '1': Abha\n",
      "Enter ID 2: 2\n",
      "Enter value for '2': Ashi\n",
      "Enter ID 3: 4\n",
      "Enter value for '4': kia\n",
      "Dictionary: {'1': 'Abha', '2': 'Ashi', '4': 'kia'}\n"
     ]
    }
   ],
   "source": [
    "# Input number of key-value pairs\n",
    "n = int(input(\"Enter number of key-value pairs in the dictionary: \"))\n",
    "\n",
    "# Initialize empty dictionary\n",
    "emp = {}\n",
    "\n",
    "# Loop to input keys and values\n",
    "for i in range(n):\n",
    "    empID = input(f\"Enter ID {i+1}: \")\n",
    "    Name = input(f\"Enter value for '{empID}': \")\n",
    "    emp[empID] = Name\n",
    "\n",
    "print(\"Dictionary:\", emp)\n"
   ]
  },
  {
   "cell_type": "code",
   "execution_count": null,
   "id": "1d04754d",
   "metadata": {},
   "outputs": [],
   "source": []
  }
 ],
 "metadata": {
  "kernelspec": {
   "display_name": "Python 3 (ipykernel)",
   "language": "python",
   "name": "python3"
  },
  "language_info": {
   "codemirror_mode": {
    "name": "ipython",
    "version": 3
   },
   "file_extension": ".py",
   "mimetype": "text/x-python",
   "name": "python",
   "nbconvert_exporter": "python",
   "pygments_lexer": "ipython3",
   "version": "3.11.5"
  }
 },
 "nbformat": 4,
 "nbformat_minor": 5
}
