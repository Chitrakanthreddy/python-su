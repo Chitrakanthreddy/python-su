{
 "cells": [
  {
   "cell_type": "markdown",
   "id": "060122b6",
   "metadata": {},
   "source": [
    "# Introduction to Data Analytics & Python Basics\n",
    "- What is Data Analytics?\n",
    "- Types of Data Analytics\n",
    "- Basic Python programming concepts\n"
   ]
  },
  {
   "cell_type": "markdown",
   "id": "60ac0141",
   "metadata": {},
   "source": [
    "## What is Data Analytics?\n",
    "Data Analytics is the science of analyzing raw data to make conclusions about information. It involves:\n",
    "- Inspecting\n",
    "- Cleaning\n",
    "- Transforming\n",
    "- Modeling data\n",
    "\n",
    "The goal is to discover useful information, draw conclusions, and support decision-making."
   ]
  },
  {
   "cell_type": "markdown",
   "id": "70f8bdf8",
   "metadata": {},
   "source": [
    "## Types of Data Analytics\n",
    "1. **Descriptive Analytics**: What has happened?\n",
    "2. **Diagnostic Analytics**: Why did it happen?\n",
    "3. **Predictive Analytics**: What is likely to happen?\n",
    "4. **Prescriptive Analytics**: What should be done?\n",
    "\n",
    "Here are **clear, practical examples** for each of the four types of data analytics:\n",
    "\n",
    "---\n",
    "\n",
    "### **1. Descriptive Analytics – “What has happened?”**\n",
    "\n",
    "**Goal:** Summarize historical data to understand trends and patterns.\n",
    "\n",
    "**Example:**\n",
    "\n",
    "> A retail company analyzes last year’s sales data to find out:\n",
    ">\n",
    "> * Total sales per month\n",
    "> * Top 10 selling products\n",
    "> * Customer demographics\n",
    "\n",
    "**Tools used:** Excel, SQL, Tableau, basic Python (e.g., `pandas.describe()`)\n",
    "\n",
    "---\n",
    "\n",
    "### **2. Diagnostic Analytics – “Why did it happen?”**\n",
    "\n",
    "**Goal:** Find reasons behind past outcomes.\n",
    "\n",
    "**Example:**\n",
    "\n",
    "> The same retail company investigates why sales dropped in November:\n",
    ">\n",
    "> * Product reviews reveal customer dissatisfaction\n",
    "> * Stockout reports show inventory shortages\n",
    "> * Campaign data shows reduced marketing spend\n",
    "\n",
    "**Tools used:** SQL joins, correlation analysis, root cause analysis, Python stats (`scipy`, `statsmodels`)\n",
    "\n",
    "---\n",
    "\n",
    "### **3. Predictive Analytics – “What is likely to happen?”**\n",
    "\n",
    "**Goal:** Use historical data to forecast future outcomes.\n",
    "\n",
    "**Example:**\n",
    "\n",
    "> Predict next quarter’s sales using:\n",
    ">\n",
    "> * Past sales trends\n",
    "> * Seasonality patterns\n",
    "> * Economic indicators\n",
    "\n",
    "**Tools used:** Machine Learning (e.g., Linear Regression, ARIMA), Python (`scikit-learn`), R\n",
    "\n",
    "---\n",
    "\n",
    "### **4. Prescriptive Analytics – “What should be done?”**\n",
    "\n",
    "**Goal:** Recommend actions based on predictions and scenarios.\n",
    "\n",
    "**Example:**\n",
    "\n",
    "> To increase profits, the company runs simulations to:\n",
    ">\n",
    "> * Optimize pricing strategies\n",
    "> * Decide how much inventory to restock\n",
    "> * Allocate marketing budget across regions\n",
    "\n",
    "**Tools used:** Optimization models, Decision Trees, Scenario modeling, Python (`PuLP`, `cvxpy`), analytics platforms\n",
    "\n",
    "\n"
   ]
  },
  {
   "cell_type": "markdown",
   "id": "c6ea0e3a",
   "metadata": {},
   "source": [
    "## Getting Started with Python\n",
    "Python is widely used in data analytics due to its simplicity and the powerful libraries available."
   ]
  },
  {
   "cell_type": "code",
   "execution_count": 7,
   "id": "20fafb33",
   "metadata": {},
   "outputs": [
    {
     "name": "stdout",
     "output_type": "stream",
     "text": [
      "Hello, Data Analytics World!\n",
      "1\n",
      "2\n",
      "3\n"
     ]
    }
   ],
   "source": [
    "# Print a simple message\n",
    "print(\"Hello, Data Analytics World!\")\n",
    "print(1,2,3,sep=\"\\n\")"
   ]
  },
  {
   "cell_type": "markdown",
   "id": "ef9b2473",
   "metadata": {},
   "source": [
    "## Variables and Data Types\n",
    "Let's explore Python variables and basic data types."
   ]
  },
  {
   "cell_type": "code",
   "execution_count": 8,
   "id": "dffe4523",
   "metadata": {},
   "outputs": [
    {
     "name": "stdout",
     "output_type": "stream",
     "text": [
      "Name: Alice, Age: 30, Height: 5.6, Student: True\n"
     ]
    }
   ],
   "source": [
    "# Define variables\n",
    "name = \"Alice\"\n",
    "age = 30\n",
    "height = 5.6\n",
    "is_student = True\n",
    "\n",
    "# Print them\n",
    "print(f\"Name: {name}, Age: {age}, Height: {height}, Student: {is_student}\")"
   ]
  },
  {
   "cell_type": "code",
   "execution_count": 13,
   "id": "9ff8e80e",
   "metadata": {},
   "outputs": [
    {
     "data": {
      "text/plain": [
       "(str, int, float, bool, complex)"
      ]
     },
     "execution_count": 13,
     "metadata": {},
     "output_type": "execute_result"
    }
   ],
   "source": [
    "type(name),type(age),type(height),type(is_student ),type(2+8j)"
   ]
  },
  {
   "cell_type": "code",
   "execution_count": 5,
   "id": "9635084c",
   "metadata": {},
   "outputs": [
    {
     "name": "stdout",
     "output_type": "stream",
     "text": [
      "2\n"
     ]
    }
   ],
   "source": [
    "a=int(input())"
   ]
  },
  {
   "cell_type": "code",
   "execution_count": 6,
   "id": "1cc7aff3",
   "metadata": {},
   "outputs": [
    {
     "name": "stdout",
     "output_type": "stream",
     "text": [
      "3\n"
     ]
    }
   ],
   "source": [
    "b=int(input())"
   ]
  },
  {
   "cell_type": "code",
   "execution_count": 7,
   "id": "9525cfa3",
   "metadata": {},
   "outputs": [
    {
     "data": {
      "text/plain": [
       "6"
      ]
     },
     "execution_count": 7,
     "metadata": {},
     "output_type": "execute_result"
    }
   ],
   "source": [
    "a*b"
   ]
  },
  {
   "cell_type": "code",
   "execution_count": 1,
   "id": "f232680b",
   "metadata": {},
   "outputs": [
    {
     "name": "stdout",
     "output_type": "stream",
     "text": [
      "Enter Name: A\n",
      "Enter Age:24\n",
      "Enter Height:122.3\n"
     ]
    }
   ],
   "source": [
    "## Input Variable \n",
    "x=input(\"Enter Name: \")\n",
    "y=int(input(\"Enter Age:\"))\n",
    "z=float(input(\"Enter Height:\"))"
   ]
  },
  {
   "cell_type": "code",
   "execution_count": 14,
   "id": "0d90dbba",
   "metadata": {},
   "outputs": [
    {
     "data": {
      "text/plain": [
       "12.0"
      ]
     },
     "execution_count": 14,
     "metadata": {},
     "output_type": "execute_result"
    }
   ],
   "source": [
    "#type casting\n",
    "int(\"23\")\n",
    "int(10.9)\n",
    "str(12.2)\n",
    "float(12)"
   ]
  },
  {
   "cell_type": "markdown",
   "id": "a4c95479",
   "metadata": {},
   "source": [
    "## Quick Practice\n",
    "- Create a welcome inteface \n",
    "- Ask user to enter their age\n",
    "- if age is greater than 18 then ask them to create a user name and password ask to enter.\n",
    "- if user name is correct then request for password\n",
    "- if password is correct mention\"Welcome and create your profile"
   ]
  },
  {
   "cell_type": "code",
   "execution_count": 15,
   "id": "e7585b35",
   "metadata": {},
   "outputs": [
    {
     "name": "stdout",
     "output_type": "stream",
     "text": [
      "12\n"
     ]
    }
   ],
   "source": [
    "age=int(input())"
   ]
  },
  {
   "cell_type": "code",
   "execution_count": 17,
   "id": "a83c31ef",
   "metadata": {},
   "outputs": [
    {
     "name": "stdout",
     "output_type": "stream",
     "text": [
      "User not allowed to Sign in \n"
     ]
    }
   ],
   "source": [
    "if age>=18:\n",
    "    print(\"Welcome and create user Name\")\n",
    "    user=input(\"userName\")\n",
    "    \n",
    "else:\n",
    "    print(\"User not allowed to Sign in \")"
   ]
  },
  {
   "cell_type": "code",
   "execution_count": null,
   "id": "64b20cae",
   "metadata": {},
   "outputs": [],
   "source": []
  }
 ],
 "metadata": {
  "kernelspec": {
   "display_name": "Python 3 (ipykernel)",
   "language": "python",
   "name": "python3"
  },
  "language_info": {
   "codemirror_mode": {
    "name": "ipython",
    "version": 3
   },
   "file_extension": ".py",
   "mimetype": "text/x-python",
   "name": "python",
   "nbconvert_exporter": "python",
   "pygments_lexer": "ipython3",
   "version": "3.11.5"
  }
 },
 "nbformat": 4,
 "nbformat_minor": 5
}
