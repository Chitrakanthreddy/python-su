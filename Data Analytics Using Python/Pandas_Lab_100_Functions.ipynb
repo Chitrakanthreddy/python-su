{
 "cells": [
  {
   "cell_type": "markdown",
   "id": "d17cd30c",
   "metadata": {},
   "source": [
    "# Pandas Lab: Practice from Basic to Advanced\n",
    "\n",
    "This lab contains 100 Pandas functions categorized into **Basic**, **Intermediate**, and **Advanced** levels. Practice using each command with the examples provided."
   ]
  },
  {
   "cell_type": "code",
   "execution_count": null,
   "id": "fa9fdbd5",
   "metadata": {},
   "outputs": [],
   "source": [
    "\n",
    "import pandas as pd\n",
    "\n",
    "# Sample DataFrames\n",
    "df1 = pd.DataFrame({\n",
    "    'employee_id': [1, 2, 3,4],\n",
    "    'name': ['Ashi', 'Su', 'Simaran','Akash'],\n",
    "    'salary': [50000, 60000, 70000,100000]\n",
    "})\n",
    "\n",
    "df2 = pd.DataFrame({\n",
    "    'id': [1, 2, 3,4],\n",
    "    'department': ['HR', 'Finance', 'IT','HR']\n",
    "})\n",
    "df1.head()\n"
   ]
  },
  {
   "cell_type": "markdown",
   "id": "2886e0b7",
   "metadata": {},
   "source": [
    "## Basic Functions (1-30)"
   ]
  },
  {
   "cell_type": "markdown",
   "id": "2ce243e7",
   "metadata": {},
   "source": [
    "### pd.read_csv()\n",
    "```python\n",
    "# Example usage of pd.read_csv()\n",
    "```\n"
   ]
  },
  {
   "cell_type": "markdown",
   "id": "0aad0536",
   "metadata": {},
   "source": [
    "### df.head()\n",
    "```python\n",
    "# Example usage of df.head()\n",
    "```\n"
   ]
  },
  {
   "cell_type": "markdown",
   "id": "8a2451f9",
   "metadata": {},
   "source": [
    "### df.tail()\n",
    "```python\n",
    "# Example usage of df.tail()\n",
    "```\n"
   ]
  },
  {
   "cell_type": "markdown",
   "id": "5f3425d2",
   "metadata": {},
   "source": [
    "### df.info()\n",
    "```python\n",
    "# Example usage of df.info()\n",
    "```\n"
   ]
  },
  {
   "cell_type": "markdown",
   "id": "9db8c5fa",
   "metadata": {},
   "source": [
    "### df.describe()\n",
    "```python\n",
    "# Example usage of df.describe()\n",
    "```\n"
   ]
  },
  {
   "cell_type": "markdown",
   "id": "81e65a12",
   "metadata": {},
   "source": [
    "### df.columns\n",
    "```python\n",
    "# Example usage of df.columns\n",
    "```\n"
   ]
  },
  {
   "cell_type": "markdown",
   "id": "447994c9",
   "metadata": {},
   "source": [
    "### df.index\n",
    "```python\n",
    "# Example usage of df.index\n",
    "```\n"
   ]
  },
  {
   "cell_type": "markdown",
   "id": "3583c9cc",
   "metadata": {},
   "source": [
    "### df.dtypes\n",
    "```python\n",
    "# Example usage of df.dtypes\n",
    "```\n"
   ]
  },
  {
   "cell_type": "markdown",
   "id": "9e5a1001",
   "metadata": {},
   "source": [
    "### df.shape\n",
    "```python\n",
    "# Example usage of df.shape\n",
    "```\n"
   ]
  },
  {
   "cell_type": "markdown",
   "id": "58335767",
   "metadata": {},
   "source": [
    "### df.values\n",
    "```python\n",
    "# Example usage of df.values\n",
    "```\n"
   ]
  },
  {
   "cell_type": "markdown",
   "id": "888d2084",
   "metadata": {},
   "source": [
    "### df['col']\n",
    "```python\n",
    "# Example usage of df['col']\n",
    "```\n"
   ]
  },
  {
   "cell_type": "markdown",
   "id": "fd70b7b9",
   "metadata": {},
   "source": [
    "### df[['col1', 'col2']]\n",
    "```python\n",
    "# Example usage of df[['col1', 'col2']]\n",
    "```\n"
   ]
  },
  {
   "cell_type": "markdown",
   "id": "736ef814",
   "metadata": {},
   "source": [
    "### df.iloc[0]\n",
    "```python\n",
    "# Example usage of df.iloc[0]\n",
    "```\n"
   ]
  },
  {
   "cell_type": "markdown",
   "id": "3ee88957",
   "metadata": {},
   "source": [
    "### df.loc[0]\n",
    "```python\n",
    "# Example usage of df.loc[0]\n",
    "```\n"
   ]
  },
  {
   "cell_type": "markdown",
   "id": "e12db9f3",
   "metadata": {},
   "source": [
    "### df.set_index()\n",
    "```python\n",
    "# Example usage of df.set_index()\n",
    "```\n"
   ]
  },
  {
   "cell_type": "markdown",
   "id": "f0d041d6",
   "metadata": {},
   "source": [
    "### df.reset_index()\n",
    "```python\n",
    "# Example usage of df.reset_index()\n",
    "```\n"
   ]
  },
  {
   "cell_type": "markdown",
   "id": "8a65ac7f",
   "metadata": {},
   "source": [
    "### df.rename()\n",
    "```python\n",
    "# Example usage of df.rename()\n",
    "```\n"
   ]
  },
  {
   "cell_type": "markdown",
   "id": "1f52d425",
   "metadata": {},
   "source": [
    "### df.drop()\n",
    "```python\n",
    "# Example usage of df.drop()\n",
    "```\n"
   ]
  },
  {
   "cell_type": "markdown",
   "id": "bab52ac1",
   "metadata": {},
   "source": [
    "### df.sort_values()\n",
    "```python\n",
    "# Example usage of df.sort_values()\n",
    "```\n"
   ]
  },
  {
   "cell_type": "markdown",
   "id": "6bd27e9c",
   "metadata": {},
   "source": [
    "### df.sort_index()\n",
    "```python\n",
    "# Example usage of df.sort_index()\n",
    "```\n"
   ]
  },
  {
   "cell_type": "markdown",
   "id": "155f9ac6",
   "metadata": {},
   "source": [
    "### df.isnull()\n",
    "```python\n",
    "# Example usage of df.isnull()\n",
    "```\n"
   ]
  },
  {
   "cell_type": "markdown",
   "id": "92504daa",
   "metadata": {},
   "source": [
    "### df.notnull()\n",
    "```python\n",
    "# Example usage of df.notnull()\n",
    "```\n"
   ]
  },
  {
   "cell_type": "markdown",
   "id": "29787bc3",
   "metadata": {},
   "source": [
    "### df.fillna()\n",
    "```python\n",
    "# Example usage of df.fillna()\n",
    "```\n"
   ]
  },
  {
   "cell_type": "markdown",
   "id": "992abb37",
   "metadata": {},
   "source": [
    "### df.dropna()\n",
    "```python\n",
    "# Example usage of df.dropna()\n",
    "```\n"
   ]
  },
  {
   "cell_type": "markdown",
   "id": "376ebac6",
   "metadata": {},
   "source": [
    "### df.duplicated()\n",
    "```python\n",
    "# Example usage of df.duplicated()\n",
    "```\n"
   ]
  },
  {
   "cell_type": "markdown",
   "id": "cfaeba7f",
   "metadata": {},
   "source": [
    "### df.drop_duplicates()\n",
    "```python\n",
    "# Example usage of df.drop_duplicates()\n",
    "```\n"
   ]
  },
  {
   "cell_type": "markdown",
   "id": "b6f7bb5b",
   "metadata": {},
   "source": [
    "### df.astype()\n",
    "```python\n",
    "# Example usage of df.astype()\n",
    "```\n"
   ]
  },
  {
   "cell_type": "markdown",
   "id": "927b1712",
   "metadata": {},
   "source": [
    "### df.apply()\n",
    "```python\n",
    "# Example usage of df.apply()\n",
    "```\n"
   ]
  },
  {
   "cell_type": "markdown",
   "id": "f3e23b6c",
   "metadata": {},
   "source": [
    "### df.map()\n",
    "```python\n",
    "# Example usage of df.map()\n",
    "```\n"
   ]
  },
  {
   "cell_type": "markdown",
   "id": "3f53a0fb",
   "metadata": {},
   "source": [
    "### df.unique()\n",
    "```python\n",
    "# Example usage of df.unique()\n",
    "```\n"
   ]
  },
  {
   "cell_type": "markdown",
   "id": "868cec85",
   "metadata": {},
   "source": [
    "## Intermediate Functions (31-70)"
   ]
  },
  {
   "cell_type": "markdown",
   "id": "d20e96bd",
   "metadata": {},
   "source": [
    "### df.value_counts()\n",
    "```python\n",
    "# Example usage of df.value_counts()\n",
    "```\n"
   ]
  },
  {
   "cell_type": "markdown",
   "id": "2c17b223",
   "metadata": {},
   "source": [
    "### pd.concat()\n",
    "```python\n",
    "# Example usage of pd.concat()\n",
    "```\n"
   ]
  },
  {
   "cell_type": "markdown",
   "id": "bc692488",
   "metadata": {},
   "source": [
    "### pd.merge()\n",
    "```python\n",
    "# Example usage of pd.merge()\n",
    "```\n"
   ]
  },
  {
   "cell_type": "markdown",
   "id": "bd7eef39",
   "metadata": {},
   "source": [
    "### pd.join()\n",
    "```python\n",
    "# Example usage of pd.join()\n",
    "```\n"
   ]
  },
  {
   "cell_type": "markdown",
   "id": "0d93441b",
   "metadata": {},
   "source": [
    "### df.groupby()\n",
    "```python\n",
    "# Example usage of df.groupby()\n",
    "```\n"
   ]
  },
  {
   "cell_type": "markdown",
   "id": "80ed6165",
   "metadata": {},
   "source": [
    "### df.agg()\n",
    "```python\n",
    "# Example usage of df.agg()\n",
    "```\n"
   ]
  },
  {
   "cell_type": "markdown",
   "id": "4e4b6a52",
   "metadata": {},
   "source": [
    "### df.transform()\n",
    "```python\n",
    "# Example usage of df.transform()\n",
    "```\n"
   ]
  },
  {
   "cell_type": "markdown",
   "id": "8cecb301",
   "metadata": {},
   "source": [
    "### df.pivot_table()\n",
    "```python\n",
    "# Example usage of df.pivot_table()\n",
    "```\n"
   ]
  },
  {
   "cell_type": "markdown",
   "id": "10a0c8d7",
   "metadata": {},
   "source": [
    "### df.stack()\n",
    "```python\n",
    "# Example usage of df.stack()\n",
    "```\n"
   ]
  },
  {
   "cell_type": "markdown",
   "id": "035527b6",
   "metadata": {},
   "source": [
    "### df.unstack()\n",
    "```python\n",
    "# Example usage of df.unstack()\n",
    "```\n"
   ]
  },
  {
   "cell_type": "markdown",
   "id": "e250b74c",
   "metadata": {},
   "source": [
    "### df.melt()\n",
    "```python\n",
    "# Example usage of df.melt()\n",
    "```\n"
   ]
  },
  {
   "cell_type": "markdown",
   "id": "d272d671",
   "metadata": {},
   "source": [
    "### df.nunique()\n",
    "```python\n",
    "# Example usage of df.nunique()\n",
    "```\n"
   ]
  },
  {
   "cell_type": "markdown",
   "id": "2b25a447",
   "metadata": {},
   "source": [
    "### df.sample()\n",
    "```python\n",
    "# Example usage of df.sample()\n",
    "```\n"
   ]
  },
  {
   "cell_type": "markdown",
   "id": "84be8dfa",
   "metadata": {},
   "source": [
    "### df.query()\n",
    "```python\n",
    "# Example usage of df.query()\n",
    "```\n"
   ]
  },
  {
   "cell_type": "markdown",
   "id": "5f849714",
   "metadata": {},
   "source": [
    "### df.eval()\n",
    "```python\n",
    "# Example usage of df.eval()\n",
    "```\n"
   ]
  },
  {
   "cell_type": "markdown",
   "id": "70ded631",
   "metadata": {},
   "source": [
    "### df.between()\n",
    "```python\n",
    "# Example usage of df.between()\n",
    "```\n"
   ]
  },
  {
   "cell_type": "markdown",
   "id": "275ed11e",
   "metadata": {},
   "source": [
    "### df.clip()\n",
    "```python\n",
    "# Example usage of df.clip()\n",
    "```\n"
   ]
  },
  {
   "cell_type": "markdown",
   "id": "d08ed964",
   "metadata": {},
   "source": [
    "### df.corr()\n",
    "```python\n",
    "# Example usage of df.corr()\n",
    "```\n"
   ]
  },
  {
   "cell_type": "markdown",
   "id": "b1c0fbf7",
   "metadata": {},
   "source": [
    "### df.cov()\n",
    "```python\n",
    "# Example usage of df.cov()\n",
    "```\n"
   ]
  },
  {
   "cell_type": "markdown",
   "id": "b084e906",
   "metadata": {},
   "source": [
    "### df.rank()\n",
    "```python\n",
    "# Example usage of df.rank()\n",
    "```\n"
   ]
  },
  {
   "cell_type": "markdown",
   "id": "7a3b0640",
   "metadata": {},
   "source": [
    "### df.nlargest()\n",
    "```python\n",
    "# Example usage of df.nlargest()\n",
    "```\n"
   ]
  },
  {
   "cell_type": "markdown",
   "id": "8868c864",
   "metadata": {},
   "source": [
    "### df.nsmallest()\n",
    "```python\n",
    "# Example usage of df.nsmallest()\n",
    "```\n"
   ]
  },
  {
   "cell_type": "markdown",
   "id": "613f04cf",
   "metadata": {},
   "source": [
    "### df.idxmax()\n",
    "```python\n",
    "# Example usage of df.idxmax()\n",
    "```\n"
   ]
  },
  {
   "cell_type": "markdown",
   "id": "23d2bb93",
   "metadata": {},
   "source": [
    "### df.idxmin()\n",
    "```python\n",
    "# Example usage of df.idxmin()\n",
    "```\n"
   ]
  },
  {
   "cell_type": "markdown",
   "id": "f008165a",
   "metadata": {},
   "source": [
    "### df.memory_usage()\n",
    "```python\n",
    "# Example usage of df.memory_usage()\n",
    "```\n"
   ]
  },
  {
   "cell_type": "markdown",
   "id": "c7cbda42",
   "metadata": {},
   "source": [
    "### df.cumsum()\n",
    "```python\n",
    "# Example usage of df.cumsum()\n",
    "```\n"
   ]
  },
  {
   "cell_type": "markdown",
   "id": "d988a04a",
   "metadata": {},
   "source": [
    "### df.cumprod()\n",
    "```python\n",
    "# Example usage of df.cumprod()\n",
    "```\n"
   ]
  },
  {
   "cell_type": "markdown",
   "id": "30093cf4",
   "metadata": {},
   "source": [
    "### df.cummax()\n",
    "```python\n",
    "# Example usage of df.cummax()\n",
    "```\n"
   ]
  },
  {
   "cell_type": "markdown",
   "id": "852e649b",
   "metadata": {},
   "source": [
    "### df.cummin()\n",
    "```python\n",
    "# Example usage of df.cummin()\n",
    "```\n"
   ]
  },
  {
   "cell_type": "markdown",
   "id": "3f32de2f",
   "metadata": {},
   "source": [
    "### df.diff()\n",
    "```python\n",
    "# Example usage of df.diff()\n",
    "```\n"
   ]
  },
  {
   "cell_type": "markdown",
   "id": "6b89fb5c",
   "metadata": {},
   "source": [
    "### df.pct_change()\n",
    "```python\n",
    "# Example usage of df.pct_change()\n",
    "```\n"
   ]
  },
  {
   "cell_type": "markdown",
   "id": "26501a4a",
   "metadata": {},
   "source": [
    "### df.rolling()\n",
    "```python\n",
    "# Example usage of df.rolling()\n",
    "```\n"
   ]
  },
  {
   "cell_type": "markdown",
   "id": "a2d5526b",
   "metadata": {},
   "source": [
    "### df.expanding()\n",
    "```python\n",
    "# Example usage of df.expanding()\n",
    "```\n"
   ]
  },
  {
   "cell_type": "markdown",
   "id": "851d3684",
   "metadata": {},
   "source": [
    "### df.ewm()\n",
    "```python\n",
    "# Example usage of df.ewm()\n",
    "```\n"
   ]
  },
  {
   "cell_type": "markdown",
   "id": "df4bb940",
   "metadata": {},
   "source": [
    "### df.plot()\n",
    "```python\n",
    "# Example usage of df.plot()\n",
    "```\n"
   ]
  },
  {
   "cell_type": "markdown",
   "id": "649d9703",
   "metadata": {},
   "source": [
    "### df.hist()\n",
    "```python\n",
    "# Example usage of df.hist()\n",
    "```\n"
   ]
  },
  {
   "cell_type": "markdown",
   "id": "eca64627",
   "metadata": {},
   "source": [
    "### df.boxplot()\n",
    "```python\n",
    "# Example usage of df.boxplot()\n",
    "```\n"
   ]
  },
  {
   "cell_type": "markdown",
   "id": "83e24fd5",
   "metadata": {},
   "source": [
    "### df.to_csv()\n",
    "```python\n",
    "# Example usage of df.to_csv()\n",
    "```\n"
   ]
  },
  {
   "cell_type": "markdown",
   "id": "75a9cd50",
   "metadata": {},
   "source": [
    "## Advanced Functions (71-100)"
   ]
  },
  {
   "cell_type": "markdown",
   "id": "ae78ae0c",
   "metadata": {},
   "source": [
    "### pd.read_json()\n",
    "```python\n",
    "# Example usage of pd.read_json()\n",
    "```\n"
   ]
  },
  {
   "cell_type": "markdown",
   "id": "56e29e4d",
   "metadata": {},
   "source": [
    "### pd.read_excel()\n",
    "```python\n",
    "# Example usage of pd.read_excel()\n",
    "```\n"
   ]
  },
  {
   "cell_type": "markdown",
   "id": "fc45804f",
   "metadata": {},
   "source": [
    "### pd.to_datetime()\n",
    "```python\n",
    "# Example usage of pd.to_datetime()\n",
    "```\n"
   ]
  },
  {
   "cell_type": "markdown",
   "id": "a8c277b9",
   "metadata": {},
   "source": [
    "### df.resample()\n",
    "```python\n",
    "# Example usage of df.resample()\n",
    "```\n"
   ]
  },
  {
   "cell_type": "markdown",
   "id": "d1f5ed0e",
   "metadata": {},
   "source": [
    "### df.interpolate()\n",
    "```python\n",
    "# Example usage of df.interpolate()\n",
    "```\n"
   ]
  },
  {
   "cell_type": "markdown",
   "id": "b166abd6",
   "metadata": {},
   "source": [
    "### df.where()\n",
    "```python\n",
    "# Example usage of df.where()\n",
    "```\n"
   ]
  },
  {
   "cell_type": "markdown",
   "id": "904f7341",
   "metadata": {},
   "source": [
    "### df.mask()\n",
    "```python\n",
    "# Example usage of df.mask()\n",
    "```\n"
   ]
  },
  {
   "cell_type": "markdown",
   "id": "156a34d9",
   "metadata": {},
   "source": [
    "### df.pipe()\n",
    "```python\n",
    "# Example usage of df.pipe()\n",
    "```\n"
   ]
  },
  {
   "cell_type": "markdown",
   "id": "3154d8ca",
   "metadata": {},
   "source": [
    "### df.select_dtypes()\n",
    "```python\n",
    "# Example usage of df.select_dtypes()\n",
    "```\n"
   ]
  },
  {
   "cell_type": "markdown",
   "id": "bf39251e",
   "metadata": {},
   "source": [
    "### df.equals()\n",
    "```python\n",
    "# Example usage of df.equals()\n",
    "```\n"
   ]
  },
  {
   "cell_type": "markdown",
   "id": "7ae4ae7b",
   "metadata": {},
   "source": [
    "### df.explode()\n",
    "```python\n",
    "# Example usage of df.explode()\n",
    "```\n"
   ]
  },
  {
   "cell_type": "markdown",
   "id": "c31ef67b",
   "metadata": {},
   "source": [
    "### df.insert()\n",
    "```python\n",
    "# Example usage of df.insert()\n",
    "```\n"
   ]
  },
  {
   "cell_type": "markdown",
   "id": "4b41cec6",
   "metadata": {},
   "source": [
    "### df.pop()\n",
    "```python\n",
    "# Example usage of df.pop()\n",
    "```\n"
   ]
  },
  {
   "cell_type": "markdown",
   "id": "704ce7a3",
   "metadata": {},
   "source": [
    "### df.swapaxes()\n",
    "```python\n",
    "# Example usage of df.swapaxes()\n",
    "```\n"
   ]
  },
  {
   "cell_type": "markdown",
   "id": "5f17088e",
   "metadata": {},
   "source": [
    "### df.swaplevel()\n",
    "```python\n",
    "# Example usage of df.swaplevel()\n",
    "```\n"
   ]
  },
  {
   "cell_type": "markdown",
   "id": "a5305da9",
   "metadata": {},
   "source": [
    "### df.reorder_levels()\n",
    "```python\n",
    "# Example usage of df.reorder_levels()\n",
    "```\n"
   ]
  },
  {
   "cell_type": "markdown",
   "id": "0b151106",
   "metadata": {},
   "source": [
    "### df.to_dict()\n",
    "```python\n",
    "# Example usage of df.to_dict()\n",
    "```\n"
   ]
  },
  {
   "cell_type": "markdown",
   "id": "5fde34de",
   "metadata": {},
   "source": [
    "### df.from_dict()\n",
    "```python\n",
    "# Example usage of df.from_dict()\n",
    "```\n"
   ]
  },
  {
   "cell_type": "markdown",
   "id": "8739e403",
   "metadata": {},
   "source": [
    "### df.to_records()\n",
    "```python\n",
    "# Example usage of df.to_records()\n",
    "```\n"
   ]
  },
  {
   "cell_type": "markdown",
   "id": "5996a1c3",
   "metadata": {},
   "source": [
    "### df.to_sql()\n",
    "```python\n",
    "# Example usage of df.to_sql()\n",
    "```\n"
   ]
  },
  {
   "cell_type": "markdown",
   "id": "38d0b364",
   "metadata": {},
   "source": [
    "### df.to_parquet()\n",
    "```python\n",
    "# Example usage of df.to_parquet()\n",
    "```\n"
   ]
  },
  {
   "cell_type": "markdown",
   "id": "32e3ea60",
   "metadata": {},
   "source": [
    "### df.to_feather()\n",
    "```python\n",
    "# Example usage of df.to_feather()\n",
    "```\n"
   ]
  },
  {
   "cell_type": "markdown",
   "id": "f6be0ae3",
   "metadata": {},
   "source": [
    "### df.to_clipboard()\n",
    "```python\n",
    "# Example usage of df.to_clipboard()\n",
    "```\n"
   ]
  },
  {
   "cell_type": "markdown",
   "id": "999ac3b2",
   "metadata": {},
   "source": [
    "### df.to_markdown()\n",
    "```python\n",
    "# Example usage of df.to_markdown()\n",
    "```\n"
   ]
  },
  {
   "cell_type": "markdown",
   "id": "8fad8746",
   "metadata": {},
   "source": [
    "### df.to_html()\n",
    "```python\n",
    "# Example usage of df.to_html()\n",
    "```\n"
   ]
  },
  {
   "cell_type": "markdown",
   "id": "41ed95b0",
   "metadata": {},
   "source": [
    "### df.to_latex()\n",
    "```python\n",
    "# Example usage of df.to_latex()\n",
    "```\n"
   ]
  },
  {
   "cell_type": "markdown",
   "id": "3e8fbee8",
   "metadata": {},
   "source": [
    "### df.to_string()\n",
    "```python\n",
    "# Example usage of df.to_string()\n",
    "```\n"
   ]
  },
  {
   "cell_type": "markdown",
   "id": "0aaf1b63",
   "metadata": {},
   "source": [
    "### df.style\n",
    "```python\n",
    "# Example usage of df.style\n",
    "```\n"
   ]
  },
  {
   "cell_type": "markdown",
   "id": "5c2bf7eb",
   "metadata": {},
   "source": [
    "### df.style.highlight_max()\n",
    "```python\n",
    "# Example usage of df.style.highlight_max()\n",
    "```\n"
   ]
  }
 ],
 "metadata": {
  "kernelspec": {
   "display_name": "Python 3 (ipykernel)",
   "language": "python",
   "name": "python3"
  },
  "language_info": {
   "codemirror_mode": {
    "name": "ipython",
    "version": 3
   },
   "file_extension": ".py",
   "mimetype": "text/x-python",
   "name": "python",
   "nbconvert_exporter": "python",
   "pygments_lexer": "ipython3",
   "version": "3.11.5"
  }
 },
 "nbformat": 4,
 "nbformat_minor": 5
}
