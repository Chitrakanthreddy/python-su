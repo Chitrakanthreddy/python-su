{
 "cells": [
  {
   "cell_type": "markdown",
   "metadata": {},
   "source": [
    "## Boosting\n",
    "\n",
    "Boosting is loosely-defined as a strategy that combines multiple simple models into a single composite model. With the introduction of more simple models, the overall model becomes a stronger predictor. In boosting terminology, the simple models are called weak models or weak learners.\n",
    "\n",
    "- The two main boosting algorithms are Adaptive Boosting(AdaBoost) and Gradient Boosting.\n",
    "\n",
    "## Gradient Boosting\n",
    "- Gradient boosting re-defines boosting as a numerical optimisation problem where the objective is to minimise the loss function of the model by adding **weak learners using gradient descent**. Gradient descent is a first-order iterative optimisation algorithm for finding a local minimum of a differentiable function. \n",
    "- As gradient boosting is based on minimising a **loss function**, different types of loss functions can be used resulting in a flexible technique that can be applied to regression, multi-class classification, etc.\n",
    "- The contribution of the weak learner to the ensemble is based on the gradient descent optimisation process. The calculated contribution of each tree is based on minimising the overall error of the strong learner.\n",
    "\n",
    "# Gradient Boosting regression\n",
    "\n",
    "This example demonstrates Gradient Boosting to produce a predictive\n",
    "model from an ensemble of weak predictive models. Gradient boosting can be used\n",
    "for regression and classification problems. Here, we will train a model to\n",
    "tackle a diabetes regression task. \n",
    "- We will obtain the results from\n",
    ":class:`~sklearn.ensemble.GradientBoostingRegressor` with least squares loss\n",
    "and 500 regression trees of depth 4.\n",
    "\n",
    "- For larger datasets (n_samples >= 10000),we use\n",
    ":class:`~sklearn.ensemble.HistGradientBoostingRegressor`.\n"
   ]
  },
  {
   "cell_type": "code",
   "execution_count": 1,
   "metadata": {},
   "outputs": [],
   "source": [
    "import matplotlib.pyplot as plt\n",
    "import numpy as np\n",
    "from sklearn import datasets, ensemble\n",
    "from sklearn.inspection import permutation_importance\n",
    "from sklearn.metrics import mean_squared_error\n",
    "from sklearn.model_selection import train_test_split"
   ]
  },
  {
   "cell_type": "markdown",
   "metadata": {},
   "source": [
    "## Load the data\n",
    "\n",
    "First we need to load the data.\n",
    "\n"
   ]
  },
  {
   "cell_type": "code",
   "execution_count": 2,
   "metadata": {},
   "outputs": [],
   "source": [
    "diabetes = datasets.load_diabetes()\n",
    "X, y = diabetes.data, diabetes.target"
   ]
  },
  {
   "cell_type": "markdown",
   "metadata": {},
   "source": [
    "## Data preprocessing\n",
    "\n",
    "Next, we will split our dataset to use 90% for training and leave the rest\n",
    "for testing. We will also set the regression model parameters. You can play\n",
    "with these parameters to see how the results change.\n",
    "\n",
    "`n_estimators` : the number of boosting stages that will be performed.\n",
    "Later, we will plot deviance against boosting iterations.\n",
    "\n",
    "`max_depth` : limits the number of nodes in the tree.\n",
    "The best value depends on the interaction of the input variables.\n",
    "\n",
    "`min_samples_split` : the minimum number of samples required to split an\n",
    "internal node.\n",
    "\n",
    "`learning_rate` : how much the contribution of each tree will shrink.\n",
    "\n",
    "`loss` : loss function to optimize. The least squares function is  used in\n",
    "this case however, there are many other options (see\n",
    ":class:`~sklearn.ensemble.GradientBoostingRegressor` ).\n",
    "\n"
   ]
  },
  {
   "cell_type": "code",
   "execution_count": 3,
   "metadata": {},
   "outputs": [],
   "source": [
    "X_train, X_test, y_train, y_test = train_test_split(\n",
    "    X, y, test_size=0.1, random_state=13\n",
    ")\n",
    "\n",
    "params = {\n",
    "    \"n_estimators\": 500,\n",
    "    \"max_depth\": 4,\n",
    "    \"min_samples_split\": 5,\n",
    "    \"learning_rate\": 0.01,\n",
    "    \"loss\": \"squared_error\",\n",
    "}"
   ]
  },
  {
   "cell_type": "markdown",
   "metadata": {},
   "source": [
    "## Fit regression model\n",
    "\n",
    "Now we will initiate the gradient boosting regressors and fit it with our\n",
    "training data. Let's also look and the mean squared error on the test data.\n",
    "\n"
   ]
  },
  {
   "cell_type": "code",
   "execution_count": 4,
   "metadata": {},
   "outputs": [
    {
     "name": "stdout",
     "output_type": "stream",
     "text": [
      "The mean squared error (MSE) on test set: 3056.1992\n"
     ]
    }
   ],
   "source": [
    "reg = ensemble.GradientBoostingRegressor(**params)\n",
    "reg.fit(X_train, y_train)\n",
    "\n",
    "mse = mean_squared_error(y_test, reg.predict(X_test))\n",
    "print(\"The mean squared error (MSE) on test set: {:.4f}\".format(mse))"
   ]
  },
  {
   "cell_type": "markdown",
   "metadata": {},
   "source": [
    "## Plot training deviance\n",
    "\n",
    "Finally, we will visualize the results. To do that we will first compute the\n",
    "test set deviance and then plot it against boosting iterations.\n",
    "\n"
   ]
  },
  {
   "cell_type": "code",
   "execution_count": 5,
   "metadata": {},
   "outputs": [
    {
     "data": {
      "image/png": "[encoded data removed]",
      "text/plain": [
       "<Figure size 432x432 with 1 Axes>"
      ]
     },
     "metadata": {
      "needs_background": "light"
     },
     "output_type": "display_data"
    }
   ],
   "source": [
    "test_score = np.zeros((params[\"n_estimators\"],), dtype=np.float64)\n",
    "for i, y_pred in enumerate(reg.staged_predict(X_test)):\n",
    "    test_score[i] = reg.loss_(y_test, y_pred)\n",
    "\n",
    "fig = plt.figure(figsize=(6, 6))\n",
    "plt.subplot(1, 1, 1)\n",
    "plt.title(\"Deviance\")\n",
    "plt.plot(\n",
    "    np.arange(params[\"n_estimators\"]) + 1,\n",
    "    reg.train_score_,\n",
    "    \"b-\",\n",
    "    label=\"Training Set Deviance\",\n",
    ")\n",
    "plt.plot(\n",
    "    np.arange(params[\"n_estimators\"]) + 1, test_score, \"r-\", label=\"Test Set Deviance\"\n",
    ")\n",
    "plt.legend(loc=\"upper right\")\n",
    "plt.xlabel(\"Boosting Iterations\")\n",
    "plt.ylabel(\"Deviance\")\n",
    "fig.tight_layout()\n",
    "plt.show()"
   ]
  },
  {
   "cell_type": "markdown",
   "metadata": {},
   "source": [
    "## Plot feature importance\n",
    "\n",
    "<div class=\"alert alert-danger\"><h4>Warning</h4><p>Careful, impurity-based feature importances can be misleading for\n",
    "   **high cardinality** features (many unique values). As an alternative,\n",
    "   the permutation importances of ``reg`` can be computed on a\n",
    "   held out test set. See `permutation_importance` for more details.</p></div>\n",
    "\n",
    "For this example, the impurity-based and permutation methods identify the\n",
    "same 2 strongly predictive features but not in the same order. The third most\n",
    "predictive feature, \"bp\", is also the same for the 2 methods. The remaining\n",
    "features are less predictive and the error bars of the permutation plot\n",
    "show that they overlap with 0.\n",
    "\n"
   ]
  },
  {
   "cell_type": "code",
   "execution_count": 6,
   "metadata": {},
   "outputs": [
    {
     "data": {
      "image/png": "[encoded data removed]",
      "text/plain": [
       "<Figure size 864x432 with 2 Axes>"
      ]
     },
     "metadata": {
      "needs_background": "light"
     },
     "output_type": "display_data"
    }
   ],
   "source": [
    "feature_importance = reg.feature_importances_\n",
    "sorted_idx = np.argsort(feature_importance)\n",
    "pos = np.arange(sorted_idx.shape[0]) + 0.5\n",
    "fig = plt.figure(figsize=(12, 6))\n",
    "plt.subplot(1, 2, 1)\n",
    "plt.barh(pos, feature_importance[sorted_idx], align=\"center\")\n",
    "plt.yticks(pos, np.array(diabetes.feature_names)[sorted_idx])\n",
    "plt.title(\"Feature Importance (MDI)\")\n",
    "\n",
    "result = permutation_importance(\n",
    "    reg, X_test, y_test, n_repeats=10, random_state=42, n_jobs=2\n",
    ")\n",
    "sorted_idx = result.importances_mean.argsort()\n",
    "plt.subplot(1, 2, 2)\n",
    "plt.boxplot(\n",
    "    result.importances[sorted_idx].T,\n",
    "    vert=False,\n",
    "    labels=np.array(diabetes.feature_names)[sorted_idx],\n",
    ")\n",
    "plt.title(\"Permutation Importance (test set)\")\n",
    "fig.tight_layout()\n",
    "plt.show()"
   ]
  }
 ],
 "metadata": {
  "kernelspec": {
   "display_name": "Python 3 (ipykernel)",
   "language": "python",
   "name": "python3"
  },
  "language_info": {
   "codemirror_mode": {
    "name": "ipython",
    "version": 3
   },
   "file_extension": ".py",
   "mimetype": "text/x-python",
   "name": "python",
   "nbconvert_exporter": "python",
   "pygments_lexer": "ipython3",
   "version": "3.9.12"
  }
 },
 "nbformat": 4,
 "nbformat_minor": 1
}
