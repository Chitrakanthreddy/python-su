{
 "cells": [
  {
   "cell_type": "markdown",
   "metadata": {},
   "source": [
    "##  Basic Input/output with Files (2 hr.) \n",
    " -  Opening Files \n",
    " -  Working with Files \n",
    " -  Controlling Output Location \n",
    " \n",
    " \n",
    "## Classes and Objects (2hrs) \n",
    " - Introduction to OOP using python \n",
    " - Classes and class attributes \n",
    " - Instances and instance attributes \n",
    " \n",
    "## Built-in functions for classes, instances and other objects \n",
    " -  Privacy and Delegation \n",
    " - An overview of built-in python classes and modules \n",
    " - Method Overriding, Overloading \n",
    " - Binding and method invocation \n",
    " - Inheritance  \n",
    " \n",
    "##  Modules & Packages (2hr) \n",
    " -  Module Basics \n",
    " -  Packages \n",
    " -  Using __all     and _ Variables \n",
    " - Using __name__ \n",
    " - Using third party modules – Boto3, requests, pysnow.\n",
    " \n",
    " ##  Standard Python modules (2hrs) \n",
    " - Using the sys module \n",
    " -  sys.argv, sys.path, sys.version \n",
    " -  An overview on __builtin     and __future__ modules \n",
    " - Using the os module \n",
    " - Filesystem/directory functions \n",
    " - Basic process management functions \n",
    " - Recursive directory iteration using os.walk \n",
    " - Using the os.path module \n",
    " - Determining basename, dirname, path manipulation \n",
    " -  File type/size/timestamp and other stat determination\n",
    " - Using the time and datetime modules \n",
    " - Virtual Env \n",
    "\n",
    " \n",
    "### Hands-on         \n",
    "1.   Script to handle multiple exceptions \n",
    "2.   Script to create a solution to generate a bill for a retail store \n",
    "3.   Script to get the top three employees by age in a company. \n",
    "4. Script to create a file in your local systems and store next 5 days timestamp in the file. \n",
    "5. Script to Create a C API from Extension Module in Python \n",
    " \n",
    " "
   ]
  },
  {
   "cell_type": "code",
   "execution_count": null,
   "metadata": {},
   "outputs": [],
   "source": [
    "#ZeroDivisionError\n",
    "#Syntax Error(EOF Error,Indentation Error)\n",
    "#IOError\n",
    "#ImportError\n",
    "#ValueError\n",
    "#NameError\n",
    "#wrong operation :Type ERROR \n",
    "print(\"*****ZeroDivisionError*******\")\n",
    "try:\n",
    "    x=int(input(\"Enter First Number\"))\n",
    "    y=int(input(\"Enter Second Number\"))\n",
    "    print(\"sum is:\", x+y)\n",
    "    print(\"div is:\",x/y)\n",
    "    print(\"product is:\",x*y)\n",
    "except  (ZeroDivisionError,ValueError)  as e:\n",
    "        print(\"oops!!Error either wrong division or wrong data type entered\")\n",
    "        print(\"ReEnter:\")\n",
    "        x=int(input(\"Enter First Number\"))\n",
    "        y=int(input(\"Enter Second  Number\"))\n",
    "        print(\"sum is:\", x+y)\n",
    "        print(\"answer is:\",x/y)\n",
    "        print(\"product is:\",x*y)      \n",
    "\n",
    "print(\"****Module Error*****\")\n",
    "try:\n",
    "    import time\n",
    "    t=time.strftime(\"%c\")\n",
    "    print(t)\n",
    "except ImportError as e:\n",
    "    print(\"OOps you have imported wrong module\")\n",
    "print(\"****IOE Error*****\")\n",
    "try:\n",
    "      a=input(\"Enter file name you want to read\")\n",
    "      f=open(a,\"r\")\n",
    "      x=f.read()\n",
    "      print(x)\n",
    "except IOError as e:\n",
    "      print(\"you have entered wrong file name\")\n",
    "      a=input(\"ReEnter file name\")\n",
    "      f=open(a,\"r\")\n",
    "      x=f.read()\n",
    "      print(x)\n",
    "print(\"Name Error\")\n",
    "x=6\n",
    "try:\n",
    " print(\"the square of x is\",(k*k))\n",
    "except NameError as e:\n",
    " print(\"youn have entered unknow variable\")\n",
    "      \n"
   ]
  },
  {
   "cell_type": "markdown",
   "metadata": {},
   "source": [
    "### Modules\n",
    "A module is a file containing Python definitions and statements. The file name is the module name with the suffix .py appended. Within a module, the module’s name (as a string) is available as the value of the global variable name."
   ]
  },
  {
   "cell_type": "raw",
   "metadata": {},
   "source": [
    "# Fibonacci numbers module\n",
    "\n",
    "def fib(n):    # write Fibonacci series up to n\n",
    "    a, b = 0, 1\n",
    "    while a < n:\n",
    "        print(a, end=' ')\n",
    "        a, b = b, a+b\n",
    "    print()\n",
    "\n",
    "def fib2(n):   # return Fibonacci series up to n\n",
    "    result = []\n",
    "    a, b = 0, 1\n",
    "    while a < n:\n",
    "        result.append(a)\n",
    "        a, b = b, a+b\n",
    "    return result"
   ]
  },
  {
   "cell_type": "code",
   "execution_count": 18,
   "metadata": {},
   "outputs": [
    {
     "data": {
      "text/plain": [
       "'fibo'"
      ]
     },
     "execution_count": 18,
     "metadata": {},
     "output_type": "execute_result"
    }
   ],
   "source": [
    "import fibo\n",
    "fibo.__name__ ##To get name of module"
   ]
  },
  {
   "cell_type": "code",
   "execution_count": 19,
   "metadata": {},
   "outputs": [
    {
     "name": "stdout",
     "output_type": "stream",
     "text": [
      "0 1 1 2 3 5 8 13 21 34 55 89 144 233 377 \n"
     ]
    }
   ],
   "source": [
    "## use a function often to assign it to a local name:\n",
    "\n",
    "\n",
    "f = fibo.fib\n",
    "f(500)"
   ]
  },
  {
   "cell_type": "code",
   "execution_count": 20,
   "metadata": {},
   "outputs": [
    {
     "name": "stdout",
     "output_type": "stream",
     "text": [
      "0 1 1 2 3 5 8 13 21 34 55 89 144 233 377 \n"
     ]
    }
   ],
   "source": [
    "## There is even a variant to import all names that a module defines:\n",
    "\n",
    "from fibo import *\n",
    "fib(500)"
   ]
  },
  {
   "cell_type": "code",
   "execution_count": 21,
   "metadata": {},
   "outputs": [
    {
     "name": "stdout",
     "output_type": "stream",
     "text": [
      "0 1 1 2 3 5 8 13 21 34 55 89 144 233 377 \n"
     ]
    }
   ],
   "source": [
    "## if the module name is followed by as, then the name following as is bound directly to the imported module.\n",
    "\n",
    "\n",
    "import fibo as f\n",
    "f.fib(500)"
   ]
  },
  {
   "cell_type": "code",
   "execution_count": 22,
   "metadata": {},
   "outputs": [
    {
     "name": "stdout",
     "output_type": "stream",
     "text": [
      "0 1 1 2 3 5 8 13 21 34 55 89 144 233 377 \n"
     ]
    }
   ],
   "source": [
    "## It can also be used when utilising from with similar effects:\n",
    "\n",
    "\n",
    "from fibo import fib as fibonacci\n",
    "fibonacci(500)"
   ]
  },
  {
   "cell_type": "code",
   "execution_count": 25,
   "metadata": {},
   "outputs": [
    {
     "name": "stdout",
     "output_type": "stream",
     "text": [
      "0 1 1 2 3 5 8 13 21 34 55 89 144 233 377 610 \n"
     ]
    }
   ],
   "source": [
    "import fibo\n",
    "f.fib(900)"
   ]
  },
  {
   "cell_type": "code",
   "execution_count": 26,
   "metadata": {},
   "outputs": [
    {
     "name": "stdout",
     "output_type": "stream",
     "text": [
      "0 1 1 2 3 5 8 13 21 34 55 89 144 233 377 610 987 \n"
     ]
    }
   ],
   "source": [
    "import fibo\n",
    "f.fib(1000)"
   ]
  },
  {
   "cell_type": "markdown",
   "metadata": {},
   "source": [
    "Note :\n",
    "\n",
    "This imports all names except those beginning with an underscore (_). In most cases Python programmers do not use this facility since it introduces an unknown set of names into the interpreter, possibly hiding some things you have already defined.\n",
    "Note that in general the practice of importing * from a module or package is frowned upon, since it often causes poorly readable code.\n",
    "\n",
    "For efficiency reasons, each module is only imported once per interpreter session. Therefore, if you change your modules, you must restart the interpreter – or, if it’s just one module you want to test interactively, use importlib.reload(), e.g. import importlib; importlib.reload(modulename)."
   ]
  },
  {
   "cell_type": "code",
   "execution_count": 30,
   "metadata": {},
   "outputs": [
    {
     "name": "stdout",
     "output_type": "stream",
     "text": [
      " Math Module:\n",
      "Enter any num1\n",
      "factorial= 1\n",
      "exponent= 2.718281828459045\n",
      "power= 1.0\n",
      "cosine= 0.0\n",
      "Prints any random num 3\n",
      "black\n"
     ]
    }
   ],
   "source": [
    "import math\n",
    "print(\" Math Module:\")\n",
    "x=int(input(\"Enter any num\"))\n",
    "print( \"factorial=\",math.factorial(x))\n",
    "print( \"exponent=\",math.exp(x))\n",
    "print( \"power=\",math.pow(x,4))\n",
    "print( \"cosine=\",math.acosh(x))\n",
    "#4.Random Module\n",
    "import random\n",
    "print (\"Prints any random num\",random.randint(0, 5))\n",
    "print(random.choice( ['red', 'black', 'green']))\n",
    "   "
   ]
  },
  {
   "cell_type": "code",
   "execution_count": 31,
   "metadata": {},
   "outputs": [
    {
     "name": "stdout",
     "output_type": "stream",
     "text": [
      "16/06/2019|12:59:55\n",
      "HI\n",
      "Sun Jun 16 12:59:57 2019\n",
      "Sunday/June|Sun/Jun\n",
      "12:59:PM\n",
      "+0530\n"
     ]
    }
   ],
   "source": [
    "import time\n",
    "t = time.strftime(\"%d/%m/%Y|%H:%M:%S\")\n",
    "print (t)\n",
    "time.sleep(2)#provides delay for secs\n",
    "print(\"HI\")\n",
    "tstr=time.strftime(\"%c\")\n",
    "print(tstr)\n",
    "Tstr=time.strftime(\"%A/%B|%a/%b\")\n",
    "print(Tstr)\n",
    "tstr=time.strftime(\"%H:%M:%p\")\n",
    "print(tstr)\n",
    "w=time.strftime(\"%z\")\n",
    "print(w)\n"
   ]
  },
  {
   "cell_type": "code",
   "execution_count": 36,
   "metadata": {},
   "outputs": [
    {
     "name": "stdout",
     "output_type": "stream",
     "text": [
      "Enter year4\n",
      "Enter month5\n",
      "       May 4\n",
      "Mo Tu We Th Fr Sa Su\n",
      "                1  2\n",
      " 3  4  5  6  7  8  9\n",
      "10 11 12 13 14 15 16\n",
      "17 18 19 20 21 22 23\n",
      "24 25 26 27 28 29 30\n",
      "31\n",
      "\n",
      "                                          2017\n",
      "\n",
      "\n",
      "\n",
      "\n",
      "\n",
      "          January                       February                       March\n",
      "\n",
      "\n",
      "Mon Tue Wed Thu Fri Sat Sun   Mon Tue Wed Thu Fri Sat Sun   Mon Tue Wed Thu Fri Sat Sun\n",
      "\n",
      "\n",
      "                          1             1   2   3   4   5             1   2   3   4   5\n",
      "\n",
      "\n",
      "  2   3   4   5   6   7   8     6   7   8   9  10  11  12     6   7   8   9  10  11  12\n",
      "\n",
      "\n",
      "  9  10  11  12  13  14  15    13  14  15  16  17  18  19    13  14  15  16  17  18  19\n",
      "\n",
      "\n",
      " 16  17  18  19  20  21  22    20  21  22  23  24  25  26    20  21  22  23  24  25  26\n",
      "\n",
      "\n",
      " 23  24  25  26  27  28  29    27  28                        27  28  29  30  31\n",
      "\n",
      "\n",
      " 30  31\n",
      "\n",
      "\n",
      "\n",
      "\n",
      "\n",
      "           April                          May                           June\n",
      "\n",
      "\n",
      "Mon Tue Wed Thu Fri Sat Sun   Mon Tue Wed Thu Fri Sat Sun   Mon Tue Wed Thu Fri Sat Sun\n",
      "\n",
      "\n",
      "                      1   2     1   2   3   4   5   6   7                 1   2   3   4\n",
      "\n",
      "\n",
      "  3   4   5   6   7   8   9     8   9  10  11  12  13  14     5   6   7   8   9  10  11\n",
      "\n",
      "\n",
      " 10  11  12  13  14  15  16    15  16  17  18  19  20  21    12  13  14  15  16  17  18\n",
      "\n",
      "\n",
      " 17  18  19  20  21  22  23    22  23  24  25  26  27  28    19  20  21  22  23  24  25\n",
      "\n",
      "\n",
      " 24  25  26  27  28  29  30    29  30  31                    26  27  28  29  30\n",
      "\n",
      "\n",
      "\n",
      "\n",
      "\n",
      "            July                         August                      September\n",
      "\n",
      "\n",
      "Mon Tue Wed Thu Fri Sat Sun   Mon Tue Wed Thu Fri Sat Sun   Mon Tue Wed Thu Fri Sat Sun\n",
      "\n",
      "\n",
      "                      1   2         1   2   3   4   5   6                     1   2   3\n",
      "\n",
      "\n",
      "  3   4   5   6   7   8   9     7   8   9  10  11  12  13     4   5   6   7   8   9  10\n",
      "\n",
      "\n",
      " 10  11  12  13  14  15  16    14  15  16  17  18  19  20    11  12  13  14  15  16  17\n",
      "\n",
      "\n",
      " 17  18  19  20  21  22  23    21  22  23  24  25  26  27    18  19  20  21  22  23  24\n",
      "\n",
      "\n",
      " 24  25  26  27  28  29  30    28  29  30  31                25  26  27  28  29  30\n",
      "\n",
      "\n",
      " 31\n",
      "\n",
      "\n",
      "\n",
      "\n",
      "\n",
      "          October                       November                      December\n",
      "\n",
      "\n",
      "Mon Tue Wed Thu Fri Sat Sun   Mon Tue Wed Thu Fri Sat Sun   Mon Tue Wed Thu Fri Sat Sun\n",
      "\n",
      "\n",
      "                          1             1   2   3   4   5                     1   2   3\n",
      "\n",
      "\n",
      "  2   3   4   5   6   7   8     6   7   8   9  10  11  12     4   5   6   7   8   9  10\n",
      "\n",
      "\n",
      "  9  10  11  12  13  14  15    13  14  15  16  17  18  19    11  12  13  14  15  16  17\n",
      "\n",
      "\n",
      " 16  17  18  19  20  21  22    20  21  22  23  24  25  26    18  19  20  21  22  23  24\n",
      "\n",
      "\n",
      " 23  24  25  26  27  28  29    27  28  29  30                25  26  27  28  29  30  31\n",
      "\n",
      "\n",
      " 30  31\n",
      "\n",
      "\n",
      "\n",
      "True\n"
     ]
    }
   ],
   "source": [
    "import calendar\n",
    "#prints Calendar of specified month\n",
    "x=int(input(\"Enter year\"))\n",
    "y=int(input(\"Enter month\"))\n",
    "c = calendar.month(x,y)\n",
    "print(c)\n",
    "#prints Calendar of year\n",
    "print (calendar.TextCalendar(calendar.MONDAY).formatyear(2017, 3, 3, 3, 3))\n",
    "#Leap Year Check\n",
    "leap=calendar.isleap(2020)\n",
    "print(leap)           "
   ]
  },
  {
   "cell_type": "markdown",
   "metadata": {},
   "source": [
    "### The Module Search Path\n",
    "When a module named spam is imported, the interpreter first searches for a built-in module with that name. If not found, it then searches for a file named spam.py in a list of directories given by the variable sys.path. sys.path is initialized from these locations:\n",
    "\n",
    "The directory containing the input script (or the current directory when no file is specified).\n",
    "\n",
    "PYTHONPATH (a list of directory names, with the same syntax as the shell variable PATH).\n",
    "\n",
    "The installation-dependent default.\n",
    "\n",
    "Note : On file systems which support symlinks, the directory containing the input script is calculated after the symlink is followed. In other words the directory containing the symlink is not added to the module search path.\n",
    "\n",
    "After initialization, Python programs can modify sys.path. The directory containing the script being run is placed at the beginning of the search path, ahead of the standard library path. This means that scripts in that directory will be loaded instead of modules of the same name in the library directory\n",
    "The dir() Function\n",
    "The built-in function dir() is used to find out which names a module defines. It returns a sorted list of strings\n",
    "Without arguments, dir() lists the names you have defined currently"
   ]
  },
  {
   "cell_type": "code",
   "execution_count": 27,
   "metadata": {},
   "outputs": [
    {
     "data": {
      "text/plain": [
       "['ArithmeticError',\n",
       " 'AssertionError',\n",
       " 'AttributeError',\n",
       " 'BaseException',\n",
       " 'BlockingIOError',\n",
       " 'BrokenPipeError',\n",
       " 'BufferError',\n",
       " 'BytesWarning',\n",
       " 'ChildProcessError',\n",
       " 'ConnectionAbortedError',\n",
       " 'ConnectionError',\n",
       " 'ConnectionRefusedError',\n",
       " 'ConnectionResetError',\n",
       " 'DeprecationWarning',\n",
       " 'EOFError',\n",
       " 'Ellipsis',\n",
       " 'EnvironmentError',\n",
       " 'Exception',\n",
       " 'False',\n",
       " 'FileExistsError',\n",
       " 'FileNotFoundError',\n",
       " 'FloatingPointError',\n",
       " 'FutureWarning',\n",
       " 'GeneratorExit',\n",
       " 'IOError',\n",
       " 'ImportError',\n",
       " 'ImportWarning',\n",
       " 'IndentationError',\n",
       " 'IndexError',\n",
       " 'InterruptedError',\n",
       " 'IsADirectoryError',\n",
       " 'KeyError',\n",
       " 'KeyboardInterrupt',\n",
       " 'LookupError',\n",
       " 'MemoryError',\n",
       " 'ModuleNotFoundError',\n",
       " 'NameError',\n",
       " 'None',\n",
       " 'NotADirectoryError',\n",
       " 'NotImplemented',\n",
       " 'NotImplementedError',\n",
       " 'OSError',\n",
       " 'OverflowError',\n",
       " 'PendingDeprecationWarning',\n",
       " 'PermissionError',\n",
       " 'ProcessLookupError',\n",
       " 'RecursionError',\n",
       " 'ReferenceError',\n",
       " 'ResourceWarning',\n",
       " 'RuntimeError',\n",
       " 'RuntimeWarning',\n",
       " 'StopAsyncIteration',\n",
       " 'StopIteration',\n",
       " 'SyntaxError',\n",
       " 'SyntaxWarning',\n",
       " 'SystemError',\n",
       " 'SystemExit',\n",
       " 'TabError',\n",
       " 'TimeoutError',\n",
       " 'True',\n",
       " 'TypeError',\n",
       " 'UnboundLocalError',\n",
       " 'UnicodeDecodeError',\n",
       " 'UnicodeEncodeError',\n",
       " 'UnicodeError',\n",
       " 'UnicodeTranslateError',\n",
       " 'UnicodeWarning',\n",
       " 'UserWarning',\n",
       " 'ValueError',\n",
       " 'Warning',\n",
       " 'WindowsError',\n",
       " 'ZeroDivisionError',\n",
       " '__IPYTHON__',\n",
       " '__build_class__',\n",
       " '__debug__',\n",
       " '__doc__',\n",
       " '__import__',\n",
       " '__loader__',\n",
       " '__name__',\n",
       " '__package__',\n",
       " '__spec__',\n",
       " 'abs',\n",
       " 'all',\n",
       " 'any',\n",
       " 'ascii',\n",
       " 'bin',\n",
       " 'bool',\n",
       " 'breakpoint',\n",
       " 'bytearray',\n",
       " 'bytes',\n",
       " 'callable',\n",
       " 'chr',\n",
       " 'classmethod',\n",
       " 'compile',\n",
       " 'complex',\n",
       " 'copyright',\n",
       " 'credits',\n",
       " 'delattr',\n",
       " 'dict',\n",
       " 'dir',\n",
       " 'display',\n",
       " 'divmod',\n",
       " 'dreload',\n",
       " 'enumerate',\n",
       " 'eval',\n",
       " 'exec',\n",
       " 'filter',\n",
       " 'float',\n",
       " 'format',\n",
       " 'frozenset',\n",
       " 'get_ipython',\n",
       " 'getattr',\n",
       " 'globals',\n",
       " 'hasattr',\n",
       " 'hash',\n",
       " 'help',\n",
       " 'hex',\n",
       " 'id',\n",
       " 'input',\n",
       " 'int',\n",
       " 'isinstance',\n",
       " 'issubclass',\n",
       " 'iter',\n",
       " 'len',\n",
       " 'license',\n",
       " 'list',\n",
       " 'locals',\n",
       " 'map',\n",
       " 'max',\n",
       " 'memoryview',\n",
       " 'min',\n",
       " 'next',\n",
       " 'object',\n",
       " 'oct',\n",
       " 'open',\n",
       " 'ord',\n",
       " 'pow',\n",
       " 'print',\n",
       " 'property',\n",
       " 'range',\n",
       " 'repr',\n",
       " 'reversed',\n",
       " 'round',\n",
       " 'set',\n",
       " 'setattr',\n",
       " 'slice',\n",
       " 'sorted',\n",
       " 'staticmethod',\n",
       " 'str',\n",
       " 'sum',\n",
       " 'super',\n",
       " 'tuple',\n",
       " 'type',\n",
       " 'vars',\n",
       " 'zip']"
      ]
     },
     "execution_count": 27,
     "metadata": {},
     "output_type": "execute_result"
    }
   ],
   "source": [
    "\n",
    "import fibo, sys\n",
    "dir(fibo)\n",
    "['__builtins__',\n",
    " '__cached__',\n",
    " '__doc__',\n",
    " '__file__',\n",
    " '__loader__',\n",
    " '__name__',\n",
    " '__package__',\n",
    " '__spec__',\n",
    " 'fib',\n",
    " 'fib2']\n",
    "a = [1, 2, 3, 4, 5]\n",
    "import fibo\n",
    "fib = fibo.fib\n",
    "dir() #lists all types of names: variables, modules, functions, etc.\n",
    "#names of built-in functions and variables\n",
    "import builtins\n",
    "dir(builtins)"
   ]
  },
  {
   "cell_type": "code",
   "execution_count": null,
   "metadata": {},
   "outputs": [],
   "source": []
  }
 ],
 "metadata": {
  "kernelspec": {
   "display_name": "Python 3",
   "language": "python",
   "name": "python3"
  },
  "language_info": {
   "codemirror_mode": {
    "name": "ipython",
    "version": 3
   },
   "file_extension": ".py",
   "mimetype": "text/x-python",
   "name": "python",
   "nbconvert_exporter": "python",
   "pygments_lexer": "ipython3",
   "version": "3.7.1"
  }
 },
 "nbformat": 4,
 "nbformat_minor": 2
}
