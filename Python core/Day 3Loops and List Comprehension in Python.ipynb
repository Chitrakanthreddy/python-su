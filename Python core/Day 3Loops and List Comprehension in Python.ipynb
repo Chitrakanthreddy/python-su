{
 "cells": [
  {
   "cell_type": "markdown",
   "metadata": {},
   "source": [
    "## Loops "
   ]
  },
  {
   "cell_type": "code",
   "execution_count": null,
   "metadata": {},
   "outputs": [],
   "source": [
    "for i in range(1,3):\n",
    "    print(\"hi\")\n"
   ]
  },
  {
   "cell_type": "code",
   "execution_count": null,
   "metadata": {},
   "outputs": [],
   "source": [
    "for i in range (1,4):\n",
    "    print(\"Hello\")\n",
    "    "
   ]
  },
  {
   "cell_type": "code",
   "execution_count": null,
   "metadata": {},
   "outputs": [],
   "source": [
    "b={\"a\":1,\"b\":2}\n",
    "for i in b:\n",
    "    print(b.values())\n"
   ]
  },
  {
   "cell_type": "code",
   "execution_count": null,
   "metadata": {},
   "outputs": [],
   "source": [
    "##Iterations in loops:\n",
    "\n",
    "print(\"List Iteration\")\n",
    "l = [22, 33, \"Data\"]\n",
    "for i in l:\n",
    "    print(i)\n",
    "\n",
    "# Iterating over a tuple (immutable)\n",
    "print(\"\\nTuple Iteration\")\n",
    "t = (\"Python\", \"Data\",)\n",
    "for i in t:\n",
    "    print(i)\n",
    "\n",
    "# Iterating over a String\n",
    "print(\"\\nString Iteration\")\n",
    "s = \"Python\"\n",
    "for i in s:\n",
    "    print(i)\n",
    "\n",
    "# Iterating over dictionary\n",
    "print(\"\\nDictionary Iteration\")\n",
    "d = dict()\n",
    "d['red'] = 100\n",
    "d['pink'] = 201\n",
    "for i in d:\n",
    "    print(\"%s %d\" % (i, d[i]))\n",
    "\n",
    "# Iterating over a set\n",
    "print(\"\\nSet Iteration\")\n",
    "set1 = {1, 2, 3, 4, 4, 6}\n",
    "for i in set1:\n",
    "    print(i),\n"
   ]
  },
  {
   "cell_type": "code",
   "execution_count": null,
   "metadata": {},
   "outputs": [],
   "source": [
    "## Write a script to input a numerical list of user input length\n",
    "l=[]\n",
    "n=int(input(\"Enter number of elements\"))\n",
    "\n",
    "for i in range (0,n):\n",
    "    x=int(input(\"Enter any number\"))\n",
    "    l.append(x)\n",
    "print(l)\n"
   ]
  },
  {
   "cell_type": "code",
   "execution_count": null,
   "metadata": {},
   "outputs": [],
   "source": [
    "#Create a dict emp ID as key and names as values\n",
    "d={}\n",
    "n=int(input(\"Enter number of employees\"))\n",
    "for i in range (0,n):\n",
    "    Emp_id=input(\"Enter Emp ID\")\n",
    "    Name = input(\"Enter Name\")\n",
    "    d[Emp_id]=Name\n",
    "print(d)"
   ]
  },
  {
   "cell_type": "code",
   "execution_count": null,
   "metadata": {},
   "outputs": [],
   "source": [
    "#Create a dic with s.no as keys and colors as values\n",
    "d = {}\n",
    "n = int(input(\"How many color sequence required: \"))\n",
    " \n",
    "for i in range(0,n):\n",
    "    a = int(input(\"Enter Sr. No: \"))\n",
    "    b = input(\"Enter color: \")\n",
    "    d[a] = b\n",
    "print(d)"
   ]
  },
  {
   "cell_type": "markdown",
   "metadata": {},
   "source": [
    "## List Comprehension in Python\n",
    "List comprehension saves time because it requires fewer lines of code than loops. It makes the code more user-friendly by keeping it simple. Furthermore, list comprehension covers the incorporation of an iterative statement into a formula."
   ]
  },
  {
   "cell_type": "markdown",
   "metadata": {},
   "source": [
    "- Python provides several methods for creating lists. The list comprehension feature is one of the most effective of these methods. It allows you to create lists with just one line of code\n",
    "- It can be used to create new lists from other iterable elements such as arrays, strings, tuples, lists, and so on. It consists of brackets containing the expression. To iterate over all of the elements, the system uses the for loop to execute the expression for each one\n",
    "-  When you use list comprehension instead of loops, you can create a list with far less effort and code."
   ]
  },
  {
   "cell_type": "code",
   "execution_count": null,
   "metadata": {},
   "outputs": [],
   "source": [
    "a = [i for i in range(8,1,-1)]\n",
    "print(a)"
   ]
  },
  {
   "cell_type": "code",
   "execution_count": null,
   "metadata": {},
   "outputs": [],
   "source": [
    "# a list with multiples of two \n",
    "new_list = [a*2 for a in range(1,11)]\n",
    "print(new_list)"
   ]
  },
  {
   "cell_type": "markdown",
   "metadata": {},
   "source": [
    "## List comprehension isn’t just for integers; it can also be applied to strings."
   ]
  },
  {
   "cell_type": "code",
   "execution_count": null,
   "metadata": {},
   "outputs": [],
   "source": [
    "#Script to print last element of all list members\n",
    "\n",
    "w = [\"Programming\", \"is\", \"easy\"]\n",
    "result = [word[-2] for word in w]\n",
    "print(result)"
   ]
  },
  {
   "cell_type": "code",
   "execution_count": null,
   "metadata": {},
   "outputs": [],
   "source": [
    "## Multiplication of two lists\n",
    "l=[1,2]\n",
    "m=[2,3]\n",
    "k=[]\n",
    "for i,j in l,m:\n",
    "    k.append(i*j )\n",
    "print(k)"
   ]
  },
  {
   "cell_type": "markdown",
   "metadata": {},
   "source": [
    "## The for loop is a common way to iterate through a list. List comprehension, on the other hand, is a more efficient way to iterate through a list because it requires fewer lines of code.\n",
    "- List comprehension requires less computation power than a for loop because it takes up less space and code. This is useful when working on large programs, as efficiency becomes a major consideration when the code is lengthy."
   ]
  },
  {
   "cell_type": "code",
   "execution_count": null,
   "metadata": {},
   "outputs": [],
   "source": [
    "# creating the empty list\n",
    "old_list = []\n",
    " # we will use the for loop to create the new list\n",
    "for x in range(10):\n",
    " old_list.append(x*2)\n",
    "print (old_list )"
   ]
  },
  {
   "cell_type": "code",
   "execution_count": null,
   "metadata": {},
   "outputs": [],
   "source": [
    "# creating the set with the help of list comprehension\n",
    "old_list = [x*2 for x in range(10)]\n",
    "print (old_list)"
   ]
  },
  {
   "cell_type": "code",
   "execution_count": null,
   "metadata": {},
   "outputs": [],
   "source": [
    "#Using if with List Comprehension\n",
    "even_list = [ i for i in range(10) if i % 2 == 0]\n",
    "print(even_list)"
   ]
  },
  {
   "cell_type": "code",
   "execution_count": null,
   "metadata": {},
   "outputs": [],
   "source": [
    "filtered_list = [ x for x in range(50) if x % 2 == 0 if x % 5 == 0]   \n",
    "#If x satisfies both conditions, x is appended to filtered_list.\n",
    "print(filtered_list)"
   ]
  },
  {
   "cell_type": "code",
   "execution_count": null,
   "metadata": {},
   "outputs": [],
   "source": [
    "l = [\"even\" if y%2==0 else \"odd\" for y in range(5)]\n",
    "print(l)\n",
    "# ist comprehension will check the five numbers from 0 to 4. \n",
    "#If y is divisible by 2, then even is appended to the obj list. If not, odd is appended."
   ]
  },
  {
   "cell_type": "markdown",
   "metadata": {},
   "source": [
    "##  Questions for Practice!!\n",
    "# 1. Finding the elements in a list in which elements are ended with the letter ‘d’ and the length of that element is greater than 2. "
   ]
  },
  {
   "cell_type": "code",
   "execution_count": null,
   "metadata": {},
   "outputs": [],
   "source": [
    "names = ['ABcD','Cd','acd','bbB','fb','xa','Red','Med']  # This function filter out all the strings \n",
    "#from the list that are ended with the letters ‘d’ or ‘D’.\n",
    "sol = [name for name in names if name.lower().endswith('d') and len(name) > 2]\n",
    "sol"
   ]
  },
  {
   "cell_type": "markdown",
   "metadata": {},
   "source": [
    "## 2. Reverse each String in a Tuple using List Comprehension"
   ]
  },
  {
   "cell_type": "code",
   "execution_count": null,
   "metadata": {},
   "outputs": [],
   "source": [
    "a=\"life\"\n",
    "a[::]\n",
    "a[:-1]\n",
    "a[-1:]"
   ]
  },
  {
   "cell_type": "code",
   "execution_count": null,
   "metadata": {},
   "outputs": [],
   "source": [
    "a = [s[::-1] for s in ('Python', 'Data', 'Analysis')]\n",
    "# Display the list\n",
    "print(a)"
   ]
  },
  {
   "cell_type": "markdown",
   "metadata": {},
   "source": [
    "## Dictionary comprehension\n",
    "- Dictionary comprehension allows you to create dictionaries in Python, as the name implies. "
   ]
  },
  {
   "cell_type": "code",
   "execution_count": null,
   "metadata": {},
   "outputs": [],
   "source": [
    "# using Python to showcase dictionary comprehension\n",
    " # creation of two lists to represent keys and values\n",
    "keys = [1, 2, 3, 4, 5, 6]\n",
    "values = ['a', 'b', 'c', 'd', 'e', 'f']\n",
    " # implementing dictionary comprehension\n",
    "d = { k:v for (k,v) in zip(keys, values)}\n",
    "print(d)"
   ]
  },
  {
   "cell_type": "markdown",
   "metadata": {},
   "source": [
    "## While loop"
   ]
  },
  {
   "cell_type": "code",
   "execution_count": 1,
   "metadata": {},
   "outputs": [
    {
     "name": "stdout",
     "output_type": "stream",
     "text": [
      "1\n",
      "2\n",
      "3\n"
     ]
    }
   ],
   "source": [
    "i=1 #inti\n",
    "while i<4: #condit\n",
    "    print(i)\n",
    "    i=i+1\n",
    "    "
   ]
  },
  {
   "cell_type": "code",
   "execution_count": 2,
   "metadata": {},
   "outputs": [
    {
     "name": "stdout",
     "output_type": "stream",
     "text": [
      "1\n",
      "2\n",
      "3\n"
     ]
    }
   ],
   "source": [
    "#Exit \n",
    "i=1\n",
    "while i<6:\n",
    "    print(i)\n",
    "    if i==3:\n",
    "        break\n",
    "    i+=1\n",
    "    "
   ]
  },
  {
   "cell_type": "code",
   "execution_count": 4,
   "metadata": {},
   "outputs": [
    {
     "name": "stdout",
     "output_type": "stream",
     "text": [
      "1\n",
      "2\n",
      "4\n",
      "5\n",
      "6\n"
     ]
    }
   ],
   "source": [
    "#continue\n",
    "i=0\n",
    "while i<6:\n",
    "    i+=1  \n",
    "    if i==3:\n",
    "        continue\n",
    "    print(i)\n"
   ]
  },
  {
   "cell_type": "code",
   "execution_count": null,
   "metadata": {},
   "outputs": [],
   "source": [
    "## Write Script that will input 5 names if name==\"Name\" break the loop and if name=\" \" continue\n",
    "d = int(input(\"Enter number: \"))\n",
    "l = []\n",
    "for i in range(0,d):\n",
    "    b = input(\"Enter name: \")\n",
    "    l.append(b)\n",
    "for k in l:\n",
    "    if k==\"Name\":\n",
    "        break\n",
    "    elif k== \"\":\n",
    "        continue\n",
    "    print(k)\n",
    "print(l)"
   ]
  },
  {
   "cell_type": "code",
   "execution_count": null,
   "metadata": {},
   "outputs": [],
   "source": [
    "while len(all_names) < no_of_names :\n",
    "\n",
    "    name = str(input(\"Enter name : \"))\n",
    "\n",
    "    if name==break_name:\n",
    "\n",
    "        print(\"Exiting loop.\")\n",
    "\n",
    "        break\n",
    "\n",
    "    elif name==continue_name:\n",
    "\n",
    "        print(\"This name has been skipped.\")\n",
    "\n",
    "        continue\n",
    "\n",
    "    else : \n",
    "\n",
    "        all_names.append(name)\n",
    "\n",
    " \n",
    "\n",
    "print(\"List having {} names is : {}\".format(len(all_names),all_names))"
   ]
  },
  {
   "cell_type": "code",
   "execution_count": null,
   "metadata": {},
   "outputs": [],
   "source": [
    "for i in range(0,5):\n",
    "    name=input(\"Enter your name\")\n",
    "    if name==\" \":\n",
    "       continue\n",
    "    elif name==\"name\":\n",
    "        break"
   ]
  },
  {
   "cell_type": "code",
   "execution_count": null,
   "metadata": {},
   "outputs": [],
   "source": []
  }
 ],
 "metadata": {
  "kernelspec": {
   "display_name": "Python 3 (ipykernel)",
   "language": "python",
   "name": "python3"
  },
  "language_info": {
   "codemirror_mode": {
    "name": "ipython",
    "version": 3
   },
   "file_extension": ".py",
   "mimetype": "text/x-python",
   "name": "python",
   "nbconvert_exporter": "python",
   "pygments_lexer": "ipython3",
   "version": "3.9.12"
  }
 },
 "nbformat": 4,
 "nbformat_minor": 4
}
