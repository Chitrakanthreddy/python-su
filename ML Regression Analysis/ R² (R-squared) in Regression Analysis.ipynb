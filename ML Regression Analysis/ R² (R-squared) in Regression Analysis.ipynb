{
 "cells": [
  {
   "cell_type": "markdown",
   "id": "eb262217",
   "metadata": {},
   "source": [
    "## R² (Coefficient of Determination) means in regression — specifically, how much variance in the data is captured by the regression line."
   ]
  },
  {
   "cell_type": "code",
   "execution_count": 1,
   "id": "f9cd1813",
   "metadata": {},
   "outputs": [],
   "source": [
    "#Importing Required Libraries\n",
    "import numpy as np\n",
    "import matplotlib.pyplot as plt\n",
    "from sklearn.linear_model import LinearRegression\n",
    "from sklearn.metrics import r2_score"
   ]
  },
  {
   "cell_type": "markdown",
   "id": "0bbdc4ec",
   "metadata": {},
   "source": [
    "### Explanation:\n",
    "- numpy: for generating and manipulating numeric arrays.\n",
    "\n",
    "- matplotlib.pyplot: for plotting.\n",
    "\n",
    "- LinearRegression: to create a regression model.\n",
    "\n",
    "- r2_score: to calculate the R² value."
   ]
  },
  {
   "cell_type": "code",
   "execution_count": 2,
   "id": "308e80be",
   "metadata": {},
   "outputs": [],
   "source": [
    "#Generating Synthetic Dataset\n",
    "np.random.seed(1)\n",
    "X = 2 * np.random.rand(50, 1)\n",
    "y = 5 + 2 * X + np.random.randn(50, 1)\n"
   ]
  },
  {
   "cell_type": "markdown",
   "id": "3a395ab3",
   "metadata": {},
   "source": [
    "\n",
    "This simulates a linear relationship:\n",
    "\n",
    "\n",
    "**y=5+2X+noise**\n",
    "- np.random.randn adds random noise to mimic real-world imperfections.\n",
    "\n",
    "- X is 2D because sklearn expects it that way."
   ]
  },
  {
   "cell_type": "code",
   "execution_count": 3,
   "id": "46337d9e",
   "metadata": {},
   "outputs": [],
   "source": [
    "## Fitting the Linear Regression Model\n",
    "\n",
    "model = LinearRegression()\n",
    "model.fit(X, y)\n",
    "y_pred = model.predict(X)"
   ]
  },
  {
   "cell_type": "markdown",
   "id": "e586a465",
   "metadata": {},
   "source": [
    "- We fit the regression line to the data using LinearRegression.\n",
    "\n",
    "- y_pred contains the predicted values based on the model"
   ]
  },
  {
   "cell_type": "code",
   "execution_count": null,
   "id": "9490b533",
   "metadata": {},
   "outputs": [],
   "source": [
    "## Flattening the Arrays for Plotting\n",
    "y = y.ravel()\n",
    "y_pred = y_pred.ravel()"
   ]
  },
  {
   "cell_type": "markdown",
   "id": "eed1f800",
   "metadata": {},
   "source": [
    "- y and y_pred are originally in shape (50, 1) → we flatten them to (50,) to avoid shape mismatch in plotting."
   ]
  },
  {
   "cell_type": "code",
   "execution_count": 4,
   "id": "dbab3244",
   "metadata": {},
   "outputs": [],
   "source": [
    "### Mean of y and R² Calculation\n",
    "y_mean = np.mean(y)\n",
    "r2 = r2_score(y, y_pred)"
   ]
  },
  {
   "attachments": {
    "%7BABED71B2-E9CF-438A-B337-BF95E8A9AD41%7D.png": {
     "image/png": "[encoded data removed]"
    }
   },
   "cell_type": "markdown",
   "id": "3dd5bfcc",
   "metadata": {},
   "source": [
    "y_mean is used to calculate total variance in the actual data (SS_tot).\n",
    "\n",
    "r2_score() computes the R² value:\n",
    "![%7BABED71B2-E9CF-438A-B337-BF95E8A9AD41%7D.png](attachment:%7BABED71B2-E9CF-438A-B337-BF95E8A9AD41%7D.png)\n",
    " \n"
   ]
  },
  {
   "cell_type": "code",
   "execution_count": 5,
   "id": "19f90730",
   "metadata": {},
   "outputs": [
    {
     "data": {
      "text/plain": [
       "<matplotlib.lines.Line2D at 0x1f0e3acb5d0>"
      ]
     },
     "execution_count": 5,
     "metadata": {},
     "output_type": "execute_result"
    },
    {
     "data": {
      "image/png": "[encoded data removed]",
      "text/plain": [
       "<Figure size 1000x600 with 1 Axes>"
      ]
     },
     "metadata": {},
     "output_type": "display_data"
    }
   ],
   "source": [
    "## Plotting the Data, Regression Line, and Mean\n",
    "\n",
    "plt.figure(figsize=(10, 6))\n",
    "plt.scatter(X, y, color='blue', label='Actual Points')\n",
    "plt.plot(X, y_pred, color='red', label='Regression Line', linewidth=2)\n",
    "plt.axhline(y_mean, color='green', linestyle='--', label='Mean of y')"
   ]
  },
  {
   "cell_type": "markdown",
   "id": "d50b5e06",
   "metadata": {},
   "source": [
    "- scatter(): plots actual data points.\n",
    "\n",
    "- plot(): shows the regression line.\n",
    "\n",
    "- axhline(): shows the mean of actual y values (used in \n",
    "𝑆\n",
    "𝑆\n",
    "𝑡\n",
    "𝑜\n",
    "𝑡\n",
    "SS \n",
    "tot\n",
    "​\n",
    " ).\n",
    "\n"
   ]
  },
  {
   "cell_type": "markdown",
   "id": "8efba7cf",
   "metadata": {},
   "source": [
    "For each data point:\n",
    "\n",
    "-  Green dotted line: from actual y to mean → part of \n",
    "𝑆\n",
    "𝑆\n",
    "𝑡\n",
    "𝑜\n",
    "𝑡\n",
    "SS \n",
    "tot\n",
    "​\n",
    " \n",
    "\n",
    "- Black dashed line: from actual y to predicted y → part of \n",
    "𝑆\n",
    "𝑆\n",
    "𝑟\n",
    "𝑒\n",
    "𝑠\n",
    "SS \n",
    "res\n",
    "​\n",
    " \n",
    "\n",
    "- These lines visually explain what R² measures:\n",
    "\n",
    " **R² = How much of the green line lengths (total variance) is explained by the model (shorter black lines = better fit)**"
   ]
  },
  {
   "cell_type": "markdown",
   "id": "ce3161b2",
   "metadata": {},
   "source": [
    "- Adds labels, title, grid, legend.\n",
    "\n",
    "- Displays the R² score in the title for clarity.\n",
    "Component\tMeaning\tLine Color\n",
    "SS_tot\tTotal variance in actual y\tGreen (to mean)\n",
    "SS_res\tVariance not explained by model\tBlack (residual)\n",
    "R² Score\t\n",
    "1\n",
    "−\n",
    "𝑆\n",
    "𝑆\n",
    "𝑟\n",
    "𝑒\n",
    "𝑠\n",
    "𝑆\n",
    "𝑆\n",
    "𝑡\n",
    "𝑜\n",
    "𝑡\n",
    "1− \n",
    "SS \n",
    "tot\n",
    "​\n",
    " \n",
    "SS \n",
    "res\n",
    "​\n",
    " \n",
    "​\n",
    " \tHigher = better fit\n",
    "Regression Line\tBest fit line (predictions)\tRed"
   ]
  },
  {
   "cell_type": "code",
   "execution_count": 7,
   "id": "99370ea4",
   "metadata": {},
   "outputs": [
    {
     "ename": "ValueError",
     "evalue": "setting an array element with a sequence. The requested array has an inhomogeneous shape after 1 dimensions. The detected shape was (2,) + inhomogeneous part.",
     "output_type": "error",
     "traceback": [
      "\u001b[1;31m---------------------------------------------------------------------------\u001b[0m",
      "\u001b[1;31mValueError\u001b[0m                                Traceback (most recent call last)",
      "Cell \u001b[1;32mIn[7], line 14\u001b[0m\n\u001b[0;32m     12\u001b[0m \u001b[38;5;66;03m# Visual SS_tot and SS_res lines\u001b[39;00m\n\u001b[0;32m     13\u001b[0m \u001b[38;5;28;01mfor\u001b[39;00m i \u001b[38;5;129;01min\u001b[39;00m \u001b[38;5;28mrange\u001b[39m(\u001b[38;5;28mlen\u001b[39m(X)):\n\u001b[1;32m---> 14\u001b[0m     plt\u001b[38;5;241m.\u001b[39mplot([X[i], X[i]], [y[i], y_mean], color\u001b[38;5;241m=\u001b[39m\u001b[38;5;124m'\u001b[39m\u001b[38;5;124mgreen\u001b[39m\u001b[38;5;124m'\u001b[39m, linestyle\u001b[38;5;241m=\u001b[39m\u001b[38;5;124m'\u001b[39m\u001b[38;5;124mdotted\u001b[39m\u001b[38;5;124m'\u001b[39m, alpha\u001b[38;5;241m=\u001b[39m\u001b[38;5;241m0.3\u001b[39m)\n\u001b[0;32m     15\u001b[0m     plt\u001b[38;5;241m.\u001b[39mplot([X[i], X[i]], [y[i], y_pred[i]], color\u001b[38;5;241m=\u001b[39m\u001b[38;5;124m'\u001b[39m\u001b[38;5;124mblack\u001b[39m\u001b[38;5;124m'\u001b[39m, linestyle\u001b[38;5;241m=\u001b[39m\u001b[38;5;124m'\u001b[39m\u001b[38;5;124mdashed\u001b[39m\u001b[38;5;124m'\u001b[39m, alpha\u001b[38;5;241m=\u001b[39m\u001b[38;5;241m0.4\u001b[39m)\n\u001b[0;32m     17\u001b[0m \u001b[38;5;66;03m# Add legend — now will work since all plots have labels\u001b[39;00m\n",
      "File \u001b[1;32m~\\AppData\\Local\\anaconda3\\Lib\\site-packages\\matplotlib\\pyplot.py:2812\u001b[0m, in \u001b[0;36mplot\u001b[1;34m(scalex, scaley, data, *args, **kwargs)\u001b[0m\n\u001b[0;32m   2810\u001b[0m \u001b[38;5;129m@_copy_docstring_and_deprecators\u001b[39m(Axes\u001b[38;5;241m.\u001b[39mplot)\n\u001b[0;32m   2811\u001b[0m \u001b[38;5;28;01mdef\u001b[39;00m \u001b[38;5;21mplot\u001b[39m(\u001b[38;5;241m*\u001b[39margs, scalex\u001b[38;5;241m=\u001b[39m\u001b[38;5;28;01mTrue\u001b[39;00m, scaley\u001b[38;5;241m=\u001b[39m\u001b[38;5;28;01mTrue\u001b[39;00m, data\u001b[38;5;241m=\u001b[39m\u001b[38;5;28;01mNone\u001b[39;00m, \u001b[38;5;241m*\u001b[39m\u001b[38;5;241m*\u001b[39mkwargs):\n\u001b[1;32m-> 2812\u001b[0m     \u001b[38;5;28;01mreturn\u001b[39;00m gca()\u001b[38;5;241m.\u001b[39mplot(\n\u001b[0;32m   2813\u001b[0m         \u001b[38;5;241m*\u001b[39margs, scalex\u001b[38;5;241m=\u001b[39mscalex, scaley\u001b[38;5;241m=\u001b[39mscaley,\n\u001b[0;32m   2814\u001b[0m         \u001b[38;5;241m*\u001b[39m\u001b[38;5;241m*\u001b[39m({\u001b[38;5;124m\"\u001b[39m\u001b[38;5;124mdata\u001b[39m\u001b[38;5;124m\"\u001b[39m: data} \u001b[38;5;28;01mif\u001b[39;00m data \u001b[38;5;129;01mis\u001b[39;00m \u001b[38;5;129;01mnot\u001b[39;00m \u001b[38;5;28;01mNone\u001b[39;00m \u001b[38;5;28;01melse\u001b[39;00m {}), \u001b[38;5;241m*\u001b[39m\u001b[38;5;241m*\u001b[39mkwargs)\n",
      "File \u001b[1;32m~\\AppData\\Local\\anaconda3\\Lib\\site-packages\\matplotlib\\axes\\_axes.py:1688\u001b[0m, in \u001b[0;36mAxes.plot\u001b[1;34m(self, scalex, scaley, data, *args, **kwargs)\u001b[0m\n\u001b[0;32m   1445\u001b[0m \u001b[38;5;250m\u001b[39m\u001b[38;5;124;03m\"\"\"\u001b[39;00m\n\u001b[0;32m   1446\u001b[0m \u001b[38;5;124;03mPlot y versus x as lines and/or markers.\u001b[39;00m\n\u001b[0;32m   1447\u001b[0m \n\u001b[1;32m   (...)\u001b[0m\n\u001b[0;32m   1685\u001b[0m \u001b[38;5;124;03m(``'green'``) or hex strings (``'#008000'``).\u001b[39;00m\n\u001b[0;32m   1686\u001b[0m \u001b[38;5;124;03m\"\"\"\u001b[39;00m\n\u001b[0;32m   1687\u001b[0m kwargs \u001b[38;5;241m=\u001b[39m cbook\u001b[38;5;241m.\u001b[39mnormalize_kwargs(kwargs, mlines\u001b[38;5;241m.\u001b[39mLine2D)\n\u001b[1;32m-> 1688\u001b[0m lines \u001b[38;5;241m=\u001b[39m [\u001b[38;5;241m*\u001b[39m\u001b[38;5;28mself\u001b[39m\u001b[38;5;241m.\u001b[39m_get_lines(\u001b[38;5;241m*\u001b[39margs, data\u001b[38;5;241m=\u001b[39mdata, \u001b[38;5;241m*\u001b[39m\u001b[38;5;241m*\u001b[39mkwargs)]\n\u001b[0;32m   1689\u001b[0m \u001b[38;5;28;01mfor\u001b[39;00m line \u001b[38;5;129;01min\u001b[39;00m lines:\n\u001b[0;32m   1690\u001b[0m     \u001b[38;5;28mself\u001b[39m\u001b[38;5;241m.\u001b[39madd_line(line)\n",
      "File \u001b[1;32m~\\AppData\\Local\\anaconda3\\Lib\\site-packages\\matplotlib\\axes\\_base.py:311\u001b[0m, in \u001b[0;36m_process_plot_var_args.__call__\u001b[1;34m(self, data, *args, **kwargs)\u001b[0m\n\u001b[0;32m    309\u001b[0m     this \u001b[38;5;241m+\u001b[39m\u001b[38;5;241m=\u001b[39m args[\u001b[38;5;241m0\u001b[39m],\n\u001b[0;32m    310\u001b[0m     args \u001b[38;5;241m=\u001b[39m args[\u001b[38;5;241m1\u001b[39m:]\n\u001b[1;32m--> 311\u001b[0m \u001b[38;5;28;01myield from\u001b[39;00m \u001b[38;5;28mself\u001b[39m\u001b[38;5;241m.\u001b[39m_plot_args(\n\u001b[0;32m    312\u001b[0m     this, kwargs, ambiguous_fmt_datakey\u001b[38;5;241m=\u001b[39mambiguous_fmt_datakey)\n",
      "File \u001b[1;32m~\\AppData\\Local\\anaconda3\\Lib\\site-packages\\matplotlib\\axes\\_base.py:494\u001b[0m, in \u001b[0;36m_process_plot_var_args._plot_args\u001b[1;34m(self, tup, kwargs, return_kwargs, ambiguous_fmt_datakey)\u001b[0m\n\u001b[0;32m    492\u001b[0m \u001b[38;5;28;01mif\u001b[39;00m \u001b[38;5;28mlen\u001b[39m(xy) \u001b[38;5;241m==\u001b[39m \u001b[38;5;241m2\u001b[39m:\n\u001b[0;32m    493\u001b[0m     x \u001b[38;5;241m=\u001b[39m _check_1d(xy[\u001b[38;5;241m0\u001b[39m])\n\u001b[1;32m--> 494\u001b[0m     y \u001b[38;5;241m=\u001b[39m _check_1d(xy[\u001b[38;5;241m1\u001b[39m])\n\u001b[0;32m    495\u001b[0m \u001b[38;5;28;01melse\u001b[39;00m:\n\u001b[0;32m    496\u001b[0m     x, y \u001b[38;5;241m=\u001b[39m index_of(xy[\u001b[38;5;241m-\u001b[39m\u001b[38;5;241m1\u001b[39m])\n",
      "File \u001b[1;32m~\\AppData\\Local\\anaconda3\\Lib\\site-packages\\matplotlib\\cbook\\__init__.py:1353\u001b[0m, in \u001b[0;36m_check_1d\u001b[1;34m(x)\u001b[0m\n\u001b[0;32m   1347\u001b[0m \u001b[38;5;66;03m# plot requires `shape` and `ndim`.  If passed an\u001b[39;00m\n\u001b[0;32m   1348\u001b[0m \u001b[38;5;66;03m# object that doesn't provide them, then force to numpy array.\u001b[39;00m\n\u001b[0;32m   1349\u001b[0m \u001b[38;5;66;03m# Note this will strip unit information.\u001b[39;00m\n\u001b[0;32m   1350\u001b[0m \u001b[38;5;28;01mif\u001b[39;00m (\u001b[38;5;129;01mnot\u001b[39;00m \u001b[38;5;28mhasattr\u001b[39m(x, \u001b[38;5;124m'\u001b[39m\u001b[38;5;124mshape\u001b[39m\u001b[38;5;124m'\u001b[39m) \u001b[38;5;129;01mor\u001b[39;00m\n\u001b[0;32m   1351\u001b[0m         \u001b[38;5;129;01mnot\u001b[39;00m \u001b[38;5;28mhasattr\u001b[39m(x, \u001b[38;5;124m'\u001b[39m\u001b[38;5;124mndim\u001b[39m\u001b[38;5;124m'\u001b[39m) \u001b[38;5;129;01mor\u001b[39;00m\n\u001b[0;32m   1352\u001b[0m         \u001b[38;5;28mlen\u001b[39m(x\u001b[38;5;241m.\u001b[39mshape) \u001b[38;5;241m<\u001b[39m \u001b[38;5;241m1\u001b[39m):\n\u001b[1;32m-> 1353\u001b[0m     \u001b[38;5;28;01mreturn\u001b[39;00m np\u001b[38;5;241m.\u001b[39matleast_1d(x)\n\u001b[0;32m   1354\u001b[0m \u001b[38;5;28;01melse\u001b[39;00m:\n\u001b[0;32m   1355\u001b[0m     \u001b[38;5;28;01mreturn\u001b[39;00m x\n",
      "File \u001b[1;32m<__array_function__ internals>:200\u001b[0m, in \u001b[0;36matleast_1d\u001b[1;34m(*args, **kwargs)\u001b[0m\n",
      "File \u001b[1;32m~\\AppData\\Local\\anaconda3\\Lib\\site-packages\\numpy\\core\\shape_base.py:65\u001b[0m, in \u001b[0;36matleast_1d\u001b[1;34m(*arys)\u001b[0m\n\u001b[0;32m     63\u001b[0m res \u001b[38;5;241m=\u001b[39m []\n\u001b[0;32m     64\u001b[0m \u001b[38;5;28;01mfor\u001b[39;00m ary \u001b[38;5;129;01min\u001b[39;00m arys:\n\u001b[1;32m---> 65\u001b[0m     ary \u001b[38;5;241m=\u001b[39m asanyarray(ary)\n\u001b[0;32m     66\u001b[0m     \u001b[38;5;28;01mif\u001b[39;00m ary\u001b[38;5;241m.\u001b[39mndim \u001b[38;5;241m==\u001b[39m \u001b[38;5;241m0\u001b[39m:\n\u001b[0;32m     67\u001b[0m         result \u001b[38;5;241m=\u001b[39m ary\u001b[38;5;241m.\u001b[39mreshape(\u001b[38;5;241m1\u001b[39m)\n",
      "\u001b[1;31mValueError\u001b[0m: setting an array element with a sequence. The requested array has an inhomogeneous shape after 1 dimensions. The detected shape was (2,) + inhomogeneous part."
     ]
    },
    {
     "data": {
      "image/png": "[encoded data removed]",
      "text/plain": [
       "<Figure size 1000x600 with 1 Axes>"
      ]
     },
     "metadata": {},
     "output_type": "display_data"
    }
   ],
   "source": [
    "plt.figure(figsize=(10, 6))\n",
    "\n",
    "# Actual points\n",
    "plt.scatter(X, y, color='blue', label='Actual Points')\n",
    "\n",
    "# Regression Line\n",
    "plt.plot(X, y_pred, color='red', label='Regression Line', linewidth=2)\n",
    "\n",
    "# Mean of y (for SS_tot)\n",
    "plt.axhline(y_mean, color='green', linestyle='--', label='Mean of y')\n",
    "\n",
    "# Visual SS_tot and SS_res lines\n",
    "for i in range(len(X)):\n",
    "    plt.plot([X[i], X[i]], [y[i], y_mean], color='green', linestyle='dotted', alpha=0.3)\n",
    "    plt.plot([X[i], X[i]], [y[i], y_pred[i]], color='black', linestyle='dashed', alpha=0.4)\n",
    "\n",
    "# Add legend — now will work since all plots have labels\n",
    "plt.title(f\"Visualizing R²: {r2:.3f} (SS_tot vs SS_res)\")\n",
    "plt.xlabel(\"X\")\n",
    "plt.ylabel(\"y\")\n",
    "plt.legend()\n",
    "plt.grid(True)\n",
    "plt.tight_layout()\n",
    "plt.show()\n",
    "\n"
   ]
  },
  {
   "cell_type": "code",
   "execution_count": null,
   "id": "f3aa7b12",
   "metadata": {},
   "outputs": [],
   "source": []
  }
 ],
 "metadata": {
  "kernelspec": {
   "display_name": "Python 3 (ipykernel)",
   "language": "python",
   "name": "python3"
  },
  "language_info": {
   "codemirror_mode": {
    "name": "ipython",
    "version": 3
   },
   "file_extension": ".py",
   "mimetype": "text/x-python",
   "name": "python",
   "nbconvert_exporter": "python",
   "pygments_lexer": "ipython3",
   "version": "3.11.5"
  }
 },
 "nbformat": 4,
 "nbformat_minor": 5
}
