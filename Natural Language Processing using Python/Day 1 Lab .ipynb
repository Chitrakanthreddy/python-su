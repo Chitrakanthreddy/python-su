{
 "cells": [
  {
   "cell_type": "markdown",
   "id": "2e541840",
   "metadata": {},
   "source": [
    "sample_text = \"\"\"\n",
    "Here’s a 5-line sample text containing **Data** and **AI**:\n",
    "\n",
    "\"Data is the backbone of modern Artificial Intelligence systems.  \n",
    "AI models rely heavily on structured and unstructured data to learn and make predictions.  \n",
    "The quality of insights depends on the richness and accuracy of the data.  \n",
    "AI advancements are enabling real-time data analysis and decision-making.  \n",
    "Together, Data and AI are driving innovation across industries.\"  .\n",
    "\"\"\"\n",
    "\n",
    "### Ques1\n",
    "\n",
    "- Write a Python script to tokenize the following sample text into words.\n",
    "\n",
    "- Write a Python script to tokenize the following sample text into sentences.\n",
    "\n",
    "- Write a Python script to perform part-of-speech tagging on the following sample text.\n",
    "\n",
    "- Write a Python script to perform named entity recognition on the following sample text.\n",
    "\n",
    "\n",
    "- Write a Python script to perform stemming on the  \"Dancing Running and Sleeping\".\n",
    "\n",
    "\n",
    "- Write a Python script to perform lemmatization on the \"Dancing Running and Sleeping\".\n",
    "\n",
    "- Write a Python script to extract custom named entities \n",
    "\n",
    "- Write a Python script to perform dependency parsing on the following sample text.\n",
    "\n"
   ]
  },
  {
   "cell_type": "markdown",
   "id": "d28fe5ea",
   "metadata": {},
   "source": [
    "### Ques2\n",
    "### Create chunking,  focusing on extracting noun phrases (NP) along with prepositional phrases (PP) from the following sample texts:\n",
    "- Ram Loves his Life. He have a cat named RUMMY\n",
    "- The quick brown fox jumps over the lazy dog"
   ]
  },
  {
   "cell_type": "markdown",
   "id": "a3fc1645",
   "metadata": {},
   "source": [
    "### Ques3 Create a Script which can accept a text. and Ask users of following after word token. 1. Use Stop Words 2. POS tagging 3. generate Antonyms and opposite words."
   ]
  },
  {
   "cell_type": "code",
   "execution_count": 3,
   "id": "8e45e89d",
   "metadata": {},
   "outputs": [
    {
     "name": "stderr",
     "output_type": "stream",
     "text": [
      "[nltk_data] Downloading package punkt to\n",
      "[nltk_data]     C:\\Users\\Suyashi144893\\AppData\\Roaming\\nltk_data...\n",
      "[nltk_data]   Package punkt is already up-to-date!\n",
      "[nltk_data] Downloading package stopwords to\n",
      "[nltk_data]     C:\\Users\\Suyashi144893\\AppData\\Roaming\\nltk_data...\n",
      "[nltk_data]   Package stopwords is already up-to-date!\n",
      "[nltk_data] Downloading package wordnet to\n",
      "[nltk_data]     C:\\Users\\Suyashi144893\\AppData\\Roaming\\nltk_data...\n",
      "[nltk_data]   Package wordnet is already up-to-date!\n",
      "[nltk_data] Downloading package averaged_perceptron_tagger to\n",
      "[nltk_data]     C:\\Users\\Suyashi144893\\AppData\\Roaming\\nltk_data...\n",
      "[nltk_data]   Package averaged_perceptron_tagger is already up-to-\n",
      "[nltk_data]       date!\n"
     ]
    },
    {
     "name": "stdout",
     "output_type": "stream",
     "text": [
      "Enter a text: Great job everyone, thank yoiu for your copo \n",
      "\n",
      "Options:\n",
      "1. Remove Stop Words\n",
      "2. Perform POS Tagging\n",
      "3. Generate Antonyms\n",
      "\n",
      "Enter your choice (1/2/3): 3\n",
      "\n",
      "Enter a word to find antonyms: Great\n",
      "\n",
      "Antonyms:\n",
      "No antonyms found\n"
     ]
    }
   ],
   "source": [
    "import nltk\n",
    "from nltk.corpus import stopwords, wordnet\n",
    "from nltk.tokenize import word_tokenize\n",
    "from nltk import pos_tag\n",
    "\n",
    "# Download required resources\n",
    "nltk.download('punkt')\n",
    "nltk.download('stopwords')\n",
    "nltk.download('wordnet')\n",
    "nltk.download('averaged_perceptron_tagger')\n",
    "\n",
    "def remove_stop_words(tokens):\n",
    "    stop_words = set(stopwords.words('english'))\n",
    "    filtered_tokens = [word for word in tokens if word.lower() not in stop_words]\n",
    "    return filtered_tokens\n",
    "\n",
    "def pos_tagging(tokens):\n",
    "    return pos_tag(tokens)\n",
    "\n",
    "def generate_antonyms(word):\n",
    "    antonyms = set()\n",
    "    for syn in wordnet.synsets(word):\n",
    "        for lemma in syn.lemmas():\n",
    "            if lemma.antonyms():\n",
    "                antonyms.add(lemma.antonyms()[0].name())\n",
    "    return antonyms if antonyms else \"No antonyms found\"\n",
    "\n",
    "def main():\n",
    "    text = input(\"Enter a text: \")\n",
    "    tokens = word_tokenize(text)\n",
    "\n",
    "    print(\"\\nOptions:\")\n",
    "    print(\"1. Remove Stop Words\")\n",
    "    print(\"2. Perform POS Tagging\")\n",
    "    print(\"3. Generate Antonyms\")\n",
    "    option = input(\"\\nEnter your choice (1/2/3): \")\n",
    "\n",
    "    if option == \"1\":\n",
    "        filtered_tokens = remove_stop_words(tokens)\n",
    "        print(\"\\nTokens after removing stop words:\")\n",
    "        print(filtered_tokens)\n",
    "    elif option == \"2\":\n",
    "        pos_tags = pos_tagging(tokens)\n",
    "        print(\"\\nPOS tags:\")\n",
    "        print(pos_tags)\n",
    "    elif option == \"3\":\n",
    "        word = input(\"\\nEnter a word to find antonyms: \")\n",
    "        antonyms = generate_antonyms(word)\n",
    "        print(\"\\nAntonyms:\")\n",
    "        print(antonyms)\n",
    "    else:\n",
    "        print(\"\\nInvalid option. Please choose 1, 2, or 3.\")\n",
    "\n",
    "if __name__ == \"__main__\":\n",
    "    main()\n"
   ]
  },
  {
   "cell_type": "code",
   "execution_count": null,
   "id": "8ed50a7c",
   "metadata": {},
   "outputs": [],
   "source": []
  }
 ],
 "metadata": {
  "kernelspec": {
   "display_name": "Python 3 (ipykernel)",
   "language": "python",
   "name": "python3"
  },
  "language_info": {
   "codemirror_mode": {
    "name": "ipython",
    "version": 3
   },
   "file_extension": ".py",
   "mimetype": "text/x-python",
   "name": "python",
   "nbconvert_exporter": "python",
   "pygments_lexer": "ipython3",
   "version": "3.11.5"
  }
 },
 "nbformat": 4,
 "nbformat_minor": 5
}
