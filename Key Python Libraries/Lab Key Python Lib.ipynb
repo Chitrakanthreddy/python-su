{
 "cells": [
  {
   "cell_type": "markdown",
   "metadata": {},
   "source": [
    "## Ques 1(a): Solve following using Numpy:\n",
    "\n",
    "- Add, multiply and divide following seqence:  a=[[1,2],[3,4]]  , b = [[34,67] , [45,66]] "
   ]
  },
  {
   "cell_type": "code",
   "execution_count": 4,
   "metadata": {},
   "outputs": [
    {
     "data": {
      "text/html": [
       "<div>\n",
       "<style scoped>\n",
       "    .dataframe tbody tr th:only-of-type {\n",
       "        vertical-align: middle;\n",
       "    }\n",
       "\n",
       "    .dataframe tbody tr th {\n",
       "        vertical-align: top;\n",
       "    }\n",
       "\n",
       "    .dataframe thead th {\n",
       "        text-align: right;\n",
       "    }\n",
       "</style>\n",
       "<table border=\"1\" class=\"dataframe\">\n",
       "  <thead>\n",
       "    <tr style=\"text-align: right;\">\n",
       "      <th></th>\n",
       "      <th>ID</th>\n",
       "      <th>Name</th>\n",
       "      <th>Industry</th>\n",
       "      <th>Year Founded</th>\n",
       "      <th>Employees</th>\n",
       "      <th>State</th>\n",
       "      <th>City</th>\n",
       "      <th>Zip Code</th>\n",
       "    </tr>\n",
       "  </thead>\n",
       "  <tbody>\n",
       "    <tr>\n",
       "      <th>0</th>\n",
       "      <td>1</td>\n",
       "      <td>3 Round Stones, Inc.</td>\n",
       "      <td>Data/Technology</td>\n",
       "      <td>2010.0</td>\n",
       "      <td>4000</td>\n",
       "      <td>DC</td>\n",
       "      <td>Washington</td>\n",
       "      <td>20004.0</td>\n",
       "    </tr>\n",
       "    <tr>\n",
       "      <th>1</th>\n",
       "      <td>2</td>\n",
       "      <td>48 Factoring Inc.</td>\n",
       "      <td>Finance &amp; Investment</td>\n",
       "      <td>2014.0</td>\n",
       "      <td>198</td>\n",
       "      <td>PA</td>\n",
       "      <td>Philadelphia</td>\n",
       "      <td>19087.0</td>\n",
       "    </tr>\n",
       "    <tr>\n",
       "      <th>2</th>\n",
       "      <td>3</td>\n",
       "      <td>5PSolutions</td>\n",
       "      <td>Data/Technology</td>\n",
       "      <td>2007.0</td>\n",
       "      <td>4500</td>\n",
       "      <td>VA</td>\n",
       "      <td>Fairfax</td>\n",
       "      <td>22003.0</td>\n",
       "    </tr>\n",
       "    <tr>\n",
       "      <th>3</th>\n",
       "      <td>4</td>\n",
       "      <td>Abt Associates</td>\n",
       "      <td>Research &amp; Consulting</td>\n",
       "      <td>1965.0</td>\n",
       "      <td>4958</td>\n",
       "      <td>MA</td>\n",
       "      <td>Cambridge</td>\n",
       "      <td>2138.0</td>\n",
       "    </tr>\n",
       "    <tr>\n",
       "      <th>4</th>\n",
       "      <td>5</td>\n",
       "      <td>Accela</td>\n",
       "      <td>Governance</td>\n",
       "      <td>1999.0</td>\n",
       "      <td>900</td>\n",
       "      <td>CA</td>\n",
       "      <td>San Ramon</td>\n",
       "      <td>94583.0</td>\n",
       "    </tr>\n",
       "  </tbody>\n",
       "</table>\n",
       "</div>"
      ],
      "text/plain": [
       "   ID                  Name               Industry  Year Founded  Employees  \\\n",
       "0   1  3 Round Stones, Inc.        Data/Technology        2010.0       4000   \n",
       "1   2     48 Factoring Inc.   Finance & Investment        2014.0        198   \n",
       "2   3           5PSolutions        Data/Technology        2007.0       4500   \n",
       "3   4        Abt Associates  Research & Consulting        1965.0       4958   \n",
       "4   5                Accela             Governance        1999.0        900   \n",
       "\n",
       "  State           City  Zip Code  \n",
       "0    DC     Washington   20004.0  \n",
       "1    PA   Philadelphia   19087.0  \n",
       "2    VA        Fairfax   22003.0  \n",
       "3    MA      Cambridge    2138.0  \n",
       "4    CA      San Ramon   94583.0  "
      ]
     },
     "execution_count": 4,
     "metadata": {},
     "output_type": "execute_result"
    }
   ],
   "source": [
    "import pandas as pd\n",
    "cp = pd.read_excel(r\"CompanyDetails.xlsx\")\n",
    "cp.head()"
   ]
  },
  {
   "cell_type": "markdown",
   "metadata": {},
   "source": [
    "Q1- ## Analyze given data set using Key Python Libraries (Company Details)\n",
    "- Check data shape \n",
    "- Describe data\n",
    "- Check for null values and drop null values or replace it\n",
    "- Drop colums that you find unnecessary\n",
    "- Generate Visualization report for this data\n",
    "\n",
    "## Create Visualization for following : \n",
    "- What is revenue distribution for Bekins in 2005 \n",
    "- What is the growth% for Data/Technology in 2006\n",
    "- What is the Revenue distribution for Education in 2005\n",
    "- What is number of companies in Each industry \n",
    "- Draw a correlation plot to check on feature realtionship. "
   ]
  },
  {
   "cell_type": "markdown",
   "metadata": {},
   "source": [
    "## Ques 2: Use Diabetic data Set to evaluate accuracy using:\n",
    "\n",
    "1- Logostis regression\n",
    "2- KNN\n",
    "3- SVM"
   ]
  },
  {
   "cell_type": "markdown",
   "metadata": {},
   "source": [
    "## Ques 3- Use Digits data set to evaluate digits prediction using Tensorflow Keras"
   ]
  },
  {
   "cell_type": "code",
   "execution_count": null,
   "metadata": {},
   "outputs": [],
   "source": []
  }
 ],
 "metadata": {
  "kernelspec": {
   "display_name": "Python 3 (ipykernel)",
   "language": "python",
   "name": "python3"
  },
  "language_info": {
   "codemirror_mode": {
    "name": "ipython",
    "version": 3
   },
   "file_extension": ".py",
   "mimetype": "text/x-python",
   "name": "python",
   "nbconvert_exporter": "python",
   "pygments_lexer": "ipython3",
   "version": "3.9.12"
  }
 },
 "nbformat": 4,
 "nbformat_minor": 4
}
