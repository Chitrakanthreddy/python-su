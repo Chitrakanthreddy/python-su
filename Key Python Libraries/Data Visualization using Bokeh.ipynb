{
 "cells": [
  {
   "cell_type": "markdown",
   "metadata": {},
   "source": [
    "## You can create interactive plots with Bokeh and also dashboards and data applications."
   ]
  },
  {
   "cell_type": "code",
   "execution_count": 1,
   "metadata": {},
   "outputs": [],
   "source": [
    "from bokeh.plotting import figure, show\n",
    "from bokeh.io import output_notebook\n",
    "import pandas as pd\n",
    "import numpy as np"
   ]
  },
  {
   "cell_type": "markdown",
   "metadata": {},
   "source": [
    "- The **figure function** allows us to create a basic plot object, where we can define things like height, grids, and tools."
   ]
  },
  {
   "cell_type": "code",
   "execution_count": 2,
   "metadata": {},
   "outputs": [
    {
     "data": {
      "text/html": [
       "<div>\n",
       "<style scoped>\n",
       "    .dataframe tbody tr th:only-of-type {\n",
       "        vertical-align: middle;\n",
       "    }\n",
       "\n",
       "    .dataframe tbody tr th {\n",
       "        vertical-align: top;\n",
       "    }\n",
       "\n",
       "    .dataframe thead th {\n",
       "        text-align: right;\n",
       "    }\n",
       "</style>\n",
       "<table border=\"1\" class=\"dataframe\">\n",
       "  <thead>\n",
       "    <tr style=\"text-align: right;\">\n",
       "      <th></th>\n",
       "      <th>citypair</th>\n",
       "      <th>Aircraft</th>\n",
       "      <th>sum_departures_performed</th>\n",
       "      <th>sum_departures_scheduled</th>\n",
       "      <th>Passengers</th>\n",
       "      <th>Seats</th>\n",
       "      <th>avg_Fuel_Price</th>\n",
       "      <th>avg_Stock_Price</th>\n",
       "      <th>total_Operating_Expense</th>\n",
       "      <th>Revenue</th>\n",
       "      <th>Year</th>\n",
       "      <th>Quarter</th>\n",
       "    </tr>\n",
       "  </thead>\n",
       "  <tbody>\n",
       "    <tr>\n",
       "      <th>0</th>\n",
       "      <td>ABQ-BWI</td>\n",
       "      <td>Boeing 737-700/700LR/Max 7</td>\n",
       "      <td>80</td>\n",
       "      <td>86</td>\n",
       "      <td>10106</td>\n",
       "      <td>10960</td>\n",
       "      <td>78.807049</td>\n",
       "      <td>12.338689</td>\n",
       "      <td>2575561</td>\n",
       "      <td>2630</td>\n",
       "      <td>2010</td>\n",
       "      <td>1</td>\n",
       "    </tr>\n",
       "    <tr>\n",
       "      <th>1</th>\n",
       "      <td>ABQ-DAL</td>\n",
       "      <td>Boeing 737-300</td>\n",
       "      <td>280</td>\n",
       "      <td>281</td>\n",
       "      <td>27681</td>\n",
       "      <td>38360</td>\n",
       "      <td>78.807049</td>\n",
       "      <td>12.338689</td>\n",
       "      <td>2575561</td>\n",
       "      <td>2630</td>\n",
       "      <td>2010</td>\n",
       "      <td>1</td>\n",
       "    </tr>\n",
       "  </tbody>\n",
       "</table>\n",
       "</div>"
      ],
      "text/plain": [
       "  citypair                    Aircraft  sum_departures_performed  \\\n",
       "0  ABQ-BWI  Boeing 737-700/700LR/Max 7                        80   \n",
       "1  ABQ-DAL              Boeing 737-300                       280   \n",
       "\n",
       "   sum_departures_scheduled  Passengers  Seats  avg_Fuel_Price  \\\n",
       "0                        86       10106  10960       78.807049   \n",
       "1                       281       27681  38360       78.807049   \n",
       "\n",
       "   avg_Stock_Price  total_Operating_Expense  Revenue  Year  Quarter  \n",
       "0        12.338689                  2575561     2630  2010        1  \n",
       "1        12.338689                  2575561     2630  2010        1  "
      ]
     },
     "execution_count": 2,
     "metadata": {},
     "output_type": "execute_result"
    }
   ],
   "source": [
    "data = pd.read_csv(\"Airline.csv\")\n",
    "data.head(2)"
   ]
  },
  {
   "cell_type": "code",
   "execution_count": 3,
   "metadata": {},
   "outputs": [],
   "source": [
    "p = figure(width=800, height=400)\n",
    "\n",
    "# add a circle renderer with a size, color, and alpha\n",
    "p.circle(data.sum_departures_performed, data.Passengers, size=20, color=\"navy\", alpha=0.2)\n",
    "\n",
    "# show the results\n",
    "show(p)"
   ]
  },
  {
   "cell_type": "code",
   "execution_count": null,
   "metadata": {},
   "outputs": [],
   "source": [
    "# add a title with providing the title parameter\n",
    "p = figure(width=800, height=400, title=\"Average Fuel Price\")\n",
    "\n",
    "# compute the histogram of the price variable \n",
    "hist, edges = np.histogram(data.avg_Fuel_Price, density=True, bins=50)\n",
    "\n",
    "# call the quad method on our figure object p\n",
    "p.quad(top=hist, bottom=0, left=edges[:-1], right=edges[1:], line_color=\"white\")\n",
    "\n",
    "show(p)"
   ]
  },
  {
   "cell_type": "markdown",
   "metadata": {},
   "source": [
    "## if we wanted to specify the position of the title, and we wanted a title for each axis? Well, Bokeh also offers a simple solution to this problem"
   ]
  },
  {
   "cell_type": "code",
   "execution_count": null,
   "metadata": {},
   "outputs": [],
   "source": [
    "from bokeh.palettes import Spectral7\n",
    "from bokeh.models import Title\n",
    "\n",
    "# prepare the Aircratft  value counts\n",
    "colors = sorted(list(data.Aircraft.unique()))\n",
    "counts = [i for i in data.Aircraft.value_counts().sort_index()]\n",
    "\n",
    "p = figure(x_range=Aircraft, width=800, height=400)\n",
    "\n",
    "p.vbar(x=Arcraft ,op=counts, width=0.9, color=Spectral7)\n",
    "\n",
    "p.y_range.start = 0\n",
    "\n",
    "p.add_layout(Title(text=\"Aircraft\", align=\"center\"), \"below\")\n",
    "p.add_layout(Title(text=\"Unnique\", align=\"center\"), \"left\")\n",
    "\n",
    "show(p)"
   ]
  },
  {
   "cell_type": "code",
   "execution_count": null,
   "metadata": {},
   "outputs": [],
   "source": []
  }
 ],
 "metadata": {
  "kernelspec": {
   "display_name": "Python 3 (ipykernel)",
   "language": "python",
   "name": "python3"
  },
  "language_info": {
   "codemirror_mode": {
    "name": "ipython",
    "version": 3
   },
   "file_extension": ".py",
   "mimetype": "text/x-python",
   "name": "python",
   "nbconvert_exporter": "python",
   "pygments_lexer": "ipython3",
   "version": "3.9.12"
  }
 },
 "nbformat": 4,
 "nbformat_minor": 4
}
