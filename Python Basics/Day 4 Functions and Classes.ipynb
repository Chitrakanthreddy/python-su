{
 "cells": [
  {
   "cell_type": "code",
   "execution_count": null,
   "metadata": {},
   "outputs": [],
   "source": [
    "## Function without any argument\n",
    "\n",
    "def session():\n",
    "    x=int(input(\"Number of people in session\"))\n",
    "    y=input(\"Name of session\")\n",
    "session()"
   ]
  },
  {
   "cell_type": "code",
   "execution_count": null,
   "metadata": {},
   "outputs": [],
   "source": [
    "def details(name =\" \", age=int):\n",
    "    print(\"Name = %s Age = %d\" %(name,age))\n",
    "details(\"ashi\",25)\n",
    "details(\"abc\",24)"
   ]
  },
  {
   "cell_type": "code",
   "execution_count": null,
   "metadata": {},
   "outputs": [],
   "source": [
    "def details (name=\" \",age=int,job_role=\"\"):\n",
    "    #print(\"Name is %s age is %d and job role is %s\"%(name,age,job_role))\n",
    "    return name \n",
    "\n",
    "details(\"A\",32,\"AC\")"
   ]
  },
  {
   "cell_type": "raw",
   "metadata": {},
   "source": [
    "#Create a funtion named cali , add,sub,mul,div \n",
    "choice=+(add),-(sub),mul(*),div(/)\n",
    "\n",
    "\n",
    "def calci(x,y):\n",
    "    x=input(\"\" +,-<*,/)\n",
    "    if choice==\"*\":\n"
   ]
  },
  {
   "cell_type": "code",
   "execution_count": null,
   "metadata": {},
   "outputs": [],
   "source": [
    "#Functions with Arguments\n",
    "x=int(input(\"input first num= \"))\n",
    "y=int(input(\"input second num= \"))\n",
    "def cal(x,y):\n",
    "    choice=input(\"Enter your choice( +,*,-,/)\")\n",
    "    if choice==\"+\":\n",
    "        print(\"sum=\",x+y)\n",
    "    elif choice==\"-\":\n",
    "        print(\"sub=\",x-y)\n",
    "    elif choice==\"*\":\n",
    "        print(\"prod=\",x*y)\n",
    "    else:\n",
    "        print(\"option not aviliable\")\n",
    "cal(x,y)"
   ]
  },
  {
   "cell_type": "code",
   "execution_count": null,
   "metadata": {},
   "outputs": [],
   "source": [
    "x = int(input(\"Enter 1st no.: \"))\n",
    "y = int(input(\"Enter 2nd no.: \"))\n",
    " \n",
    "def calci(x,y):\n",
    "    choice = input(\"Enter your choice i.e. +,-,*,/\")\n",
    "    if choice == \"+\":\n",
    "        print(\"Sum = \",x+y)\n",
    "    elif choice == \"-\":\n",
    "        print(\"Sub = \",x-y)\n",
    "    elif choice == \"*\":\n",
    "        print(\"Mul = \",x*y)\n",
    "    elif choice == \"/\" and y !=0:\n",
    "        print(\"Div = \",x/y)\n",
    "    else:\n",
    "        print(\"Invalid choice\")\n",
    "calci(x,y)"
   ]
  },
  {
   "cell_type": "markdown",
   "metadata": {},
   "source": [
    "### Return() is not mandatory in Python\n",
    "- To let a function return a value, use the return statement:"
   ]
  },
  {
   "cell_type": "code",
   "execution_count": null,
   "metadata": {},
   "outputs": [],
   "source": [
    "print(3+4)\n",
    "print(6+8)\n",
    "4"
   ]
  },
  {
   "cell_type": "code",
   "execution_count": null,
   "metadata": {},
   "outputs": [],
   "source": [
    "def te(x,y):\n",
    "    #print(x*y)\n",
    "    return x\n",
    "    \n",
    "te(8,7)\n",
    "te(4,5)"
   ]
  },
  {
   "cell_type": "markdown",
   "metadata": {},
   "source": [
    "### Different variable class can be passed within a function"
   ]
  },
  {
   "cell_type": "code",
   "execution_count": null,
   "metadata": {},
   "outputs": [],
   "source": [
    "def Emp(name,age,f):\n",
    "   print(name,age,f,sep=\"\\t\")\n",
    "\n",
    "Emp(\"Ashi\",2,6)\n",
    "Emp(1,2,3)"
   ]
  },
  {
   "cell_type": "code",
   "execution_count": null,
   "metadata": {},
   "outputs": [],
   "source": [
    "def dex(*emp):\n",
    "    print(\"The oldest employee is: \" + emp[-1])\n",
    "    \n",
    "dex(\"Abc\",\"ab12\",\"er3\")\n",
    "dex(\"A\",\"B\")\n",
    "dex (\"ram\",\"sam\",\"lam\",\"man\")"
   ]
  },
  {
   "cell_type": "code",
   "execution_count": null,
   "metadata": {},
   "outputs": [],
   "source": [
    "def food(fruit):\n",
    "    for i in fruit:\n",
    "        print(i)\n",
    "\n",
    "fruits=[\"kiwi\",\"apple\",\"pie\",\"abc\"]\n",
    "\n",
    "food(fruits)\n",
    "    "
   ]
  },
  {
   "cell_type": "markdown",
   "metadata": {},
   "source": [
    "## Practice Questions on Functions\n",
    "## Q Write a Python function to sum all the numbers in a list.\n"
   ]
  },
  {
   "cell_type": "code",
   "execution_count": null,
   "metadata": {},
   "outputs": [],
   "source": [
    "def sum(numbers):\n",
    "    total = 0\n",
    "    for x in numbers:    \n",
    "        total += x\n",
    "    return total\n",
    "#print(sum((12,34,55)))\n",
    "sum((12,12))"
   ]
  },
  {
   "cell_type": "markdown",
   "metadata": {},
   "source": [
    "### Q Write a Python funtion to check whether a given number is the given range"
   ]
  },
  {
   "cell_type": "code",
   "execution_count": null,
   "metadata": {},
   "outputs": [],
   "source": [
    "def test_range(n):\n",
    "    if n in range(12,50):\n",
    "        print( \" %s is in the range\"%str(n))\n",
    "    else :\n",
    "        print(\"The number is outside the given range.\")\n",
    "test_range(13)\n"
   ]
  },
  {
   "cell_type": "code",
   "execution_count": null,
   "metadata": {},
   "outputs": [],
   "source": [
    "def breakdown():\n",
    "    x= input(\"Enter a string\")\n",
    "    countupper = 0\n",
    "    countlower = 0\n",
    "    for i in x:\n",
    "        if i.isupper():\n",
    "                countupper+=1\n",
    "        else:\n",
    "                countlower+=1\n",
    "    print(countupper, countlower)\n",
    "breakdown()"
   ]
  },
  {
   "cell_type": "code",
   "execution_count": null,
   "metadata": {},
   "outputs": [],
   "source": [
    "###  Write a Python function that accepts a string and calculate the number of upper case letters and lower case letters\n",
    "def string_test(s):\n",
    "    d={\"UPPER_CASE\":0, \"LOWER_CASE\":0,\"SPACES_\":0}\n",
    "    for c in s:\n",
    "        if c.isupper():\n",
    "           d[\"UPPER_CASE\"]+=1\n",
    "        elif c.islower():\n",
    "           d[\"LOWER_CASE\"]+=1\n",
    "        else:\n",
    "           pass\n",
    "    print (\"Original String : \", s)\n",
    "    print (\"No. of Upper case characters : \", d[\"UPPER_CASE\"])\n",
    "    print (\"No. of Lower case Characters : \", d[\"LOWER_CASE\"])\n",
    "\n",
    "string_test(\"PRACTICE More\")"
   ]
  },
  {
   "cell_type": "markdown",
   "metadata": {},
   "source": [
    "## lambda - one line function which can take any number of argumnets\n",
    "Lamba Function\n",
    "\n",
    "\n",
    "- The lambda keyword is used to create anonymous functions\n",
    "- This function can have any number of arguments but only one expression, which is evaluated and returned.\n",
    "- One is free to use lambda functions wherever function objects are required.\n",
    "- You need to keep in your knowledge that lambda functions are syntactically restricted to a single expression."
   ]
  },
  {
   "cell_type": "code",
   "execution_count": null,
   "metadata": {},
   "outputs": [],
   "source": [
    "z= lambda a,b,c:a*b/c\n",
    "z(8,9,3)"
   ]
  },
  {
   "cell_type": "code",
   "execution_count": null,
   "metadata": {},
   "outputs": [],
   "source": [
    "## Create a lamba function that returns cube of a number.\n",
    "z = lambda s:s*s*s\n",
    "z(9)"
   ]
  },
  {
   "cell_type": "code",
   "execution_count": null,
   "metadata": {},
   "outputs": [],
   "source": [
    "a=[2,4,-9,4,6,8,44,20,33]\n",
    "\n",
    "even_list = list(filter(lambda x:(x%2 == 0),a))\n",
    "even_list"
   ]
  },
  {
   "cell_type": "code",
   "execution_count": null,
   "metadata": {},
   "outputs": [],
   "source": [
    "z=[1,2,3,4]\n",
    "x=list(map(lambda y:(y+2),z))\n",
    "print(x)"
   ]
  },
  {
   "cell_type": "code",
   "execution_count": null,
   "metadata": {},
   "outputs": [],
   "source": [
    "##Lambda functions can take any number of arguments\n",
    "x = lambda a, b,c : a**2+b*3+c\n",
    "print(x(5, 6,7)) "
   ]
  },
  {
   "cell_type": "markdown",
   "metadata": {},
   "source": [
    "### Write a Python program to sort a list of tuples using Lambda"
   ]
  },
  {
   "cell_type": "code",
   "execution_count": null,
   "metadata": {},
   "outputs": [],
   "source": [
    "subject_marks = [('English', 88), ('Science', 90), ('Maths', 97), ('Social sciences', 82)]\n",
    "print(\"Original list of tuples:\")\n",
    "print(subject_marks)\n",
    "subject_marks.sort(key = lambda x: x[0])\n",
    "print(\"\\nSorting the List of Tuples:\")\n",
    "print(subject_marks)\n"
   ]
  },
  {
   "cell_type": "markdown",
   "metadata": {},
   "source": [
    "### The power of lambda is better shown when you use them as an anonymous function inside another function."
   ]
  },
  {
   "cell_type": "code",
   "execution_count": null,
   "metadata": {},
   "outputs": [],
   "source": [
    "def my(r):\n",
    "    print(4*r)\n",
    "my(3)\n"
   ]
  },
  {
   "cell_type": "code",
   "execution_count": null,
   "metadata": {},
   "outputs": [],
   "source": [
    "def myfunc(n):\n",
    "  print(\"The number:\",n)\n",
    "  return lambda a : n**a\n",
    "  \n",
    "r = myfunc(2)\n",
    "\n",
    "print(r(3))"
   ]
  },
  {
   "cell_type": "code",
   "execution_count": null,
   "metadata": {},
   "outputs": [],
   "source": [
    "def mydata(n):\n",
    "  return lambda a,b:(a+b)*n\n",
    "var = mydata(4)\n",
    "print(var(2,3))"
   ]
  },
  {
   "cell_type": "markdown",
   "metadata": {},
   "source": [
    " ## Date Time Module\n",
    " "
   ]
  },
  {
   "cell_type": "code",
   "execution_count": null,
   "metadata": {},
   "outputs": [],
   "source": [
    "## Time Module:\n",
    "from time import time, ctime\n",
    "t = time()\n",
    "ctime(t)## for current time"
   ]
  },
  {
   "cell_type": "code",
   "execution_count": null,
   "metadata": {},
   "outputs": [],
   "source": [
    "import time\n",
    "current_local = time.localtime()\n",
    "current_local.tm_zone"
   ]
  },
  {
   "cell_type": "code",
   "execution_count": null,
   "metadata": {},
   "outputs": [],
   "source": [
    "import time\n",
    "a=time.strftime('%m-%y-%d', time.localtime())\n",
    "\n",
    "t = time.strftime(\"%d/%m/%y|%H:%M:%S\")\n",
    "print (a)\n",
    "print(t)"
   ]
  },
  {
   "cell_type": "code",
   "execution_count": 3,
   "metadata": {},
   "outputs": [
    {
     "name": "stdout",
     "output_type": "stream",
     "text": [
      "Hi\n",
      "Welcome\n"
     ]
    }
   ],
   "source": [
    "## %%time \n",
    "\n",
    "import time \n",
    "## Provide delay in a program\n",
    "print(\"Hi\")\n",
    "time.sleep(2)\n",
    "print(\"Welcome\")"
   ]
  },
  {
   "cell_type": "code",
   "execution_count": null,
   "metadata": {},
   "outputs": [],
   "source": [
    "print(time.strftime(\"%y/%m/%d|%H:%M:%S\"))"
   ]
  },
  {
   "cell_type": "code",
   "execution_count": null,
   "metadata": {},
   "outputs": [],
   "source": [
    "Tstr=time.strftime(\"%A/%B|%a/%b\") # Day|MONTH\n",
    "print(Tstr)\n",
    "tstr=time.strftime(\"%H:%M:%p\")# Current time IN AM/PM\n",
    "print(tstr)\n",
    "w=time.strftime(\"%z\")\n",
    "print(w)"
   ]
  },
  {
   "cell_type": "code",
   "execution_count": null,
   "metadata": {},
   "outputs": [],
   "source": [
    "import datetime \n",
    "print(\"Current date and time: \" , datetime.datetime.now())\n",
    "print(\"Current year: \", datetime.date.today().strftime(\"%Y\"))\n",
    "print(\"Month of year: \", datetime.date.today().strftime(\"%B\"))#%b\n",
    "print(\"Week number of the year: \", datetime.date.today().strftime(\"%W\"))\n",
    "print(\"Weekday of the week: \", datetime.date.today().strftime(\"%w\"))\n",
    "print(\"Day of year: \", datetime.date.today().strftime(\"%j\"))\n",
    "print(\"Day of the month : \", datetime.date.today().strftime(\"%d\"))\n",
    "print(\"Day of week: \", datetime.date.today().strftime(\"%A\"))"
   ]
  },
  {
   "cell_type": "code",
   "execution_count": null,
   "metadata": {},
   "outputs": [],
   "source": [
    "## Python code to check time of execution of a program \n",
    "# starting time\n",
    "start = time.time()\n",
    "\n",
    "# program body starts\n",
    "for i in range(10):\n",
    "    print(i)\n",
    "\n",
    "# sleeping for 1 sec to get 10 sec runtime\n",
    "time.sleep(1)\n",
    "\n",
    "# program body ends\n",
    "\n",
    "# end time\n",
    "end = time.time()\n",
    "\n",
    "# total time taken\n",
    "print(f\"Runtime of the program is {end - start}\")"
   ]
  },
  {
   "cell_type": "markdown",
   "metadata": {},
   "source": [
    "## Classes in Python &OO programming"
   ]
  },
  {
   "cell_type": "code",
   "execution_count": 5,
   "metadata": {},
   "outputs": [
    {
     "data": {
      "text/plain": [
       "__main__.Program1"
      ]
     },
     "execution_count": 5,
     "metadata": {},
     "output_type": "execute_result"
    }
   ],
   "source": [
    "class  Program1:\n",
    "    \"HI\"   \n",
    "#print(Program1)#Tell about status of class.\n",
    "Program1"
   ]
  },
  {
   "cell_type": "code",
   "execution_count": 6,
   "metadata": {},
   "outputs": [
    {
     "name": "stdout",
     "output_type": "stream",
     "text": [
      "NAME is RAM and age is 29\n"
     ]
    }
   ],
   "source": [
    "class Program1:\n",
    "    name=\"RAM\"\n",
    "    age = 29\n",
    "print(\"NAME is %s and age is %d\"%(Program1.name,Program1.age))\n"
   ]
  },
  {
   "cell_type": "code",
   "execution_count": 7,
   "metadata": {},
   "outputs": [
    {
     "name": "stdout",
     "output_type": "stream",
     "text": [
      "A 9\n",
      "B 32\n"
     ]
    }
   ],
   "source": [
    "# Create a class name mobile store, Price=0.0,Type=\"\",Brand, Three \n",
    "class empdetails:\n",
    "    name=\"RAM\"\n",
    "    age = 29\n",
    "Emp1= empdetails()\n",
    "Emp2 = empdetails()\n",
    "\n",
    "Emp1.name =\"A\"\n",
    "Emp1.age = 9\n",
    "Emp2.name = \"B\"\n",
    "Emp2.age = 32    \n",
    "#print(\" %s   %d \"%(Emp1.name,Emp1.age))\n",
    "#print(\" %s   %d \"%(Emp2.name,Emp2.age))\n",
    "for x in range(1,3):\n",
    "        print(eval(\"Emp%d.name\"%(x)), eval(\"Emp%d.age\"%(x)))"
   ]
  },
  {
   "cell_type": "code",
   "execution_count": null,
   "metadata": {},
   "outputs": [],
   "source": [
    "x=6\n",
    "eval(\"x**x*x+98+x\")"
   ]
  },
  {
   "cell_type": "code",
   "execution_count": null,
   "metadata": {},
   "outputs": [],
   "source": [
    "#Class &Objects\n",
    "class Phone:\n",
    "        Color=\" \"\n",
    "        Price =00\n",
    "        Type=\" \"\n",
    "ob1=Phone()#Creation of objects and assinging it to class phone.\n",
    "ob2=Phone()\n",
    "ob1.Color=\"RED\"\n",
    "ob1.Price=10000\n",
    "ob1.Type=\"Smart\"\n",
    "ob2.Color=\"Black\"\n",
    "ob2.Price=12000\n",
    "ob2.Type=\"Smart\"\n",
    "print(\"This is a %s phone of %s color and its price is %drs\"%(ob1.Type,ob1.Color,ob1.Price))\n",
    "print(\"This is a %s phone of %s color and its price is %drs\"%(ob2.Type,ob2.Color,ob2.Price))\n",
    "print(50*\"*\")"
   ]
  },
  {
   "cell_type": "markdown",
   "metadata": {},
   "source": [
    "### - self is used to represent the instance of the class. With this keyword, you can access the attributes and methods class in python. it helps to bind attributes with the given arguments. \n",
    "#### - In Python we have methods that make the intance to be passed automatically, but not received automatically. "
   ]
  },
  {
   "cell_type": "code",
   "execution_count": 11,
   "metadata": {},
   "outputs": [
    {
     "name": "stdout",
     "output_type": "stream",
     "text": [
      "<function X.student at 0x000001EB420864C0>\n",
      "<bound method X.student of <__main__.X object at 0x000001EB418EB220>>\n",
      "This is Science Class\n"
     ]
    }
   ],
   "source": [
    "class X:\n",
    "    \"Classses and functions\"\n",
    "    myroll= 9\n",
    "    def  student(self):\n",
    "        print('This is Science Class')\n",
    "rani = X()\n",
    "print(X.student)\n",
    "print(rani.student)\n",
    "rani.student()"
   ]
  },
  {
   "cell_type": "markdown",
   "metadata": {},
   "source": [
    "Class name calci , compute sum, sub, divsion using a fucntion called finalo/p. "
   ]
  },
  {
   "cell_type": "code",
   "execution_count": 12,
   "metadata": {},
   "outputs": [
    {
     "name": "stdout",
     "output_type": "stream",
     "text": [
      "23.5,1.064\n"
     ]
    }
   ],
   "source": [
    "class Y:\n",
    "     a = 9\n",
    "     b = 3.3\n",
    "     c = 23.4\n",
    "     d = 0.0\n",
    "     def details(r):\n",
    "        r.c= r.a * r.b \n",
    "        r.d = r.a/r.b\n",
    "        t=round(r.d,3)\n",
    "        print(r.c,t,sep=\",\")\n",
    "cal1=Y()\n",
    "cal2= Y()\n",
    "cal1.a=5\n",
    "cal1.b=4.7\n",
    "cal1.details()       "
   ]
  },
  {
   "cell_type": "code",
   "execution_count": null,
   "metadata": {},
   "outputs": [],
   "source": [
    "### Class and Function\n",
    "\n",
    "\n",
    "class Shop:\n",
    "        \"Things in MYshop\"\n",
    "        Quantity = 10\n",
    "        Type       =   \"\"\n",
    "        price=500.00\n",
    "        def bill(self):\n",
    "            print(\"your bill for  % s dress of %d quantity is %drs:\"%(self.Type,self.Quantity,self.price))\n",
    "coustmer1=Shop()\n",
    "coustmer1.Quantity=5\n",
    "coustmer1.Type=\"saree\"\n",
    "coustmer1.price=20000\n",
    "coustmer1.bill()\n",
    "print(50*\"*\")\n",
    "\n"
   ]
  },
  {
   "cell_type": "code",
   "execution_count": null,
   "metadata": {},
   "outputs": [],
   "source": [
    "# dictionary from an class's fields.\n",
    "class dObj():\n",
    "     def __init__(self):\n",
    "         self.x = 'age'\n",
    "         self.y = 'name'\n",
    "         self.z = 'Gender'\n",
    "     def do(self):\n",
    "         pass\n",
    "d = dObj()\n",
    "print(d.__dict__)\n"
   ]
  }
 ],
 "metadata": {
  "kernelspec": {
   "display_name": "Python 3 (ipykernel)",
   "language": "python",
   "name": "python3"
  },
  "language_info": {
   "codemirror_mode": {
    "name": "ipython",
    "version": 3
   },
   "file_extension": ".py",
   "mimetype": "text/x-python",
   "name": "python",
   "nbconvert_exporter": "python",
   "pygments_lexer": "ipython3",
   "version": "3.9.12"
  }
 },
 "nbformat": 4,
 "nbformat_minor": 2
}
