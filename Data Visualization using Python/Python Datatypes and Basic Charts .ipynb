{
 "cells": [
  {
   "cell_type": "markdown",
   "id": "9c3220ec",
   "metadata": {},
   "source": [
    "### Advantages of Data Visualization\n",
    "Data visualization is essential for understanding complex data and making informed decisions. \n",
    "\n",
    "#### Here are its key advantages:\n",
    "\n",
    "- 1. Makes Data Easier to Understand\n",
    "📊 Converts raw data into visual formats like charts, graphs, and maps, making it easier to comprehend patterns and trends.\n",
    "\n",
    "✔ Example: A line chart showing sales trends over time is easier to interpret than raw numbers in a table.\n",
    "\n",
    "- 2. Identifies Trends and Patterns Quickly\n",
    "🔍 Helps in detecting patterns, trends, and outliers that might not be obvious in spreadsheets or raw data.\n",
    "\n",
    "✔ Example: A heatmap of customer activity can reveal peak engagement times.\n",
    "\n",
    "- 3. Improves Decision-Making\n",
    "📈 Enables businesses and analysts to make data-driven decisions faster and more accurately.\n",
    "\n",
    "✔ Example: A dashboard showing real-time sales and inventory levels helps in making quick supply chain decisions.\n",
    "\n",
    "- 4. Enhances Communication and Storytelling\n",
    "🗣 Helps present complex data to stakeholders in a compelling and clear manner.\n",
    "\n",
    "✔ Example: A bar chart comparing monthly revenue makes financial reports more engaging.\n",
    "\n",
    "- 5. Saves Time in Data Analysis\n",
    "⏳ Analyzing thousands of rows in a dataset takes time, but a well-designed chart can provide insights in seconds.\n",
    "\n",
    "✔ Example: A scatter plot showing the correlation between marketing spend and revenue can provide immediate insights.\n",
    "\n",
    "- 6. Helps in Detecting Errors and Anomalies\n",
    "⚠ Quickly highlights inconsistencies, missing data, or unusual trends in datasets.\n",
    "\n",
    "✔ Example: A box plot can show unexpected outliers in employee performance ratings.\n",
    "\n",
    "- 7. Engages and Persuades Audience Effectively\n",
    "📢 Makes reports, presentations, and pitches more engaging, leading to better audience retention.\n",
    "\n",
    "✔ Example: A pie chart showing market share can be more persuasive than just listing numbers.\n",
    "\n",
    "- 8. Supports Predictive Analysis\n",
    "🔮 Helps in forecasting future trends based on historical data using techniques like regression analysis and time series forecasting.\n",
    "\n",
    "✔ Example: A forecasting graph for stock prices using past data trends.\n",
    "\n",
    "- 9. Enhances Accessibility for Non-Technical Users\n",
    "👩‍💼 Enables business managers, executives, and non-data professionals to understand complex data without needing advanced analytical skills.\n",
    "\n",
    "✔ Example: An interactive Tableau dashboard allows users to filter data dynamically.\n",
    "\n",
    "- 10. Facilitates Competitive Analysis\n",
    "🏆 Helps organizations compare their performance with competitors by visualizing industry trends."
   ]
  },
  {
   "cell_type": "markdown",
   "id": "50c2f426",
   "metadata": {},
   "source": [
    "### Python Variables"
   ]
  },
  {
   "cell_type": "code",
   "execution_count": 24,
   "id": "0b059e53",
   "metadata": {},
   "outputs": [
    {
     "name": "stdout",
     "output_type": "stream",
     "text": [
      "her name is, Ashi\n",
      "Ashi is her name and her age is 25 and height is 5.500000\n",
      "\n"
     ]
    },
    {
     "ename": "TypeError",
     "evalue": "'str' object doesn't support item deletion",
     "output_type": "error",
     "traceback": [
      "\u001b[1;31m---------------------------------------------------------------------------\u001b[0m",
      "\u001b[1;31mTypeError\u001b[0m                                 Traceback (most recent call last)",
      "Cell \u001b[1;32mIn[24], line 17\u001b[0m\n\u001b[0;32m     14\u001b[0m \u001b[38;5;28mprint\u001b[39m(\u001b[38;5;124m\"\u001b[39m\u001b[38;5;132;01m%s\u001b[39;00m\u001b[38;5;124m is her name and her age is \u001b[39m\u001b[38;5;132;01m%d\u001b[39;00m\u001b[38;5;124m and height is \u001b[39m\u001b[38;5;132;01m%f\u001b[39;00m\u001b[38;5;124m\"\u001b[39m \u001b[38;5;241m%\u001b[39m(name,age,height))\n\u001b[0;32m     15\u001b[0m \u001b[38;5;28mprint\u001b[39m()\n\u001b[1;32m---> 17\u001b[0m \u001b[38;5;28;01mdel\u001b[39;00m x[\u001b[38;5;241m0\u001b[39m]\n",
      "\u001b[1;31mTypeError\u001b[0m: 'str' object doesn't support item deletion"
     ]
    }
   ],
   "source": [
    "# Defining variables\n",
    "name = \"Ashi\"  # String\n",
    "age = 25  # Integer\n",
    "height = 5.5  # Float\n",
    "is_student = True  # Boolean\n",
    "x='1234'\n",
    "y= 1234\n",
    "\n",
    "x[0],x[1],x[2],x[3]\n",
    "len(x)\n",
    "max(x)\n",
    "\n",
    "print(\"her name is,\",name)\n",
    "print(\"%s is her name and her age is %d and height is %f\" %(name,age,height))\n",
    "print()\n",
    "\n",
    "## del x[0]"
   ]
  },
  {
   "cell_type": "code",
   "execution_count": 26,
   "id": "d9fcaf5d",
   "metadata": {},
   "outputs": [
    {
     "data": {
      "text/plain": [
       "['banana', 'apple', 9, 10.2]"
      ]
     },
     "execution_count": 26,
     "metadata": {},
     "output_type": "execute_result"
    }
   ],
   "source": [
    "##List \n",
    "l=[]\n",
    "fruits = [\"apple\", \"banana\", 9,10.2 ]\n",
    "fruits[0]  # Access first element\n",
    "\n",
    "\n",
    "fruits[-1]\n",
    "\n",
    "fruits[0]=\"banana\"\n",
    "fruits[1]=\"apple\"\n",
    "fruits\n",
    "#fruits.append(\"lilly\")\n",
    "##fruits.remove(\"apple\")\n",
    "fruits\n",
    "#del fruits[1]\n",
    "fruits"
   ]
  },
  {
   "cell_type": "code",
   "execution_count": 28,
   "id": "99e8f1b2",
   "metadata": {},
   "outputs": [
    {
     "ename": "TypeError",
     "evalue": "'tuple' object doesn't support item deletion",
     "output_type": "error",
     "traceback": [
      "\u001b[1;31m---------------------------------------------------------------------------\u001b[0m",
      "\u001b[1;31mTypeError\u001b[0m                                 Traceback (most recent call last)",
      "Cell \u001b[1;32mIn[28], line 6\u001b[0m\n\u001b[0;32m      4\u001b[0m d\u001b[38;5;241m=\u001b[39m(\u001b[38;5;124m\"\u001b[39m\u001b[38;5;124ma\u001b[39m\u001b[38;5;124m\"\u001b[39m,\u001b[38;5;241m4\u001b[39m,\u001b[38;5;241m4.5\u001b[39m)\n\u001b[0;32m      5\u001b[0m d[\u001b[38;5;241m0\u001b[39m]\n\u001b[1;32m----> 6\u001b[0m \u001b[38;5;28;01mdel\u001b[39;00m d[\u001b[38;5;241m0\u001b[39m]\n",
      "\u001b[1;31mTypeError\u001b[0m: 'tuple' object doesn't support item deletion"
     ]
    }
   ],
   "source": [
    "##Tuples \n",
    "\n",
    "d=()\n",
    "d=(\"a\",4,4.5)\n",
    "d[0]\n",
    "del d[0]"
   ]
  },
  {
   "cell_type": "code",
   "execution_count": 32,
   "id": "b17ee2b3",
   "metadata": {},
   "outputs": [
    {
     "data": {
      "text/plain": [
       "{1, 2, 3, 5, 8}"
      ]
     },
     "execution_count": 32,
     "metadata": {},
     "output_type": "execute_result"
    }
   ],
   "source": [
    "##  Sets\n",
    "\n",
    "s={}\n",
    "\n",
    "b = {1, 2, 3, 4, 2, 3,4,5}\n",
    "\n",
    "#unique_numbers.add(5)  # Add element\n",
    "#unique_numbers.remove(2)  # Remove element\n",
    "\n",
    "b\n",
    "b.add(8)\n",
    "b\n",
    "b.remove(4)\n",
    "b "
   ]
  },
  {
   "cell_type": "code",
   "execution_count": 38,
   "id": "24cc5d1d",
   "metadata": {},
   "outputs": [
    {
     "data": {
      "text/plain": [
       "{'a': 12, 'b': 2, 'c': 12, 'd': 4}"
      ]
     },
     "execution_count": 38,
     "metadata": {},
     "output_type": "execute_result"
    }
   ],
   "source": [
    "#dictionary \n",
    "\n",
    "s={}\n",
    "s={\"a\":1,\"b\":2,\"c\":3}\n",
    "s\n",
    "s.keys()\n",
    "s.values()\n",
    "s[\"d\"]=4\n",
    "s[\"a\"]=12\n",
    "s[\"c\"]=12\n",
    "s\n"
   ]
  },
  {
   "cell_type": "markdown",
   "id": "d36b4a57",
   "metadata": {},
   "source": [
    "## Type Conversion"
   ]
  },
  {
   "cell_type": "code",
   "execution_count": 46,
   "id": "04ba1a32",
   "metadata": {},
   "outputs": [
    {
     "data": {
      "text/plain": [
       "(int, float, str, tuple, set, list, dict)"
      ]
     },
     "execution_count": 46,
     "metadata": {},
     "output_type": "execute_result"
    }
   ],
   "source": [
    "type(4),type(4.5),type(\"ashi\"),type((1,3)),type({1,2}),type([1,4]),type({2:3})"
   ]
  },
  {
   "cell_type": "code",
   "execution_count": 53,
   "id": "5dc6b7bc",
   "metadata": {},
   "outputs": [
    {
     "data": {
      "text/plain": [
       "(1, 23)"
      ]
     },
     "execution_count": 53,
     "metadata": {},
     "output_type": "execute_result"
    }
   ],
   "source": [
    "int(4.3)\n",
    "float(8)\n",
    "str(34)\n",
    "int(\"45\")\n",
    "list(\"ashi\")\n",
    "tuple([1,23])"
   ]
  },
  {
   "cell_type": "markdown",
   "id": "4cfdc424",
   "metadata": {},
   "source": [
    "### Input Functions"
   ]
  },
  {
   "cell_type": "code",
   "execution_count": 56,
   "id": "a9b00c77",
   "metadata": {},
   "outputs": [
    {
     "name": "stdout",
     "output_type": "stream",
     "text": [
      "WELCOME TO ABSA LEARNING Platform.\n",
      " To register enter following details:\n",
      "Name please:Abha\n",
      "Age:32\n",
      "TOTAL Exp:13.5\n",
      "Welcome you can create an account\n"
     ]
    }
   ],
   "source": [
    "# Create an interface name\"Learning platform\"\n",
    "##ask user for input their name, age, exp\n",
    "##also if age is less than 18 then they are not eligible to create a user and password. \n",
    "## If age is greater than 18 ask user to create User Name and Password,\n",
    "## \"Account created\"\n",
    "## \" Welcome to login page\"\n",
    "## \"Enter user name and password\"\n",
    "##\"use can use interface Now\"\n",
    "\n",
    "print(\"WELCOME TO ABSA LEARNING Platform.\\n To register enter following details:\")\n",
    "\n",
    "name=input(\"Name please:\")\n",
    "Age=int(input(\"Age:\"))\n",
    "WorkExp=float(input(\"TOTAL Exp:\"))\n",
    "\n",
    "if Age < 18:\n",
    "    print(\"Not eligible to create a account\")\n",
    "else:\n",
    "    print(\"Welcome you can create an account\")\n",
    "\n"
   ]
  },
  {
   "cell_type": "markdown",
   "id": "5bfd69cc",
   "metadata": {},
   "source": [
    "## Basic Charts "
   ]
  },
  {
   "cell_type": "code",
   "execution_count": null,
   "id": "8440914b",
   "metadata": {},
   "outputs": [],
   "source": [
    "import matplotlib.pyplot as plt\n",
    "import seaborn as sns\n",
    "import numpy as np\n",
    "import pandas as pd\n",
    "\n",
    "# Generate Sample Data\n",
    "data = {\n",
    "    'Category': ['A', 'B', 'C', 'D', 'E'],\n",
    "    'Values': [10, 20, 15, 25, 30]\n",
    "}\n",
    "df = pd.DataFrame(data)\n",
    "\n",
    "# Basic Bar Chart using Matplotlib\n",
    "plt.figure(figsize=(8,5))\n",
    "plt.bar(df['Category'], df['Values'], color='skyblue')\n",
    "plt.xlabel('Category')\n",
    "plt.ylabel('Values')\n",
    "plt.title('Basic Bar Chart')\n",
    "plt.show()\n",
    "\n",
    "# Line Chart using Matplotlib\n",
    "x = np.linspace(0, 10, 100)\n",
    "y = np.sin(x)\n",
    "plt.figure(figsize=(8,5))\n",
    "plt.plot(x, y, label='Sine Wave', color='r')\n",
    "plt.xlabel('X-axis')\n",
    "plt.ylabel('Y-axis')\n",
    "plt.title('Line Chart')\n",
    "plt.legend()\n",
    "plt.show()\n",
    "\n",
    "# Scatter Plot using Seaborn\n",
    "np.random.seed(42)\n",
    "data = pd.DataFrame({\n",
    "    'X': np.random.rand(50),\n",
    "    'Y': np.random.rand(50)\n",
    "})\n",
    "sns.scatterplot(x='X', y='Y', data=data)\n",
    "plt.title('Scatter Plot')\n",
    "plt.show()\n",
    "\n",
    "# Histogram using Seaborn\n",
    "sns.histplot(data['X'], bins=10, kde=True)\n",
    "plt.title('Histogram')\n",
    "plt.show()\n"
   ]
  },
  {
   "cell_type": "code",
   "execution_count": null,
   "id": "88ca0d3a",
   "metadata": {},
   "outputs": [],
   "source": []
  }
 ],
 "metadata": {
  "kernelspec": {
   "display_name": "Python 3 (ipykernel)",
   "language": "python",
   "name": "python3"
  },
  "language_info": {
   "codemirror_mode": {
    "name": "ipython",
    "version": 3
   },
   "file_extension": ".py",
   "mimetype": "text/x-python",
   "name": "python",
   "nbconvert_exporter": "python",
   "pygments_lexer": "ipython3",
   "version": "3.11.5"
  }
 },
 "nbformat": 4,
 "nbformat_minor": 5
}
