{
 "cells": [
  {
   "cell_type": "markdown",
   "metadata": {},
   "source": [
    "## Write a NumPy program to test whether none of the elements of a given array is zero."
   ]
  },
  {
   "cell_type": "markdown",
   "metadata": {},
   "source": [
    "## Write a NumPy program to create an array of 5 zeros, 5 ones, 5 fives."
   ]
  },
  {
   "cell_type": "markdown",
   "metadata": {},
   "source": [
    "## Write a NumPy program to generate an array of 15 random numbers from a standard normal distribution"
   ]
  },
  {
   "cell_type": "code",
   "execution_count": 8,
   "metadata": {},
   "outputs": [
    {
     "data": {
      "text/plain": [
       "array([[0.5488135 , 0.71518937],\n",
       "       [0.60276338, 0.54488318]])"
      ]
     },
     "execution_count": 8,
     "metadata": {},
     "output_type": "execute_result"
    }
   ],
   "source": [
    "## Use seed to fix random generated values\n",
    "import numpy as np\n",
    "np.random.seed(0)\n",
    "x=np.random.rand(2,2)\n",
    "#np.random.rand(2,2)\n",
    "x"
   ]
  },
  {
   "cell_type": "markdown",
   "metadata": {},
   "source": [
    "## For  following Array\n",
    "- A=[[1,2,3],[5,6,7],[13,14,-8]\n",
    "- B =[[[1,1,1],[2,3,4]],[[2,5,7],[3,8,7]]]\n",
    "Find:\n",
    "    - 1. Mean of second row(A) and mean of first row from first axis(B)\n",
    "    - 2. Reshape array B and save it to a variable C\n",
    "    - 3. Do matrix multiplication of array C and a unity matrix(create shape according to the mul properties)\n",
    "    - 4. create a subset for  row 3 of matrix A and save it in variable d. "
   ]
  },
  {
   "cell_type": "markdown",
   "metadata": {},
   "source": [
    "## Write a NumPy program to create a vector with values ranging from 10 to 40 and print all values except the first and last."
   ]
  },
  {
   "cell_type": "markdown",
   "metadata": {},
   "source": [
    "## Write a NumPy program to create a vector with values from 1 to 15 and change the sign of the numbers in the range from 10 to 15. "
   ]
  },
  {
   "cell_type": "markdown",
   "metadata": {},
   "source": [
    "## Write a NumPy program to create a 3x4 matrix filled with values from 10 to 21"
   ]
  },
  {
   "cell_type": "markdown",
   "metadata": {},
   "source": [
    "## Write a NumPy program to compute the inner product of two given vectors"
   ]
  },
  {
   "cell_type": "markdown",
   "metadata": {},
   "source": [
    "## Write a NumPy program to create a structured array from given student name, height, class and their data types. Now sort the array on height."
   ]
  },
  {
   "cell_type": "code",
   "execution_count": null,
   "metadata": {
    "collapsed": true
   },
   "outputs": [],
   "source": [
    "import numpy as np\n",
    "data_type = [('name', 'S15'), ('class', int), ('height', float)]\n",
    "students_details = [('James', 5, 48.5), ('Nail', 6, 52.5),('Paul', 5, 42.10), ('Pit', 5, 40.11)]\n",
    "# create a structured array\n",
    "students = np.array(students_details, dtype=data_type)   \n",
    "print(\"Original array:\")\n",
    "print(students)\n",
    "print(\"Sort by height\")\n",
    "print(np.sort(students, order='height'))    "
   ]
  },
  {
   "cell_type": "code",
   "execution_count": 2,
   "metadata": {},
   "outputs": [
    {
     "data": {
      "text/plain": [
       "array([[10, 11, 12, 13],\n",
       "       [14, 15, 16, 17],\n",
       "       [18, 19, 20, 21]])"
      ]
     },
     "execution_count": 2,
     "metadata": {},
     "output_type": "execute_result"
    }
   ],
   "source": [
    "import numpy as np\n",
    "x = np.arange(10,22,1)\n",
    "\n",
    "x.reshape(3,4)"
   ]
  },
  {
   "cell_type": "markdown",
   "metadata": {},
   "source": [
    "## Write a NumPy program to add, subtract, multiply, divide arguments element-wise. "
   ]
  },
  {
   "cell_type": "markdown",
   "metadata": {},
   "source": [
    " ## Write a NumPy program to get the minimum and maximum value of a given array along the second axis."
   ]
  },
  {
   "cell_type": "markdown",
   "metadata": {},
   "source": [
    "## Write a NumPy program to display all the dates for the month of May, 2021"
   ]
  },
  {
   "cell_type": "code",
   "execution_count": 1,
   "metadata": {},
   "outputs": [
    {
     "name": "stdout",
     "output_type": "stream",
     "text": [
      "May, 2021\n",
      "['2021-05-01' '2021-05-02' '2021-05-03' '2021-05-04' '2021-05-05'\n",
      " '2021-05-06' '2021-05-07' '2021-05-08' '2021-05-09' '2021-05-10'\n",
      " '2021-05-11' '2021-05-12' '2021-05-13' '2021-05-14' '2021-05-15'\n",
      " '2021-05-16' '2021-05-17' '2021-05-18' '2021-05-19' '2021-05-20'\n",
      " '2021-05-21' '2021-05-22' '2021-05-23' '2021-05-24' '2021-05-25'\n",
      " '2021-05-26' '2021-05-27' '2021-05-28' '2021-05-29' '2021-05-30'\n",
      " '2021-05-31']\n"
     ]
    }
   ],
   "source": [
    "import numpy as np\n",
    "print(\"May, 2021\")\n",
    "print(np.arange('2021-05', '2021-06', dtype='datetime64[D]'))"
   ]
  },
  {
   "cell_type": "markdown",
   "metadata": {},
   "source": [
    "## Write a NumPy program to capitalize the first letter, lowercase, uppercase, swapcase, title-case of all the elements of a given array"
   ]
  },
  {
   "cell_type": "code",
   "execution_count": null,
   "metadata": {
    "collapsed": true
   },
   "outputs": [],
   "source": [
    "import numpy as np\n",
    "x = np.array(['ml', 'PYTHON', 'Data Science', 'Numpy'], dtype=np.str)\n",
    "print(\"Original Array:\")\n",
    "print(x)\n",
    "capitalized_case = np.char.capitalize(x)\n",
    "lowered_case = np.char.lower(x)\n",
    "uppered_case = np.char.upper(x)\n",
    "swapcased_case = np.char.swapcase(x)\n",
    "titlecased_case = np.char.title(x)\n",
    "print(\"\\nCapitalized: \", capitalized_case)\n",
    "print(\"Lowered: \", lowered_case)\n",
    "print(\"Uppered: \", uppered_case)\n",
    "print(\"Swapcased: \", swapcased_case)\n",
    "print(\"Titlecased: \", titlecased_case)"
   ]
  }
 ],
 "metadata": {
  "kernelspec": {
   "display_name": "Python 3 (ipykernel)",
   "language": "python",
   "name": "python3"
  },
  "language_info": {
   "codemirror_mode": {
    "name": "ipython",
    "version": 3
   },
   "file_extension": ".py",
   "mimetype": "text/x-python",
   "name": "python",
   "nbconvert_exporter": "python",
   "pygments_lexer": "ipython3",
   "version": "3.9.12"
  }
 },
 "nbformat": 4,
 "nbformat_minor": 2
}
